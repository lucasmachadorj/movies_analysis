{
 "metadata": {
  "name": "",
  "signature": "sha256:e0a6c8d188e91adf62dcddb521d98ce2b53f91d84575f24d1c46e12795b8a3b8"
 },
 "nbformat": 3,
 "nbformat_minor": 0,
 "worksheets": [
  {
   "cells": [
    {
     "cell_type": "markdown",
     "metadata": {},
     "source": [
      "Este notebook visa a captura dos dados persistidos no banco de dados n\u00e3o-relacional mongoDB e o tratamento\n",
      "utilizando o pacote pandas. O tratamento consiste nos seguintes passos:\n",
      "\n",
      "- carregar os dados em um DataFrame do pandas\n",
      "- Corrigir os valores que est\u00e3o faltando na tabela, obtendo os dados a partir de um scrapper implementado com mechanize, urllib e BeautifulSoup\n",
      "- Corre\u00e7\u00e3o dos tipos de dados de cada coluna\n",
      "- Cria\u00e7\u00e3o de novas colunas que ser\u00e3o \u00fateis na an\u00e1lise gr\u00e1fica\n",
      "- Gera\u00e7\u00e3o de arquivos .csv / .json que ser\u00e3o utilizados na an\u00e1lise gr\u00e1fica com matplotib e d3.js"
     ]
    },
    {
     "cell_type": "heading",
     "level": 6,
     "metadata": {},
     "source": [
      "Pacotes utilizados no desenvolvimento do script"
     ]
    },
    {
     "cell_type": "code",
     "collapsed": false,
     "input": [
      "from pymongo import MongoClient\n",
      "from bson import json_util\n",
      "from BeautifulSoup import BeautifulSoup\n",
      "from mechanize import Browser\n",
      "import re\n",
      "import json\n",
      "import urllib2\n",
      "import pandas as pd\n",
      "import numpy as np\n"
     ],
     "language": "python",
     "metadata": {},
     "outputs": [],
     "prompt_number": 411
    },
    {
     "cell_type": "heading",
     "level": 6,
     "metadata": {},
     "source": [
      "Obten\u00e7\u00e3o dos dados a partir do mongoDB"
     ]
    },
    {
     "cell_type": "code",
     "collapsed": false,
     "input": [
      "client = MongoClient()\n",
      "db = client.sucessos_cinema\n",
      "filmes = db.filmes"
     ],
     "language": "python",
     "metadata": {},
     "outputs": [],
     "prompt_number": 412
    },
    {
     "cell_type": "code",
     "collapsed": false,
     "input": [
      "first_movie = filmes.find_one()\n",
      "print json.dumps(first_movie, indent=2, default = json_util.default)"
     ],
     "language": "python",
     "metadata": {},
     "outputs": [
      {
       "output_type": "stream",
       "stream": "stdout",
       "text": [
        "{\n",
        "  \"rating\": \"9.3\", \n",
        "  \"votes\": \"1,339,913\", \n",
        "  \"description\": \"Two imprisoned men bond over a number of years, finding solace and eventual redemption through acts of common decency.\", \n",
        "  \"certification\": \"\", \n",
        "  \"poster\": \"http://ia.media-imdb.com/images/M/MV5BODU4MjU4NjIwNl5BMl5BanBnXkFtZTgwMDU2MjEyMDE@._V1_SX214_AL_.jpg\", \n",
        "  \"release_date\": \"27 January 1995\", \n",
        "  \"title\": \"\\\"The Shawshank Redemption\\\"\", \n",
        "  \"contentRating\": \"16\", \n",
        "  \"metascore\": \"80\", \n",
        "  \"pt_title\": \"Um Sonho de Liberdade\", \n",
        "  \"director\": \"Frank Darabont\", \n",
        "  \"writers\": [\n",
        "    \"Stephen King\", \n",
        "    \"Frank Darabont\"\n",
        "  ], \n",
        "  \"storyline\": \"Andy Dufresne is a young and successful banker whose life changes drastically when he is convicted and sentenced to life imprisonment for the murder of his wife and her lover. Set in the 1940's, the film shows how Andy, with the help of his friend Red, the prison entrepreneur, turns out to be a most unconventional prisoner.\", \n",
        "  \"stars\": [\n",
        "    \"Tim Robbins\", \n",
        "    \"Morgan Freeman\", \n",
        "    \"Bob Gunton\"\n",
        "  ], \n",
        "  \"year\": \"1994\", \n",
        "  \"genre\": [\n",
        "    \"Crime\", \n",
        "    \"Drama\"\n",
        "  ], \n",
        "  \"_id\": {\n",
        "    \"$oid\": \"5491d043dc53fc1c0db3ac76\"\n",
        "  }, \n",
        "  \"Oscar Indications\": \"Nominated for 7 Oscars.\", \n",
        "  \"running_time\": \"142 min\"\n",
        "}\n"
       ]
      }
     ],
     "prompt_number": 413
    },
    {
     "cell_type": "heading",
     "level": 6,
     "metadata": {},
     "source": [
      "Cria\u00e7\u00e3o do DataFrame do pandas"
     ]
    },
    {
     "cell_type": "code",
     "collapsed": false,
     "input": [
      "cursor = filmes.find()\n",
      "movies_fields = [\"rating\", \"votes\", \"description\",\"certification\", \"poster\", \"release_date\",\"title\", \"contentRating\", \n",
      "                 \"metascore\",\"pt_title\",  \"director\", \"writers\",  \"storyline\",\"stars\", \"year\", \"genre\",\"_id\",\"Oscar Indications\",\n",
      "                 \"running_time\"]\n",
      "pd_filmes = pd.DataFrame(list(cursor), columns=movies_fields,)"
     ],
     "language": "python",
     "metadata": {},
     "outputs": [],
     "prompt_number": 414
    },
    {
     "cell_type": "code",
     "collapsed": false,
     "input": [
      "pd_filmes.head()"
     ],
     "language": "python",
     "metadata": {},
     "outputs": [
      {
       "html": [
        "<div style=\"max-height:1000px;max-width:1500px;overflow:auto;\">\n",
        "<table border=\"1\" class=\"dataframe\">\n",
        "  <thead>\n",
        "    <tr style=\"text-align: right;\">\n",
        "      <th></th>\n",
        "      <th>rating</th>\n",
        "      <th>votes</th>\n",
        "      <th>description</th>\n",
        "      <th>certification</th>\n",
        "      <th>poster</th>\n",
        "      <th>release_date</th>\n",
        "      <th>title</th>\n",
        "      <th>contentRating</th>\n",
        "      <th>metascore</th>\n",
        "      <th>pt_title</th>\n",
        "      <th>director</th>\n",
        "      <th>writers</th>\n",
        "      <th>storyline</th>\n",
        "      <th>stars</th>\n",
        "      <th>year</th>\n",
        "      <th>genre</th>\n",
        "      <th>_id</th>\n",
        "      <th>Oscar Indications</th>\n",
        "      <th>running_time</th>\n",
        "    </tr>\n",
        "  </thead>\n",
        "  <tbody>\n",
        "    <tr>\n",
        "      <th>0</th>\n",
        "      <td> 9.3</td>\n",
        "      <td> 1,339,913</td>\n",
        "      <td> Two imprisoned men bond over a number of years...</td>\n",
        "      <td> </td>\n",
        "      <td> http://ia.media-imdb.com/images/M/MV5BODU4MjU4...</td>\n",
        "      <td> 27 January 1995</td>\n",
        "      <td> \"The Shawshank Redemption\"</td>\n",
        "      <td> 16</td>\n",
        "      <td>           80</td>\n",
        "      <td>           Um Sonho de Liberdade</td>\n",
        "      <td>    Frank Darabont</td>\n",
        "      <td>      [Stephen King, Frank Darabont]</td>\n",
        "      <td> Andy Dufresne is a young and successful banker...</td>\n",
        "      <td>         [Tim Robbins, Morgan Freeman, Bob Gunton]</td>\n",
        "      <td> 1994</td>\n",
        "      <td>            [Crime, Drama]</td>\n",
        "      <td> 5491d043dc53fc1c0db3ac76</td>\n",
        "      <td> Nominated for 7 Oscars.</td>\n",
        "      <td> 142 min</td>\n",
        "    </tr>\n",
        "    <tr>\n",
        "      <th>1</th>\n",
        "      <td> 9.0</td>\n",
        "      <td> 1,308,570</td>\n",
        "      <td> When the menace known as the Joker wreaks havo...</td>\n",
        "      <td> </td>\n",
        "      <td> http://ia.media-imdb.com/images/M/MV5BMTMxNTMw...</td>\n",
        "      <td>    18 July 2008</td>\n",
        "      <td>          \"The Dark Knight\"</td>\n",
        "      <td> 12</td>\n",
        "      <td>           82</td>\n",
        "      <td> Batman - O Cavaleiro das Trevas</td>\n",
        "      <td> Christopher Nolan</td>\n",
        "      <td> [Jonathan Nolan, Christopher Nolan]</td>\n",
        "      <td> Batman raises the stakes in his war on crime. ...</td>\n",
        "      <td>     [Christian Bale, Heath Ledger, Aaron Eckhart]</td>\n",
        "      <td> 2008</td>\n",
        "      <td>    [Action, Crime, Drama]</td>\n",
        "      <td> 5491d044dc53fc1c0db3ac77</td>\n",
        "      <td>           Won 2 Oscars.</td>\n",
        "      <td> 152 min</td>\n",
        "    </tr>\n",
        "    <tr>\n",
        "      <th>2</th>\n",
        "      <td> 8.8</td>\n",
        "      <td> 1,099,712</td>\n",
        "      <td> A thief who steals corporate secrets through u...</td>\n",
        "      <td> </td>\n",
        "      <td> http://ia.media-imdb.com/images/M/MV5BMjAxMzY3...</td>\n",
        "      <td>   6 August 2010</td>\n",
        "      <td>                \"Inception\"</td>\n",
        "      <td> 14</td>\n",
        "      <td>           74</td>\n",
        "      <td>                        A Origem</td>\n",
        "      <td> Christopher Nolan</td>\n",
        "      <td>                 [Christopher Nolan]</td>\n",
        "      <td> Dom Cobb is a skilled thief, the absolute best...</td>\n",
        "      <td> [Leonardo DiCaprio, Joseph Gordon-Levitt, Elle...</td>\n",
        "      <td> 2010</td>\n",
        "      <td> [Action, Mystery, Sci-Fi]</td>\n",
        "      <td> 5491d044dc53fc1c0db3ac78</td>\n",
        "      <td>           Won 4 Oscars.</td>\n",
        "      <td> 148 min</td>\n",
        "    </tr>\n",
        "    <tr>\n",
        "      <th>3</th>\n",
        "      <td> 8.2</td>\n",
        "      <td>   628,075</td>\n",
        "      <td> In a future British tyranny, a shadowy freedom...</td>\n",
        "      <td> </td>\n",
        "      <td> http://ia.media-imdb.com/images/M/MV5BOTI5ODc3...</td>\n",
        "      <td>    7 April 2006</td>\n",
        "      <td>           \"V for Vendetta\"</td>\n",
        "      <td> 16</td>\n",
        "      <td>           62</td>\n",
        "      <td>                   V de Vingan\u00e7a</td>\n",
        "      <td>    James McTeigue</td>\n",
        "      <td>    [Andy Wachowski, Lana Wachowski]</td>\n",
        "      <td> The futuristic tale unfolds in a Great Britain...</td>\n",
        "      <td>    [Hugo Weaving, Natalie Portman, Rupert Graves]</td>\n",
        "      <td> 2005</td>\n",
        "      <td> [Action, Drama, Thriller]</td>\n",
        "      <td> 5491d044dc53fc1c0db3ac93</td>\n",
        "      <td>                        </td>\n",
        "      <td> 132 min</td>\n",
        "    </tr>\n",
        "    <tr>\n",
        "      <th>4</th>\n",
        "      <td> 8.5</td>\n",
        "      <td>     4,837</td>\n",
        "      <td>                                                  </td>\n",
        "      <td> </td>\n",
        "      <td>                                                  </td>\n",
        "      <td>                </td>\n",
        "      <td>                           </td>\n",
        "      <td>  |</td>\n",
        "      <td> write review</td>\n",
        "      <td>                 Kapicilar krali</td>\n",
        "      <td>        Zeki \u00d6kten</td>\n",
        "      <td>                        [Umur Bugay]</td>\n",
        "      <td>                                                  </td>\n",
        "      <td>        [Kemal Sunal, Sevda Ferdag, Sevil Ustekin]</td>\n",
        "      <td> 1976</td>\n",
        "      <td>           [Comedy, Drama]</td>\n",
        "      <td> 54927fd0dc53fc1c0db3cc37</td>\n",
        "      <td>                        </td>\n",
        "      <td>  84 min</td>\n",
        "    </tr>\n",
        "  </tbody>\n",
        "</table>\n",
        "<p>5 rows \u00d7 19 columns</p>\n",
        "</div>"
       ],
       "metadata": {},
       "output_type": "pyout",
       "prompt_number": 415,
       "text": [
        "  rating      votes                                        description  \\\n",
        "0    9.3  1,339,913  Two imprisoned men bond over a number of years...   \n",
        "1    9.0  1,308,570  When the menace known as the Joker wreaks havo...   \n",
        "2    8.8  1,099,712  A thief who steals corporate secrets through u...   \n",
        "3    8.2    628,075  In a future British tyranny, a shadowy freedom...   \n",
        "4    8.5      4,837                                                      \n",
        "\n",
        "  certification                                             poster  \\\n",
        "0                http://ia.media-imdb.com/images/M/MV5BODU4MjU4...   \n",
        "1                http://ia.media-imdb.com/images/M/MV5BMTMxNTMw...   \n",
        "2                http://ia.media-imdb.com/images/M/MV5BMjAxMzY3...   \n",
        "3                http://ia.media-imdb.com/images/M/MV5BOTI5ODc3...   \n",
        "4                                                                    \n",
        "\n",
        "      release_date                       title contentRating     metascore  \\\n",
        "0  27 January 1995  \"The Shawshank Redemption\"            16            80   \n",
        "1     18 July 2008           \"The Dark Knight\"            12            82   \n",
        "2    6 August 2010                 \"Inception\"            14            74   \n",
        "3     7 April 2006            \"V for Vendetta\"            16            62   \n",
        "4                                                          |  write review   \n",
        "\n",
        "                          pt_title           director  \\\n",
        "0            Um Sonho de Liberdade     Frank Darabont   \n",
        "1  Batman - O Cavaleiro das Trevas  Christopher Nolan   \n",
        "2                         A Origem  Christopher Nolan   \n",
        "3                    V de Vingan\u00e7a     James McTeigue   \n",
        "4                  Kapicilar krali         Zeki \u00d6kten   \n",
        "\n",
        "                               writers  \\\n",
        "0       [Stephen King, Frank Darabont]   \n",
        "1  [Jonathan Nolan, Christopher Nolan]   \n",
        "2                  [Christopher Nolan]   \n",
        "3     [Andy Wachowski, Lana Wachowski]   \n",
        "4                         [Umur Bugay]   \n",
        "\n",
        "                                           storyline  \\\n",
        "0  Andy Dufresne is a young and successful banker...   \n",
        "1  Batman raises the stakes in his war on crime. ...   \n",
        "2  Dom Cobb is a skilled thief, the absolute best...   \n",
        "3  The futuristic tale unfolds in a Great Britain...   \n",
        "4                                                      \n",
        "\n",
        "                                               stars  year  \\\n",
        "0          [Tim Robbins, Morgan Freeman, Bob Gunton]  1994   \n",
        "1      [Christian Bale, Heath Ledger, Aaron Eckhart]  2008   \n",
        "2  [Leonardo DiCaprio, Joseph Gordon-Levitt, Elle...  2010   \n",
        "3     [Hugo Weaving, Natalie Portman, Rupert Graves]  2005   \n",
        "4         [Kemal Sunal, Sevda Ferdag, Sevil Ustekin]  1976   \n",
        "\n",
        "                       genre                       _id  \\\n",
        "0             [Crime, Drama]  5491d043dc53fc1c0db3ac76   \n",
        "1     [Action, Crime, Drama]  5491d044dc53fc1c0db3ac77   \n",
        "2  [Action, Mystery, Sci-Fi]  5491d044dc53fc1c0db3ac78   \n",
        "3  [Action, Drama, Thriller]  5491d044dc53fc1c0db3ac93   \n",
        "4            [Comedy, Drama]  54927fd0dc53fc1c0db3cc37   \n",
        "\n",
        "         Oscar Indications running_time  \n",
        "0  Nominated for 7 Oscars.      142 min  \n",
        "1            Won 2 Oscars.      152 min  \n",
        "2            Won 4 Oscars.      148 min  \n",
        "3                               132 min  \n",
        "4                                84 min  \n",
        "\n",
        "[5 rows x 19 columns]"
       ]
      }
     ],
     "prompt_number": 415
    },
    {
     "cell_type": "heading",
     "level": 6,
     "metadata": {},
     "source": [
      "Cria\u00e7\u00e3o de colunas referentes a data de lan\u00e7amento do filme"
     ]
    },
    {
     "cell_type": "code",
     "collapsed": false,
     "input": [
      "pd_filmes['datetime'] = pd.to_datetime(pd_filmes['release_date'], infer_datetime_format=True)\n",
      "pd_filmes['year'] = pd_filmes.apply(lambda row: pd.to_datetime(row['datetime']).year,axis=1)\n",
      "pd_filmes['month'] = pd_filmes.apply(lambda row: pd.to_datetime(row['datetime']).month,axis=1)\n",
      "pd_filmes['day'] = pd_filmes.apply(lambda row: pd.to_datetime(row['datetime']).day,axis=1)\n",
      "\n"
     ],
     "language": "python",
     "metadata": {},
     "outputs": [],
     "prompt_number": 416
    },
    {
     "cell_type": "heading",
     "level": 6,
     "metadata": {},
     "source": [
      "removendo filmes duplicados (erro cometido durante obten\u00e7\u00e3o do dataset)"
     ]
    },
    {
     "cell_type": "code",
     "collapsed": false,
     "input": [
      "pd_filmes.drop_duplicates(['pt_title'])"
     ],
     "language": "python",
     "metadata": {},
     "outputs": [
      {
       "html": [
        "<div style=\"max-height:1000px;max-width:1500px;overflow:auto;\">\n",
        "<table border=\"1\" class=\"dataframe\">\n",
        "  <thead>\n",
        "    <tr style=\"text-align: right;\">\n",
        "      <th></th>\n",
        "      <th>rating</th>\n",
        "      <th>votes</th>\n",
        "      <th>description</th>\n",
        "      <th>certification</th>\n",
        "      <th>poster</th>\n",
        "      <th>release_date</th>\n",
        "      <th>title</th>\n",
        "      <th>contentRating</th>\n",
        "      <th>metascore</th>\n",
        "      <th>pt_title</th>\n",
        "      <th>director</th>\n",
        "      <th>writers</th>\n",
        "      <th>storyline</th>\n",
        "      <th>stars</th>\n",
        "      <th>year</th>\n",
        "      <th>genre</th>\n",
        "      <th>_id</th>\n",
        "      <th>Oscar Indications</th>\n",
        "      <th>running_time</th>\n",
        "      <th>datetime</th>\n",
        "      <th></th>\n",
        "    </tr>\n",
        "  </thead>\n",
        "  <tbody>\n",
        "    <tr>\n",
        "      <th>0 </th>\n",
        "      <td> 9.3</td>\n",
        "      <td> 1,339,913</td>\n",
        "      <td> Two imprisoned men bond over a number of years...</td>\n",
        "      <td>      </td>\n",
        "      <td> http://ia.media-imdb.com/images/M/MV5BODU4MjU4...</td>\n",
        "      <td>  27 January 1995</td>\n",
        "      <td>                        \"The Shawshank Redemption\"</td>\n",
        "      <td>    16</td>\n",
        "      <td>           80</td>\n",
        "      <td>                          Um Sonho de Liberdade</td>\n",
        "      <td>       Frank Darabont</td>\n",
        "      <td>         [Stephen King, Frank Darabont]</td>\n",
        "      <td> Andy Dufresne is a young and successful banker...</td>\n",
        "      <td>         [Tim Robbins, Morgan Freeman, Bob Gunton]</td>\n",
        "      <td> 1995</td>\n",
        "      <td>                  [Crime, Drama]</td>\n",
        "      <td> 5491d043dc53fc1c0db3ac76</td>\n",
        "      <td>           Nominated for 7 Oscars.</td>\n",
        "      <td> 142 min</td>\n",
        "      <td>1995-01-27</td>\n",
        "      <td>...</td>\n",
        "    </tr>\n",
        "    <tr>\n",
        "      <th>1 </th>\n",
        "      <td> 9.0</td>\n",
        "      <td> 1,308,570</td>\n",
        "      <td> When the menace known as the Joker wreaks havo...</td>\n",
        "      <td>      </td>\n",
        "      <td> http://ia.media-imdb.com/images/M/MV5BMTMxNTMw...</td>\n",
        "      <td>     18 July 2008</td>\n",
        "      <td>                                 \"The Dark Knight\"</td>\n",
        "      <td>    12</td>\n",
        "      <td>           82</td>\n",
        "      <td>                Batman - O Cavaleiro das Trevas</td>\n",
        "      <td>    Christopher Nolan</td>\n",
        "      <td>    [Jonathan Nolan, Christopher Nolan]</td>\n",
        "      <td> Batman raises the stakes in his war on crime. ...</td>\n",
        "      <td>     [Christian Bale, Heath Ledger, Aaron Eckhart]</td>\n",
        "      <td> 2008</td>\n",
        "      <td>          [Action, Crime, Drama]</td>\n",
        "      <td> 5491d044dc53fc1c0db3ac77</td>\n",
        "      <td>                     Won 2 Oscars.</td>\n",
        "      <td> 152 min</td>\n",
        "      <td>2008-07-18</td>\n",
        "      <td>...</td>\n",
        "    </tr>\n",
        "    <tr>\n",
        "      <th>2 </th>\n",
        "      <td> 8.8</td>\n",
        "      <td> 1,099,712</td>\n",
        "      <td> A thief who steals corporate secrets through u...</td>\n",
        "      <td>      </td>\n",
        "      <td> http://ia.media-imdb.com/images/M/MV5BMjAxMzY3...</td>\n",
        "      <td>    6 August 2010</td>\n",
        "      <td>                                       \"Inception\"</td>\n",
        "      <td>    14</td>\n",
        "      <td>           74</td>\n",
        "      <td>                                       A Origem</td>\n",
        "      <td>    Christopher Nolan</td>\n",
        "      <td>                    [Christopher Nolan]</td>\n",
        "      <td> Dom Cobb is a skilled thief, the absolute best...</td>\n",
        "      <td> [Leonardo DiCaprio, Joseph Gordon-Levitt, Elle...</td>\n",
        "      <td> 2010</td>\n",
        "      <td>       [Action, Mystery, Sci-Fi]</td>\n",
        "      <td> 5491d044dc53fc1c0db3ac78</td>\n",
        "      <td>                     Won 4 Oscars.</td>\n",
        "      <td> 148 min</td>\n",
        "      <td>2010-08-06</td>\n",
        "      <td>...</td>\n",
        "    </tr>\n",
        "    <tr>\n",
        "      <th>3 </th>\n",
        "      <td> 8.2</td>\n",
        "      <td>   628,075</td>\n",
        "      <td> In a future British tyranny, a shadowy freedom...</td>\n",
        "      <td>      </td>\n",
        "      <td> http://ia.media-imdb.com/images/M/MV5BOTI5ODc3...</td>\n",
        "      <td>     7 April 2006</td>\n",
        "      <td>                                  \"V for Vendetta\"</td>\n",
        "      <td>    16</td>\n",
        "      <td>           62</td>\n",
        "      <td>                                  V de Vingan\u00e7a</td>\n",
        "      <td>       James McTeigue</td>\n",
        "      <td>       [Andy Wachowski, Lana Wachowski]</td>\n",
        "      <td> The futuristic tale unfolds in a Great Britain...</td>\n",
        "      <td>    [Hugo Weaving, Natalie Portman, Rupert Graves]</td>\n",
        "      <td> 2006</td>\n",
        "      <td>       [Action, Drama, Thriller]</td>\n",
        "      <td> 5491d044dc53fc1c0db3ac93</td>\n",
        "      <td>                                  </td>\n",
        "      <td> 132 min</td>\n",
        "      <td>2006-04-07</td>\n",
        "      <td>...</td>\n",
        "    </tr>\n",
        "    <tr>\n",
        "      <th>4 </th>\n",
        "      <td> 8.5</td>\n",
        "      <td>     4,837</td>\n",
        "      <td>                                                  </td>\n",
        "      <td>      </td>\n",
        "      <td>                                                  </td>\n",
        "      <td>                 </td>\n",
        "      <td>                                                  </td>\n",
        "      <td>     |</td>\n",
        "      <td> write review</td>\n",
        "      <td>                                Kapicilar krali</td>\n",
        "      <td>           Zeki \u00d6kten</td>\n",
        "      <td>                           [Umur Bugay]</td>\n",
        "      <td>                                                  </td>\n",
        "      <td>        [Kemal Sunal, Sevda Ferdag, Sevil Ustekin]</td>\n",
        "      <td>   -1</td>\n",
        "      <td>                 [Comedy, Drama]</td>\n",
        "      <td> 54927fd0dc53fc1c0db3cc37</td>\n",
        "      <td>                                  </td>\n",
        "      <td>  84 min</td>\n",
        "      <td>       NaT</td>\n",
        "      <td>...</td>\n",
        "    </tr>\n",
        "    <tr>\n",
        "      <th>5 </th>\n",
        "      <td> 8.9</td>\n",
        "      <td> 1,033,387</td>\n",
        "      <td> The lives of two mob hit men, a boxer, a gangs...</td>\n",
        "      <td>      </td>\n",
        "      <td> http://ia.media-imdb.com/images/M/MV5BMjE0ODk2...</td>\n",
        "      <td> 18 February 1995</td>\n",
        "      <td>                                    \"Pulp Fiction\"</td>\n",
        "      <td>    18</td>\n",
        "      <td>           94</td>\n",
        "      <td>               Pulp Fiction: Tempo de Viol\u00eancia</td>\n",
        "      <td>    Quentin Tarantino</td>\n",
        "      <td>       [Quentin Tarantino, Roger Avary]</td>\n",
        "      <td> Jules Winnfield and Vincent Vega are two hitme...</td>\n",
        "      <td>   [John Travolta, Uma Thurman, Samuel L. Jackson]</td>\n",
        "      <td> 1995</td>\n",
        "      <td>        [Crime, Drama, Thriller]</td>\n",
        "      <td> 5491d044dc53fc1c0db3ac79</td>\n",
        "      <td>                      Won 1 Oscar.</td>\n",
        "      <td> 154 min</td>\n",
        "      <td>1995-02-18</td>\n",
        "      <td>...</td>\n",
        "    </tr>\n",
        "    <tr>\n",
        "      <th>6 </th>\n",
        "      <td> 8.9</td>\n",
        "      <td> 1,031,438</td>\n",
        "      <td> An insomniac office worker looking for a way t...</td>\n",
        "      <td>      </td>\n",
        "      <td> http://ia.media-imdb.com/images/M/MV5BMjIwNTYz...</td>\n",
        "      <td>                 </td>\n",
        "      <td>                                      \"Fight Club\"</td>\n",
        "      <td>    18</td>\n",
        "      <td>           66</td>\n",
        "      <td>                                  Clube da Luta</td>\n",
        "      <td>        David Fincher</td>\n",
        "      <td>            [Chuck Palahniuk, Jim Uhls]</td>\n",
        "      <td> A ticking-time-bomb insomniac and a slippery s...</td>\n",
        "      <td>  [Brad Pitt, Edward Norton, Helena Bonham Carter]</td>\n",
        "      <td>   -1</td>\n",
        "      <td>                         [Drama]</td>\n",
        "      <td> 5491d044dc53fc1c0db3ac7a</td>\n",
        "      <td>            Nominated for 1 Oscar.</td>\n",
        "      <td> 139 min</td>\n",
        "      <td>       NaT</td>\n",
        "      <td>...</td>\n",
        "    </tr>\n",
        "    <tr>\n",
        "      <th>7 </th>\n",
        "      <td> 8.8</td>\n",
        "      <td>   979,776</td>\n",
        "      <td> A meek hobbit of the Shire and eight companion...</td>\n",
        "      <td>      </td>\n",
        "      <td> http://ia.media-imdb.com/images/M/MV5BNTEyMjAw...</td>\n",
        "      <td>   1 January 2002</td>\n",
        "      <td> \"The Lord of the Rings: The Fellowship of the ...</td>\n",
        "      <td>    12</td>\n",
        "      <td>           92</td>\n",
        "      <td>        O Senhor dos An\u00e9is: A Sociedade do Anel</td>\n",
        "      <td>        Peter Jackson</td>\n",
        "      <td>           [J.R.R. Tolkien, Fran Walsh]</td>\n",
        "      <td> An ancient Ring thought lost for centuries has...</td>\n",
        "      <td>        [Elijah Wood, Ian McKellen, Orlando Bloom]</td>\n",
        "      <td> 2002</td>\n",
        "      <td>            [Adventure, Fantasy]</td>\n",
        "      <td> 5491d044dc53fc1c0db3ac7b</td>\n",
        "      <td>                     Won 4 Oscars.</td>\n",
        "      <td> 178 min</td>\n",
        "      <td>2002-01-01</td>\n",
        "      <td>...</td>\n",
        "    </tr>\n",
        "    <tr>\n",
        "      <th>8 </th>\n",
        "      <td> 8.9</td>\n",
        "      <td>   954,344</td>\n",
        "      <td> Gandalf and Aragorn lead the World of Men agai...</td>\n",
        "      <td>      </td>\n",
        "      <td> http://ia.media-imdb.com/images/M/MV5BMjE4MjA1...</td>\n",
        "      <td> 25 December 2003</td>\n",
        "      <td>   \"The Lord of the Rings: The Return of the King\"</td>\n",
        "      <td>    12</td>\n",
        "      <td>           94</td>\n",
        "      <td>           O Senhor dos An\u00e9is: O Retorno do Rei</td>\n",
        "      <td>        Peter Jackson</td>\n",
        "      <td>           [J.R.R. Tolkien, Fran Walsh]</td>\n",
        "      <td> While Frodo &amp; Sam continue to approach Mount D...</td>\n",
        "      <td>      [Elijah Wood, Viggo Mortensen, Ian McKellen]</td>\n",
        "      <td> 2003</td>\n",
        "      <td>            [Adventure, Fantasy]</td>\n",
        "      <td> 5491d044dc53fc1c0db3ac7c</td>\n",
        "      <td>                    Won 11 Oscars.</td>\n",
        "      <td> 201 min</td>\n",
        "      <td>2003-12-25</td>\n",
        "      <td>...</td>\n",
        "    </tr>\n",
        "    <tr>\n",
        "      <th>9 </th>\n",
        "      <td> 8.7</td>\n",
        "      <td>   950,393</td>\n",
        "      <td> A computer hacker learns from mysterious rebel...</td>\n",
        "      <td>      </td>\n",
        "      <td> http://ia.media-imdb.com/images/M/MV5BMTkxNDYx...</td>\n",
        "      <td>      21 May 1999</td>\n",
        "      <td>                                      \"The Matrix\"</td>\n",
        "      <td>    12</td>\n",
        "      <td>           73</td>\n",
        "      <td>                                         Matrix</td>\n",
        "      <td>       Andy Wachowski</td>\n",
        "      <td>       [Andy Wachowski, Lana Wachowski]</td>\n",
        "      <td> Thomas A. Anderson is a man living two lives. ...</td>\n",
        "      <td> [Keanu Reeves, Laurence Fishburne, Carrie-Anne...</td>\n",
        "      <td> 1999</td>\n",
        "      <td>                [Action, Sci-Fi]</td>\n",
        "      <td> 5491d044dc53fc1c0db3ac7d</td>\n",
        "      <td>                     Won 4 Oscars.</td>\n",
        "      <td> 136 min</td>\n",
        "      <td>1999-05-21</td>\n",
        "      <td>...</td>\n",
        "    </tr>\n",
        "    <tr>\n",
        "      <th>10</th>\n",
        "      <td> 8.8</td>\n",
        "      <td>   930,191</td>\n",
        "      <td> Forrest Gump, while not intelligent, has accid...</td>\n",
        "      <td>      </td>\n",
        "      <td> http://ia.media-imdb.com/images/M/MV5BMTQwMTA5...</td>\n",
        "      <td>  7 December 1994</td>\n",
        "      <td>                                    \"Forrest Gump\"</td>\n",
        "      <td>    14</td>\n",
        "      <td>           82</td>\n",
        "      <td>          Forrest Gump, o Contador de Hist\u00f3rias</td>\n",
        "      <td>      Robert Zemeckis</td>\n",
        "      <td>             [Winston Groom, Eric Roth]</td>\n",
        "      <td> Forrest Gump is a simple man with a low I.Q. b...</td>\n",
        "      <td>            [Tom Hanks, Robin Wright, Gary Sinise]</td>\n",
        "      <td> 1994</td>\n",
        "      <td>                [Drama, Romance]</td>\n",
        "      <td> 5491d044dc53fc1c0db3ac7e</td>\n",
        "      <td>                     Won 6 Oscars.</td>\n",
        "      <td> 142 min</td>\n",
        "      <td>1994-12-07</td>\n",
        "      <td>...</td>\n",
        "    </tr>\n",
        "    <tr>\n",
        "      <th>11</th>\n",
        "      <td> 9.2</td>\n",
        "      <td>   923,152</td>\n",
        "      <td> The aging patriarch of an organized crime dyna...</td>\n",
        "      <td>      </td>\n",
        "      <td> http://ia.media-imdb.com/images/M/MV5BMjEyMjcy...</td>\n",
        "      <td>      7 July 1972</td>\n",
        "      <td>                                   \"The Godfather\"</td>\n",
        "      <td>    14</td>\n",
        "      <td>          100</td>\n",
        "      <td>                              O Poderoso Chef\u00e3o</td>\n",
        "      <td> Francis Ford Coppola</td>\n",
        "      <td>     [Mario Puzo, Francis Ford Coppola]</td>\n",
        "      <td> When the aging head of a famous crime family d...</td>\n",
        "      <td>            [Marlon Brando, Al Pacino, James Caan]</td>\n",
        "      <td> 1972</td>\n",
        "      <td>                  [Crime, Drama]</td>\n",
        "      <td> 5491d044dc53fc1c0db3ac7f</td>\n",
        "      <td>                     Won 3 Oscars.</td>\n",
        "      <td> 175 min</td>\n",
        "      <td>1972-07-07</td>\n",
        "      <td>...</td>\n",
        "    </tr>\n",
        "    <tr>\n",
        "      <th>12</th>\n",
        "      <td> 8.6</td>\n",
        "      <td>   876,253</td>\n",
        "      <td> When Bane, a former member of the League of Sh...</td>\n",
        "      <td>      </td>\n",
        "      <td> http://ia.media-imdb.com/images/M/MV5BMTk4ODQz...</td>\n",
        "      <td>                 </td>\n",
        "      <td>                           \"The Dark Knight Rises\"</td>\n",
        "      <td>    12</td>\n",
        "      <td>           78</td>\n",
        "      <td>        Batman: O Cavaleiro das Trevas Ressurge</td>\n",
        "      <td>    Christopher Nolan</td>\n",
        "      <td>    [Jonathan Nolan, Christopher Nolan]</td>\n",
        "      <td> Despite his tarnished reputation after the eve...</td>\n",
        "      <td>        [Christian Bale, Tom Hardy, Anne Hathaway]</td>\n",
        "      <td>   -1</td>\n",
        "      <td>                        [Action]</td>\n",
        "      <td> 5491d044dc53fc1c0db3ac80</td>\n",
        "      <td> Nominated for 1 BAFTA Film Award.</td>\n",
        "      <td> 165 min</td>\n",
        "      <td>       NaT</td>\n",
        "      <td>...</td>\n",
        "    </tr>\n",
        "    <tr>\n",
        "      <th>13</th>\n",
        "      <td> 8.8</td>\n",
        "      <td>   858,574</td>\n",
        "      <td> While Frodo and Sam edge closer to Mordor with...</td>\n",
        "      <td>      </td>\n",
        "      <td> http://ia.media-imdb.com/images/M/MV5BMTAyNDU0...</td>\n",
        "      <td> 27 December 2002</td>\n",
        "      <td>           \"The Lord of the Rings: The Two Towers\"</td>\n",
        "      <td>    12</td>\n",
        "      <td>           88</td>\n",
        "      <td>             O Senhor dos An\u00e9is: As Duas Torres</td>\n",
        "      <td>        Peter Jackson</td>\n",
        "      <td>           [J.R.R. Tolkien, Fran Walsh]</td>\n",
        "      <td> Sauron's forces increase. His allies grow. The...</td>\n",
        "      <td>      [Elijah Wood, Ian McKellen, Viggo Mortensen]</td>\n",
        "      <td> 2002</td>\n",
        "      <td>            [Adventure, Fantasy]</td>\n",
        "      <td> 5491d044dc53fc1c0db3ac81</td>\n",
        "      <td>                     Won 2 Oscars.</td>\n",
        "      <td> 179 min</td>\n",
        "      <td>2002-12-27</td>\n",
        "      <td>...</td>\n",
        "    </tr>\n",
        "    <tr>\n",
        "      <th>14</th>\n",
        "      <td> 8.7</td>\n",
        "      <td>   787,327</td>\n",
        "      <td> Two detectives, a rookie and a veteran, hunt a...</td>\n",
        "      <td>      </td>\n",
        "      <td> http://ia.media-imdb.com/images/M/MV5BMTQwNTU3...</td>\n",
        "      <td> 15 December 1995</td>\n",
        "      <td>                                           \"Se7en\"</td>\n",
        "      <td>    14</td>\n",
        "      <td>           65</td>\n",
        "      <td>                 Seven: Os Sete Crimes Capitais</td>\n",
        "      <td>        David Fincher</td>\n",
        "      <td>                  [Andrew Kevin Walker]</td>\n",
        "      <td> A film about two homicide detectives' desperat...</td>\n",
        "      <td>         [Morgan Freeman, Brad Pitt, Kevin Spacey]</td>\n",
        "      <td> 1995</td>\n",
        "      <td>      [Drama, Mystery, Thriller]</td>\n",
        "      <td> 5491d044dc53fc1c0db3ac82</td>\n",
        "      <td>            Nominated for 1 Oscar.</td>\n",
        "      <td> 127 min</td>\n",
        "      <td>1995-12-15</td>\n",
        "      <td>...</td>\n",
        "    </tr>\n",
        "    <tr>\n",
        "      <th>15</th>\n",
        "      <td> 8.5</td>\n",
        "      <td>   756,382</td>\n",
        "      <td> When a Roman general is betrayed and his famil...</td>\n",
        "      <td>      </td>\n",
        "      <td> http://ia.media-imdb.com/images/M/MV5BMTgwMzQz...</td>\n",
        "      <td>      19 May 2000</td>\n",
        "      <td>                                       \"Gladiator\"</td>\n",
        "      <td>    14</td>\n",
        "      <td>           64</td>\n",
        "      <td>                                      Gladiador</td>\n",
        "      <td>         Ridley Scott</td>\n",
        "      <td>       [David Franzoni, David Franzoni]</td>\n",
        "      <td> Maximus is a powerful Roman general, loved by ...</td>\n",
        "      <td>  [Russell Crowe, Joaquin Phoenix, Connie Nielsen]</td>\n",
        "      <td> 2000</td>\n",
        "      <td>                 [Action, Drama]</td>\n",
        "      <td> 5491d044dc53fc1c0db3ac83</td>\n",
        "      <td>                     Won 5 Oscars.</td>\n",
        "      <td> 155 min</td>\n",
        "      <td>2000-05-19</td>\n",
        "      <td>...</td>\n",
        "    </tr>\n",
        "    <tr>\n",
        "      <th>16</th>\n",
        "      <td> 8.3</td>\n",
        "      <td>   746,630</td>\n",
        "      <td> After training with his mentor, Batman begins ...</td>\n",
        "      <td>      </td>\n",
        "      <td> http://ia.media-imdb.com/images/M/MV5BNTM3OTc0...</td>\n",
        "      <td>     17 June 2005</td>\n",
        "      <td>                                                  </td>\n",
        "      <td>    10</td>\n",
        "      <td>           70</td>\n",
        "      <td>                                  Batman Begins</td>\n",
        "      <td>    Christopher Nolan</td>\n",
        "      <td>             [Bob Kane, David S. Goyer]</td>\n",
        "      <td> When his parents were killed, millionaire play...</td>\n",
        "      <td>     [Christian Bale, Michael Caine, Ken Watanabe]</td>\n",
        "      <td> 2005</td>\n",
        "      <td>             [Action, Adventure]</td>\n",
        "      <td> 5491d044dc53fc1c0db3ac84</td>\n",
        "      <td>            Nominated for 1 Oscar.</td>\n",
        "      <td> 140 min</td>\n",
        "      <td>2005-06-17</td>\n",
        "      <td>...</td>\n",
        "    </tr>\n",
        "    <tr>\n",
        "      <th>17</th>\n",
        "      <td> 8.2</td>\n",
        "      <td>   742,734</td>\n",
        "      <td> Earth's mightiest heroes must come together an...</td>\n",
        "      <td>      </td>\n",
        "      <td> http://ia.media-imdb.com/images/M/MV5BMTk2NTI1...</td>\n",
        "      <td>    27 April 2012</td>\n",
        "      <td>                                    \"The Avengers\"</td>\n",
        "      <td>    12</td>\n",
        "      <td>           69</td>\n",
        "      <td>                    The Avengers: Os Vingadores</td>\n",
        "      <td>          Joss Whedon</td>\n",
        "      <td>                [Joss Whedon, Zak Penn]</td>\n",
        "      <td> Nick Fury is director of S.H.I.E.L.D, an inter...</td>\n",
        "      <td> [Robert Downey Jr., Chris Evans, Scarlett Joha...</td>\n",
        "      <td> 2012</td>\n",
        "      <td>     [Action, Adventure, Sci-Fi]</td>\n",
        "      <td> 5491d044dc53fc1c0db3ac85</td>\n",
        "      <td>            Nominated for 1 Oscar.</td>\n",
        "      <td> 143 min</td>\n",
        "      <td>2012-04-27</td>\n",
        "      <td>...</td>\n",
        "    </tr>\n",
        "    <tr>\n",
        "      <th>18</th>\n",
        "      <td> 7.9</td>\n",
        "      <td>   725,850</td>\n",
        "      <td> A Paraplegic Marine dispatched to the moon Pan...</td>\n",
        "      <td>      </td>\n",
        "      <td> http://ia.media-imdb.com/images/M/MV5BMTYwOTEw...</td>\n",
        "      <td> 18 December 2009</td>\n",
        "      <td>                                                  </td>\n",
        "      <td>    12</td>\n",
        "      <td>           83</td>\n",
        "      <td>                                         Avatar</td>\n",
        "      <td>        James Cameron</td>\n",
        "      <td>                        [James Cameron]</td>\n",
        "      <td> When his brother is killed in a robbery, parap...</td>\n",
        "      <td>  [Sam Worthington, Zoe Saldana, Sigourney Weaver]</td>\n",
        "      <td> 2009</td>\n",
        "      <td>    [Action, Adventure, Fantasy]</td>\n",
        "      <td> 5491d044dc53fc1c0db3ac86</td>\n",
        "      <td>                     Won 3 Oscars.</td>\n",
        "      <td> 162 min</td>\n",
        "      <td>2009-12-18</td>\n",
        "      <td>...</td>\n",
        "    </tr>\n",
        "    <tr>\n",
        "      <th>19</th>\n",
        "      <td> 8.7</td>\n",
        "      <td>   697,161</td>\n",
        "      <td> Luke Skywalker joins forces with a Jedi Knight...</td>\n",
        "      <td>      </td>\n",
        "      <td> http://ia.media-imdb.com/images/M/MV5BMTU4NTcz...</td>\n",
        "      <td> 18 November 1977</td>\n",
        "      <td>                                       \"Star Wars\"</td>\n",
        "      <td> Livre</td>\n",
        "      <td>           91</td>\n",
        "      <td>                            Guerra nas Estrelas</td>\n",
        "      <td>         George Lucas</td>\n",
        "      <td>                         [George Lucas]</td>\n",
        "      <td> A young boy from Tatooine sets out on an adven...</td>\n",
        "      <td>       [Mark Hamill, Harrison Ford, Carrie Fisher]</td>\n",
        "      <td> 1977</td>\n",
        "      <td>    [Action, Adventure, Fantasy]</td>\n",
        "      <td> 5491d044dc53fc1c0db3ac87</td>\n",
        "      <td>                     Won 6 Oscars.</td>\n",
        "      <td> 121 min</td>\n",
        "      <td>1977-11-18</td>\n",
        "      <td>...</td>\n",
        "    </tr>\n",
        "    <tr>\n",
        "      <th>20</th>\n",
        "      <td> 8.5</td>\n",
        "      <td>   684,321</td>\n",
        "      <td> With the help of a German bounty hunter, a fre...</td>\n",
        "      <td>      </td>\n",
        "      <td> http://ia.media-imdb.com/images/M/MV5BMjIyNTQ5...</td>\n",
        "      <td>                 </td>\n",
        "      <td>                                \"Django Unchained\"</td>\n",
        "      <td>    16</td>\n",
        "      <td>           81</td>\n",
        "      <td>                                   Django Livre</td>\n",
        "      <td>    Quentin Tarantino</td>\n",
        "      <td>                    [Quentin Tarantino]</td>\n",
        "      <td> Former dentist, Dr. King Schultz, buys the fre...</td>\n",
        "      <td>  [Jamie Foxx, Christoph Waltz, Leonardo DiCaprio]</td>\n",
        "      <td>   -1</td>\n",
        "      <td>                       [Western]</td>\n",
        "      <td> 5491d044dc53fc1c0db3ac88</td>\n",
        "      <td>                     Won 2 Oscars.</td>\n",
        "      <td> 165 min</td>\n",
        "      <td>       NaT</td>\n",
        "      <td>...</td>\n",
        "    </tr>\n",
        "    <tr>\n",
        "      <th>21</th>\n",
        "      <td> 2.7</td>\n",
        "      <td>     4,548</td>\n",
        "      <td>                                                  </td>\n",
        "      <td>      </td>\n",
        "      <td>                                                  </td>\n",
        "      <td>                 </td>\n",
        "      <td>                                                  </td>\n",
        "      <td>     |</td>\n",
        "      <td>             </td>\n",
        "      <td>                             Hababam sinifi 3,5</td>\n",
        "      <td>        Ferdi Egilmez</td>\n",
        "      <td>                    [Kemal Kenan Ergen]</td>\n",
        "      <td>                                                  </td>\n",
        "      <td>  [Tuncay Ak\u00e7a, Halit Ak\u00e7atepe, Memet Ali Alabora]</td>\n",
        "      <td>   -1</td>\n",
        "      <td>              [Comedy, Thriller]</td>\n",
        "      <td> 5492e56fdc53fc1c0db3cd6b</td>\n",
        "      <td>                                  </td>\n",
        "      <td>  98 min</td>\n",
        "      <td>       NaT</td>\n",
        "      <td>...</td>\n",
        "    </tr>\n",
        "    <tr>\n",
        "      <th>22</th>\n",
        "      <td> 8.6</td>\n",
        "      <td>   679,087</td>\n",
        "      <td> Following the Normandy Landings, a group of U....</td>\n",
        "      <td>      </td>\n",
        "      <td> http://ia.media-imdb.com/images/M/MV5BNjczODkx...</td>\n",
        "      <td>     24 July 1998</td>\n",
        "      <td>                             \"Saving Private Ryan\"</td>\n",
        "      <td>    14</td>\n",
        "      <td>           90</td>\n",
        "      <td>                      O Resgate do Soldado Ryan</td>\n",
        "      <td>     Steven Spielberg</td>\n",
        "      <td>                         [Robert Rodat]</td>\n",
        "      <td> Opening with the Allied invasion of Normandy o...</td>\n",
        "      <td>             [Tom Hanks, Matt Damon, Tom Sizemore]</td>\n",
        "      <td> 1998</td>\n",
        "      <td>            [Action, Drama, War]</td>\n",
        "      <td> 5491d044dc53fc1c0db3ac89</td>\n",
        "      <td>                     Won 5 Oscars.</td>\n",
        "      <td> 169 min</td>\n",
        "      <td>1998-07-24</td>\n",
        "      <td>...</td>\n",
        "    </tr>\n",
        "    <tr>\n",
        "      <th>23</th>\n",
        "      <td> 8.5</td>\n",
        "      <td>   677,186</td>\n",
        "      <td> An undercover state cop who has infiltrated an...</td>\n",
        "      <td>      </td>\n",
        "      <td> http://ia.media-imdb.com/images/M/MV5BMTI1MTY2...</td>\n",
        "      <td> 10 November 2006</td>\n",
        "      <td>                                    \"The Departed\"</td>\n",
        "      <td>    18</td>\n",
        "      <td>           86</td>\n",
        "      <td>                                 Os Infiltrados</td>\n",
        "      <td>      Martin Scorsese</td>\n",
        "      <td>            [William Monahan, Alan Mak]</td>\n",
        "      <td> In South Boston, the state police force is wag...</td>\n",
        "      <td>   [Leonardo DiCaprio, Matt Damon, Jack Nicholson]</td>\n",
        "      <td> 2006</td>\n",
        "      <td>        [Crime, Drama, Thriller]</td>\n",
        "      <td> 5491d044dc53fc1c0db3ac8a</td>\n",
        "      <td>                     Won 4 Oscars.</td>\n",
        "      <td> 151 min</td>\n",
        "      <td>2006-11-10</td>\n",
        "      <td>...</td>\n",
        "    </tr>\n",
        "    <tr>\n",
        "      <th>24</th>\n",
        "      <td> 8.9</td>\n",
        "      <td>   676,944</td>\n",
        "      <td> In Poland during World War II, Oskar Schindler...</td>\n",
        "      <td>      </td>\n",
        "      <td> http://ia.media-imdb.com/images/M/MV5BMzMwMTM4...</td>\n",
        "      <td> 31 December 1993</td>\n",
        "      <td>                                \"Schindler's List\"</td>\n",
        "      <td>    14</td>\n",
        "      <td>           93</td>\n",
        "      <td>                           A Lista de Schindler</td>\n",
        "      <td>     Steven Spielberg</td>\n",
        "      <td>     [Thomas Keneally, Steven Zaillian]</td>\n",
        "      <td> Oskar Schindler is a vainglorious and greedy G...</td>\n",
        "      <td>        [Liam Neeson, Ralph Fiennes, Ben Kingsley]</td>\n",
        "      <td> 1993</td>\n",
        "      <td>     [Biography, Drama, History]</td>\n",
        "      <td> 5491d044dc53fc1c0db3ac8b</td>\n",
        "      <td>                     Won 7 Oscars.</td>\n",
        "      <td> 195 min</td>\n",
        "      <td>1993-12-31</td>\n",
        "      <td>...</td>\n",
        "    </tr>\n",
        "    <tr>\n",
        "      <th>25</th>\n",
        "      <td> 8.5</td>\n",
        "      <td>   676,206</td>\n",
        "      <td> A man creates a strange system to help him rem...</td>\n",
        "      <td>      </td>\n",
        "      <td> http://ia.media-imdb.com/images/M/MV5BMTc4MjUx...</td>\n",
        "      <td>   31 August 2001</td>\n",
        "      <td>                                         \"Memento\"</td>\n",
        "      <td>    16</td>\n",
        "      <td>           80</td>\n",
        "      <td>                                        Amn\u00e9sia</td>\n",
        "      <td>    Christopher Nolan</td>\n",
        "      <td>    [Christopher Nolan, Jonathan Nolan]</td>\n",
        "      <td> Memento chronicles two separate stories of Leo...</td>\n",
        "      <td>    [Guy Pearce, Carrie-Anne Moss, Joe Pantoliano]</td>\n",
        "      <td> 2001</td>\n",
        "      <td>             [Mystery, Thriller]</td>\n",
        "      <td> 5491d044dc53fc1c0db3ac8c</td>\n",
        "      <td>           Nominated for 2 Oscars.</td>\n",
        "      <td> 113 min</td>\n",
        "      <td>2001-08-31</td>\n",
        "      <td>...</td>\n",
        "    </tr>\n",
        "    <tr>\n",
        "      <th>26</th>\n",
        "      <td> 8.6</td>\n",
        "      <td>   669,998</td>\n",
        "      <td> A young F.B.I. cadet must confide in an incarc...</td>\n",
        "      <td>      </td>\n",
        "      <td> http://ia.media-imdb.com/images/M/MV5BMTQ2Nzkz...</td>\n",
        "      <td>      17 May 1991</td>\n",
        "      <td>                        \"The Silence of the Lambs\"</td>\n",
        "      <td>    14</td>\n",
        "      <td>           84</td>\n",
        "      <td>                       O Sil\u00eancio dos Inocentes</td>\n",
        "      <td>       Jonathan Demme</td>\n",
        "      <td>             [Thomas Harris, Ted Tally]</td>\n",
        "      <td> Young FBI agent Clarice Starling is assigned t...</td>\n",
        "      <td> [Jodie Foster, Anthony Hopkins, Lawrence A. Bo...</td>\n",
        "      <td> 1991</td>\n",
        "      <td>        [Crime, Drama, Thriller]</td>\n",
        "      <td> 5491d044dc53fc1c0db3ac8d</td>\n",
        "      <td>                     Won 5 Oscars.</td>\n",
        "      <td> 118 min</td>\n",
        "      <td>1991-05-17</td>\n",
        "      <td>...</td>\n",
        "    </tr>\n",
        "    <tr>\n",
        "      <th>27</th>\n",
        "      <td> 8.5</td>\n",
        "      <td>   665,605</td>\n",
        "      <td> A sexually frustrated suburban father has a mi...</td>\n",
        "      <td>      </td>\n",
        "      <td> http://ia.media-imdb.com/images/M/MV5BMjM4NTI5...</td>\n",
        "      <td>                 </td>\n",
        "      <td>                                 \"American Beauty\"</td>\n",
        "      <td>    18</td>\n",
        "      <td>           86</td>\n",
        "      <td>                               Beleza Americana</td>\n",
        "      <td>           Sam Mendes</td>\n",
        "      <td>                            [Alan Ball]</td>\n",
        "      <td> Lester and Carolyn Burnham are on the outside,...</td>\n",
        "      <td>       [Kevin Spacey, Annette Bening, Thora Birch]</td>\n",
        "      <td>   -1</td>\n",
        "      <td>                         [Drama]</td>\n",
        "      <td> 5491d044dc53fc1c0db3ac8e</td>\n",
        "      <td>                     Won 5 Oscars.</td>\n",
        "      <td> 122 min</td>\n",
        "      <td>       NaT</td>\n",
        "      <td>...</td>\n",
        "    </tr>\n",
        "    <tr>\n",
        "      <th>28</th>\n",
        "      <td> 8.3</td>\n",
        "      <td>   650,691</td>\n",
        "      <td> In Nazi-occupied France during World War II, a...</td>\n",
        "      <td>      </td>\n",
        "      <td> http://ia.media-imdb.com/images/M/MV5BMjIzMDI4...</td>\n",
        "      <td>   9 October 2009</td>\n",
        "      <td>                            \"Inglourious Basterds\"</td>\n",
        "      <td>    18</td>\n",
        "      <td>           69</td>\n",
        "      <td>                            Bastardos Ingl\u00f3rios</td>\n",
        "      <td>    Quentin Tarantino</td>\n",
        "      <td>                    [Quentin Tarantino]</td>\n",
        "      <td> In Nazi-occupied France, young Jewish refugee ...</td>\n",
        "      <td>               [Brad Pitt, Diane Kruger, Eli Roth]</td>\n",
        "      <td> 2009</td>\n",
        "      <td>         [Adventure, Drama, War]</td>\n",
        "      <td> 5491d044dc53fc1c0db3ac8f</td>\n",
        "      <td>                      Won 1 Oscar.</td>\n",
        "      <td> 153 min</td>\n",
        "      <td>2009-10-09</td>\n",
        "      <td>...</td>\n",
        "    </tr>\n",
        "    <tr>\n",
        "      <th>29</th>\n",
        "      <td> 8.5</td>\n",
        "      <td>   642,977</td>\n",
        "      <td> Two stage magicians engage in competitive one-...</td>\n",
        "      <td>      </td>\n",
        "      <td> http://ia.media-imdb.com/images/M/MV5BMjA4NDI0...</td>\n",
        "      <td>  2 November 2006</td>\n",
        "      <td>                                    \"The Prestige\"</td>\n",
        "      <td>    14</td>\n",
        "      <td>           66</td>\n",
        "      <td>                                O Grande Truque</td>\n",
        "      <td>    Christopher Nolan</td>\n",
        "      <td>    [Jonathan Nolan, Christopher Nolan]</td>\n",
        "      <td> In the end of the Nineteenth Century, in Londo...</td>\n",
        "      <td> [Christian Bale, Hugh Jackman, Scarlett Johans...</td>\n",
        "      <td> 2006</td>\n",
        "      <td>      [Drama, Mystery, Thriller]</td>\n",
        "      <td> 5491d044dc53fc1c0db3ac90</td>\n",
        "      <td>           Nominated for 2 Oscars.</td>\n",
        "      <td> 130 min</td>\n",
        "      <td>2006-11-02</td>\n",
        "      <td>...</td>\n",
        "    </tr>\n",
        "    <tr>\n",
        "      <th>30</th>\n",
        "      <td> 8.1</td>\n",
        "      <td>   641,722</td>\n",
        "      <td> Blacksmith Will Turner teams up with eccentric...</td>\n",
        "      <td>      </td>\n",
        "      <td> http://ia.media-imdb.com/images/M/MV5BMjAyNDM4...</td>\n",
        "      <td>   29 August 2003</td>\n",
        "      <td> \"Pirates of the Caribbean: The Curse of the Bl...</td>\n",
        "      <td>    14</td>\n",
        "      <td>           63</td>\n",
        "      <td>  Piratas do Caribe: A Maldi\u00e7\u00e3o do P\u00e9rola Negra</td>\n",
        "      <td>       Gore Verbinski</td>\n",
        "      <td>            [Ted Elliott, Terry Rossio]</td>\n",
        "      <td> This swash-buckling tale follows the quest of ...</td>\n",
        "      <td>       [Johnny Depp, Geoffrey Rush, Orlando Bloom]</td>\n",
        "      <td> 2003</td>\n",
        "      <td>    [Action, Adventure, Fantasy]</td>\n",
        "      <td> 5491d044dc53fc1c0db3ac91</td>\n",
        "      <td>           Nominated for 5 Oscars.</td>\n",
        "      <td> 143 min</td>\n",
        "      <td>2003-08-29</td>\n",
        "      <td>...</td>\n",
        "    </tr>\n",
        "    <tr>\n",
        "      <th>31</th>\n",
        "      <td> 7.7</td>\n",
        "      <td>   628,872</td>\n",
        "      <td> A seventeen-year-old aristocrat, expecting to ...</td>\n",
        "      <td> PG-13</td>\n",
        "      <td> http://ia.media-imdb.com/images/M/MV5BMjExNzM0...</td>\n",
        "      <td>  16 January 1998</td>\n",
        "      <td>                                                  </td>\n",
        "      <td>      </td>\n",
        "      <td>           74</td>\n",
        "      <td>                                        Titanic</td>\n",
        "      <td>        James Cameron</td>\n",
        "      <td>                        [James Cameron]</td>\n",
        "      <td> 84 years later, a 101-year-old woman named Ros...</td>\n",
        "      <td>     [Leonardo DiCaprio, Kate Winslet, Billy Zane]</td>\n",
        "      <td> 1998</td>\n",
        "      <td>                [Drama, Romance]</td>\n",
        "      <td> 5491d044dc53fc1c0db3ac92</td>\n",
        "      <td>                    Won 11 Oscars.</td>\n",
        "      <td> 194 min</td>\n",
        "      <td>1998-01-16</td>\n",
        "      <td>...</td>\n",
        "    </tr>\n",
        "    <tr>\n",
        "      <th>32</th>\n",
        "      <td> 8.8</td>\n",
        "      <td>   627,735</td>\n",
        "      <td> After the rebels have been brutally overpowere...</td>\n",
        "      <td>      </td>\n",
        "      <td> http://ia.media-imdb.com/images/M/MV5BMjE2MzQw...</td>\n",
        "      <td>     21 July 1980</td>\n",
        "      <td>  \"Star Wars: Episode V - The Empire Strikes Back\"</td>\n",
        "      <td> Livre</td>\n",
        "      <td>           78</td>\n",
        "      <td> Star Wars: Epis\u00f3dio V - O Imp\u00e9rio Contra-Ataca</td>\n",
        "      <td>       Irvin Kershner</td>\n",
        "      <td>      [Leigh Brackett, Lawrence Kasdan]</td>\n",
        "      <td> Fleeing the evil Galactic Empire, the Rebels a...</td>\n",
        "      <td>       [Mark Hamill, Harrison Ford, Carrie Fisher]</td>\n",
        "      <td> 1980</td>\n",
        "      <td>    [Action, Adventure, Fantasy]</td>\n",
        "      <td> 5491d044dc53fc1c0db3ac94</td>\n",
        "      <td>                      Won 1 Oscar.</td>\n",
        "      <td> 124 min</td>\n",
        "      <td>1980-07-21</td>\n",
        "      <td>...</td>\n",
        "    </tr>\n",
        "    <tr>\n",
        "      <th>33</th>\n",
        "      <td> 8.6</td>\n",
        "      <td>   620,549</td>\n",
        "      <td> A former neo-nazi skinhead tries to prevent hi...</td>\n",
        "      <td>      </td>\n",
        "      <td> http://ia.media-imdb.com/images/M/MV5BMjMzNDUw...</td>\n",
        "      <td>    16 April 1999</td>\n",
        "      <td>                              \"American History X\"</td>\n",
        "      <td>    14</td>\n",
        "      <td>           62</td>\n",
        "      <td>                     A Outra Hist\u00f3ria Americana</td>\n",
        "      <td>            Tony Kaye</td>\n",
        "      <td>                        [David McKenna]</td>\n",
        "      <td> Derek Vineyard is paroled after serving 3 year...</td>\n",
        "      <td> [Edward Norton, Edward Furlong, Beverly D'Angelo]</td>\n",
        "      <td> 1999</td>\n",
        "      <td>                  [Crime, Drama]</td>\n",
        "      <td> 5491d044dc53fc1c0db3ac95</td>\n",
        "      <td>            Nominated for 1 Oscar.</td>\n",
        "      <td> 119 min</td>\n",
        "      <td>1999-04-16</td>\n",
        "      <td>...</td>\n",
        "    </tr>\n",
        "    <tr>\n",
        "      <th>34</th>\n",
        "      <td> 9.1</td>\n",
        "      <td>   615,388</td>\n",
        "      <td> The early life and career of Vito Corleone in ...</td>\n",
        "      <td>      </td>\n",
        "      <td> http://ia.media-imdb.com/images/M/MV5BNDc2NTM3...</td>\n",
        "      <td> 14 February 1975</td>\n",
        "      <td>                          \"The Godfather: Part II\"</td>\n",
        "      <td>    14</td>\n",
        "      <td>           80</td>\n",
        "      <td>                           O Poderoso Chef\u00e3o II</td>\n",
        "      <td> Francis Ford Coppola</td>\n",
        "      <td>     [Francis Ford Coppola, Mario Puzo]</td>\n",
        "      <td> The continuing saga of the Corleone crime fami...</td>\n",
        "      <td>        [Al Pacino, Robert De Niro, Robert Duvall]</td>\n",
        "      <td> 1975</td>\n",
        "      <td>                  [Crime, Drama]</td>\n",
        "      <td> 5491d044dc53fc1c0db3ac96</td>\n",
        "      <td>                     Won 6 Oscars.</td>\n",
        "      <td> 200 min</td>\n",
        "      <td>1975-02-14</td>\n",
        "      <td>...</td>\n",
        "    </tr>\n",
        "    <tr>\n",
        "      <th>35</th>\n",
        "      <td> 8.7</td>\n",
        "      <td>   587,759</td>\n",
        "      <td> A sole survivor tells of the twisty events lea...</td>\n",
        "      <td>      </td>\n",
        "      <td> http://ia.media-imdb.com/images/M/MV5BMzI1MjI5...</td>\n",
        "      <td>    19 April 1996</td>\n",
        "      <td>                              \"The Usual Suspects\"</td>\n",
        "      <td>    14</td>\n",
        "      <td>           77</td>\n",
        "      <td>                                   Os Suspeitos</td>\n",
        "      <td>         Bryan Singer</td>\n",
        "      <td>                [Christopher McQuarrie]</td>\n",
        "      <td> Following a truck hijack in New York, five con...</td>\n",
        "      <td>   [Kevin Spacey, Gabriel Byrne, Chazz Palminteri]</td>\n",
        "      <td> 1996</td>\n",
        "      <td>        [Crime, Drama, Thriller]</td>\n",
        "      <td> 5491d044dc53fc1c0db3ac97</td>\n",
        "      <td>                     Won 2 Oscars.</td>\n",
        "      <td> 106 min</td>\n",
        "      <td>1996-04-19</td>\n",
        "      <td>...</td>\n",
        "    </tr>\n",
        "    <tr>\n",
        "      <th>36</th>\n",
        "      <td> 8.5</td>\n",
        "      <td>   586,342</td>\n",
        "      <td> A cyborg, identical to the one who failed to k...</td>\n",
        "      <td>      </td>\n",
        "      <td> http://ia.media-imdb.com/images/M/MV5BMTg5NzUw...</td>\n",
        "      <td>   30 August 1991</td>\n",
        "      <td>                      \"Terminator 2: Judgment Day\"</td>\n",
        "      <td>    12</td>\n",
        "      <td>           68</td>\n",
        "      <td> O Exterminador do Futuro 2: O Julgamento Final</td>\n",
        "      <td>        James Cameron</td>\n",
        "      <td>    [James Cameron, William Wisher Jr.]</td>\n",
        "      <td> Almost 10 years have passed since the first cy...</td>\n",
        "      <td> [Arnold Schwarzenegger, Linda Hamilton, Edward...</td>\n",
        "      <td> 1991</td>\n",
        "      <td>                [Action, Sci-Fi]</td>\n",
        "      <td> 5491d044dc53fc1c0db3ac98</td>\n",
        "      <td>                     Won 4 Oscars.</td>\n",
        "      <td> 137 min</td>\n",
        "      <td>1991-08-30</td>\n",
        "      <td>...</td>\n",
        "    </tr>\n",
        "    <tr>\n",
        "      <th>37</th>\n",
        "      <td> 8.4</td>\n",
        "      <td>   584,360</td>\n",
        "      <td> When his secret bride is executed for assaulti...</td>\n",
        "      <td>      </td>\n",
        "      <td> http://ia.media-imdb.com/images/M/MV5BNjA4ODYx...</td>\n",
        "      <td>     14 July 1995</td>\n",
        "      <td>                                      \"Braveheart\"</td>\n",
        "      <td>    16</td>\n",
        "      <td>           68</td>\n",
        "      <td>                                Cora\u00e7\u00e3o Valente</td>\n",
        "      <td>           Mel Gibson</td>\n",
        "      <td>                      [Randall Wallace]</td>\n",
        "      <td> William Wallace is a Scottish rebel who leads ...</td>\n",
        "      <td>    [Mel Gibson, Sophie Marceau, Patrick McGoohan]</td>\n",
        "      <td> 1995</td>\n",
        "      <td>      [Action, Biography, Drama]</td>\n",
        "      <td> 5491d044dc53fc1c0db3ac99</td>\n",
        "      <td>                     Won 5 Oscars.</td>\n",
        "      <td> 177 min</td>\n",
        "      <td>1995-07-14</td>\n",
        "      <td>...</td>\n",
        "    </tr>\n",
        "    <tr>\n",
        "      <th>38</th>\n",
        "      <td> 8.5</td>\n",
        "      <td>   579,187</td>\n",
        "      <td> The lives of guards on Death Row are affected ...</td>\n",
        "      <td>      </td>\n",
        "      <td> http://ia.media-imdb.com/images/M/MV5BMTUxMzQy...</td>\n",
        "      <td>    10 March 2000</td>\n",
        "      <td>                                  \"The Green Mile\"</td>\n",
        "      <td>    14</td>\n",
        "      <td>           61</td>\n",
        "      <td>                         \u00c0 Espera de Um Milagre</td>\n",
        "      <td>       Frank Darabont</td>\n",
        "      <td>         [Stephen King, Frank Darabont]</td>\n",
        "      <td> Death Row guards at a penitentiary, in the 193...</td>\n",
        "      <td>   [Tom Hanks, Michael Clarke Duncan, David Morse]</td>\n",
        "      <td> 2000</td>\n",
        "      <td>         [Crime, Drama, Fantasy]</td>\n",
        "      <td> 5491d044dc53fc1c0db3ac9a</td>\n",
        "      <td>           Nominated for 4 Oscars.</td>\n",
        "      <td> 189 min</td>\n",
        "      <td>2000-03-10</td>\n",
        "      <td>...</td>\n",
        "    </tr>\n",
        "    <tr>\n",
        "      <th>39</th>\n",
        "      <td> 8.7</td>\n",
        "      <td>   577,668</td>\n",
        "      <td> Henry Hill and his friends work their way up t...</td>\n",
        "      <td>      </td>\n",
        "      <td> http://ia.media-imdb.com/images/M/MV5BMTY2OTE5...</td>\n",
        "      <td> 21 December 1990</td>\n",
        "      <td>                                      \"Goodfellas\"</td>\n",
        "      <td>    14</td>\n",
        "      <td>           89</td>\n",
        "      <td>                           Os Bons Companheiros</td>\n",
        "      <td>      Martin Scorsese</td>\n",
        "      <td>   [Nicholas Pileggi, Nicholas Pileggi]</td>\n",
        "      <td> Henry Hill is a small time gangster, who takes...</td>\n",
        "      <td>           [Robert De Niro, Ray Liotta, Joe Pesci]</td>\n",
        "      <td> 1990</td>\n",
        "      <td>       [Biography, Crime, Drama]</td>\n",
        "      <td> 5491d044dc53fc1c0db3ac9b</td>\n",
        "      <td>                      Won 1 Oscar.</td>\n",
        "      <td> 146 min</td>\n",
        "      <td>1990-12-21</td>\n",
        "      <td>...</td>\n",
        "    </tr>\n",
        "    <tr>\n",
        "      <th>40</th>\n",
        "      <td> 8.1</td>\n",
        "      <td>   577,390</td>\n",
        "      <td> In 1954, U.S. Marshal Teddy Daniels is investi...</td>\n",
        "      <td>      </td>\n",
        "      <td> http://ia.media-imdb.com/images/M/MV5BMTMxMTIy...</td>\n",
        "      <td>    12 March 2010</td>\n",
        "      <td>                                  \"Shutter Island\"</td>\n",
        "      <td>    16</td>\n",
        "      <td>           63</td>\n",
        "      <td>                                   Ilha do Medo</td>\n",
        "      <td>      Martin Scorsese</td>\n",
        "      <td>      [Laeta Kalogridis, Dennis Lehane]</td>\n",
        "      <td> It's 1954, and up-and-coming U.S. marshal Tedd...</td>\n",
        "      <td> [Leonardo DiCaprio, Emily Mortimer, Mark Ruffalo]</td>\n",
        "      <td> 2010</td>\n",
        "      <td>             [Mystery, Thriller]</td>\n",
        "      <td> 5491d044dc53fc1c0db3ac9c</td>\n",
        "      <td>                                  </td>\n",
        "      <td> 138 min</td>\n",
        "      <td>2010-03-12</td>\n",
        "      <td>...</td>\n",
        "    </tr>\n",
        "    <tr>\n",
        "      <th>41</th>\n",
        "      <td> 8.2</td>\n",
        "      <td>   574,012</td>\n",
        "      <td> The Bride wakens from a four-year coma. The ch...</td>\n",
        "      <td>      </td>\n",
        "      <td> http://ia.media-imdb.com/images/M/MV5BMTU1NDg1...</td>\n",
        "      <td>    23 April 2004</td>\n",
        "      <td>                               \"Kill Bill: Vol. 1\"</td>\n",
        "      <td>    18</td>\n",
        "      <td>           69</td>\n",
        "      <td>                            Kill Bill: Volume 1</td>\n",
        "      <td>    Quentin Tarantino</td>\n",
        "      <td> [Quentin Tarantino, Quentin Tarantino]</td>\n",
        "      <td> The lead character, called 'The Bride,' was a ...</td>\n",
        "      <td>      [Uma Thurman, David Carradine, Daryl Hannah]</td>\n",
        "      <td> 2004</td>\n",
        "      <td>                 [Action, Crime]</td>\n",
        "      <td> 5491d044dc53fc1c0db3ac9d</td>\n",
        "      <td>     Nominated for 1 Golden Globe.</td>\n",
        "      <td> 111 min</td>\n",
        "      <td>2004-04-23</td>\n",
        "      <td>...</td>\n",
        "    </tr>\n",
        "    <tr>\n",
        "      <th>42</th>\n",
        "      <td> 8.2</td>\n",
        "      <td>   571,962</td>\n",
        "      <td> A boy who communicates with spirits that don't...</td>\n",
        "      <td>      </td>\n",
        "      <td> http://ia.media-imdb.com/images/M/MV5BMTc2MTQx...</td>\n",
        "      <td>  22 October 1999</td>\n",
        "      <td>                                 \"The Sixth Sense\"</td>\n",
        "      <td>    12</td>\n",
        "      <td>           64</td>\n",
        "      <td>                                O Sexto Sentido</td>\n",
        "      <td>   M. Night Shyamalan</td>\n",
        "      <td>                   [M. Night Shyamalan]</td>\n",
        "      <td> Malcom Crowe is a child psychologist who recei...</td>\n",
        "      <td>  [Bruce Willis, Haley Joel Osment, Toni Collette]</td>\n",
        "      <td> 1999</td>\n",
        "      <td>      [Drama, Mystery, Thriller]</td>\n",
        "      <td> 5491d044dc53fc1c0db3ac9e</td>\n",
        "      <td>           Nominated for 6 Oscars.</td>\n",
        "      <td> 107 min</td>\n",
        "      <td>1999-10-22</td>\n",
        "      <td>...</td>\n",
        "    </tr>\n",
        "    <tr>\n",
        "      <th>43</th>\n",
        "      <td> 8.6</td>\n",
        "      <td>   565,045</td>\n",
        "      <td> Mathilda, a 12-year-old girl, who is reluctant...</td>\n",
        "      <td>      </td>\n",
        "      <td> http://ia.media-imdb.com/images/M/MV5BMTgzMzg4...</td>\n",
        "      <td> 17 February 1995</td>\n",
        "      <td>                                            \"L\u00e9on\"</td>\n",
        "      <td>    14</td>\n",
        "      <td>           64</td>\n",
        "      <td>                                 O Profissional</td>\n",
        "      <td>           Luc Besson</td>\n",
        "      <td>                           [Luc Besson]</td>\n",
        "      <td> After her father and little brother are killed...</td>\n",
        "      <td>         [Jean Reno, Gary Oldman, Natalie Portman]</td>\n",
        "      <td> 1995</td>\n",
        "      <td>        [Crime, Drama, Thriller]</td>\n",
        "      <td> 5491d044dc53fc1c0db3ac9f</td>\n",
        "      <td>                                  </td>\n",
        "      <td> 110 min</td>\n",
        "      <td>1995-02-17</td>\n",
        "      <td>...</td>\n",
        "    </tr>\n",
        "    <tr>\n",
        "      <th>44</th>\n",
        "      <td> 7.3</td>\n",
        "      <td>   561,737</td>\n",
        "      <td> Katniss Everdeen voluntarily takes her younger...</td>\n",
        "      <td>      </td>\n",
        "      <td> http://ia.media-imdb.com/images/M/MV5BMjA4NDg3...</td>\n",
        "      <td>    23 March 2012</td>\n",
        "      <td>                                \"The Hunger Games\"</td>\n",
        "      <td>    14</td>\n",
        "      <td>           67</td>\n",
        "      <td>                                  Jogos Vorazes</td>\n",
        "      <td>            Gary Ross</td>\n",
        "      <td>           [Gary Ross, Suzanne Collins]</td>\n",
        "      <td> In a dystopian future, the totalitarian nation...</td>\n",
        "      <td> [Jennifer Lawrence, Josh Hutcherson, Liam Hems...</td>\n",
        "      <td> 2012</td>\n",
        "      <td>             [Adventure, Sci-Fi]</td>\n",
        "      <td> 5491d044dc53fc1c0db3aca0</td>\n",
        "      <td>     Nominated for 1 Golden Globe.</td>\n",
        "      <td> 142 min</td>\n",
        "      <td>2012-03-23</td>\n",
        "      <td>...</td>\n",
        "    </tr>\n",
        "    <tr>\n",
        "      <th>45</th>\n",
        "      <td> 8.7</td>\n",
        "      <td>   548,042</td>\n",
        "      <td> Upon admittance to a mental institution, a bra...</td>\n",
        "      <td>      </td>\n",
        "      <td> http://ia.media-imdb.com/images/M/MV5BMTk5OTA4...</td>\n",
        "      <td>                 </td>\n",
        "      <td>                 \"One Flew Over the Cuckoo's Nest\"</td>\n",
        "      <td>    14</td>\n",
        "      <td>           79</td>\n",
        "      <td>                           Um Estranho no Ninho</td>\n",
        "      <td>         Milos Forman</td>\n",
        "      <td>          [Lawrence Hauben, Bo Goldman]</td>\n",
        "      <td> McMurphy has a criminal past and has once agai...</td>\n",
        "      <td> [Jack Nicholson, Louise Fletcher, Michael Berr...</td>\n",
        "      <td>   -1</td>\n",
        "      <td>                         [Drama]</td>\n",
        "      <td> 5491d044dc53fc1c0db3aca1</td>\n",
        "      <td>                     Won 5 Oscars.</td>\n",
        "      <td> 133 min</td>\n",
        "      <td>       NaT</td>\n",
        "      <td>...</td>\n",
        "    </tr>\n",
        "    <tr>\n",
        "      <th>46</th>\n",
        "      <td> 8.5</td>\n",
        "      <td>   546,381</td>\n",
        "      <td> A young man is accidentally sent 30 years into...</td>\n",
        "      <td>      </td>\n",
        "      <td> http://ia.media-imdb.com/images/M/MV5BMjA5NTYz...</td>\n",
        "      <td> 25 December 1985</td>\n",
        "      <td>                              \"Back to the Future\"</td>\n",
        "      <td> Livre</td>\n",
        "      <td>           86</td>\n",
        "      <td>                         De Volta para o Futuro</td>\n",
        "      <td>      Robert Zemeckis</td>\n",
        "      <td>            [Robert Zemeckis, Bob Gale]</td>\n",
        "      <td> Marty McFly, a typical American teenager of th...</td>\n",
        "      <td> [Michael J. Fox, Christopher Lloyd, Lea Thompson]</td>\n",
        "      <td> 1985</td>\n",
        "      <td>     [Adventure, Comedy, Sci-Fi]</td>\n",
        "      <td> 5491d044dc53fc1c0db3aca2</td>\n",
        "      <td>                      Won 1 Oscar.</td>\n",
        "      <td> 116 min</td>\n",
        "      <td>1985-12-25</td>\n",
        "      <td>...</td>\n",
        "    </tr>\n",
        "    <tr>\n",
        "      <th>47</th>\n",
        "      <td> 8.1</td>\n",
        "      <td>   545,366</td>\n",
        "      <td> A film that explores the dark and miserable to...</td>\n",
        "      <td>      </td>\n",
        "      <td> http://ia.media-imdb.com/images/M/MV5BMTI2NjUy...</td>\n",
        "      <td>     29 July 2005</td>\n",
        "      <td>                                        \"Sin City\"</td>\n",
        "      <td>    16</td>\n",
        "      <td>           74</td>\n",
        "      <td>                   Sin City: A Cidade do Pecado</td>\n",
        "      <td>         Frank Miller</td>\n",
        "      <td>                         [Frank Miller]</td>\n",
        "      <td> Four tales of crime adapted from Frank Miller'...</td>\n",
        "      <td>         [Mickey Rourke, Clive Owen, Bruce Willis]</td>\n",
        "      <td> 2005</td>\n",
        "      <td>               [Crime, Thriller]</td>\n",
        "      <td> 5491d044dc53fc1c0db3aca3</td>\n",
        "      <td>                                  </td>\n",
        "      <td> 124 min</td>\n",
        "      <td>2005-07-29</td>\n",
        "      <td>...</td>\n",
        "    </tr>\n",
        "    <tr>\n",
        "      <th>48</th>\n",
        "      <td> 8.5</td>\n",
        "      <td>   541,970</td>\n",
        "      <td> In the distant future, a small waste collectin...</td>\n",
        "      <td>      </td>\n",
        "      <td> http://ia.media-imdb.com/images/M/MV5BMTczOTA3...</td>\n",
        "      <td>     27 June 2008</td>\n",
        "      <td>                                                  </td>\n",
        "      <td> Livre</td>\n",
        "      <td>           94</td>\n",
        "      <td>                                         WALL\u00b7E</td>\n",
        "      <td>       Andrew Stanton</td>\n",
        "      <td>          [Andrew Stanton, Pete Docter]</td>\n",
        "      <td> In a distant, but not so unrealistic, future w...</td>\n",
        "      <td>           [Ben Burtt, Elissa Knight, Jeff Garlin]</td>\n",
        "      <td> 2008</td>\n",
        "      <td> [Animation, Adventure, Romance]</td>\n",
        "      <td> 5491d044dc53fc1c0db3aca4</td>\n",
        "      <td>                      Won 1 Oscar.</td>\n",
        "      <td>  98 min</td>\n",
        "      <td>2008-06-27</td>\n",
        "      <td>...</td>\n",
        "    </tr>\n",
        "    <tr>\n",
        "      <th>49</th>\n",
        "      <td> 7.9</td>\n",
        "      <td>   534,770</td>\n",
        "      <td> After being held captive in an Afghan cave, an...</td>\n",
        "      <td>      </td>\n",
        "      <td> http://ia.media-imdb.com/images/M/MV5BMTczNTI2...</td>\n",
        "      <td>    30 April 2008</td>\n",
        "      <td>                                        \"Iron Man\"</td>\n",
        "      <td>    12</td>\n",
        "      <td>           79</td>\n",
        "      <td>                                 Homem de Ferro</td>\n",
        "      <td>          Jon Favreau</td>\n",
        "      <td>              [Mark Fergus, Hawk Ostby]</td>\n",
        "      <td> Tony Stark is the complete playboy who also ha...</td>\n",
        "      <td> [Robert Downey Jr., Gwyneth Paltrow, Terrence ...</td>\n",
        "      <td> 2008</td>\n",
        "      <td>     [Action, Adventure, Sci-Fi]</td>\n",
        "      <td> 5491d044dc53fc1c0db3aca5</td>\n",
        "      <td>           Nominated for 2 Oscars.</td>\n",
        "      <td> 126 min</td>\n",
        "      <td>2008-04-30</td>\n",
        "      <td>...</td>\n",
        "    </tr>\n",
        "    <tr>\n",
        "      <th>50</th>\n",
        "      <td> 8.0</td>\n",
        "      <td>   530,320</td>\n",
        "      <td> A Mumbai teen who grew up in the slums, become...</td>\n",
        "      <td>      </td>\n",
        "      <td> http://ia.media-imdb.com/images/M/MV5BMTU2NTA5...</td>\n",
        "      <td>     6 March 2009</td>\n",
        "      <td>                             \"Slumdog Millionaire\"</td>\n",
        "      <td>    16</td>\n",
        "      <td>           86</td>\n",
        "      <td>                   Quem Quer Ser um Milion\u00e1rio?</td>\n",
        "      <td>          Danny Boyle</td>\n",
        "      <td>          [Simon Beaufoy, Vikas Swarup]</td>\n",
        "      <td> The story of Jamal Malik, an 18 year-old orpha...</td>\n",
        "      <td>         [Dev Patel, Freida Pinto, Saurabh Shukla]</td>\n",
        "      <td> 2009</td>\n",
        "      <td>                [Drama, Romance]</td>\n",
        "      <td> 5491d044dc53fc1c0db3aca6</td>\n",
        "      <td>                     Won 8 Oscars.</td>\n",
        "      <td> 120 min</td>\n",
        "      <td>2009-03-06</td>\n",
        "      <td>...</td>\n",
        "    </tr>\n",
        "    <tr>\n",
        "      <th>51</th>\n",
        "      <td> 8.4</td>\n",
        "      <td>   530,212</td>\n",
        "      <td> When their relationship turns sour, a couple u...</td>\n",
        "      <td>      </td>\n",
        "      <td> http://ia.media-imdb.com/images/M/MV5BMTY4Nzcw...</td>\n",
        "      <td>     23 July 2004</td>\n",
        "      <td>           \"Eternal Sunshine of the Spotless Mind\"</td>\n",
        "      <td>    14</td>\n",
        "      <td>           89</td>\n",
        "      <td>      Brilho Eterno De Uma Mente Sem Lembran\u00e7as</td>\n",
        "      <td>        Michel Gondry</td>\n",
        "      <td>       [Charlie Kaufman, Michel Gondry]</td>\n",
        "      <td> A man, Joel Barish, heartbroken that his girlf...</td>\n",
        "      <td>         [Jim Carrey, Kate Winslet, Tom Wilkinson]</td>\n",
        "      <td> 2004</td>\n",
        "      <td>        [Drama, Romance, Sci-Fi]</td>\n",
        "      <td> 5491d044dc53fc1c0db3aca7</td>\n",
        "      <td>                      Won 1 Oscar.</td>\n",
        "      <td> 108 min</td>\n",
        "      <td>2004-07-23</td>\n",
        "      <td>...</td>\n",
        "    </tr>\n",
        "    <tr>\n",
        "      <th>52</th>\n",
        "      <td> 8.6</td>\n",
        "      <td>   525,728</td>\n",
        "      <td> Archeologist and adventurer Indiana Jones is h...</td>\n",
        "      <td>      </td>\n",
        "      <td> http://ia.media-imdb.com/images/M/MV5BMjA0ODEz...</td>\n",
        "      <td> 25 December 1981</td>\n",
        "      <td>                         \"Raiders of the Lost Ark\"</td>\n",
        "      <td> Livre</td>\n",
        "      <td>           90</td>\n",
        "      <td>                   Os Ca\u00e7adores da Arca Perdida</td>\n",
        "      <td>     Steven Spielberg</td>\n",
        "      <td>        [Lawrence Kasdan, George Lucas]</td>\n",
        "      <td> The year is 1936. A professor who studies arch...</td>\n",
        "      <td>        [Harrison Ford, Karen Allen, Paul Freeman]</td>\n",
        "      <td> 1981</td>\n",
        "      <td>             [Action, Adventure]</td>\n",
        "      <td> 5491d044dc53fc1c0db3aca8</td>\n",
        "      <td>                     Won 4 Oscars.</td>\n",
        "      <td> 115 min</td>\n",
        "      <td>1981-12-25</td>\n",
        "      <td>...</td>\n",
        "    </tr>\n",
        "    <tr>\n",
        "      <th>53</th>\n",
        "      <td> 8.0</td>\n",
        "      <td>   516,387</td>\n",
        "      <td> An insurance salesman/adjuster discovers his e...</td>\n",
        "      <td>      </td>\n",
        "      <td> http://ia.media-imdb.com/images/M/MV5BMTM4NjY2...</td>\n",
        "      <td>                 </td>\n",
        "      <td>                                 \"The Truman Show\"</td>\n",
        "      <td>    12</td>\n",
        "      <td>           90</td>\n",
        "      <td>                               O Show de Truman</td>\n",
        "      <td>           Peter Weir</td>\n",
        "      <td>                        [Andrew Niccol]</td>\n",
        "      <td> In this movie, Truman is a man whose life is a...</td>\n",
        "      <td>             [Jim Carrey, Ed Harris, Laura Linney]</td>\n",
        "      <td>   -1</td>\n",
        "      <td>                         [Drama]</td>\n",
        "      <td> 5491d044dc53fc1c0db3aca9</td>\n",
        "      <td>           Nominated for 3 Oscars.</td>\n",
        "      <td> 103 min</td>\n",
        "      <td>       NaT</td>\n",
        "      <td>...</td>\n",
        "    </tr>\n",
        "    <tr>\n",
        "      <th>54</th>\n",
        "      <td> 8.2</td>\n",
        "      <td>   513,269</td>\n",
        "      <td> After his son is captured in the Great Barrier...</td>\n",
        "      <td>      </td>\n",
        "      <td> http://ia.media-imdb.com/images/M/MV5BMTY1MTg1...</td>\n",
        "      <td>      4 July 2003</td>\n",
        "      <td>                                    \"Finding Nemo\"</td>\n",
        "      <td> Livre</td>\n",
        "      <td>           90</td>\n",
        "      <td>                                Procurando Nemo</td>\n",
        "      <td>       Andrew Stanton</td>\n",
        "      <td>       [Andrew Stanton, Andrew Stanton]</td>\n",
        "      <td> A clown fish named Marlin lives in the Great B...</td>\n",
        "      <td> [Albert Brooks, Ellen DeGeneres, Alexander Gould]</td>\n",
        "      <td> 2003</td>\n",
        "      <td>  [Animation, Adventure, Comedy]</td>\n",
        "      <td> 5491d044dc53fc1c0db3acaa</td>\n",
        "      <td>                      Won 1 Oscar.</td>\n",
        "      <td> 100 min</td>\n",
        "      <td>2003-07-04</td>\n",
        "      <td>...</td>\n",
        "    </tr>\n",
        "    <tr>\n",
        "      <th>55</th>\n",
        "      <td> 8.4</td>\n",
        "      <td>   512,941</td>\n",
        "      <td> After a simple jewelery heist goes terribly wr...</td>\n",
        "      <td>      </td>\n",
        "      <td> http://ia.media-imdb.com/images/M/MV5BMTQxMTAw...</td>\n",
        "      <td>      4 June 1993</td>\n",
        "      <td>                                  \"Reservoir Dogs\"</td>\n",
        "      <td>    18</td>\n",
        "      <td>           78</td>\n",
        "      <td>                                C\u00e3es de Aluguel</td>\n",
        "      <td>    Quentin Tarantino</td>\n",
        "      <td>       [Quentin Tarantino, Roger Avary]</td>\n",
        "      <td> Six criminals, who are strangers to each other...</td>\n",
        "      <td>         [Harvey Keitel, Tim Roth, Michael Madsen]</td>\n",
        "      <td> 1993</td>\n",
        "      <td>                  [Crime, Drama]</td>\n",
        "      <td> 5491d044dc53fc1c0db3acab</td>\n",
        "      <td>                                  </td>\n",
        "      <td>  99 min</td>\n",
        "      <td>1993-06-04</td>\n",
        "      <td>...</td>\n",
        "    </tr>\n",
        "    <tr>\n",
        "      <th>56</th>\n",
        "      <td> 7.8</td>\n",
        "      <td>   511,505</td>\n",
        "      <td> King Leonidas and a force of 300 men fight the...</td>\n",
        "      <td>      </td>\n",
        "      <td> http://ia.media-imdb.com/images/M/MV5BMjAzNTkz...</td>\n",
        "      <td>    30 March 2007</td>\n",
        "      <td>                                                  </td>\n",
        "      <td>    18</td>\n",
        "      <td>           51</td>\n",
        "      <td>                                            300</td>\n",
        "      <td>          Zack Snyder</td>\n",
        "      <td>           [Zack Snyder, Kurt Johnstad]</td>\n",
        "      <td> In the Battle of Thermopylae of 480 BC an alli...</td>\n",
        "      <td>        [Gerard Butler, Lena Headey, David Wenham]</td>\n",
        "      <td> 2007</td>\n",
        "      <td>          [Action, Fantasy, War]</td>\n",
        "      <td> 5491d044dc53fc1c0db3acac</td>\n",
        "      <td>                                  </td>\n",
        "      <td> 117 min</td>\n",
        "      <td>2007-03-30</td>\n",
        "      <td>...</td>\n",
        "    </tr>\n",
        "    <tr>\n",
        "      <th>57</th>\n",
        "      <td> 8.0</td>\n",
        "      <td>   503,034</td>\n",
        "      <td> A reluctant hobbit, Bilbo Baggins, sets out to...</td>\n",
        "      <td>      </td>\n",
        "      <td> http://ia.media-imdb.com/images/M/MV5BMTcwNTE4...</td>\n",
        "      <td> 14 December 2012</td>\n",
        "      <td>               \"The Hobbit: An Unexpected Journey\"</td>\n",
        "      <td>    12</td>\n",
        "      <td>           58</td>\n",
        "      <td>               O Hobbit: Uma Jornada Inesperada</td>\n",
        "      <td>        Peter Jackson</td>\n",
        "      <td>          [Fran Walsh, Philippa Boyens]</td>\n",
        "      <td> Bilbo Baggins is swept into a quest to reclaim...</td>\n",
        "      <td>  [Martin Freeman, Ian McKellen, Richard Armitage]</td>\n",
        "      <td> 2012</td>\n",
        "      <td>            [Adventure, Fantasy]</td>\n",
        "      <td> 5491d044dc53fc1c0db3acad</td>\n",
        "      <td>           Nominated for 3 Oscars.</td>\n",
        "      <td> 169 min</td>\n",
        "      <td>2012-12-14</td>\n",
        "      <td>...</td>\n",
        "    </tr>\n",
        "    <tr>\n",
        "      <th>58</th>\n",
        "      <td> 8.4</td>\n",
        "      <td>   497,887</td>\n",
        "      <td> After rescuing Han Solo from the palace of Jab...</td>\n",
        "      <td>      </td>\n",
        "      <td> http://ia.media-imdb.com/images/M/MV5BMjE5MTM3...</td>\n",
        "      <td>   6 October 1983</td>\n",
        "      <td>      \"Star Wars: Episode VI - Return of the Jedi\"</td>\n",
        "      <td> Livre</td>\n",
        "      <td>           52</td>\n",
        "      <td>     Star Wars, Epis\u00f3dio VI - O Retorno do Jedi</td>\n",
        "      <td>     Richard Marquand</td>\n",
        "      <td>        [Lawrence Kasdan, George Lucas]</td>\n",
        "      <td> Darth Vader and the Empire are building a new,...</td>\n",
        "      <td>       [Mark Hamill, Harrison Ford, Carrie Fisher]</td>\n",
        "      <td> 1983</td>\n",
        "      <td>    [Action, Adventure, Fantasy]</td>\n",
        "      <td> 5491d044dc53fc1c0db3acae</td>\n",
        "      <td>           Nominated for 4 Oscars.</td>\n",
        "      <td> 134 min</td>\n",
        "      <td>1983-10-06</td>\n",
        "      <td>...</td>\n",
        "    </tr>\n",
        "    <tr>\n",
        "      <th>59</th>\n",
        "      <td> 8.3</td>\n",
        "      <td>   489,253</td>\n",
        "      <td> To avoid being taken away to a nursing home, a...</td>\n",
        "      <td>      </td>\n",
        "      <td> http://ia.media-imdb.com/images/M/MV5BMTk3NDE2...</td>\n",
        "      <td> 4 September 2009</td>\n",
        "      <td>                                              \"Up\"</td>\n",
        "      <td> Livre</td>\n",
        "      <td>           88</td>\n",
        "      <td>                            Up: Altas Aventuras</td>\n",
        "      <td>          Pete Docter</td>\n",
        "      <td>            [Pete Docter, Bob Peterson]</td>\n",
        "      <td> A young Carl Fredrickson meets a young adventu...</td>\n",
        "      <td>   [Edward Asner, Jordan Nagai, John Ratzenberger]</td>\n",
        "      <td> 2009</td>\n",
        "      <td>   [Animation, Adventure, Drama]</td>\n",
        "      <td> 5491d044dc53fc1c0db3acaf</td>\n",
        "      <td>                     Won 2 Oscars.</td>\n",
        "      <td>  96 min</td>\n",
        "      <td>2009-09-04</td>\n",
        "      <td>...</td>\n",
        "    </tr>\n",
        "    <tr>\n",
        "      <th></th>\n",
        "      <td>...</td>\n",
        "      <td>...</td>\n",
        "      <td>...</td>\n",
        "      <td>...</td>\n",
        "      <td>...</td>\n",
        "      <td>...</td>\n",
        "      <td>...</td>\n",
        "      <td>...</td>\n",
        "      <td>...</td>\n",
        "      <td>...</td>\n",
        "      <td>...</td>\n",
        "      <td>...</td>\n",
        "      <td>...</td>\n",
        "      <td>...</td>\n",
        "      <td>...</td>\n",
        "      <td>...</td>\n",
        "      <td>...</td>\n",
        "      <td>...</td>\n",
        "      <td>...</td>\n",
        "      <td>...</td>\n",
        "    </tr>\n",
        "  </tbody>\n",
        "</table>\n",
        "<p>10355 rows \u00d7 22 columns</p>\n",
        "</div>"
       ],
       "metadata": {},
       "output_type": "pyout",
       "prompt_number": 417,
       "text": [
        "   rating      votes                                        description  \\\n",
        "0     9.3  1,339,913  Two imprisoned men bond over a number of years...   \n",
        "1     9.0  1,308,570  When the menace known as the Joker wreaks havo...   \n",
        "2     8.8  1,099,712  A thief who steals corporate secrets through u...   \n",
        "3     8.2    628,075  In a future British tyranny, a shadowy freedom...   \n",
        "4     8.5      4,837                                                      \n",
        "5     8.9  1,033,387  The lives of two mob hit men, a boxer, a gangs...   \n",
        "6     8.9  1,031,438  An insomniac office worker looking for a way t...   \n",
        "7     8.8    979,776  A meek hobbit of the Shire and eight companion...   \n",
        "8     8.9    954,344  Gandalf and Aragorn lead the World of Men agai...   \n",
        "9     8.7    950,393  A computer hacker learns from mysterious rebel...   \n",
        "10    8.8    930,191  Forrest Gump, while not intelligent, has accid...   \n",
        "11    9.2    923,152  The aging patriarch of an organized crime dyna...   \n",
        "12    8.6    876,253  When Bane, a former member of the League of Sh...   \n",
        "13    8.8    858,574  While Frodo and Sam edge closer to Mordor with...   \n",
        "14    8.7    787,327  Two detectives, a rookie and a veteran, hunt a...   \n",
        "15    8.5    756,382  When a Roman general is betrayed and his famil...   \n",
        "16    8.3    746,630  After training with his mentor, Batman begins ...   \n",
        "17    8.2    742,734  Earth's mightiest heroes must come together an...   \n",
        "18    7.9    725,850  A Paraplegic Marine dispatched to the moon Pan...   \n",
        "19    8.7    697,161  Luke Skywalker joins forces with a Jedi Knight...   \n",
        "20    8.5    684,321  With the help of a German bounty hunter, a fre...   \n",
        "21    2.7      4,548                                                      \n",
        "22    8.6    679,087  Following the Normandy Landings, a group of U....   \n",
        "23    8.5    677,186  An undercover state cop who has infiltrated an...   \n",
        "24    8.9    676,944  In Poland during World War II, Oskar Schindler...   \n",
        "25    8.5    676,206  A man creates a strange system to help him rem...   \n",
        "26    8.6    669,998  A young F.B.I. cadet must confide in an incarc...   \n",
        "27    8.5    665,605  A sexually frustrated suburban father has a mi...   \n",
        "28    8.3    650,691  In Nazi-occupied France during World War II, a...   \n",
        "29    8.5    642,977  Two stage magicians engage in competitive one-...   \n",
        "30    8.1    641,722  Blacksmith Will Turner teams up with eccentric...   \n",
        "31    7.7    628,872  A seventeen-year-old aristocrat, expecting to ...   \n",
        "32    8.8    627,735  After the rebels have been brutally overpowere...   \n",
        "33    8.6    620,549  A former neo-nazi skinhead tries to prevent hi...   \n",
        "34    9.1    615,388  The early life and career of Vito Corleone in ...   \n",
        "35    8.7    587,759  A sole survivor tells of the twisty events lea...   \n",
        "36    8.5    586,342  A cyborg, identical to the one who failed to k...   \n",
        "37    8.4    584,360  When his secret bride is executed for assaulti...   \n",
        "38    8.5    579,187  The lives of guards on Death Row are affected ...   \n",
        "39    8.7    577,668  Henry Hill and his friends work their way up t...   \n",
        "40    8.1    577,390  In 1954, U.S. Marshal Teddy Daniels is investi...   \n",
        "41    8.2    574,012  The Bride wakens from a four-year coma. The ch...   \n",
        "42    8.2    571,962  A boy who communicates with spirits that don't...   \n",
        "43    8.6    565,045  Mathilda, a 12-year-old girl, who is reluctant...   \n",
        "44    7.3    561,737  Katniss Everdeen voluntarily takes her younger...   \n",
        "45    8.7    548,042  Upon admittance to a mental institution, a bra...   \n",
        "46    8.5    546,381  A young man is accidentally sent 30 years into...   \n",
        "47    8.1    545,366  A film that explores the dark and miserable to...   \n",
        "48    8.5    541,970  In the distant future, a small waste collectin...   \n",
        "49    7.9    534,770  After being held captive in an Afghan cave, an...   \n",
        "50    8.0    530,320  A Mumbai teen who grew up in the slums, become...   \n",
        "51    8.4    530,212  When their relationship turns sour, a couple u...   \n",
        "52    8.6    525,728  Archeologist and adventurer Indiana Jones is h...   \n",
        "53    8.0    516,387  An insurance salesman/adjuster discovers his e...   \n",
        "54    8.2    513,269  After his son is captured in the Great Barrier...   \n",
        "55    8.4    512,941  After a simple jewelery heist goes terribly wr...   \n",
        "56    7.8    511,505  King Leonidas and a force of 300 men fight the...   \n",
        "57    8.0    503,034  A reluctant hobbit, Bilbo Baggins, sets out to...   \n",
        "58    8.4    497,887  After rescuing Han Solo from the palace of Jab...   \n",
        "59    8.3    489,253  To avoid being taken away to a nursing home, a...   \n",
        "      ...        ...                                                ...   \n",
        "\n",
        "   certification                                             poster  \\\n",
        "0                 http://ia.media-imdb.com/images/M/MV5BODU4MjU4...   \n",
        "1                 http://ia.media-imdb.com/images/M/MV5BMTMxNTMw...   \n",
        "2                 http://ia.media-imdb.com/images/M/MV5BMjAxMzY3...   \n",
        "3                 http://ia.media-imdb.com/images/M/MV5BOTI5ODc3...   \n",
        "4                                                                     \n",
        "5                 http://ia.media-imdb.com/images/M/MV5BMjE0ODk2...   \n",
        "6                 http://ia.media-imdb.com/images/M/MV5BMjIwNTYz...   \n",
        "7                 http://ia.media-imdb.com/images/M/MV5BNTEyMjAw...   \n",
        "8                 http://ia.media-imdb.com/images/M/MV5BMjE4MjA1...   \n",
        "9                 http://ia.media-imdb.com/images/M/MV5BMTkxNDYx...   \n",
        "10                http://ia.media-imdb.com/images/M/MV5BMTQwMTA5...   \n",
        "11                http://ia.media-imdb.com/images/M/MV5BMjEyMjcy...   \n",
        "12                http://ia.media-imdb.com/images/M/MV5BMTk4ODQz...   \n",
        "13                http://ia.media-imdb.com/images/M/MV5BMTAyNDU0...   \n",
        "14                http://ia.media-imdb.com/images/M/MV5BMTQwNTU3...   \n",
        "15                http://ia.media-imdb.com/images/M/MV5BMTgwMzQz...   \n",
        "16                http://ia.media-imdb.com/images/M/MV5BNTM3OTc0...   \n",
        "17                http://ia.media-imdb.com/images/M/MV5BMTk2NTI1...   \n",
        "18                http://ia.media-imdb.com/images/M/MV5BMTYwOTEw...   \n",
        "19                http://ia.media-imdb.com/images/M/MV5BMTU4NTcz...   \n",
        "20                http://ia.media-imdb.com/images/M/MV5BMjIyNTQ5...   \n",
        "21                                                                    \n",
        "22                http://ia.media-imdb.com/images/M/MV5BNjczODkx...   \n",
        "23                http://ia.media-imdb.com/images/M/MV5BMTI1MTY2...   \n",
        "24                http://ia.media-imdb.com/images/M/MV5BMzMwMTM4...   \n",
        "25                http://ia.media-imdb.com/images/M/MV5BMTc4MjUx...   \n",
        "26                http://ia.media-imdb.com/images/M/MV5BMTQ2Nzkz...   \n",
        "27                http://ia.media-imdb.com/images/M/MV5BMjM4NTI5...   \n",
        "28                http://ia.media-imdb.com/images/M/MV5BMjIzMDI4...   \n",
        "29                http://ia.media-imdb.com/images/M/MV5BMjA4NDI0...   \n",
        "30                http://ia.media-imdb.com/images/M/MV5BMjAyNDM4...   \n",
        "31         PG-13  http://ia.media-imdb.com/images/M/MV5BMjExNzM0...   \n",
        "32                http://ia.media-imdb.com/images/M/MV5BMjE2MzQw...   \n",
        "33                http://ia.media-imdb.com/images/M/MV5BMjMzNDUw...   \n",
        "34                http://ia.media-imdb.com/images/M/MV5BNDc2NTM3...   \n",
        "35                http://ia.media-imdb.com/images/M/MV5BMzI1MjI5...   \n",
        "36                http://ia.media-imdb.com/images/M/MV5BMTg5NzUw...   \n",
        "37                http://ia.media-imdb.com/images/M/MV5BNjA4ODYx...   \n",
        "38                http://ia.media-imdb.com/images/M/MV5BMTUxMzQy...   \n",
        "39                http://ia.media-imdb.com/images/M/MV5BMTY2OTE5...   \n",
        "40                http://ia.media-imdb.com/images/M/MV5BMTMxMTIy...   \n",
        "41                http://ia.media-imdb.com/images/M/MV5BMTU1NDg1...   \n",
        "42                http://ia.media-imdb.com/images/M/MV5BMTc2MTQx...   \n",
        "43                http://ia.media-imdb.com/images/M/MV5BMTgzMzg4...   \n",
        "44                http://ia.media-imdb.com/images/M/MV5BMjA4NDg3...   \n",
        "45                http://ia.media-imdb.com/images/M/MV5BMTk5OTA4...   \n",
        "46                http://ia.media-imdb.com/images/M/MV5BMjA5NTYz...   \n",
        "47                http://ia.media-imdb.com/images/M/MV5BMTI2NjUy...   \n",
        "48                http://ia.media-imdb.com/images/M/MV5BMTczOTA3...   \n",
        "49                http://ia.media-imdb.com/images/M/MV5BMTczNTI2...   \n",
        "50                http://ia.media-imdb.com/images/M/MV5BMTU2NTA5...   \n",
        "51                http://ia.media-imdb.com/images/M/MV5BMTY4Nzcw...   \n",
        "52                http://ia.media-imdb.com/images/M/MV5BMjA0ODEz...   \n",
        "53                http://ia.media-imdb.com/images/M/MV5BMTM4NjY2...   \n",
        "54                http://ia.media-imdb.com/images/M/MV5BMTY1MTg1...   \n",
        "55                http://ia.media-imdb.com/images/M/MV5BMTQxMTAw...   \n",
        "56                http://ia.media-imdb.com/images/M/MV5BMjAzNTkz...   \n",
        "57                http://ia.media-imdb.com/images/M/MV5BMTcwNTE4...   \n",
        "58                http://ia.media-imdb.com/images/M/MV5BMjE5MTM3...   \n",
        "59                http://ia.media-imdb.com/images/M/MV5BMTk3NDE2...   \n",
        "             ...                                                ...   \n",
        "\n",
        "        release_date                                              title  \\\n",
        "0    27 January 1995                         \"The Shawshank Redemption\"   \n",
        "1       18 July 2008                                  \"The Dark Knight\"   \n",
        "2      6 August 2010                                        \"Inception\"   \n",
        "3       7 April 2006                                   \"V for Vendetta\"   \n",
        "4                                                                         \n",
        "5   18 February 1995                                     \"Pulp Fiction\"   \n",
        "6                                                          \"Fight Club\"   \n",
        "7     1 January 2002  \"The Lord of the Rings: The Fellowship of the ...   \n",
        "8   25 December 2003    \"The Lord of the Rings: The Return of the King\"   \n",
        "9        21 May 1999                                       \"The Matrix\"   \n",
        "10   7 December 1994                                     \"Forrest Gump\"   \n",
        "11       7 July 1972                                    \"The Godfather\"   \n",
        "12                                              \"The Dark Knight Rises\"   \n",
        "13  27 December 2002            \"The Lord of the Rings: The Two Towers\"   \n",
        "14  15 December 1995                                            \"Se7en\"   \n",
        "15       19 May 2000                                        \"Gladiator\"   \n",
        "16      17 June 2005                                                      \n",
        "17     27 April 2012                                     \"The Avengers\"   \n",
        "18  18 December 2009                                                      \n",
        "19  18 November 1977                                        \"Star Wars\"   \n",
        "20                                                   \"Django Unchained\"   \n",
        "21                                                                        \n",
        "22      24 July 1998                              \"Saving Private Ryan\"   \n",
        "23  10 November 2006                                     \"The Departed\"   \n",
        "24  31 December 1993                                 \"Schindler's List\"   \n",
        "25    31 August 2001                                          \"Memento\"   \n",
        "26       17 May 1991                         \"The Silence of the Lambs\"   \n",
        "27                                                    \"American Beauty\"   \n",
        "28    9 October 2009                             \"Inglourious Basterds\"   \n",
        "29   2 November 2006                                     \"The Prestige\"   \n",
        "30    29 August 2003  \"Pirates of the Caribbean: The Curse of the Bl...   \n",
        "31   16 January 1998                                                      \n",
        "32      21 July 1980   \"Star Wars: Episode V - The Empire Strikes Back\"   \n",
        "33     16 April 1999                               \"American History X\"   \n",
        "34  14 February 1975                           \"The Godfather: Part II\"   \n",
        "35     19 April 1996                               \"The Usual Suspects\"   \n",
        "36    30 August 1991                       \"Terminator 2: Judgment Day\"   \n",
        "37      14 July 1995                                       \"Braveheart\"   \n",
        "38     10 March 2000                                   \"The Green Mile\"   \n",
        "39  21 December 1990                                       \"Goodfellas\"   \n",
        "40     12 March 2010                                   \"Shutter Island\"   \n",
        "41     23 April 2004                                \"Kill Bill: Vol. 1\"   \n",
        "42   22 October 1999                                  \"The Sixth Sense\"   \n",
        "43  17 February 1995                                             \"L\u00e9on\"   \n",
        "44     23 March 2012                                 \"The Hunger Games\"   \n",
        "45                                    \"One Flew Over the Cuckoo's Nest\"   \n",
        "46  25 December 1985                               \"Back to the Future\"   \n",
        "47      29 July 2005                                         \"Sin City\"   \n",
        "48      27 June 2008                                                      \n",
        "49     30 April 2008                                         \"Iron Man\"   \n",
        "50      6 March 2009                              \"Slumdog Millionaire\"   \n",
        "51      23 July 2004            \"Eternal Sunshine of the Spotless Mind\"   \n",
        "52  25 December 1981                          \"Raiders of the Lost Ark\"   \n",
        "53                                                    \"The Truman Show\"   \n",
        "54       4 July 2003                                     \"Finding Nemo\"   \n",
        "55       4 June 1993                                   \"Reservoir Dogs\"   \n",
        "56     30 March 2007                                                      \n",
        "57  14 December 2012                \"The Hobbit: An Unexpected Journey\"   \n",
        "58    6 October 1983       \"Star Wars: Episode VI - Return of the Jedi\"   \n",
        "59  4 September 2009                                               \"Up\"   \n",
        "                 ...                                                ...   \n",
        "\n",
        "   contentRating     metascore  \\\n",
        "0             16            80   \n",
        "1             12            82   \n",
        "2             14            74   \n",
        "3             16            62   \n",
        "4              |  write review   \n",
        "5             18            94   \n",
        "6             18            66   \n",
        "7             12            92   \n",
        "8             12            94   \n",
        "9             12            73   \n",
        "10            14            82   \n",
        "11            14           100   \n",
        "12            12            78   \n",
        "13            12            88   \n",
        "14            14            65   \n",
        "15            14            64   \n",
        "16            10            70   \n",
        "17            12            69   \n",
        "18            12            83   \n",
        "19         Livre            91   \n",
        "20            16            81   \n",
        "21             |                 \n",
        "22            14            90   \n",
        "23            18            86   \n",
        "24            14            93   \n",
        "25            16            80   \n",
        "26            14            84   \n",
        "27            18            86   \n",
        "28            18            69   \n",
        "29            14            66   \n",
        "30            14            63   \n",
        "31                          74   \n",
        "32         Livre            78   \n",
        "33            14            62   \n",
        "34            14            80   \n",
        "35            14            77   \n",
        "36            12            68   \n",
        "37            16            68   \n",
        "38            14            61   \n",
        "39            14            89   \n",
        "40            16            63   \n",
        "41            18            69   \n",
        "42            12            64   \n",
        "43            14            64   \n",
        "44            14            67   \n",
        "45            14            79   \n",
        "46         Livre            86   \n",
        "47            16            74   \n",
        "48         Livre            94   \n",
        "49            12            79   \n",
        "50            16            86   \n",
        "51            14            89   \n",
        "52         Livre            90   \n",
        "53            12            90   \n",
        "54         Livre            90   \n",
        "55            18            78   \n",
        "56            18            51   \n",
        "57            12            58   \n",
        "58         Livre            52   \n",
        "59         Livre            88   \n",
        "             ...           ...   \n",
        "\n",
        "                                          pt_title              director  \\\n",
        "0                            Um Sonho de Liberdade        Frank Darabont   \n",
        "1                  Batman - O Cavaleiro das Trevas     Christopher Nolan   \n",
        "2                                         A Origem     Christopher Nolan   \n",
        "3                                    V de Vingan\u00e7a        James McTeigue   \n",
        "4                                  Kapicilar krali            Zeki \u00d6kten   \n",
        "5                 Pulp Fiction: Tempo de Viol\u00eancia     Quentin Tarantino   \n",
        "6                                    Clube da Luta         David Fincher   \n",
        "7          O Senhor dos An\u00e9is: A Sociedade do Anel         Peter Jackson   \n",
        "8             O Senhor dos An\u00e9is: O Retorno do Rei         Peter Jackson   \n",
        "9                                           Matrix        Andy Wachowski   \n",
        "10           Forrest Gump, o Contador de Hist\u00f3rias       Robert Zemeckis   \n",
        "11                               O Poderoso Chef\u00e3o  Francis Ford Coppola   \n",
        "12         Batman: O Cavaleiro das Trevas Ressurge     Christopher Nolan   \n",
        "13              O Senhor dos An\u00e9is: As Duas Torres         Peter Jackson   \n",
        "14                  Seven: Os Sete Crimes Capitais         David Fincher   \n",
        "15                                       Gladiador          Ridley Scott   \n",
        "16                                   Batman Begins     Christopher Nolan   \n",
        "17                     The Avengers: Os Vingadores           Joss Whedon   \n",
        "18                                          Avatar         James Cameron   \n",
        "19                             Guerra nas Estrelas          George Lucas   \n",
        "20                                    Django Livre     Quentin Tarantino   \n",
        "21                              Hababam sinifi 3,5         Ferdi Egilmez   \n",
        "22                       O Resgate do Soldado Ryan      Steven Spielberg   \n",
        "23                                  Os Infiltrados       Martin Scorsese   \n",
        "24                            A Lista de Schindler      Steven Spielberg   \n",
        "25                                         Amn\u00e9sia     Christopher Nolan   \n",
        "26                        O Sil\u00eancio dos Inocentes        Jonathan Demme   \n",
        "27                                Beleza Americana            Sam Mendes   \n",
        "28                             Bastardos Ingl\u00f3rios     Quentin Tarantino   \n",
        "29                                 O Grande Truque     Christopher Nolan   \n",
        "30   Piratas do Caribe: A Maldi\u00e7\u00e3o do P\u00e9rola Negra        Gore Verbinski   \n",
        "31                                         Titanic         James Cameron   \n",
        "32  Star Wars: Epis\u00f3dio V - O Imp\u00e9rio Contra-Ataca        Irvin Kershner   \n",
        "33                      A Outra Hist\u00f3ria Americana             Tony Kaye   \n",
        "34                            O Poderoso Chef\u00e3o II  Francis Ford Coppola   \n",
        "35                                    Os Suspeitos          Bryan Singer   \n",
        "36  O Exterminador do Futuro 2: O Julgamento Final         James Cameron   \n",
        "37                                 Cora\u00e7\u00e3o Valente            Mel Gibson   \n",
        "38                          \u00c0 Espera de Um Milagre        Frank Darabont   \n",
        "39                            Os Bons Companheiros       Martin Scorsese   \n",
        "40                                    Ilha do Medo       Martin Scorsese   \n",
        "41                             Kill Bill: Volume 1     Quentin Tarantino   \n",
        "42                                 O Sexto Sentido    M. Night Shyamalan   \n",
        "43                                  O Profissional            Luc Besson   \n",
        "44                                   Jogos Vorazes             Gary Ross   \n",
        "45                            Um Estranho no Ninho          Milos Forman   \n",
        "46                          De Volta para o Futuro       Robert Zemeckis   \n",
        "47                    Sin City: A Cidade do Pecado          Frank Miller   \n",
        "48                                          WALL\u00b7E        Andrew Stanton   \n",
        "49                                  Homem de Ferro           Jon Favreau   \n",
        "50                    Quem Quer Ser um Milion\u00e1rio?           Danny Boyle   \n",
        "51       Brilho Eterno De Uma Mente Sem Lembran\u00e7as         Michel Gondry   \n",
        "52                    Os Ca\u00e7adores da Arca Perdida      Steven Spielberg   \n",
        "53                                O Show de Truman            Peter Weir   \n",
        "54                                 Procurando Nemo        Andrew Stanton   \n",
        "55                                 C\u00e3es de Aluguel     Quentin Tarantino   \n",
        "56                                             300           Zack Snyder   \n",
        "57                O Hobbit: Uma Jornada Inesperada         Peter Jackson   \n",
        "58      Star Wars, Epis\u00f3dio VI - O Retorno do Jedi      Richard Marquand   \n",
        "59                             Up: Altas Aventuras           Pete Docter   \n",
        "                                               ...                   ...   \n",
        "\n",
        "                                   writers  \\\n",
        "0           [Stephen King, Frank Darabont]   \n",
        "1      [Jonathan Nolan, Christopher Nolan]   \n",
        "2                      [Christopher Nolan]   \n",
        "3         [Andy Wachowski, Lana Wachowski]   \n",
        "4                             [Umur Bugay]   \n",
        "5         [Quentin Tarantino, Roger Avary]   \n",
        "6              [Chuck Palahniuk, Jim Uhls]   \n",
        "7             [J.R.R. Tolkien, Fran Walsh]   \n",
        "8             [J.R.R. Tolkien, Fran Walsh]   \n",
        "9         [Andy Wachowski, Lana Wachowski]   \n",
        "10              [Winston Groom, Eric Roth]   \n",
        "11      [Mario Puzo, Francis Ford Coppola]   \n",
        "12     [Jonathan Nolan, Christopher Nolan]   \n",
        "13            [J.R.R. Tolkien, Fran Walsh]   \n",
        "14                   [Andrew Kevin Walker]   \n",
        "15        [David Franzoni, David Franzoni]   \n",
        "16              [Bob Kane, David S. Goyer]   \n",
        "17                 [Joss Whedon, Zak Penn]   \n",
        "18                         [James Cameron]   \n",
        "19                          [George Lucas]   \n",
        "20                     [Quentin Tarantino]   \n",
        "21                     [Kemal Kenan Ergen]   \n",
        "22                          [Robert Rodat]   \n",
        "23             [William Monahan, Alan Mak]   \n",
        "24      [Thomas Keneally, Steven Zaillian]   \n",
        "25     [Christopher Nolan, Jonathan Nolan]   \n",
        "26              [Thomas Harris, Ted Tally]   \n",
        "27                             [Alan Ball]   \n",
        "28                     [Quentin Tarantino]   \n",
        "29     [Jonathan Nolan, Christopher Nolan]   \n",
        "30             [Ted Elliott, Terry Rossio]   \n",
        "31                         [James Cameron]   \n",
        "32       [Leigh Brackett, Lawrence Kasdan]   \n",
        "33                         [David McKenna]   \n",
        "34      [Francis Ford Coppola, Mario Puzo]   \n",
        "35                 [Christopher McQuarrie]   \n",
        "36     [James Cameron, William Wisher Jr.]   \n",
        "37                       [Randall Wallace]   \n",
        "38          [Stephen King, Frank Darabont]   \n",
        "39    [Nicholas Pileggi, Nicholas Pileggi]   \n",
        "40       [Laeta Kalogridis, Dennis Lehane]   \n",
        "41  [Quentin Tarantino, Quentin Tarantino]   \n",
        "42                    [M. Night Shyamalan]   \n",
        "43                            [Luc Besson]   \n",
        "44            [Gary Ross, Suzanne Collins]   \n",
        "45           [Lawrence Hauben, Bo Goldman]   \n",
        "46             [Robert Zemeckis, Bob Gale]   \n",
        "47                          [Frank Miller]   \n",
        "48           [Andrew Stanton, Pete Docter]   \n",
        "49               [Mark Fergus, Hawk Ostby]   \n",
        "50           [Simon Beaufoy, Vikas Swarup]   \n",
        "51        [Charlie Kaufman, Michel Gondry]   \n",
        "52         [Lawrence Kasdan, George Lucas]   \n",
        "53                         [Andrew Niccol]   \n",
        "54        [Andrew Stanton, Andrew Stanton]   \n",
        "55        [Quentin Tarantino, Roger Avary]   \n",
        "56            [Zack Snyder, Kurt Johnstad]   \n",
        "57           [Fran Walsh, Philippa Boyens]   \n",
        "58         [Lawrence Kasdan, George Lucas]   \n",
        "59             [Pete Docter, Bob Peterson]   \n",
        "                                       ...   \n",
        "\n",
        "                                            storyline  \\\n",
        "0   Andy Dufresne is a young and successful banker...   \n",
        "1   Batman raises the stakes in his war on crime. ...   \n",
        "2   Dom Cobb is a skilled thief, the absolute best...   \n",
        "3   The futuristic tale unfolds in a Great Britain...   \n",
        "4                                                       \n",
        "5   Jules Winnfield and Vincent Vega are two hitme...   \n",
        "6   A ticking-time-bomb insomniac and a slippery s...   \n",
        "7   An ancient Ring thought lost for centuries has...   \n",
        "8   While Frodo & Sam continue to approach Mount D...   \n",
        "9   Thomas A. Anderson is a man living two lives. ...   \n",
        "10  Forrest Gump is a simple man with a low I.Q. b...   \n",
        "11  When the aging head of a famous crime family d...   \n",
        "12  Despite his tarnished reputation after the eve...   \n",
        "13  Sauron's forces increase. His allies grow. The...   \n",
        "14  A film about two homicide detectives' desperat...   \n",
        "15  Maximus is a powerful Roman general, loved by ...   \n",
        "16  When his parents were killed, millionaire play...   \n",
        "17  Nick Fury is director of S.H.I.E.L.D, an inter...   \n",
        "18  When his brother is killed in a robbery, parap...   \n",
        "19  A young boy from Tatooine sets out on an adven...   \n",
        "20  Former dentist, Dr. King Schultz, buys the fre...   \n",
        "21                                                      \n",
        "22  Opening with the Allied invasion of Normandy o...   \n",
        "23  In South Boston, the state police force is wag...   \n",
        "24  Oskar Schindler is a vainglorious and greedy G...   \n",
        "25  Memento chronicles two separate stories of Leo...   \n",
        "26  Young FBI agent Clarice Starling is assigned t...   \n",
        "27  Lester and Carolyn Burnham are on the outside,...   \n",
        "28  In Nazi-occupied France, young Jewish refugee ...   \n",
        "29  In the end of the Nineteenth Century, in Londo...   \n",
        "30  This swash-buckling tale follows the quest of ...   \n",
        "31  84 years later, a 101-year-old woman named Ros...   \n",
        "32  Fleeing the evil Galactic Empire, the Rebels a...   \n",
        "33  Derek Vineyard is paroled after serving 3 year...   \n",
        "34  The continuing saga of the Corleone crime fami...   \n",
        "35  Following a truck hijack in New York, five con...   \n",
        "36  Almost 10 years have passed since the first cy...   \n",
        "37  William Wallace is a Scottish rebel who leads ...   \n",
        "38  Death Row guards at a penitentiary, in the 193...   \n",
        "39  Henry Hill is a small time gangster, who takes...   \n",
        "40  It's 1954, and up-and-coming U.S. marshal Tedd...   \n",
        "41  The lead character, called 'The Bride,' was a ...   \n",
        "42  Malcom Crowe is a child psychologist who recei...   \n",
        "43  After her father and little brother are killed...   \n",
        "44  In a dystopian future, the totalitarian nation...   \n",
        "45  McMurphy has a criminal past and has once agai...   \n",
        "46  Marty McFly, a typical American teenager of th...   \n",
        "47  Four tales of crime adapted from Frank Miller'...   \n",
        "48  In a distant, but not so unrealistic, future w...   \n",
        "49  Tony Stark is the complete playboy who also ha...   \n",
        "50  The story of Jamal Malik, an 18 year-old orpha...   \n",
        "51  A man, Joel Barish, heartbroken that his girlf...   \n",
        "52  The year is 1936. A professor who studies arch...   \n",
        "53  In this movie, Truman is a man whose life is a...   \n",
        "54  A clown fish named Marlin lives in the Great B...   \n",
        "55  Six criminals, who are strangers to each other...   \n",
        "56  In the Battle of Thermopylae of 480 BC an alli...   \n",
        "57  Bilbo Baggins is swept into a quest to reclaim...   \n",
        "58  Darth Vader and the Empire are building a new,...   \n",
        "59  A young Carl Fredrickson meets a young adventu...   \n",
        "                                                  ...   \n",
        "\n",
        "                                                stars  year  \\\n",
        "0           [Tim Robbins, Morgan Freeman, Bob Gunton]  1995   \n",
        "1       [Christian Bale, Heath Ledger, Aaron Eckhart]  2008   \n",
        "2   [Leonardo DiCaprio, Joseph Gordon-Levitt, Elle...  2010   \n",
        "3      [Hugo Weaving, Natalie Portman, Rupert Graves]  2006   \n",
        "4          [Kemal Sunal, Sevda Ferdag, Sevil Ustekin]    -1   \n",
        "5     [John Travolta, Uma Thurman, Samuel L. Jackson]  1995   \n",
        "6    [Brad Pitt, Edward Norton, Helena Bonham Carter]    -1   \n",
        "7          [Elijah Wood, Ian McKellen, Orlando Bloom]  2002   \n",
        "8        [Elijah Wood, Viggo Mortensen, Ian McKellen]  2003   \n",
        "9   [Keanu Reeves, Laurence Fishburne, Carrie-Anne...  1999   \n",
        "10             [Tom Hanks, Robin Wright, Gary Sinise]  1994   \n",
        "11             [Marlon Brando, Al Pacino, James Caan]  1972   \n",
        "12         [Christian Bale, Tom Hardy, Anne Hathaway]    -1   \n",
        "13       [Elijah Wood, Ian McKellen, Viggo Mortensen]  2002   \n",
        "14          [Morgan Freeman, Brad Pitt, Kevin Spacey]  1995   \n",
        "15   [Russell Crowe, Joaquin Phoenix, Connie Nielsen]  2000   \n",
        "16      [Christian Bale, Michael Caine, Ken Watanabe]  2005   \n",
        "17  [Robert Downey Jr., Chris Evans, Scarlett Joha...  2012   \n",
        "18   [Sam Worthington, Zoe Saldana, Sigourney Weaver]  2009   \n",
        "19        [Mark Hamill, Harrison Ford, Carrie Fisher]  1977   \n",
        "20   [Jamie Foxx, Christoph Waltz, Leonardo DiCaprio]    -1   \n",
        "21   [Tuncay Ak\u00e7a, Halit Ak\u00e7atepe, Memet Ali Alabora]    -1   \n",
        "22              [Tom Hanks, Matt Damon, Tom Sizemore]  1998   \n",
        "23    [Leonardo DiCaprio, Matt Damon, Jack Nicholson]  2006   \n",
        "24         [Liam Neeson, Ralph Fiennes, Ben Kingsley]  1993   \n",
        "25     [Guy Pearce, Carrie-Anne Moss, Joe Pantoliano]  2001   \n",
        "26  [Jodie Foster, Anthony Hopkins, Lawrence A. Bo...  1991   \n",
        "27        [Kevin Spacey, Annette Bening, Thora Birch]    -1   \n",
        "28                [Brad Pitt, Diane Kruger, Eli Roth]  2009   \n",
        "29  [Christian Bale, Hugh Jackman, Scarlett Johans...  2006   \n",
        "30        [Johnny Depp, Geoffrey Rush, Orlando Bloom]  2003   \n",
        "31      [Leonardo DiCaprio, Kate Winslet, Billy Zane]  1998   \n",
        "32        [Mark Hamill, Harrison Ford, Carrie Fisher]  1980   \n",
        "33  [Edward Norton, Edward Furlong, Beverly D'Angelo]  1999   \n",
        "34         [Al Pacino, Robert De Niro, Robert Duvall]  1975   \n",
        "35    [Kevin Spacey, Gabriel Byrne, Chazz Palminteri]  1996   \n",
        "36  [Arnold Schwarzenegger, Linda Hamilton, Edward...  1991   \n",
        "37     [Mel Gibson, Sophie Marceau, Patrick McGoohan]  1995   \n",
        "38    [Tom Hanks, Michael Clarke Duncan, David Morse]  2000   \n",
        "39            [Robert De Niro, Ray Liotta, Joe Pesci]  1990   \n",
        "40  [Leonardo DiCaprio, Emily Mortimer, Mark Ruffalo]  2010   \n",
        "41       [Uma Thurman, David Carradine, Daryl Hannah]  2004   \n",
        "42   [Bruce Willis, Haley Joel Osment, Toni Collette]  1999   \n",
        "43          [Jean Reno, Gary Oldman, Natalie Portman]  1995   \n",
        "44  [Jennifer Lawrence, Josh Hutcherson, Liam Hems...  2012   \n",
        "45  [Jack Nicholson, Louise Fletcher, Michael Berr...    -1   \n",
        "46  [Michael J. Fox, Christopher Lloyd, Lea Thompson]  1985   \n",
        "47          [Mickey Rourke, Clive Owen, Bruce Willis]  2005   \n",
        "48            [Ben Burtt, Elissa Knight, Jeff Garlin]  2008   \n",
        "49  [Robert Downey Jr., Gwyneth Paltrow, Terrence ...  2008   \n",
        "50          [Dev Patel, Freida Pinto, Saurabh Shukla]  2009   \n",
        "51          [Jim Carrey, Kate Winslet, Tom Wilkinson]  2004   \n",
        "52         [Harrison Ford, Karen Allen, Paul Freeman]  1981   \n",
        "53              [Jim Carrey, Ed Harris, Laura Linney]    -1   \n",
        "54  [Albert Brooks, Ellen DeGeneres, Alexander Gould]  2003   \n",
        "55          [Harvey Keitel, Tim Roth, Michael Madsen]  1993   \n",
        "56         [Gerard Butler, Lena Headey, David Wenham]  2007   \n",
        "57   [Martin Freeman, Ian McKellen, Richard Armitage]  2012   \n",
        "58        [Mark Hamill, Harrison Ford, Carrie Fisher]  1983   \n",
        "59    [Edward Asner, Jordan Nagai, John Ratzenberger]  2009   \n",
        "                                                  ...   ...   \n",
        "\n",
        "                              genre                       _id  \\\n",
        "0                    [Crime, Drama]  5491d043dc53fc1c0db3ac76   \n",
        "1            [Action, Crime, Drama]  5491d044dc53fc1c0db3ac77   \n",
        "2         [Action, Mystery, Sci-Fi]  5491d044dc53fc1c0db3ac78   \n",
        "3         [Action, Drama, Thriller]  5491d044dc53fc1c0db3ac93   \n",
        "4                   [Comedy, Drama]  54927fd0dc53fc1c0db3cc37   \n",
        "5          [Crime, Drama, Thriller]  5491d044dc53fc1c0db3ac79   \n",
        "6                           [Drama]  5491d044dc53fc1c0db3ac7a   \n",
        "7              [Adventure, Fantasy]  5491d044dc53fc1c0db3ac7b   \n",
        "8              [Adventure, Fantasy]  5491d044dc53fc1c0db3ac7c   \n",
        "9                  [Action, Sci-Fi]  5491d044dc53fc1c0db3ac7d   \n",
        "10                 [Drama, Romance]  5491d044dc53fc1c0db3ac7e   \n",
        "11                   [Crime, Drama]  5491d044dc53fc1c0db3ac7f   \n",
        "12                         [Action]  5491d044dc53fc1c0db3ac80   \n",
        "13             [Adventure, Fantasy]  5491d044dc53fc1c0db3ac81   \n",
        "14       [Drama, Mystery, Thriller]  5491d044dc53fc1c0db3ac82   \n",
        "15                  [Action, Drama]  5491d044dc53fc1c0db3ac83   \n",
        "16              [Action, Adventure]  5491d044dc53fc1c0db3ac84   \n",
        "17      [Action, Adventure, Sci-Fi]  5491d044dc53fc1c0db3ac85   \n",
        "18     [Action, Adventure, Fantasy]  5491d044dc53fc1c0db3ac86   \n",
        "19     [Action, Adventure, Fantasy]  5491d044dc53fc1c0db3ac87   \n",
        "20                        [Western]  5491d044dc53fc1c0db3ac88   \n",
        "21               [Comedy, Thriller]  5492e56fdc53fc1c0db3cd6b   \n",
        "22             [Action, Drama, War]  5491d044dc53fc1c0db3ac89   \n",
        "23         [Crime, Drama, Thriller]  5491d044dc53fc1c0db3ac8a   \n",
        "24      [Biography, Drama, History]  5491d044dc53fc1c0db3ac8b   \n",
        "25              [Mystery, Thriller]  5491d044dc53fc1c0db3ac8c   \n",
        "26         [Crime, Drama, Thriller]  5491d044dc53fc1c0db3ac8d   \n",
        "27                          [Drama]  5491d044dc53fc1c0db3ac8e   \n",
        "28          [Adventure, Drama, War]  5491d044dc53fc1c0db3ac8f   \n",
        "29       [Drama, Mystery, Thriller]  5491d044dc53fc1c0db3ac90   \n",
        "30     [Action, Adventure, Fantasy]  5491d044dc53fc1c0db3ac91   \n",
        "31                 [Drama, Romance]  5491d044dc53fc1c0db3ac92   \n",
        "32     [Action, Adventure, Fantasy]  5491d044dc53fc1c0db3ac94   \n",
        "33                   [Crime, Drama]  5491d044dc53fc1c0db3ac95   \n",
        "34                   [Crime, Drama]  5491d044dc53fc1c0db3ac96   \n",
        "35         [Crime, Drama, Thriller]  5491d044dc53fc1c0db3ac97   \n",
        "36                 [Action, Sci-Fi]  5491d044dc53fc1c0db3ac98   \n",
        "37       [Action, Biography, Drama]  5491d044dc53fc1c0db3ac99   \n",
        "38          [Crime, Drama, Fantasy]  5491d044dc53fc1c0db3ac9a   \n",
        "39        [Biography, Crime, Drama]  5491d044dc53fc1c0db3ac9b   \n",
        "40              [Mystery, Thriller]  5491d044dc53fc1c0db3ac9c   \n",
        "41                  [Action, Crime]  5491d044dc53fc1c0db3ac9d   \n",
        "42       [Drama, Mystery, Thriller]  5491d044dc53fc1c0db3ac9e   \n",
        "43         [Crime, Drama, Thriller]  5491d044dc53fc1c0db3ac9f   \n",
        "44              [Adventure, Sci-Fi]  5491d044dc53fc1c0db3aca0   \n",
        "45                          [Drama]  5491d044dc53fc1c0db3aca1   \n",
        "46      [Adventure, Comedy, Sci-Fi]  5491d044dc53fc1c0db3aca2   \n",
        "47                [Crime, Thriller]  5491d044dc53fc1c0db3aca3   \n",
        "48  [Animation, Adventure, Romance]  5491d044dc53fc1c0db3aca4   \n",
        "49      [Action, Adventure, Sci-Fi]  5491d044dc53fc1c0db3aca5   \n",
        "50                 [Drama, Romance]  5491d044dc53fc1c0db3aca6   \n",
        "51         [Drama, Romance, Sci-Fi]  5491d044dc53fc1c0db3aca7   \n",
        "52              [Action, Adventure]  5491d044dc53fc1c0db3aca8   \n",
        "53                          [Drama]  5491d044dc53fc1c0db3aca9   \n",
        "54   [Animation, Adventure, Comedy]  5491d044dc53fc1c0db3acaa   \n",
        "55                   [Crime, Drama]  5491d044dc53fc1c0db3acab   \n",
        "56           [Action, Fantasy, War]  5491d044dc53fc1c0db3acac   \n",
        "57             [Adventure, Fantasy]  5491d044dc53fc1c0db3acad   \n",
        "58     [Action, Adventure, Fantasy]  5491d044dc53fc1c0db3acae   \n",
        "59    [Animation, Adventure, Drama]  5491d044dc53fc1c0db3acaf   \n",
        "                                ...                       ...   \n",
        "\n",
        "                    Oscar Indications running_time   datetime      \n",
        "0             Nominated for 7 Oscars.      142 min 1995-01-27 ...  \n",
        "1                       Won 2 Oscars.      152 min 2008-07-18 ...  \n",
        "2                       Won 4 Oscars.      148 min 2010-08-06 ...  \n",
        "3                                          132 min 2006-04-07 ...  \n",
        "4                                           84 min        NaT ...  \n",
        "5                        Won 1 Oscar.      154 min 1995-02-18 ...  \n",
        "6              Nominated for 1 Oscar.      139 min        NaT ...  \n",
        "7                       Won 4 Oscars.      178 min 2002-01-01 ...  \n",
        "8                      Won 11 Oscars.      201 min 2003-12-25 ...  \n",
        "9                       Won 4 Oscars.      136 min 1999-05-21 ...  \n",
        "10                      Won 6 Oscars.      142 min 1994-12-07 ...  \n",
        "11                      Won 3 Oscars.      175 min 1972-07-07 ...  \n",
        "12  Nominated for 1 BAFTA Film Award.      165 min        NaT ...  \n",
        "13                      Won 2 Oscars.      179 min 2002-12-27 ...  \n",
        "14             Nominated for 1 Oscar.      127 min 1995-12-15 ...  \n",
        "15                      Won 5 Oscars.      155 min 2000-05-19 ...  \n",
        "16             Nominated for 1 Oscar.      140 min 2005-06-17 ...  \n",
        "17             Nominated for 1 Oscar.      143 min 2012-04-27 ...  \n",
        "18                      Won 3 Oscars.      162 min 2009-12-18 ...  \n",
        "19                      Won 6 Oscars.      121 min 1977-11-18 ...  \n",
        "20                      Won 2 Oscars.      165 min        NaT ...  \n",
        "21                                          98 min        NaT ...  \n",
        "22                      Won 5 Oscars.      169 min 1998-07-24 ...  \n",
        "23                      Won 4 Oscars.      151 min 2006-11-10 ...  \n",
        "24                      Won 7 Oscars.      195 min 1993-12-31 ...  \n",
        "25            Nominated for 2 Oscars.      113 min 2001-08-31 ...  \n",
        "26                      Won 5 Oscars.      118 min 1991-05-17 ...  \n",
        "27                      Won 5 Oscars.      122 min        NaT ...  \n",
        "28                       Won 1 Oscar.      153 min 2009-10-09 ...  \n",
        "29            Nominated for 2 Oscars.      130 min 2006-11-02 ...  \n",
        "30            Nominated for 5 Oscars.      143 min 2003-08-29 ...  \n",
        "31                     Won 11 Oscars.      194 min 1998-01-16 ...  \n",
        "32                       Won 1 Oscar.      124 min 1980-07-21 ...  \n",
        "33             Nominated for 1 Oscar.      119 min 1999-04-16 ...  \n",
        "34                      Won 6 Oscars.      200 min 1975-02-14 ...  \n",
        "35                      Won 2 Oscars.      106 min 1996-04-19 ...  \n",
        "36                      Won 4 Oscars.      137 min 1991-08-30 ...  \n",
        "37                      Won 5 Oscars.      177 min 1995-07-14 ...  \n",
        "38            Nominated for 4 Oscars.      189 min 2000-03-10 ...  \n",
        "39                       Won 1 Oscar.      146 min 1990-12-21 ...  \n",
        "40                                         138 min 2010-03-12 ...  \n",
        "41      Nominated for 1 Golden Globe.      111 min 2004-04-23 ...  \n",
        "42            Nominated for 6 Oscars.      107 min 1999-10-22 ...  \n",
        "43                                         110 min 1995-02-17 ...  \n",
        "44      Nominated for 1 Golden Globe.      142 min 2012-03-23 ...  \n",
        "45                      Won 5 Oscars.      133 min        NaT ...  \n",
        "46                       Won 1 Oscar.      116 min 1985-12-25 ...  \n",
        "47                                         124 min 2005-07-29 ...  \n",
        "48                       Won 1 Oscar.       98 min 2008-06-27 ...  \n",
        "49            Nominated for 2 Oscars.      126 min 2008-04-30 ...  \n",
        "50                      Won 8 Oscars.      120 min 2009-03-06 ...  \n",
        "51                       Won 1 Oscar.      108 min 2004-07-23 ...  \n",
        "52                      Won 4 Oscars.      115 min 1981-12-25 ...  \n",
        "53            Nominated for 3 Oscars.      103 min        NaT ...  \n",
        "54                       Won 1 Oscar.      100 min 2003-07-04 ...  \n",
        "55                                          99 min 1993-06-04 ...  \n",
        "56                                         117 min 2007-03-30 ...  \n",
        "57            Nominated for 3 Oscars.      169 min 2012-12-14 ...  \n",
        "58            Nominated for 4 Oscars.      134 min 1983-10-06 ...  \n",
        "59                      Won 2 Oscars.       96 min 2009-09-04 ...  \n",
        "                                  ...          ...        ...      \n",
        "\n",
        "[10355 rows x 22 columns]"
       ]
      }
     ],
     "prompt_number": 417
    },
    {
     "cell_type": "code",
     "collapsed": false,
     "input": [
      "pd_filmes = pd_filmes.drop('datetime',1)\n",
      "pd_filmes = pd_filmes.drop('_id', 1)\n",
      "pd_filmes = pd_filmes.drop('month', 1)\n",
      "pd_filmes = pd_filmes.drop('day', 1)\n"
     ],
     "language": "python",
     "metadata": {},
     "outputs": [],
     "prompt_number": 418
    },
    {
     "cell_type": "code",
     "collapsed": false,
     "input": [
      "pd_filmes.info()"
     ],
     "language": "python",
     "metadata": {},
     "outputs": [
      {
       "output_type": "stream",
       "stream": "stdout",
       "text": [
        "<class 'pandas.core.frame.DataFrame'>\n",
        "Int64Index: 10673 entries, 0 to 10672\n",
        "Data columns (total 18 columns):\n",
        "rating               10673 non-null object\n",
        "votes                10673 non-null object\n",
        "description          10673 non-null object\n",
        "certification        10673 non-null object\n",
        "poster               10673 non-null object\n",
        "release_date         10673 non-null object\n",
        "title                10673 non-null object\n",
        "contentRating        10673 non-null object\n",
        "metascore            10673 non-null object\n",
        "pt_title             10673 non-null object\n",
        "director             10673 non-null object\n",
        "writers              10673 non-null object\n",
        "storyline            10673 non-null object\n",
        "stars                10673 non-null object\n",
        "year                 10673 non-null int64\n",
        "genre                10673 non-null object\n",
        "Oscar Indications    10673 non-null object\n",
        "running_time         10673 non-null object\n",
        "dtypes: int64(1), object(17)"
       ]
      }
     ],
     "prompt_number": 419
    },
    {
     "cell_type": "heading",
     "level": 6,
     "metadata": {},
     "source": [
      "Percentual de linhas sem informa\u00e7\u00f5es para cada coluna"
     ]
    },
    {
     "cell_type": "code",
     "collapsed": false,
     "input": [
      "columns = pd_filmes.columns.tolist()\n",
      "perc_columns = []\n",
      "for item in columns:\n",
      "    perc_column = {}\n",
      "    perc_column['column'] = item\n",
      "    try:\n",
      "        perc_column['perc'] = (pd_filmes[pd_filmes[item] == ''].count()/pd_filmes.count())[item]\n",
      "    except:\n",
      "        try:\n",
      "            perc_column['perc'] = (pd_filmes[pd_filmes[item] == -1].count()/pd_filmes.count())[item]\n",
      "        except:\n",
      "            pass\n",
      "    perc_columns.append(perc_column)\n",
      "\n",
      "perc_columns"
     ],
     "language": "python",
     "metadata": {},
     "outputs": [
      {
       "metadata": {},
       "output_type": "pyout",
       "prompt_number": 420,
       "text": [
        "[{'column': 'rating', 'perc': 0.0},\n",
        " {'column': 'votes', 'perc': 0.0},\n",
        " {'column': 'description', 'perc': 0.0030919141759580249},\n",
        " {'column': 'certification', 'perc': 0.64368031481307975},\n",
        " {'column': 'poster', 'perc': 0.019113651269558701},\n",
        " {'column': 'release_date', 'perc': 0.26281270495643211},\n",
        " {'column': 'title', 'perc': 0.23020706455542023},\n",
        " {'column': 'contentRating', 'perc': 0.4205940222992598},\n",
        " {'column': 'metascore', 'perc': 0.49639276679471561},\n",
        " {'column': 'pt_title', 'perc': 0.0},\n",
        " {'column': 'director', 'perc': 0.0},\n",
        " {'column': 'writers', 'perc': 0.0},\n",
        " {'column': 'storyline', 'perc': 0.0033729972828633},\n",
        " {'column': 'stars', 'perc': 0.0},\n",
        " {'column': 'year', 'perc': 0.26281270495643211},\n",
        " {'column': 'genre', 'perc': 0.0},\n",
        " {'column': 'Oscar Indications', 'perc': 0.76904338049283238},\n",
        " {'column': 'running_time', 'perc': 0.0040288578656422751}]"
       ]
      }
     ],
     "prompt_number": 420
    },
    {
     "cell_type": "markdown",
     "metadata": {},
     "source": [
      "Apenas 35% dos filmes possuem certifica\u00e7\u00e3o. Por simplicidade, esta coluna ser\u00e1 retirada."
     ]
    },
    {
     "cell_type": "code",
     "collapsed": false,
     "input": [
      "pd_filmes = pd_filmes.drop('certification', 1)"
     ],
     "language": "python",
     "metadata": {},
     "outputs": [],
     "prompt_number": 421
    },
    {
     "cell_type": "heading",
     "level": 5,
     "metadata": {},
     "source": [
      "O ano de lan\u00e7amento do filme \u00e9 uma informa\u00e7\u00e3o importante na an\u00e1lise que ser\u00e1 feita, ent\u00e3o ser\u00e1 executado outro scrapping \n",
      "para captur\u00e1-lo dos filmes que est\u00e3o faltando."
     ]
    },
    {
     "cell_type": "code",
     "collapsed": false,
     "input": [
      "# filmes sem data de lan\u00e7amento\n",
      "lfilmes = pd_filmes[(pd_filmes.year == -1)&(pd_filmes.pt_title!='')]\n",
      "lfilmes = list(lfilmes.title)\n",
      "\n",
      "tmp_filmes = []\n",
      "for filme in lfilmes:\n",
      "    filme = filme.rstrip('\"').lstrip('\"')\n",
      "    tmp_filmes.append(filme)"
     ],
     "language": "python",
     "metadata": {},
     "outputs": [],
     "prompt_number": 422
    },
    {
     "cell_type": "code",
     "collapsed": false,
     "input": [
      "len(tmp_filmes)"
     ],
     "language": "python",
     "metadata": {},
     "outputs": [
      {
       "metadata": {},
       "output_type": "pyout",
       "prompt_number": 423,
       "text": [
        "2805"
       ]
      }
     ],
     "prompt_number": 423
    },
    {
     "cell_type": "code",
     "collapsed": false,
     "input": [
      "#Remo\u00e7\u00e3o de um elemento indesejado da lista de filmes sem data de lan\u00e7amento\n",
      "for v in tmp_filmes:\n",
      "    if v == '(':\n",
      "        tmp_filmes.remove(v)\n",
      "len(tmp_filmes)"
     ],
     "language": "python",
     "metadata": {},
     "outputs": [
      {
       "metadata": {},
       "output_type": "pyout",
       "prompt_number": 424,
       "text": [
        "2745"
       ]
      }
     ],
     "prompt_number": 424
    },
    {
     "cell_type": "code",
     "collapsed": false,
     "input": [
      "#scrapper que captura a data de lan\u00e7amento na p\u00e1gina do imdb\n",
      "\n",
      "def search_imdb(name):\n",
      "  base_url = 'http://www.imdb.com/find?q='\n",
      "  url = base_url+name+'&s=all'\n",
      " \n",
      "  title_search = re.compile('/title/tt\\d+')\n",
      " \n",
      "  br = Browser()\n",
      "  \n",
      "  br.open(url)\n",
      " \n",
      "  link = br.find_link(url_regex = re.compile(r'/title/tt.*'))\n",
      "  res = br.follow_link(link)\n",
      " \n",
      "  soup = BeautifulSoup(res.read())\n",
      "\n",
      "  genre=[]\n",
      "  infobar = soup.find('div',{'class':'infobar'})\n",
      "  r = infobar.find('',{'title':True})['title']\n",
      "  genrelist = infobar.findAll('a',{'href':True})\n",
      " \n",
      "  for i in range(len(genrelist)-1):\n",
      "    genre.append(genrelist[i])\n",
      "  release_date = genrelist[-1]\n",
      "  print release_date.text\n",
      "  return release_date.text\n"
     ],
     "language": "python",
     "metadata": {},
     "outputs": [],
     "prompt_number": 141
    },
    {
     "cell_type": "code",
     "collapsed": false,
     "input": [
      "#testando o scrapper search_imdb(movie)\n",
      "search_imdb('Um sonho de liberdade')"
     ],
     "language": "python",
     "metadata": {},
     "outputs": [
      {
       "output_type": "stream",
       "stream": "stdout",
       "text": [
        "28 December 2006(Thailand)\n"
       ]
      },
      {
       "metadata": {},
       "output_type": "pyout",
       "prompt_number": 15,
       "text": [
        "u'28 December 2006(Thailand)'"
       ]
      }
     ],
     "prompt_number": 15
    },
    {
     "cell_type": "code",
     "collapsed": false,
     "input": [
      "err = 0 # caso a conex\u00e3o caisse, esse contador seria utilizado para continuar de onde o script parou\n",
      "cfilmes = []\n",
      "# loop para armazenar a data de lan\u00e7amento de cada filme numa lista\n",
      "for filme in tmp_filmes:\n",
      "    try:\n",
      "        cfilme = {}\n",
      "        cfilme['title'] = filme\n",
      "        cfilme['release_date'] = search_imdb(filme)\n",
      "        cfilmes.append(cfilme)\n",
      "    except:\n",
      "        err = err+1\n",
      "        pass\n",
      "    time.sleep(1)"
     ],
     "language": "python",
     "metadata": {},
     "outputs": [
      {
       "output_type": "stream",
       "stream": "stdout",
       "text": [
        "16 August 1996(Brazil)\n",
        "19 October 2007(Brazil)"
       ]
      },
      {
       "output_type": "stream",
       "stream": "stdout",
       "text": [
        "\n",
        "14 May 2004(Brazil)"
       ]
      },
      {
       "output_type": "stream",
       "stream": "stdout",
       "text": [
        "\n",
        "23 October 1992(Brazil)"
       ]
      },
      {
       "output_type": "stream",
       "stream": "stdout",
       "text": [
        "\n",
        "20 April 2000(Brazil)"
       ]
      },
      {
       "output_type": "stream",
       "stream": "stdout",
       "text": [
        "\n",
        "22 September 1995(Brazil)"
       ]
      },
      {
       "output_type": "stream",
       "stream": "stdout",
       "text": [
        "\n",
        "26 December 1980(Brazil)"
       ]
      },
      {
       "output_type": "stream",
       "stream": "stdout",
       "text": [
        "\n",
        "17 October 1985(Brazil)"
       ]
      },
      {
       "output_type": "stream",
       "stream": "stdout",
       "text": [
        "\n",
        "17 May 1980(Brazil)"
       ]
      },
      {
       "output_type": "stream",
       "stream": "stdout",
       "text": [
        "\n",
        "14 April 2006(Brazil)"
       ]
      },
      {
       "output_type": "stream",
       "stream": "stdout",
       "text": [
        "\n",
        "6 March 1992(Brazil)"
       ]
      },
      {
       "output_type": "stream",
       "stream": "stdout",
       "text": [
        "\n",
        "22 March 2013(Brazil)"
       ]
      },
      {
       "output_type": "stream",
       "stream": "stdout",
       "text": [
        "\n",
        "6 December 2013(Brazil)"
       ]
      },
      {
       "output_type": "stream",
       "stream": "stdout",
       "text": [
        "\n",
        "1 November 2013(Brazil)"
       ]
      },
      {
       "output_type": "stream",
       "stream": "stdout",
       "text": [
        "\n",
        "12 October 2006(Brazil)"
       ]
      },
      {
       "output_type": "stream",
       "stream": "stdout",
       "text": [
        "\n",
        "10 January 1986(Brazil)"
       ]
      },
      {
       "output_type": "stream",
       "stream": "stdout",
       "text": [
        "\n",
        "4 November 1927(Brazil)"
       ]
      },
      {
       "output_type": "stream",
       "stream": "stdout",
       "text": [
        "\n",
        "27 November 1976(USA)"
       ]
      },
      {
       "output_type": "stream",
       "stream": "stdout",
       "text": [
        "\n",
        "28 October 1982(Brazil)"
       ]
      },
      {
       "output_type": "stream",
       "stream": "stdout",
       "text": [
        "\n",
        "15 February 2013(Spain)"
       ]
      },
      {
       "output_type": "stream",
       "stream": "stdout",
       "text": [
        "\n",
        "13 June 2014(USA)"
       ]
      },
      {
       "output_type": "stream",
       "stream": "stdout",
       "text": [
        "\n",
        "21 January 2014(USA)"
       ]
      },
      {
       "output_type": "stream",
       "stream": "stdout",
       "text": [
        "\n",
        "15 February 2013(Spain)"
       ]
      },
      {
       "output_type": "stream",
       "stream": "stdout",
       "text": [
        "\n",
        "22 March 1991(Brazil)"
       ]
      },
      {
       "output_type": "stream",
       "stream": "stdout",
       "text": [
        "\n",
        "17 May 1980(Brazil)"
       ]
      },
      {
       "output_type": "stream",
       "stream": "stdout",
       "text": [
        "\n",
        "20 December 2013(USA)"
       ]
      },
      {
       "output_type": "stream",
       "stream": "stdout",
       "text": [
        "\n",
        "17 April 2009(UK)"
       ]
      },
      {
       "output_type": "stream",
       "stream": "stdout",
       "text": [
        "\n",
        "7 February 2008(Australia)"
       ]
      },
      {
       "output_type": "stream",
       "stream": "stdout",
       "text": [
        "\n",
        "9 August 2013(USA)"
       ]
      },
      {
       "output_type": "stream",
       "stream": "stdout",
       "text": [
        "\n",
        "14 September 1994(France)"
       ]
      },
      {
       "output_type": "stream",
       "stream": "stdout",
       "text": [
        "\n",
        "May 1979(USA)"
       ]
      },
      {
       "output_type": "stream",
       "stream": "stdout",
       "text": [
        "\n",
        "23 January 2015(USA)"
       ]
      },
      {
       "output_type": "stream",
       "stream": "stdout",
       "text": [
        "\n",
        "9 December 1988(USA)"
       ]
      },
      {
       "output_type": "stream",
       "stream": "stdout",
       "text": [
        "\n",
        "11 May 1966(USA)"
       ]
      },
      {
       "output_type": "stream",
       "stream": "stdout",
       "text": [
        "\n",
        "15 May 2009(Brazil)"
       ]
      },
      {
       "output_type": "stream",
       "stream": "stdout",
       "text": [
        "\n",
        "4 August 1980(Brazil)"
       ]
      },
      {
       "output_type": "stream",
       "stream": "stdout",
       "text": [
        "\n",
        "2014(USA)"
       ]
      },
      {
       "output_type": "stream",
       "stream": "stdout",
       "text": [
        "\n",
        "17 April 2003(Germany)"
       ]
      },
      {
       "output_type": "stream",
       "stream": "stdout",
       "text": [
        "\n",
        "24 September 2002(Netherlands)"
       ]
      },
      {
       "output_type": "stream",
       "stream": "stdout",
       "text": [
        "\n",
        "26 April 1995(USA)"
       ]
      },
      {
       "output_type": "stream",
       "stream": "stdout",
       "text": [
        "\n",
        "2014(USA)"
       ]
      },
      {
       "output_type": "stream",
       "stream": "stdout",
       "text": [
        "\n",
        "24 March 1939(USA)"
       ]
      },
      {
       "output_type": "stream",
       "stream": "stdout",
       "text": [
        "\n",
        "14 January 1970(Denmark)"
       ]
      },
      {
       "output_type": "stream",
       "stream": "stdout",
       "text": [
        "\n",
        "13 September 2013(USA)"
       ]
      },
      {
       "output_type": "stream",
       "stream": "stdout",
       "text": [
        "\n",
        "28 February 2011(USA)"
       ]
      },
      {
       "output_type": "stream",
       "stream": "stdout",
       "text": [
        "\n",
        "25 October 2002(USA)"
       ]
      },
      {
       "output_type": "stream",
       "stream": "stdout",
       "text": [
        "\n",
        "6 July 1990(Brazil)"
       ]
      },
      {
       "output_type": "stream",
       "stream": "stdout",
       "text": [
        "\n",
        "27 March 2004(Japan)"
       ]
      },
      {
       "output_type": "stream",
       "stream": "stdout",
       "text": [
        "\n",
        "2 October 1992(USA)"
       ]
      },
      {
       "output_type": "stream",
       "stream": "stdout",
       "text": [
        "\n",
        "26 April 1995(USA)"
       ]
      },
      {
       "output_type": "stream",
       "stream": "stdout",
       "text": [
        "\n",
        "3 June 1983(USA)"
       ]
      },
      {
       "output_type": "stream",
       "stream": "stdout",
       "text": [
        "\n",
        "5 October 2007(USA)"
       ]
      },
      {
       "output_type": "stream",
       "stream": "stdout",
       "text": [
        "\n",
        "11 December 2012(USA)"
       ]
      },
      {
       "output_type": "stream",
       "stream": "stdout",
       "text": [
        "\n",
        "15 February 2013(Spain)"
       ]
      },
      {
       "output_type": "stream",
       "stream": "stdout",
       "text": [
        "\n",
        "6 January 2006(USA)"
       ]
      },
      {
       "output_type": "stream",
       "stream": "stdout",
       "text": [
        "\n",
        "13 November 1957(France)"
       ]
      },
      {
       "output_type": "stream",
       "stream": "stdout",
       "text": [
        "\n",
        "6 January 2006(USA)"
       ]
      },
      {
       "output_type": "stream",
       "stream": "stdout",
       "text": [
        "\n",
        "14 October 2013(UK)"
       ]
      },
      {
       "output_type": "stream",
       "stream": "stdout",
       "text": [
        "\n",
        "18 May 1922(Estonia)"
       ]
      },
      {
       "output_type": "stream",
       "stream": "stdout",
       "text": [
        "\n",
        "13 August 2010(USA)"
       ]
      },
      {
       "output_type": "stream",
       "stream": "stdout",
       "text": [
        "\n",
        "15 February 2013(Spain)"
       ]
      },
      {
       "output_type": "stream",
       "stream": "stdout",
       "text": [
        "\n",
        "15 June 2012(USA)"
       ]
      },
      {
       "output_type": "stream",
       "stream": "stdout",
       "text": [
        "\n",
        "15 February 2013(Spain)"
       ]
      },
      {
       "output_type": "stream",
       "stream": "stdout",
       "text": [
        "\n",
        "27 November 1998(Brazil)"
       ]
      },
      {
       "output_type": "stream",
       "stream": "stdout",
       "text": [
        "\n",
        "15 February 2013(Spain)"
       ]
      },
      {
       "output_type": "stream",
       "stream": "stdout",
       "text": [
        "\n",
        "15 February 2013(Spain)"
       ]
      },
      {
       "output_type": "stream",
       "stream": "stdout",
       "text": [
        "\n",
        "10 July 1987(USA)"
       ]
      },
      {
       "output_type": "stream",
       "stream": "stdout",
       "text": [
        "\n",
        "11 June 1982(USA)"
       ]
      },
      {
       "output_type": "stream",
       "stream": "stdout",
       "text": [
        "\n",
        "15 February 2013(Spain)"
       ]
      },
      {
       "output_type": "stream",
       "stream": "stdout",
       "text": [
        "\n",
        "15 February 2013(Spain)"
       ]
      },
      {
       "output_type": "stream",
       "stream": "stdout",
       "text": [
        "\n",
        "8 June 1984(USA)"
       ]
      },
      {
       "output_type": "stream",
       "stream": "stdout",
       "text": [
        "\n",
        "24 February 2012(USA)"
       ]
      },
      {
       "output_type": "stream",
       "stream": "stdout",
       "text": [
        "\n",
        "25 June 2011(Japan)"
       ]
      },
      {
       "output_type": "stream",
       "stream": "stdout",
       "text": [
        "\n",
        "18 March 1994(USA)"
       ]
      },
      {
       "output_type": "stream",
       "stream": "stdout",
       "text": [
        "\n",
        "15 February 2013(Spain)"
       ]
      },
      {
       "output_type": "stream",
       "stream": "stdout",
       "text": [
        "\n",
        "9 January 2015(India)"
       ]
      },
      {
       "output_type": "stream",
       "stream": "stdout",
       "text": [
        "\n",
        "17 April 2015(USA)"
       ]
      },
      {
       "output_type": "stream",
       "stream": "stdout",
       "text": [
        "\n",
        "15 February 2013(Spain)"
       ]
      },
      {
       "output_type": "stream",
       "stream": "stdout",
       "text": [
        "\n",
        "15 February 2013(Spain)"
       ]
      },
      {
       "output_type": "stream",
       "stream": "stdout",
       "text": [
        "\n",
        "15 February 2013(Spain)"
       ]
      },
      {
       "output_type": "stream",
       "stream": "stdout",
       "text": [
        "\n",
        "12 November 1999(Brazil)"
       ]
      },
      {
       "output_type": "stream",
       "stream": "stdout",
       "text": [
        "\n",
        "15 February 2013(Spain)"
       ]
      },
      {
       "output_type": "stream",
       "stream": "stdout",
       "text": [
        "\n",
        "25 December 2013(Denmark)"
       ]
      },
      {
       "output_type": "stream",
       "stream": "stdout",
       "text": [
        "\n",
        "13 August 2014(USA)"
       ]
      },
      {
       "output_type": "stream",
       "stream": "stdout",
       "text": [
        "\n",
        "15 February 2013(Spain)"
       ]
      },
      {
       "output_type": "stream",
       "stream": "stdout",
       "text": [
        "\n",
        "9 November 2012(India)"
       ]
      },
      {
       "output_type": "stream",
       "stream": "stdout",
       "text": [
        "\n",
        "10 January 2014(USA)"
       ]
      },
      {
       "output_type": "stream",
       "stream": "stdout",
       "text": [
        "\n",
        "16 October 1998(USA)"
       ]
      },
      {
       "output_type": "stream",
       "stream": "stdout",
       "text": [
        "\n",
        "15 February 2013(Spain)"
       ]
      },
      {
       "output_type": "stream",
       "stream": "stdout",
       "text": [
        "\n",
        "28 March 2008(USA)"
       ]
      },
      {
       "output_type": "stream",
       "stream": "stdout",
       "text": [
        "\n",
        "11 July 2008(USA)"
       ]
      },
      {
       "output_type": "stream",
       "stream": "stdout",
       "text": [
        "\n",
        "8 December 1966(Hungary)"
       ]
      },
      {
       "output_type": "stream",
       "stream": "stdout",
       "text": [
        "\n",
        "29 August 2014(USA)"
       ]
      },
      {
       "output_type": "stream",
       "stream": "stdout",
       "text": [
        "\n",
        "4 February 2005(India)"
       ]
      },
      {
       "output_type": "stream",
       "stream": "stdout",
       "text": [
        "\n",
        "25 December 1935(USA)"
       ]
      },
      {
       "output_type": "stream",
       "stream": "stdout",
       "text": [
        "\n",
        "15 February 2013(Spain)"
       ]
      },
      {
       "output_type": "stream",
       "stream": "stdout",
       "text": [
        "\n",
        "9 July 1993(India)"
       ]
      },
      {
       "output_type": "stream",
       "stream": "stdout",
       "text": [
        "\n",
        "18 October 1966(Sweden)"
       ]
      },
      {
       "output_type": "stream",
       "stream": "stdout",
       "text": [
        "\n",
        "15 February 2013(Spain)"
       ]
      },
      {
       "output_type": "stream",
       "stream": "stdout",
       "text": [
        "\n",
        "15 February 2013(Spain)"
       ]
      },
      {
       "output_type": "stream",
       "stream": "stdout",
       "text": [
        "\n",
        "2015(USA)"
       ]
      },
      {
       "output_type": "stream",
       "stream": "stdout",
       "text": [
        "\n",
        "December 1971(USA)"
       ]
      },
      {
       "output_type": "stream",
       "stream": "stdout",
       "text": [
        "\n",
        "15 February 2013(Spain)"
       ]
      },
      {
       "output_type": "stream",
       "stream": "stdout",
       "text": [
        "\n",
        "2005(Portugal)"
       ]
      },
      {
       "output_type": "stream",
       "stream": "stdout",
       "text": [
        "\n",
        "1 February 2012(France)"
       ]
      },
      {
       "output_type": "stream",
       "stream": "stdout",
       "text": [
        "\n",
        "29 January 2011(USA)"
       ]
      },
      {
       "output_type": "stream",
       "stream": "stdout",
       "text": [
        "\n",
        "15 February 2013(Spain)"
       ]
      },
      {
       "output_type": "stream",
       "stream": "stdout",
       "text": [
        "\n",
        "22 August 1997(USA)"
       ]
      },
      {
       "output_type": "stream",
       "stream": "stdout",
       "text": [
        "\n",
        "20 June 1975(USA)"
       ]
      },
      {
       "output_type": "stream",
       "stream": "stdout",
       "text": [
        "\n",
        "15 February 2013(Spain)"
       ]
      },
      {
       "output_type": "stream",
       "stream": "stdout",
       "text": [
        "\n",
        "29 April 2005(USA)"
       ]
      },
      {
       "output_type": "stream",
       "stream": "stdout",
       "text": [
        "\n",
        "28 December 1973(Brazil)"
       ]
      },
      {
       "output_type": "stream",
       "stream": "stdout",
       "text": [
        "\n",
        "2014(USA)"
       ]
      },
      {
       "output_type": "stream",
       "stream": "stdout",
       "text": [
        "\n",
        "5 October 2007(USA)"
       ]
      },
      {
       "output_type": "stream",
       "stream": "stdout",
       "text": [
        "\n",
        "31 October 2008(UK)"
       ]
      },
      {
       "output_type": "stream",
       "stream": "stdout",
       "text": [
        "\n",
        "1998(UK)"
       ]
      },
      {
       "output_type": "stream",
       "stream": "stdout",
       "text": [
        "\n",
        "18 April 2003(USA)"
       ]
      },
      {
       "output_type": "stream",
       "stream": "stdout",
       "text": [
        "\n",
        "31 March 1999(USA)"
       ]
      },
      {
       "output_type": "stream",
       "stream": "stdout",
       "text": [
        "\n",
        "15 February 2013(Spain)"
       ]
      },
      {
       "output_type": "stream",
       "stream": "stdout",
       "text": [
        "\n",
        "1976(Soviet Union)"
       ]
      },
      {
       "output_type": "stream",
       "stream": "stdout",
       "text": [
        "\n",
        "3 July 2013(USA)"
       ]
      },
      {
       "output_type": "stream",
       "stream": "stdout",
       "text": [
        "\n",
        "17 October 2014(USA)"
       ]
      },
      {
       "output_type": "stream",
       "stream": "stdout",
       "text": [
        "\n",
        "25 August 2000(USA)"
       ]
      },
      {
       "output_type": "stream",
       "stream": "stdout",
       "text": [
        "\n",
        "28 October 1982(Italy)"
       ]
      },
      {
       "output_type": "stream",
       "stream": "stdout",
       "text": [
        "\n",
        "15 February 2013(Spain)"
       ]
      },
      {
       "output_type": "stream",
       "stream": "stdout",
       "text": [
        "\n",
        "25 June 2011(Japan)"
       ]
      },
      {
       "output_type": "stream",
       "stream": "stdout",
       "text": [
        "\n",
        "5 February 2010(USA)"
       ]
      },
      {
       "output_type": "stream",
       "stream": "stdout",
       "text": [
        "\n",
        "15 February 2013(Spain)"
       ]
      },
      {
       "output_type": "stream",
       "stream": "stdout",
       "text": [
        "\n",
        "26 October 2006(Hong Kong)"
       ]
      },
      {
       "output_type": "stream",
       "stream": "stdout",
       "text": [
        "\n",
        "15 February 2013(Spain)"
       ]
      },
      {
       "output_type": "stream",
       "stream": "stdout",
       "text": [
        "\n",
        "5 February 2010(USA)"
       ]
      },
      {
       "output_type": "stream",
       "stream": "stdout",
       "text": [
        "\n",
        "13 July 2001(USA)"
       ]
      },
      {
       "output_type": "stream",
       "stream": "stdout",
       "text": [
        "\n",
        "22 August 1986(USA)"
       ]
      },
      {
       "output_type": "stream",
       "stream": "stdout",
       "text": [
        "\n",
        "15 June 2012(USA)"
       ]
      },
      {
       "output_type": "stream",
       "stream": "stdout",
       "text": [
        "\n",
        "12 August 2005(Brazil)"
       ]
      },
      {
       "output_type": "stream",
       "stream": "stdout",
       "text": [
        "\n",
        "28 October 2005(Brazil)"
       ]
      },
      {
       "output_type": "stream",
       "stream": "stdout",
       "text": [
        "\n",
        "26 March 2010(UK)"
       ]
      },
      {
       "output_type": "stream",
       "stream": "stdout",
       "text": [
        "\n",
        "15 February 1961(USA)"
       ]
      },
      {
       "output_type": "stream",
       "stream": "stdout",
       "text": [
        "\n",
        "30 October 1998(USA)"
       ]
      },
      {
       "output_type": "stream",
       "stream": "stdout",
       "text": [
        "\n",
        "11 June 2014(UK)"
       ]
      },
      {
       "output_type": "stream",
       "stream": "stdout",
       "text": [
        "\n",
        "15 February 2013(Spain)"
       ]
      },
      {
       "output_type": "stream",
       "stream": "stdout",
       "text": [
        "\n",
        "15 February 2013(Spain)"
       ]
      },
      {
       "output_type": "stream",
       "stream": "stdout",
       "text": [
        "\n",
        "24 December 1925(Soviet Union)"
       ]
      },
      {
       "output_type": "stream",
       "stream": "stdout",
       "text": [
        "\n",
        "2006(USA)"
       ]
      },
      {
       "output_type": "stream",
       "stream": "stdout",
       "text": [
        "\n",
        "25 March 2008(USA)"
       ]
      },
      {
       "output_type": "stream",
       "stream": "stdout",
       "text": [
        "\n",
        "25 December 2013(Denmark)"
       ]
      },
      {
       "output_type": "stream",
       "stream": "stdout",
       "text": [
        "\n",
        "10 July 2013(France)"
       ]
      },
      {
       "output_type": "stream",
       "stream": "stdout",
       "text": [
        "\n",
        "4 November 2011(UK)"
       ]
      },
      {
       "output_type": "stream",
       "stream": "stdout",
       "text": [
        "\n",
        "10 December 1972(USA)"
       ]
      },
      {
       "output_type": "stream",
       "stream": "stdout",
       "text": [
        "\n",
        "29 January 2010(India)"
       ]
      },
      {
       "output_type": "stream",
       "stream": "stdout",
       "text": [
        "\n",
        "20 August 1999(Brazil)"
       ]
      },
      {
       "output_type": "stream",
       "stream": "stdout",
       "text": [
        "\n",
        "18 July 2014(USA)"
       ]
      },
      {
       "output_type": "stream",
       "stream": "stdout",
       "text": [
        "\n",
        "9 October 1952(Japan)"
       ]
      },
      {
       "output_type": "stream",
       "stream": "stdout",
       "text": [
        "\n",
        "15 February 2013(Spain)"
       ]
      },
      {
       "output_type": "stream",
       "stream": "stdout",
       "text": [
        "\n",
        "15 February 2013(Spain)"
       ]
      },
      {
       "output_type": "stream",
       "stream": "stdout",
       "text": [
        "\n",
        "15 February 2013(Spain)"
       ]
      },
      {
       "output_type": "stream",
       "stream": "stdout",
       "text": [
        "\n",
        "14 September 1994(France)"
       ]
      },
      {
       "output_type": "stream",
       "stream": "stdout",
       "text": [
        "\n",
        "15 February 2013(Spain)"
       ]
      },
      {
       "output_type": "stream",
       "stream": "stdout",
       "text": [
        "\n",
        "5 October 2007(USA)"
       ]
      },
      {
       "output_type": "stream",
       "stream": "stdout",
       "text": [
        "\n",
        "9 March 2000(USA)"
       ]
      },
      {
       "output_type": "stream",
       "stream": "stdout",
       "text": [
        "\n",
        "5 June 2009(Brazil)"
       ]
      },
      {
       "output_type": "stream",
       "stream": "stdout",
       "text": [
        "\n",
        "5 February 2010(USA)"
       ]
      },
      {
       "output_type": "stream",
       "stream": "stdout",
       "text": [
        "\n",
        "11 November 2009(Greece)"
       ]
      },
      {
       "output_type": "stream",
       "stream": "stdout",
       "text": [
        "\n",
        "30 May 2012(USA)"
       ]
      },
      {
       "output_type": "stream",
       "stream": "stdout",
       "text": [
        "\n",
        "1 February 1985(USA)"
       ]
      },
      {
       "output_type": "stream",
       "stream": "stdout",
       "text": [
        "\n",
        "24 November 1930(USA)"
       ]
      },
      {
       "output_type": "stream",
       "stream": "stdout",
       "text": [
        "\n",
        "7 November 1997(USA)"
       ]
      },
      {
       "output_type": "stream",
       "stream": "stdout",
       "text": [
        "\n",
        "24 April 2012(Canada)"
       ]
      },
      {
       "output_type": "stream",
       "stream": "stdout",
       "text": [
        "\n",
        "16 December 1987(USA)"
       ]
      },
      {
       "output_type": "stream",
       "stream": "stdout",
       "text": [
        "\n",
        "25 March 2010(New Zealand)"
       ]
      },
      {
       "output_type": "stream",
       "stream": "stdout",
       "text": [
        "\n",
        "21 January 2014(USA)"
       ]
      },
      {
       "output_type": "stream",
       "stream": "stdout",
       "text": [
        "\n",
        "30 January 1987(Brazil)"
       ]
      },
      {
       "output_type": "stream",
       "stream": "stdout",
       "text": [
        "\n",
        "15 February 2013(Spain)"
       ]
      },
      {
       "output_type": "stream",
       "stream": "stdout",
       "text": [
        "\n",
        "11 November 2009(Germany)"
       ]
      },
      {
       "output_type": "stream",
       "stream": "stdout",
       "text": [
        "\n",
        "22 June 1990(India)"
       ]
      },
      {
       "output_type": "stream",
       "stream": "stdout",
       "text": [
        "\n",
        "17 March 2012(India)"
       ]
      },
      {
       "output_type": "stream",
       "stream": "stdout",
       "text": [
        "\n",
        "5 February 2010(Taiwan)"
       ]
      },
      {
       "output_type": "stream",
       "stream": "stdout",
       "text": [
        "\n",
        "19 May 2004(France)"
       ]
      },
      {
       "output_type": "stream",
       "stream": "stdout",
       "text": [
        "\n",
        "15 February 2013(Spain)"
       ]
      },
      {
       "output_type": "stream",
       "stream": "stdout",
       "text": [
        "\n",
        "2006(USA)"
       ]
      },
      {
       "output_type": "stream",
       "stream": "stdout",
       "text": [
        "\n",
        "7 November 1997(USA)"
       ]
      },
      {
       "output_type": "stream",
       "stream": "stdout",
       "text": [
        "\n",
        "25 May 1990(USA)"
       ]
      },
      {
       "output_type": "stream",
       "stream": "stdout",
       "text": [
        "\n",
        "14 January 1970(Denmark)"
       ]
      },
      {
       "output_type": "stream",
       "stream": "stdout",
       "text": [
        "\n",
        "13 April 1928(Netherlands)"
       ]
      },
      {
       "output_type": "stream",
       "stream": "stdout",
       "text": [
        "\n",
        "7 November 2003(USA)"
       ]
      },
      {
       "output_type": "stream",
       "stream": "stdout",
       "text": [
        "\n",
        "15 February 2013(Spain)"
       ]
      },
      {
       "output_type": "stream",
       "stream": "stdout",
       "text": [
        "\n",
        "22 July 1994(USA)"
       ]
      },
      {
       "output_type": "stream",
       "stream": "stdout",
       "text": [
        "\n",
        "9 September 2006(Iceland)"
       ]
      },
      {
       "output_type": "stream",
       "stream": "stdout",
       "text": [
        "\n",
        "15 January 1999(Brazil)"
       ]
      },
      {
       "output_type": "stream",
       "stream": "stdout",
       "text": [
        "\n",
        "2 July 1982(Brazil)"
       ]
      },
      {
       "output_type": "stream",
       "stream": "stdout",
       "text": [
        "\n",
        "23 October 2009(Brazil)"
       ]
      },
      {
       "output_type": "stream",
       "stream": "stdout",
       "text": [
        "\n",
        "20 February 1932(USA)"
       ]
      },
      {
       "output_type": "stream",
       "stream": "stdout",
       "text": [
        "\n",
        "25 December 1992(Brazil)"
       ]
      },
      {
       "output_type": "stream",
       "stream": "stdout",
       "text": [
        "\n",
        "15 February 2013(Spain)"
       ]
      },
      {
       "output_type": "stream",
       "stream": "stdout",
       "text": [
        "\n",
        "15 February 2013(Spain)"
       ]
      },
      {
       "output_type": "stream",
       "stream": "stdout",
       "text": [
        "\n",
        "25 August 2000(USA)"
       ]
      },
      {
       "output_type": "stream",
       "stream": "stdout",
       "text": [
        "\n",
        "15 February 2013(Spain)"
       ]
      },
      {
       "output_type": "stream",
       "stream": "stdout",
       "text": [
        "\n",
        "3 January 2003(Brazil)"
       ]
      },
      {
       "output_type": "stream",
       "stream": "stdout",
       "text": [
        "\n",
        "25 January 2003(Japan)"
       ]
      },
      {
       "output_type": "stream",
       "stream": "stdout",
       "text": [
        "\n",
        "7 October 2005(UK)"
       ]
      },
      {
       "output_type": "stream",
       "stream": "stdout",
       "text": [
        "\n",
        "20 June 2013(USA)"
       ]
      },
      {
       "output_type": "stream",
       "stream": "stdout",
       "text": [
        "\n",
        "14 September 1994(France)"
       ]
      },
      {
       "output_type": "stream",
       "stream": "stdout",
       "text": [
        "\n",
        "26 September 2003(Sweden)"
       ]
      },
      {
       "output_type": "stream",
       "stream": "stdout",
       "text": [
        "\n",
        "15 February 2013(Spain)"
       ]
      },
      {
       "output_type": "stream",
       "stream": "stdout",
       "text": [
        "\n",
        "15 February 2013(Spain)"
       ]
      },
      {
       "output_type": "stream",
       "stream": "stdout",
       "text": [
        "\n",
        "15 February 2013(Spain)"
       ]
      },
      {
       "output_type": "stream",
       "stream": "stdout",
       "text": [
        "\n",
        "6 October 2004(USA)"
       ]
      },
      {
       "output_type": "stream",
       "stream": "stdout",
       "text": [
        "\n",
        "20 June 1975(USA)"
       ]
      },
      {
       "output_type": "stream",
       "stream": "stdout",
       "text": [
        "\n",
        "14 September 1994(France)"
       ]
      },
      {
       "output_type": "stream",
       "stream": "stdout",
       "text": [
        "\n",
        "19 June 1987(USA)"
       ]
      },
      {
       "output_type": "stream",
       "stream": "stdout",
       "text": [
        "\n",
        "15 February 2013(Spain)"
       ]
      },
      {
       "output_type": "stream",
       "stream": "stdout",
       "text": [
        "\n",
        "2 November 2012(Switzerland)"
       ]
      },
      {
       "output_type": "stream",
       "stream": "stdout",
       "text": [
        "\n",
        "15 February 2013(Spain)"
       ]
      },
      {
       "output_type": "stream",
       "stream": "stdout",
       "text": [
        "\n",
        "19 September 2014(USA)"
       ]
      },
      {
       "output_type": "stream",
       "stream": "stdout",
       "text": [
        "\n",
        "24 April 1939(Brazil)"
       ]
      },
      {
       "output_type": "stream",
       "stream": "stdout",
       "text": [
        "\n",
        "26 May 1972(France)"
       ]
      },
      {
       "output_type": "stream",
       "stream": "stdout",
       "text": [
        "\n",
        "12 November 2010(Norway)"
       ]
      },
      {
       "output_type": "stream",
       "stream": "stdout",
       "text": [
        "\n",
        "18 March 1994(Portugal)"
       ]
      },
      {
       "output_type": "stream",
       "stream": "stdout",
       "text": [
        "\n",
        "17 February 2000(France)"
       ]
      },
      {
       "output_type": "stream",
       "stream": "stdout",
       "text": [
        "\n",
        "April 2015(USA)"
       ]
      },
      {
       "output_type": "stream",
       "stream": "stdout",
       "text": [
        "\n",
        "20 March 2009(Japan)"
       ]
      },
      {
       "output_type": "stream",
       "stream": "stdout",
       "text": [
        "\n",
        "15 February 2013(Spain)"
       ]
      },
      {
       "output_type": "stream",
       "stream": "stdout",
       "text": [
        "\n",
        "31 August 1987(USA)"
       ]
      },
      {
       "output_type": "stream",
       "stream": "stdout",
       "text": [
        "\n",
        "29 May 2009(USA)"
       ]
      },
      {
       "output_type": "stream",
       "stream": "stdout",
       "text": [
        "\n",
        "16 July 2010(USA)"
       ]
      },
      {
       "output_type": "stream",
       "stream": "stdout",
       "text": [
        "\n",
        "2 November 2012(Switzerland)"
       ]
      },
      {
       "output_type": "stream",
       "stream": "stdout",
       "text": [
        "\n",
        "25 October 1978(USA)"
       ]
      },
      {
       "output_type": "stream",
       "stream": "stdout",
       "text": [
        "\n",
        "20 January 2012(India)"
       ]
      },
      {
       "output_type": "stream",
       "stream": "stdout",
       "text": [
        "\n",
        "19 September 1997(USA)"
       ]
      },
      {
       "output_type": "stream",
       "stream": "stdout",
       "text": [
        "\n",
        "13 June 2014(UK)"
       ]
      },
      {
       "output_type": "stream",
       "stream": "stdout",
       "text": [
        "\n",
        "28 October 2005(USA)"
       ]
      },
      {
       "output_type": "stream",
       "stream": "stdout",
       "text": [
        "\n",
        "1975(USA)"
       ]
      },
      {
       "output_type": "stream",
       "stream": "stdout",
       "text": [
        "\n",
        "25 October 1978(USA)"
       ]
      },
      {
       "output_type": "stream",
       "stream": "stdout",
       "text": [
        "\n",
        "23 June 2006(USA)"
       ]
      },
      {
       "output_type": "stream",
       "stream": "stdout",
       "text": [
        "\n",
        "15 February 2013(Spain)"
       ]
      },
      {
       "output_type": "stream",
       "stream": "stdout",
       "text": [
        "\n",
        "19 November 2004(Brazil)"
       ]
      },
      {
       "output_type": "stream",
       "stream": "stdout",
       "text": [
        "\n",
        "30 January 2007(USA)"
       ]
      },
      {
       "output_type": "stream",
       "stream": "stdout",
       "text": [
        "\n",
        "20 June 1975(USA)"
       ]
      },
      {
       "output_type": "stream",
       "stream": "stdout",
       "text": [
        "\n",
        "15 February 2013(Spain)"
       ]
      },
      {
       "output_type": "stream",
       "stream": "stdout",
       "text": [
        "\n",
        "11 August 2006(UK)"
       ]
      },
      {
       "output_type": "stream",
       "stream": "stdout",
       "text": [
        "\n",
        "15 February 2013(Spain)"
       ]
      },
      {
       "output_type": "stream",
       "stream": "stdout",
       "text": [
        "\n",
        "24 October 2014(USA)"
       ]
      },
      {
       "output_type": "stream",
       "stream": "stdout",
       "text": [
        "\n",
        "15 February 2013(Spain)"
       ]
      },
      {
       "output_type": "stream",
       "stream": "stdout",
       "text": [
        "\n",
        "15 February 2013(Spain)"
       ]
      },
      {
       "output_type": "stream",
       "stream": "stdout",
       "text": [
        "\n",
        "15 February 2013(Spain)"
       ]
      },
      {
       "output_type": "stream",
       "stream": "stdout",
       "text": [
        "\n",
        "21 May 1999(UK)"
       ]
      },
      {
       "output_type": "stream",
       "stream": "stdout",
       "text": [
        "\n",
        "26 January 1994(France)"
       ]
      },
      {
       "output_type": "stream",
       "stream": "stdout",
       "text": [
        "\n",
        "2016(USA)"
       ]
      },
      {
       "output_type": "stream",
       "stream": "stdout",
       "text": [
        "\n",
        "15 February 2013(Spain)"
       ]
      },
      {
       "output_type": "stream",
       "stream": "stdout",
       "text": [
        "\n",
        "8 December 1966(Hungary)"
       ]
      },
      {
       "output_type": "stream",
       "stream": "stdout",
       "text": [
        "\n",
        "15 February 2013(Spain)"
       ]
      },
      {
       "output_type": "stream",
       "stream": "stdout",
       "text": [
        "\n",
        "15 February 2013(Spain)"
       ]
      },
      {
       "output_type": "stream",
       "stream": "stdout",
       "text": [
        "\n",
        "15 February 2013(Spain)"
       ]
      },
      {
       "output_type": "stream",
       "stream": "stdout",
       "text": [
        "\n",
        "24 November 1956(USA)"
       ]
      },
      {
       "output_type": "stream",
       "stream": "stdout",
       "text": [
        "\n",
        "15 February 2011(Germany)"
       ]
      },
      {
       "output_type": "stream",
       "stream": "stdout",
       "text": [
        "\n",
        "15 February 2013(Spain)"
       ]
      },
      {
       "output_type": "stream",
       "stream": "stdout",
       "text": [
        "\n",
        "15 February 2013(Spain)"
       ]
      },
      {
       "output_type": "stream",
       "stream": "stdout",
       "text": [
        "\n",
        "27 January 1995(USA)"
       ]
      },
      {
       "output_type": "stream",
       "stream": "stdout",
       "text": [
        "\n",
        "5 February 2010(USA)"
       ]
      },
      {
       "output_type": "stream",
       "stream": "stdout",
       "text": [
        "\n",
        "15 February 2013(Spain)"
       ]
      },
      {
       "output_type": "stream",
       "stream": "stdout",
       "text": [
        "\n",
        "21 November 2008(USA)"
       ]
      },
      {
       "output_type": "stream",
       "stream": "stdout",
       "text": [
        "\n",
        "15 February 2013(Spain)"
       ]
      },
      {
       "output_type": "stream",
       "stream": "stdout",
       "text": [
        "\n",
        "26 December 1997(UK)"
       ]
      },
      {
       "output_type": "stream",
       "stream": "stdout",
       "text": [
        "\n",
        "15 February 2013(Spain)"
       ]
      },
      {
       "output_type": "stream",
       "stream": "stdout",
       "text": [
        "\n",
        "2016(USA)"
       ]
      },
      {
       "output_type": "stream",
       "stream": "stdout",
       "text": [
        "\n",
        "September 1989(USA)"
       ]
      },
      {
       "output_type": "stream",
       "stream": "stdout",
       "text": [
        "\n",
        "15 February 2013(Spain)"
       ]
      },
      {
       "output_type": "stream",
       "stream": "stdout",
       "text": [
        "\n",
        "7 October 2011(Ireland)"
       ]
      },
      {
       "output_type": "stream",
       "stream": "stdout",
       "text": [
        "\n",
        "24 February 2006(Denmark)"
       ]
      },
      {
       "output_type": "stream",
       "stream": "stdout",
       "text": [
        "\n",
        "14 September 1994(France)"
       ]
      },
      {
       "output_type": "stream",
       "stream": "stdout",
       "text": [
        "\n",
        "23 October 2003(Singapore)"
       ]
      },
      {
       "output_type": "stream",
       "stream": "stdout",
       "text": [
        "\n",
        "27 April 2007(USA)"
       ]
      },
      {
       "output_type": "stream",
       "stream": "stdout",
       "text": [
        "\n",
        "6 April 2001(Brazil)"
       ]
      },
      {
       "output_type": "stream",
       "stream": "stdout",
       "text": [
        "\n",
        "June 2015(Turkey)"
       ]
      },
      {
       "output_type": "stream",
       "stream": "stdout",
       "text": [
        "\n",
        "27 October 1988(Netherlands)"
       ]
      },
      {
       "output_type": "stream",
       "stream": "stdout",
       "text": [
        "\n",
        "24 September 2004(USA)"
       ]
      },
      {
       "output_type": "stream",
       "stream": "stdout",
       "text": [
        "\n",
        "15 February 2013(Spain)"
       ]
      },
      {
       "output_type": "stream",
       "stream": "stdout",
       "text": [
        "\n",
        "7 October 2005(USA)"
       ]
      },
      {
       "output_type": "stream",
       "stream": "stdout",
       "text": [
        "\n",
        "23 May 2006(USA)"
       ]
      },
      {
       "output_type": "stream",
       "stream": "stdout",
       "text": [
        "\n",
        "5 December 2003(USA)"
       ]
      },
      {
       "output_type": "stream",
       "stream": "stdout",
       "text": [
        "\n",
        "1 June 2004(USA)"
       ]
      },
      {
       "output_type": "stream",
       "stream": "stdout",
       "text": [
        "\n",
        "15 February 2013(Spain)"
       ]
      },
      {
       "output_type": "stream",
       "stream": "stdout",
       "text": [
        "\n",
        "23 June 1989(USA)"
       ]
      },
      {
       "output_type": "stream",
       "stream": "stdout",
       "text": [
        "\n",
        "24 June 1994(USA)"
       ]
      },
      {
       "output_type": "stream",
       "stream": "stdout",
       "text": [
        "\n",
        "7 May 1983(Japan)"
       ]
      },
      {
       "output_type": "stream",
       "stream": "stdout",
       "text": [
        "\n",
        "5 December 2014(Spain)"
       ]
      },
      {
       "output_type": "stream",
       "stream": "stdout",
       "text": [
        "\n",
        "15 February 2013(Spain)"
       ]
      },
      {
       "output_type": "stream",
       "stream": "stdout",
       "text": [
        "\n",
        "24 October 2003(USA)"
       ]
      },
      {
       "output_type": "stream",
       "stream": "stdout",
       "text": [
        "\n",
        "24 November 1997(Australia)"
       ]
      },
      {
       "output_type": "stream",
       "stream": "stdout",
       "text": [
        "\n",
        "15 February 2013(Spain)"
       ]
      },
      {
       "output_type": "stream",
       "stream": "stdout",
       "text": [
        "\n",
        "10 May 2008(Japan)"
       ]
      },
      {
       "output_type": "stream",
       "stream": "stdout",
       "text": [
        "\n",
        "19 April 2005(USA)"
       ]
      },
      {
       "output_type": "stream",
       "stream": "stdout",
       "text": [
        "\n",
        "15 January 1993(USA)"
       ]
      },
      {
       "output_type": "stream",
       "stream": "stdout",
       "text": [
        "\n",
        "6 May 2003(Germany)"
       ]
      },
      {
       "output_type": "stream",
       "stream": "stdout",
       "text": [
        "\n",
        "8 May 2009(USA)"
       ]
      },
      {
       "output_type": "stream",
       "stream": "stdout",
       "text": [
        "\n",
        "15 February 2013(Spain)"
       ]
      },
      {
       "output_type": "stream",
       "stream": "stdout",
       "text": [
        "\n",
        "15 February 2013(Spain)"
       ]
      },
      {
       "output_type": "stream",
       "stream": "stdout",
       "text": [
        "\n",
        "2 June 2010(UK)"
       ]
      },
      {
       "output_type": "stream",
       "stream": "stdout",
       "text": [
        "\n",
        "28 March 1979(USA)"
       ]
      },
      {
       "output_type": "stream",
       "stream": "stdout",
       "text": [
        "\n",
        "18 July 2008(USA)"
       ]
      },
      {
       "output_type": "stream",
       "stream": "stdout",
       "text": [
        "\n",
        "20 June 2013(USA)"
       ]
      },
      {
       "output_type": "stream",
       "stream": "stdout",
       "text": [
        "\n",
        "15 February 2013(Spain)"
       ]
      },
      {
       "output_type": "stream",
       "stream": "stdout",
       "text": [
        "\n",
        "20 May 2014(France)"
       ]
      },
      {
       "output_type": "stream",
       "stream": "stdout",
       "text": [
        "\n",
        "21 July 1989(USA)"
       ]
      },
      {
       "output_type": "stream",
       "stream": "stdout",
       "text": [
        "\n",
        "15 February 2013(Spain)"
       ]
      },
      {
       "output_type": "stream",
       "stream": "stdout",
       "text": [
        "\n",
        "15 October 2013(USA)"
       ]
      },
      {
       "output_type": "stream",
       "stream": "stdout",
       "text": [
        "\n",
        "15 February 2013(Spain)"
       ]
      },
      {
       "output_type": "stream",
       "stream": "stdout",
       "text": [
        "\n",
        "18 May 1922(Estonia)"
       ]
      },
      {
       "output_type": "stream",
       "stream": "stdout",
       "text": [
        "\n",
        "5 November 1993(UK)"
       ]
      },
      {
       "output_type": "stream",
       "stream": "stdout",
       "text": [
        "\n",
        "6 May 1949(Finland)"
       ]
      },
      {
       "output_type": "stream",
       "stream": "stdout",
       "text": [
        "\n",
        "8 April 2011(USA)"
       ]
      },
      {
       "output_type": "stream",
       "stream": "stdout",
       "text": [
        "\n",
        "8 October 1952(USA)"
       ]
      },
      {
       "output_type": "stream",
       "stream": "stdout",
       "text": [
        "\n",
        "12 January 1996(USA)"
       ]
      },
      {
       "output_type": "stream",
       "stream": "stdout",
       "text": [
        "\n",
        "26 April 1995(USA)"
       ]
      },
      {
       "output_type": "stream",
       "stream": "stdout",
       "text": [
        "\n",
        "13 March 2015(USA)"
       ]
      },
      {
       "output_type": "stream",
       "stream": "stdout",
       "text": [
        "\n",
        "25 October 1978(USA)"
       ]
      },
      {
       "output_type": "stream",
       "stream": "stdout",
       "text": [
        "\n",
        "15 February 2013(Spain)"
       ]
      },
      {
       "output_type": "stream",
       "stream": "stdout",
       "text": [
        "\n",
        "12 September 2014(USA)"
       ]
      },
      {
       "output_type": "stream",
       "stream": "stdout",
       "text": [
        "\n",
        "22 October 2003(France)"
       ]
      },
      {
       "output_type": "stream",
       "stream": "stdout",
       "text": [
        "\n",
        "22 April 2000(South Korea)"
       ]
      },
      {
       "output_type": "stream",
       "stream": "stdout",
       "text": [
        "\n",
        "11 April 2014(Ireland)"
       ]
      },
      {
       "output_type": "stream",
       "stream": "stdout",
       "text": [
        "\n",
        "18 January 2013(USA)"
       ]
      },
      {
       "output_type": "stream",
       "stream": "stdout",
       "text": [
        "\n",
        "14 September 1994(France)"
       ]
      },
      {
       "output_type": "stream",
       "stream": "stdout",
       "text": [
        "\n",
        "2005(Portugal)"
       ]
      },
      {
       "output_type": "stream",
       "stream": "stdout",
       "text": [
        "\n",
        "15 February 2013(Spain)"
       ]
      },
      {
       "output_type": "stream",
       "stream": "stdout",
       "text": [
        "\n",
        "15 February 2013(Spain)"
       ]
      },
      {
       "output_type": "stream",
       "stream": "stdout",
       "text": [
        "\n",
        "2006(USA)"
       ]
      },
      {
       "output_type": "stream",
       "stream": "stdout",
       "text": [
        "\n",
        "22 March 1985(USA)"
       ]
      },
      {
       "output_type": "stream",
       "stream": "stdout",
       "text": [
        "\n",
        "15 February 2013(Spain)"
       ]
      },
      {
       "output_type": "stream",
       "stream": "stdout",
       "text": [
        "\n",
        "6 May 2011(Brazil)"
       ]
      },
      {
       "output_type": "stream",
       "stream": "stdout",
       "text": [
        "\n",
        "5 March 2010(USA)"
       ]
      },
      {
       "output_type": "stream",
       "stream": "stdout",
       "text": [
        "\n",
        "15 February 2013(Spain)"
       ]
      },
      {
       "output_type": "stream",
       "stream": "stdout",
       "text": [
        "\n",
        "13 June 2014(USA)"
       ]
      },
      {
       "output_type": "stream",
       "stream": "stdout",
       "text": [
        "\n",
        "7 October 2007(UK)"
       ]
      },
      {
       "output_type": "stream",
       "stream": "stdout",
       "text": [
        "\n",
        "5 August 2005(UK)"
       ]
      },
      {
       "output_type": "stream",
       "stream": "stdout",
       "text": [
        "\n",
        "15 February 2014(USA)"
       ]
      },
      {
       "output_type": "stream",
       "stream": "stdout",
       "text": [
        "\n",
        "15 February 2013(Spain)"
       ]
      },
      {
       "output_type": "stream",
       "stream": "stdout",
       "text": [
        "\n",
        "26 April 1995(USA)"
       ]
      },
      {
       "output_type": "stream",
       "stream": "stdout",
       "text": [
        "\n",
        "27 July 2012(UK)"
       ]
      },
      {
       "output_type": "stream",
       "stream": "stdout",
       "text": [
        "\n",
        "11 September 1987(UK)"
       ]
      },
      {
       "output_type": "stream",
       "stream": "stdout",
       "text": [
        "\n",
        "6 June 2009(Iran)"
       ]
      },
      {
       "output_type": "stream",
       "stream": "stdout",
       "text": [
        "\n",
        "15 February 2013(Spain)"
       ]
      },
      {
       "output_type": "stream",
       "stream": "stdout",
       "text": [
        "\n",
        "22 August 1997(USA)"
       ]
      },
      {
       "output_type": "stream",
       "stream": "stdout",
       "text": [
        "\n",
        "1990(USA)"
       ]
      },
      {
       "output_type": "stream",
       "stream": "stdout",
       "text": [
        "\n",
        "16 December 1982(Brazil)"
       ]
      },
      {
       "output_type": "stream",
       "stream": "stdout",
       "text": [
        "\n",
        "8 March 1914(USA)"
       ]
      },
      {
       "output_type": "stream",
       "stream": "stdout",
       "text": [
        "\n",
        "15 February 2013(Spain)"
       ]
      },
      {
       "output_type": "stream",
       "stream": "stdout",
       "text": [
        "\n",
        "21 January 2014(USA)"
       ]
      },
      {
       "output_type": "stream",
       "stream": "stdout",
       "text": [
        "\n",
        "25 December 2009(USA)"
       ]
      },
      {
       "output_type": "stream",
       "stream": "stdout",
       "text": [
        "\n",
        "7 December 1990(Canada)"
       ]
      },
      {
       "output_type": "stream",
       "stream": "stdout",
       "text": [
        "\n",
        "15 February 2013(Spain)"
       ]
      },
      {
       "output_type": "stream",
       "stream": "stdout",
       "text": [
        "\n",
        "1990(USA)"
       ]
      },
      {
       "output_type": "stream",
       "stream": "stdout",
       "text": [
        "\n",
        "7 March 1975(Soviet Union)"
       ]
      },
      {
       "output_type": "stream",
       "stream": "stdout",
       "text": [
        "\n",
        "15 October 2004(South Korea)"
       ]
      },
      {
       "output_type": "stream",
       "stream": "stdout",
       "text": [
        "\n",
        "22 August 1955(Sweden)"
       ]
      },
      {
       "output_type": "stream",
       "stream": "stdout",
       "text": [
        "\n",
        "15 February 2013(Spain)"
       ]
      },
      {
       "output_type": "stream",
       "stream": "stdout",
       "text": [
        "\n",
        "26 September 2014(USA)"
       ]
      },
      {
       "output_type": "stream",
       "stream": "stdout",
       "text": [
        "\n",
        "15 February 2013(Spain)"
       ]
      },
      {
       "output_type": "stream",
       "stream": "stdout",
       "text": [
        "\n",
        "15 February 2013(Spain)"
       ]
      },
      {
       "output_type": "stream",
       "stream": "stdout",
       "text": [
        "\n",
        "27 August 2010(Czech Republic)"
       ]
      },
      {
       "output_type": "stream",
       "stream": "stdout",
       "text": [
        "\n",
        "7 August 2005(UK)"
       ]
      },
      {
       "output_type": "stream",
       "stream": "stdout",
       "text": [
        "\n",
        "23 October 1980(Australia)"
       ]
      },
      {
       "output_type": "stream",
       "stream": "stdout",
       "text": [
        "\n",
        "22 March 1985(USA)"
       ]
      },
      {
       "output_type": "stream",
       "stream": "stdout",
       "text": [
        "\n",
        "15 March 2012(Thailand)"
       ]
      },
      {
       "output_type": "stream",
       "stream": "stdout",
       "text": [
        "\n",
        "24 October 2014(USA)"
       ]
      },
      {
       "output_type": "stream",
       "stream": "stdout",
       "text": [
        "\n",
        "30 August 2013(Taiwan)"
       ]
      },
      {
       "output_type": "stream",
       "stream": "stdout",
       "text": [
        "\n",
        "13 April 2013(Germany)"
       ]
      },
      {
       "output_type": "stream",
       "stream": "stdout",
       "text": [
        "\n",
        "20 January 2012(India)"
       ]
      },
      {
       "output_type": "stream",
       "stream": "stdout",
       "text": [
        "\n",
        "15 February 2013(Spain)"
       ]
      },
      {
       "output_type": "stream",
       "stream": "stdout",
       "text": [
        "\n",
        "4 June 1982(USA)"
       ]
      },
      {
       "output_type": "stream",
       "stream": "stdout",
       "text": [
        "\n",
        "January 2013(Germany)"
       ]
      },
      {
       "output_type": "stream",
       "stream": "stdout",
       "text": [
        "\n",
        "1 September 1976(France)"
       ]
      },
      {
       "output_type": "stream",
       "stream": "stdout",
       "text": [
        "\n",
        "7 July 2011(Russia)"
       ]
      },
      {
       "output_type": "stream",
       "stream": "stdout",
       "text": [
        "\n",
        "15 February 2013(Spain)"
       ]
      },
      {
       "output_type": "stream",
       "stream": "stdout",
       "text": [
        "\n",
        "8 May 2009(USA)"
       ]
      },
      {
       "output_type": "stream",
       "stream": "stdout",
       "text": [
        "\n",
        "15 February 2013(Spain)"
       ]
      },
      {
       "output_type": "stream",
       "stream": "stdout",
       "text": [
        "\n",
        "30 March 2007(USA)"
       ]
      },
      {
       "output_type": "stream",
       "stream": "stdout",
       "text": [
        "\n",
        "11 October 2002(Spain)"
       ]
      },
      {
       "output_type": "stream",
       "stream": "stdout",
       "text": [
        "\n",
        "6 September 2001(Netherlands)"
       ]
      },
      {
       "output_type": "stream",
       "stream": "stdout",
       "text": [
        "\n",
        "15 February 2013(Spain)"
       ]
      },
      {
       "output_type": "stream",
       "stream": "stdout",
       "text": [
        "\n",
        "22 June 1966(USA)"
       ]
      },
      {
       "output_type": "stream",
       "stream": "stdout",
       "text": [
        "\n",
        "25 December 1996(USA)"
       ]
      },
      {
       "output_type": "stream",
       "stream": "stdout",
       "text": [
        "\n",
        "7 August 2013(USA)"
       ]
      },
      {
       "output_type": "stream",
       "stream": "stdout",
       "text": [
        "\n",
        "October 1971(Australia)"
       ]
      },
      {
       "output_type": "stream",
       "stream": "stdout",
       "text": [
        "\n",
        "21 February 2002(Germany)"
       ]
      },
      {
       "output_type": "stream",
       "stream": "stdout",
       "text": [
        "\n",
        "10 July 1987(USA)"
       ]
      },
      {
       "output_type": "stream",
       "stream": "stdout",
       "text": [
        "\n",
        "15 February 2013(Spain)"
       ]
      },
      {
       "output_type": "stream",
       "stream": "stdout",
       "text": [
        "\n",
        "15 February 2013(Spain)"
       ]
      },
      {
       "output_type": "stream",
       "stream": "stdout",
       "text": [
        "\n",
        "28 February 2014(Norway)"
       ]
      },
      {
       "output_type": "stream",
       "stream": "stdout",
       "text": [
        "\n",
        "18 October 2012(Russia)"
       ]
      },
      {
       "output_type": "stream",
       "stream": "stdout",
       "text": [
        "\n",
        "9 March 1949(France)"
       ]
      },
      {
       "output_type": "stream",
       "stream": "stdout",
       "text": [
        "\n",
        "2 August 1969(Japan)"
       ]
      },
      {
       "output_type": "stream",
       "stream": "stdout",
       "text": [
        "\n",
        "15 February 2013(Spain)"
       ]
      },
      {
       "output_type": "stream",
       "stream": "stdout",
       "text": [
        "\n",
        "19 January 2001(USA)"
       ]
      },
      {
       "output_type": "stream",
       "stream": "stdout",
       "text": [
        "\n",
        "29 June 1960(Italy)"
       ]
      },
      {
       "output_type": "stream",
       "stream": "stdout",
       "text": [
        "\n",
        "24 August 2001(Brazil)"
       ]
      },
      {
       "output_type": "stream",
       "stream": "stdout",
       "text": [
        "\n",
        "15 February 2013(Spain)"
       ]
      },
      {
       "output_type": "stream",
       "stream": "stdout",
       "text": [
        "\n",
        "9 January 2015(India)"
       ]
      },
      {
       "output_type": "stream",
       "stream": "stdout",
       "text": [
        "\n",
        "9 May 1962(Poland)"
       ]
      },
      {
       "output_type": "stream",
       "stream": "stdout",
       "text": [
        "\n",
        "11 December 2008(Germany)"
       ]
      },
      {
       "output_type": "stream",
       "stream": "stdout",
       "text": [
        "\n",
        "20 July 2011(South Korea)"
       ]
      },
      {
       "output_type": "stream",
       "stream": "stdout",
       "text": [
        "\n",
        "October 2014(UK)"
       ]
      },
      {
       "output_type": "stream",
       "stream": "stdout",
       "text": [
        "\n",
        "15 February 2013(Spain)"
       ]
      },
      {
       "output_type": "stream",
       "stream": "stdout",
       "text": [
        "\n",
        "13 February 2014(Italy)"
       ]
      },
      {
       "output_type": "stream",
       "stream": "stdout",
       "text": [
        "\n",
        "20 January 1952(Italy)"
       ]
      },
      {
       "output_type": "stream",
       "stream": "stdout",
       "text": [
        "\n",
        "5 October 2007(USA)"
       ]
      },
      {
       "output_type": "stream",
       "stream": "stdout",
       "text": [
        "\n",
        "15 February 2013(Spain)"
       ]
      },
      {
       "output_type": "stream",
       "stream": "stdout",
       "text": [
        "\n",
        "11 December 2012(USA)"
       ]
      },
      {
       "output_type": "stream",
       "stream": "stdout",
       "text": [
        "\n",
        "15 February 2013(Spain)"
       ]
      },
      {
       "output_type": "stream",
       "stream": "stdout",
       "text": [
        "\n",
        "15 February 2013(Spain)"
       ]
      },
      {
       "output_type": "stream",
       "stream": "stdout",
       "text": [
        "\n",
        "5 October 2007(USA)"
       ]
      },
      {
       "output_type": "stream",
       "stream": "stdout",
       "text": [
        "\n",
        "26 September 2014(USA)"
       ]
      },
      {
       "output_type": "stream",
       "stream": "stdout",
       "text": [
        "\n",
        "October 1979(West Germany)"
       ]
      },
      {
       "output_type": "stream",
       "stream": "stdout",
       "text": [
        "\n",
        "15 February 2013(Spain)"
       ]
      },
      {
       "output_type": "stream",
       "stream": "stdout",
       "text": [
        "\n",
        "15 February 2013(Spain)"
       ]
      },
      {
       "output_type": "stream",
       "stream": "stdout",
       "text": [
        "\n",
        "October 1981(Italy)"
       ]
      },
      {
       "output_type": "stream",
       "stream": "stdout",
       "text": [
        "\n",
        "14 December 2001(USA)"
       ]
      },
      {
       "output_type": "stream",
       "stream": "stdout",
       "text": [
        "\n",
        "9 October 1952(Japan)"
       ]
      },
      {
       "output_type": "stream",
       "stream": "stdout",
       "text": [
        "\n",
        "7 May 2014(France)"
       ]
      },
      {
       "output_type": "stream",
       "stream": "stdout",
       "text": [
        "\n",
        "4 February 2005(India)"
       ]
      },
      {
       "output_type": "stream",
       "stream": "stdout",
       "text": [
        "\n",
        "28 April 2006(USA)"
       ]
      },
      {
       "output_type": "stream",
       "stream": "stdout",
       "text": [
        "\n",
        "29 May 1963(USA)"
       ]
      },
      {
       "output_type": "stream",
       "stream": "stdout",
       "text": [
        "\n",
        "26 September 2014(USA)"
       ]
      },
      {
       "output_type": "stream",
       "stream": "stdout",
       "text": [
        "\n",
        "15 February 2013(Spain)"
       ]
      },
      {
       "output_type": "stream",
       "stream": "stdout",
       "text": [
        "\n",
        "2016(UK)"
       ]
      },
      {
       "output_type": "stream",
       "stream": "stdout",
       "text": [
        "\n",
        "10 July 1987(USA)"
       ]
      },
      {
       "output_type": "stream",
       "stream": "stdout",
       "text": [
        "\n",
        "5 September 2012(France)"
       ]
      },
      {
       "output_type": "stream",
       "stream": "stdout",
       "text": [
        "\n",
        "21 March 1991(Australia)"
       ]
      },
      {
       "output_type": "stream",
       "stream": "stdout",
       "text": [
        "\n",
        "30 March 1984(USA)"
       ]
      },
      {
       "output_type": "stream",
       "stream": "stdout",
       "text": [
        "\n",
        "15 February 2013(Spain)"
       ]
      },
      {
       "output_type": "stream",
       "stream": "stdout",
       "text": [
        "\n",
        "15 February 2013(Spain)"
       ]
      },
      {
       "output_type": "stream",
       "stream": "stdout",
       "text": [
        "\n",
        "23 October 1992(Brazil)"
       ]
      },
      {
       "output_type": "stream",
       "stream": "stdout",
       "text": [
        "\n",
        "11 December 2012(USA)"
       ]
      },
      {
       "output_type": "stream",
       "stream": "stdout",
       "text": [
        "\n",
        "5 February 2010(USA)"
       ]
      },
      {
       "output_type": "stream",
       "stream": "stdout",
       "text": [
        "\n",
        "18 November 1983(USA)"
       ]
      },
      {
       "output_type": "stream",
       "stream": "stdout",
       "text": [
        "\n",
        "2 December 1951(USA)"
       ]
      },
      {
       "output_type": "stream",
       "stream": "stdout",
       "text": [
        "\n",
        "15 February 2013(Spain)"
       ]
      },
      {
       "output_type": "stream",
       "stream": "stdout",
       "text": [
        "\n",
        "24 January 2014(USA)"
       ]
      },
      {
       "output_type": "stream",
       "stream": "stdout",
       "text": [
        "\n",
        "3 March 2006(UK)"
       ]
      },
      {
       "output_type": "stream",
       "stream": "stdout",
       "text": [
        "\n",
        "4 October 1972(West Germany)"
       ]
      },
      {
       "output_type": "stream",
       "stream": "stdout",
       "text": [
        "\n",
        "15 February 2013(Spain)"
       ]
      },
      {
       "output_type": "stream",
       "stream": "stdout",
       "text": [
        "\n",
        "28 June 1979(Canada)"
       ]
      },
      {
       "output_type": "stream",
       "stream": "stdout",
       "text": [
        "\n",
        "14 September 1994(France)"
       ]
      },
      {
       "output_type": "stream",
       "stream": "stdout",
       "text": [
        "\n",
        "12 December 2003(USA)"
       ]
      },
      {
       "output_type": "stream",
       "stream": "stdout",
       "text": [
        "\n",
        "2016(USA)"
       ]
      },
      {
       "output_type": "stream",
       "stream": "stdout",
       "text": [
        "\n",
        "19 June 1954(USA)"
       ]
      },
      {
       "output_type": "stream",
       "stream": "stdout",
       "text": [
        "\n",
        "25 December 1992(Brazil)"
       ]
      },
      {
       "output_type": "stream",
       "stream": "stdout",
       "text": [
        "\n",
        "October 2009(Brazil)"
       ]
      },
      {
       "output_type": "stream",
       "stream": "stdout",
       "text": [
        "\n",
        "15 February 2013(Spain)"
       ]
      },
      {
       "output_type": "stream",
       "stream": "stdout",
       "text": [
        "\n",
        "14 January 1970(Denmark)"
       ]
      },
      {
       "output_type": "stream",
       "stream": "stdout",
       "text": [
        "\n",
        "14 July 2000(USA)"
       ]
      },
      {
       "output_type": "stream",
       "stream": "stdout",
       "text": [
        "\n",
        "24 June 2009(USA)"
       ]
      },
      {
       "output_type": "stream",
       "stream": "stdout",
       "text": [
        "\n",
        "1 July 1989(Japan)"
       ]
      },
      {
       "output_type": "stream",
       "stream": "stdout",
       "text": [
        "\n",
        "15 February 2013(Spain)"
       ]
      },
      {
       "output_type": "stream",
       "stream": "stdout",
       "text": [
        "\n",
        "21 October 1994(Sweden)"
       ]
      },
      {
       "output_type": "stream",
       "stream": "stdout",
       "text": [
        "\n",
        "2016(USA)"
       ]
      },
      {
       "output_type": "stream",
       "stream": "stdout",
       "text": [
        "\n",
        "30 December 2011(Brazil)"
       ]
      },
      {
       "output_type": "stream",
       "stream": "stdout",
       "text": [
        "\n",
        "22 October 1971(USA)"
       ]
      },
      {
       "output_type": "stream",
       "stream": "stdout",
       "text": [
        "\n",
        "10 July 1987(USA)"
       ]
      },
      {
       "output_type": "stream",
       "stream": "stdout",
       "text": [
        "\n",
        "13 June 2003(Portugal)"
       ]
      },
      {
       "output_type": "stream",
       "stream": "stdout",
       "text": [
        "\n",
        "20 December 2014(USA)"
       ]
      },
      {
       "output_type": "stream",
       "stream": "stdout",
       "text": [
        "\n",
        "15 February 2013(Spain)"
       ]
      },
      {
       "output_type": "stream",
       "stream": "stdout",
       "text": [
        "\n",
        "20 December 2007(Germany)"
       ]
      },
      {
       "output_type": "stream",
       "stream": "stdout",
       "text": [
        "\n",
        "3 November 1939(USA)"
       ]
      },
      {
       "output_type": "stream",
       "stream": "stdout",
       "text": [
        "\n",
        "2 July 2014(USA)"
       ]
      },
      {
       "output_type": "stream",
       "stream": "stdout",
       "text": [
        "\n",
        "10 February 2012(USA)"
       ]
      },
      {
       "output_type": "stream",
       "stream": "stdout",
       "text": [
        "\n",
        "2 August 1978(USA)"
       ]
      },
      {
       "output_type": "stream",
       "stream": "stdout",
       "text": [
        "\n",
        "15 February 2013(Spain)"
       ]
      },
      {
       "output_type": "stream",
       "stream": "stdout",
       "text": [
        "\n",
        "12 May 2000(Iceland)"
       ]
      },
      {
       "output_type": "stream",
       "stream": "stdout",
       "text": [
        "\n",
        "15 February 2013(Spain)"
       ]
      },
      {
       "output_type": "stream",
       "stream": "stdout",
       "text": [
        "\n",
        "2015(USA)"
       ]
      },
      {
       "output_type": "stream",
       "stream": "stdout",
       "text": [
        "\n",
        "11 January 2008(USA)"
       ]
      },
      {
       "output_type": "stream",
       "stream": "stdout",
       "text": [
        "\n",
        "15 February 2013(Spain)"
       ]
      },
      {
       "output_type": "stream",
       "stream": "stdout",
       "text": [
        "\n",
        "15 February 2013(Spain)"
       ]
      },
      {
       "output_type": "stream",
       "stream": "stdout",
       "text": [
        "\n",
        "26 November 1997(France)"
       ]
      },
      {
       "output_type": "stream",
       "stream": "stdout",
       "text": [
        "\n",
        "16 February 1990(USA)"
       ]
      },
      {
       "output_type": "stream",
       "stream": "stdout",
       "text": [
        "\n",
        "6 September 2001(Netherlands)"
       ]
      },
      {
       "output_type": "stream",
       "stream": "stdout",
       "text": [
        "\n",
        "25 July 1980(USA)"
       ]
      },
      {
       "output_type": "stream",
       "stream": "stdout",
       "text": [
        "\n",
        "12 June 1970(Brazil)"
       ]
      },
      {
       "output_type": "stream",
       "stream": "stdout",
       "text": [
        "\n",
        "15 February 2013(Spain)"
       ]
      },
      {
       "output_type": "stream",
       "stream": "stdout",
       "text": [
        "\n",
        "9 May 1986(Sweden)"
       ]
      },
      {
       "output_type": "stream",
       "stream": "stdout",
       "text": [
        "\n",
        "3 June 1988(USA)"
       ]
      },
      {
       "output_type": "stream",
       "stream": "stdout",
       "text": [
        "\n",
        "24 June 1994(USA)"
       ]
      },
      {
       "output_type": "stream",
       "stream": "stdout",
       "text": [
        "\n",
        "27 October 1995(USA)"
       ]
      },
      {
       "output_type": "stream",
       "stream": "stdout",
       "text": [
        "\n",
        "10 June 2013(UK)"
       ]
      },
      {
       "output_type": "stream",
       "stream": "stdout",
       "text": [
        "\n",
        "11 November 2011(UK)"
       ]
      },
      {
       "output_type": "stream",
       "stream": "stdout",
       "text": [
        "\n",
        "15 February 2013(Spain)"
       ]
      },
      {
       "output_type": "stream",
       "stream": "stdout",
       "text": [
        "\n",
        "15 July 2005(USA)"
       ]
      },
      {
       "output_type": "stream",
       "stream": "stdout",
       "text": [
        "\n",
        "1 May 2013(Philippines)"
       ]
      },
      {
       "output_type": "stream",
       "stream": "stdout",
       "text": [
        "\n",
        "19 December 1969(USA)"
       ]
      },
      {
       "output_type": "stream",
       "stream": "stdout",
       "text": [
        "\n",
        "15 February 2013(Spain)"
       ]
      },
      {
       "output_type": "stream",
       "stream": "stdout",
       "text": [
        "\n",
        "25 December 2012(USA)"
       ]
      },
      {
       "output_type": "stream",
       "stream": "stdout",
       "text": [
        "\n",
        "25 February 1994(Denmark)"
       ]
      },
      {
       "output_type": "stream",
       "stream": "stdout",
       "text": [
        "\n",
        "20 October 2000(Brazil)"
       ]
      },
      {
       "output_type": "stream",
       "stream": "stdout",
       "text": [
        "\n",
        "15 February 2013(Spain)"
       ]
      },
      {
       "output_type": "stream",
       "stream": "stdout",
       "text": [
        "\n",
        "26 November 2004(Brazil)"
       ]
      },
      {
       "output_type": "stream",
       "stream": "stdout",
       "text": [
        "\n",
        "29 October 1952(Argentina)"
       ]
      },
      {
       "output_type": "stream",
       "stream": "stdout",
       "text": [
        "\n",
        "15 February 2013(Spain)"
       ]
      },
      {
       "output_type": "stream",
       "stream": "stdout",
       "text": [
        "\n",
        "11 January 2013(USA)"
       ]
      },
      {
       "output_type": "stream",
       "stream": "stdout",
       "text": [
        "\n",
        "20 June 2014(USA)"
       ]
      },
      {
       "output_type": "stream",
       "stream": "stdout",
       "text": [
        "\n",
        "27 November 2002(USA)"
       ]
      },
      {
       "output_type": "stream",
       "stream": "stdout",
       "text": [
        "\n",
        "15 February 2013(Spain)"
       ]
      },
      {
       "output_type": "stream",
       "stream": "stdout",
       "text": [
        "\n",
        "18 December 1979(Brazil)"
       ]
      },
      {
       "output_type": "stream",
       "stream": "stdout",
       "text": [
        "\n",
        "15 February 2013(Spain)"
       ]
      },
      {
       "output_type": "stream",
       "stream": "stdout",
       "text": [
        "\n",
        "15 February 2014(USA)"
       ]
      },
      {
       "output_type": "stream",
       "stream": "stdout",
       "text": [
        "\n",
        "2 November 2012(Switzerland)"
       ]
      },
      {
       "output_type": "stream",
       "stream": "stdout",
       "text": [
        "\n",
        "18 October 2001(Singapore)"
       ]
      },
      {
       "output_type": "stream",
       "stream": "stdout",
       "text": [
        "\n",
        "16 December 1959(France)"
       ]
      },
      {
       "output_type": "stream",
       "stream": "stdout",
       "text": [
        "\n",
        "15 February 2013(Spain)"
       ]
      },
      {
       "output_type": "stream",
       "stream": "stdout",
       "text": [
        "\n",
        "January 1979(USA)"
       ]
      },
      {
       "output_type": "stream",
       "stream": "stdout",
       "text": [
        "\n",
        "26 August 1955(India)"
       ]
      },
      {
       "output_type": "stream",
       "stream": "stdout",
       "text": [
        "\n",
        "25 December 2012(USA)"
       ]
      },
      {
       "output_type": "stream",
       "stream": "stdout",
       "text": [
        "\n",
        "8 December 1989(USA)"
       ]
      },
      {
       "output_type": "stream",
       "stream": "stdout",
       "text": [
        "\n",
        "20 December 2002(Turkey)"
       ]
      },
      {
       "output_type": "stream",
       "stream": "stdout",
       "text": [
        "\n",
        "10 July 1987(USA)"
       ]
      },
      {
       "output_type": "stream",
       "stream": "stdout",
       "text": [
        "\n",
        "15 February 2013(Spain)"
       ]
      },
      {
       "output_type": "stream",
       "stream": "stdout",
       "text": [
        "\n",
        "15 February 2013(Spain)"
       ]
      },
      {
       "output_type": "stream",
       "stream": "stdout",
       "text": [
        "\n",
        "14 November 2014(USA)"
       ]
      },
      {
       "output_type": "stream",
       "stream": "stdout",
       "text": [
        "\n",
        "2015(USA)"
       ]
      },
      {
       "output_type": "stream",
       "stream": "stdout",
       "text": [
        "\n",
        "15 February 2013(Spain)"
       ]
      },
      {
       "output_type": "stream",
       "stream": "stdout",
       "text": [
        "\n",
        "26 December 1997(UK)"
       ]
      },
      {
       "output_type": "stream",
       "stream": "stdout",
       "text": [
        "\n",
        "15 February 2013(Spain)"
       ]
      },
      {
       "output_type": "stream",
       "stream": "stdout",
       "text": [
        "\n",
        "15 February 2013(Spain)"
       ]
      },
      {
       "output_type": "stream",
       "stream": "stdout",
       "text": [
        "\n",
        "15 February 2013(Spain)"
       ]
      },
      {
       "output_type": "stream",
       "stream": "stdout",
       "text": [
        "\n",
        "16 December 1967(France)"
       ]
      },
      {
       "output_type": "stream",
       "stream": "stdout",
       "text": [
        "\n",
        "14 October 1972(Italy)"
       ]
      },
      {
       "output_type": "stream",
       "stream": "stdout",
       "text": [
        "\n",
        "19 February 1968(Sweden)"
       ]
      },
      {
       "output_type": "stream",
       "stream": "stdout",
       "text": [
        "\n",
        "15 February 2013(Spain)"
       ]
      },
      {
       "output_type": "stream",
       "stream": "stdout",
       "text": [
        "\n",
        "22 August 1986(USA)"
       ]
      },
      {
       "output_type": "stream",
       "stream": "stdout",
       "text": [
        "\n",
        "5 December 2008(Brazil)"
       ]
      },
      {
       "output_type": "stream",
       "stream": "stdout",
       "text": [
        "\n",
        "18 April 1965(UK)"
       ]
      },
      {
       "output_type": "stream",
       "stream": "stdout",
       "text": [
        "\n",
        "6 July 1976(USA)"
       ]
      },
      {
       "output_type": "stream",
       "stream": "stdout",
       "text": [
        "\n",
        "9 September 2006(Iceland)"
       ]
      },
      {
       "output_type": "stream",
       "stream": "stdout",
       "text": [
        "\n",
        "31 May 1991(USA)"
       ]
      },
      {
       "output_type": "stream",
       "stream": "stdout",
       "text": [
        "\n",
        "14 October 2016(USA)"
       ]
      },
      {
       "output_type": "stream",
       "stream": "stdout",
       "text": [
        "\n",
        "23 September 1963(Sweden)"
       ]
      },
      {
       "output_type": "stream",
       "stream": "stdout",
       "text": [
        "\n",
        "10 October 1975(Canada)"
       ]
      },
      {
       "output_type": "stream",
       "stream": "stdout",
       "text": [
        "\n",
        "6 January 2006(UK)"
       ]
      },
      {
       "output_type": "stream",
       "stream": "stdout",
       "text": [
        "\n",
        "19 November 1926(Finland)"
       ]
      },
      {
       "output_type": "stream",
       "stream": "stdout",
       "text": [
        "\n",
        "26 September 1995(USA)"
       ]
      },
      {
       "output_type": "stream",
       "stream": "stdout",
       "text": [
        "\n",
        "15 February 2013(Spain)"
       ]
      },
      {
       "output_type": "stream",
       "stream": "stdout",
       "text": [
        "\n",
        "15 February 2013(Spain)"
       ]
      },
      {
       "output_type": "stream",
       "stream": "stdout",
       "text": [
        "\n",
        "28 April 1981(USA)"
       ]
      },
      {
       "output_type": "stream",
       "stream": "stdout",
       "text": [
        "\n",
        "9 January 2015(India)"
       ]
      },
      {
       "output_type": "stream",
       "stream": "stdout",
       "text": [
        "\n",
        "February 2008(USA)"
       ]
      },
      {
       "output_type": "stream",
       "stream": "stdout",
       "text": [
        "\n",
        "13 December 2004(USA)"
       ]
      },
      {
       "output_type": "stream",
       "stream": "stdout",
       "text": [
        "\n",
        "7 March 2013(Argentina)"
       ]
      },
      {
       "output_type": "stream",
       "stream": "stdout",
       "text": [
        "\n",
        "15 February 2013(Spain)"
       ]
      },
      {
       "output_type": "stream",
       "stream": "stdout",
       "text": [
        "\n",
        "2 June 1983(Italy)"
       ]
      },
      {
       "output_type": "stream",
       "stream": "stdout",
       "text": [
        "\n",
        "23 November 1994(USA)"
       ]
      },
      {
       "output_type": "stream",
       "stream": "stdout",
       "text": [
        "\n",
        "15 February 2013(Spain)"
       ]
      },
      {
       "output_type": "stream",
       "stream": "stdout",
       "text": [
        "\n",
        "15 February 2013(Spain)"
       ]
      },
      {
       "output_type": "stream",
       "stream": "stdout",
       "text": [
        "\n",
        "15 February 2013(Spain)"
       ]
      },
      {
       "output_type": "stream",
       "stream": "stdout",
       "text": [
        "\n",
        "7 February 2008(Australia)"
       ]
      },
      {
       "output_type": "stream",
       "stream": "stdout",
       "text": [
        "\n",
        "3 April 1965(Japan)"
       ]
      },
      {
       "output_type": "stream",
       "stream": "stdout",
       "text": [
        "\n",
        "24 August 1978(UK)"
       ]
      },
      {
       "output_type": "stream",
       "stream": "stdout",
       "text": [
        "\n",
        "2 November 2012(Brazil)"
       ]
      },
      {
       "output_type": "stream",
       "stream": "stdout",
       "text": [
        "\n",
        "1 February 2012(France)"
       ]
      },
      {
       "output_type": "stream",
       "stream": "stdout",
       "text": [
        "\n",
        "6 October 2006(Canada)"
       ]
      },
      {
       "output_type": "stream",
       "stream": "stdout",
       "text": [
        "\n",
        "15 February 2013(Spain)"
       ]
      },
      {
       "output_type": "stream",
       "stream": "stdout",
       "text": [
        "\n",
        "15 August 1979(USA)"
       ]
      },
      {
       "output_type": "stream",
       "stream": "stdout",
       "text": [
        "\n",
        "29 April 1994(USA)"
       ]
      },
      {
       "output_type": "stream",
       "stream": "stdout",
       "text": [
        "\n",
        "26 December 1997(UK)"
       ]
      },
      {
       "output_type": "stream",
       "stream": "stdout",
       "text": [
        "\n",
        "4 September 2014(Israel)"
       ]
      },
      {
       "output_type": "stream",
       "stream": "stdout",
       "text": [
        "\n",
        "13 June 2014(USA)"
       ]
      },
      {
       "output_type": "stream",
       "stream": "stdout",
       "text": [
        "\n",
        "28 March 2014(USA)"
       ]
      },
      {
       "output_type": "stream",
       "stream": "stdout",
       "text": [
        "\n",
        "February 1953(USA)"
       ]
      },
      {
       "output_type": "stream",
       "stream": "stdout",
       "text": [
        "\n",
        "15 February 2013(Spain)"
       ]
      },
      {
       "output_type": "stream",
       "stream": "stdout",
       "text": [
        "\n",
        "4 November 2011(UK)"
       ]
      },
      {
       "output_type": "stream",
       "stream": "stdout",
       "text": [
        "\n",
        "14 September 2007(Brazil)"
       ]
      },
      {
       "output_type": "stream",
       "stream": "stdout",
       "text": [
        "\n",
        "6 January 2006(UK)"
       ]
      },
      {
       "output_type": "stream",
       "stream": "stdout",
       "text": [
        "\n",
        "10 October 2006(Germany)"
       ]
      },
      {
       "output_type": "stream",
       "stream": "stdout",
       "text": [
        "\n",
        "15 February 2013(Spain)"
       ]
      },
      {
       "output_type": "stream",
       "stream": "stdout",
       "text": [
        "\n",
        "16 May 1998(France)"
       ]
      },
      {
       "output_type": "stream",
       "stream": "stdout",
       "text": [
        "\n",
        "6 May 1932(Germany)"
       ]
      },
      {
       "output_type": "stream",
       "stream": "stdout",
       "text": [
        "\n",
        "13 October 1994(Australia)"
       ]
      },
      {
       "output_type": "stream",
       "stream": "stdout",
       "text": [
        "\n",
        "15 February 2013(Spain)"
       ]
      },
      {
       "output_type": "stream",
       "stream": "stdout",
       "text": [
        "\n",
        "20 September 2007(Australia)"
       ]
      },
      {
       "output_type": "stream",
       "stream": "stdout",
       "text": [
        "\n",
        "15 February 2013(Spain)"
       ]
      },
      {
       "output_type": "stream",
       "stream": "stdout",
       "text": [
        "\n",
        "1982(Switzerland)"
       ]
      },
      {
       "output_type": "stream",
       "stream": "stdout",
       "text": [
        "\n",
        "29 August 2014(USA)"
       ]
      },
      {
       "output_type": "stream",
       "stream": "stdout",
       "text": [
        "\n",
        "12 April 1962(Italy)"
       ]
      },
      {
       "output_type": "stream",
       "stream": "stdout",
       "text": [
        "\n",
        "2 March 2007(USA)"
       ]
      },
      {
       "output_type": "stream",
       "stream": "stdout",
       "text": [
        "\n",
        "15 February 2013(Spain)"
       ]
      },
      {
       "output_type": "stream",
       "stream": "stdout",
       "text": [
        "\n",
        "7 May 1997(France)"
       ]
      },
      {
       "output_type": "stream",
       "stream": "stdout",
       "text": [
        "\n",
        "11 December 2014(New Zealand)"
       ]
      },
      {
       "output_type": "stream",
       "stream": "stdout",
       "text": [
        "\n",
        "10 October 2003(USA)"
       ]
      },
      {
       "output_type": "stream",
       "stream": "stdout",
       "text": [
        "\n",
        "3 October 2014(USA)"
       ]
      },
      {
       "output_type": "stream",
       "stream": "stdout",
       "text": [
        "\n",
        "4 March 1994(USA)"
       ]
      },
      {
       "output_type": "stream",
       "stream": "stdout",
       "text": [
        "\n",
        "26 July 2007(Hong Kong)"
       ]
      },
      {
       "output_type": "stream",
       "stream": "stdout",
       "text": [
        "\n",
        "23 November 2001(Brazil)"
       ]
      },
      {
       "output_type": "stream",
       "stream": "stdout",
       "text": [
        "\n",
        "22 December 2006(Brazil)"
       ]
      },
      {
       "output_type": "stream",
       "stream": "stdout",
       "text": [
        "\n",
        "23 April 2010(Brazil)"
       ]
      },
      {
       "output_type": "stream",
       "stream": "stdout",
       "text": [
        "\n",
        "4 August 1995(USA)"
       ]
      },
      {
       "output_type": "stream",
       "stream": "stdout",
       "text": [
        "\n",
        "5 February 2010(USA)"
       ]
      },
      {
       "output_type": "stream",
       "stream": "stdout",
       "text": [
        "\n",
        "5 February 2010(USA)"
       ]
      },
      {
       "output_type": "stream",
       "stream": "stdout",
       "text": [
        "\n",
        "13 June 2014(Turkey)"
       ]
      },
      {
       "output_type": "stream",
       "stream": "stdout",
       "text": [
        "\n",
        "9 January 2015(India)"
       ]
      },
      {
       "output_type": "stream",
       "stream": "stdout",
       "text": [
        "\n",
        "21 November 1964(Japan)"
       ]
      },
      {
       "output_type": "stream",
       "stream": "stdout",
       "text": [
        "\n",
        "28 November 2007(Canada)"
       ]
      },
      {
       "output_type": "stream",
       "stream": "stdout",
       "text": [
        "\n",
        "22 November 2010(Romania)"
       ]
      },
      {
       "output_type": "stream",
       "stream": "stdout",
       "text": [
        "\n",
        "21 September 2012(Brazil)"
       ]
      },
      {
       "output_type": "stream",
       "stream": "stdout",
       "text": [
        "\n",
        "20 August 2013(USA)"
       ]
      },
      {
       "output_type": "stream",
       "stream": "stdout",
       "text": [
        "\n",
        "21 June 1947(USA)"
       ]
      },
      {
       "output_type": "stream",
       "stream": "stdout",
       "text": [
        "\n",
        "15 February 2013(Spain)"
       ]
      },
      {
       "output_type": "stream",
       "stream": "stdout",
       "text": [
        "\n",
        "22 August 1986(USA)"
       ]
      },
      {
       "output_type": "stream",
       "stream": "stdout",
       "text": [
        "\n",
        "29 April 2011(USA)"
       ]
      },
      {
       "output_type": "stream",
       "stream": "stdout",
       "text": [
        "\n",
        "4 October 1971(Denmark)"
       ]
      },
      {
       "output_type": "stream",
       "stream": "stdout",
       "text": [
        "\n",
        "5 October 2007(USA)"
       ]
      },
      {
       "output_type": "stream",
       "stream": "stdout",
       "text": [
        "\n",
        "15 July 2005(USA)"
       ]
      },
      {
       "output_type": "stream",
       "stream": "stdout",
       "text": [
        "\n",
        "30 October 2009(UK)"
       ]
      },
      {
       "output_type": "stream",
       "stream": "stdout",
       "text": [
        "\n",
        "15 February 2013(Spain)"
       ]
      },
      {
       "output_type": "stream",
       "stream": "stdout",
       "text": [
        "\n",
        "15 February 2013(Spain)"
       ]
      },
      {
       "output_type": "stream",
       "stream": "stdout",
       "text": [
        "\n",
        "9 January 2015(India)"
       ]
      },
      {
       "output_type": "stream",
       "stream": "stdout",
       "text": [
        "\n",
        "15 February 2013(Spain)"
       ]
      },
      {
       "output_type": "stream",
       "stream": "stdout",
       "text": [
        "\n",
        "31 August 1987(USA)"
       ]
      },
      {
       "output_type": "stream",
       "stream": "stdout",
       "text": [
        "\n",
        "15 February 2013(Spain)"
       ]
      },
      {
       "output_type": "stream",
       "stream": "stdout",
       "text": [
        "\n",
        "15 February 2013(Spain)"
       ]
      },
      {
       "output_type": "stream",
       "stream": "stdout",
       "text": [
        "\n",
        "15 February 2013(Spain)"
       ]
      },
      {
       "output_type": "stream",
       "stream": "stdout",
       "text": [
        "\n",
        "2 January 1939(UK)"
       ]
      },
      {
       "output_type": "stream",
       "stream": "stdout",
       "text": [
        "\n",
        "15 February 2013(Spain)"
       ]
      },
      {
       "output_type": "stream",
       "stream": "stdout",
       "text": [
        "\n",
        "24 September 2008(USA)"
       ]
      },
      {
       "output_type": "stream",
       "stream": "stdout",
       "text": [
        "\n",
        "4 August 2007(Japan)"
       ]
      },
      {
       "output_type": "stream",
       "stream": "stdout",
       "text": [
        "\n",
        "20 November 1987(Yugoslavia)"
       ]
      },
      {
       "output_type": "stream",
       "stream": "stdout",
       "text": [
        "\n",
        "15 February 2013(Spain)"
       ]
      },
      {
       "output_type": "stream",
       "stream": "stdout",
       "text": [
        "\n",
        "15 February 2013(Spain)"
       ]
      },
      {
       "output_type": "stream",
       "stream": "stdout",
       "text": [
        "\n",
        "15 February 2013(Spain)"
       ]
      },
      {
       "output_type": "stream",
       "stream": "stdout",
       "text": [
        "\n",
        "8 April 1977(Canada)"
       ]
      },
      {
       "output_type": "stream",
       "stream": "stdout",
       "text": [
        "\n",
        "1935(USA)"
       ]
      },
      {
       "output_type": "stream",
       "stream": "stdout",
       "text": [
        "\n",
        "24 July 2009(USA)"
       ]
      },
      {
       "output_type": "stream",
       "stream": "stdout",
       "text": [
        "\n",
        "15 February 2013(Spain)"
       ]
      },
      {
       "output_type": "stream",
       "stream": "stdout",
       "text": [
        "\n",
        "1 February 2012(France)"
       ]
      },
      {
       "output_type": "stream",
       "stream": "stdout",
       "text": [
        "\n",
        "11 December 1986(Brazil)"
       ]
      },
      {
       "output_type": "stream",
       "stream": "stdout",
       "text": [
        "\n",
        "23 November 1985(Japan)"
       ]
      },
      {
       "output_type": "stream",
       "stream": "stdout",
       "text": [
        "\n",
        "26 September 2014(USA)"
       ]
      },
      {
       "output_type": "stream",
       "stream": "stdout",
       "text": [
        "\n",
        "15 February 2013(Spain)"
       ]
      },
      {
       "output_type": "stream",
       "stream": "stdout",
       "text": [
        "\n",
        "15 February 2013(Spain)"
       ]
      },
      {
       "output_type": "stream",
       "stream": "stdout",
       "text": [
        "\n",
        "10 January 1955(Denmark)"
       ]
      },
      {
       "output_type": "stream",
       "stream": "stdout",
       "text": [
        "\n",
        "11 May 2007(UK)"
       ]
      },
      {
       "output_type": "stream",
       "stream": "stdout",
       "text": [
        "\n",
        "8 April 1953(France)"
       ]
      },
      {
       "output_type": "stream",
       "stream": "stdout",
       "text": [
        "\n",
        "15 February 2013(Spain)"
       ]
      },
      {
       "output_type": "stream",
       "stream": "stdout",
       "text": [
        "\n",
        "1983(Yugoslavia)"
       ]
      },
      {
       "output_type": "stream",
       "stream": "stdout",
       "text": [
        "\n",
        "13 June 2014(USA)"
       ]
      },
      {
       "output_type": "stream",
       "stream": "stdout",
       "text": [
        "\n",
        "1996(UK)"
       ]
      },
      {
       "output_type": "stream",
       "stream": "stdout",
       "text": [
        "\n",
        "15 February 2013(Spain)"
       ]
      },
      {
       "output_type": "stream",
       "stream": "stdout",
       "text": [
        "\n",
        "22 April 2000(South Korea)"
       ]
      },
      {
       "output_type": "stream",
       "stream": "stdout",
       "text": [
        "\n",
        "15 February 2013(Spain)"
       ]
      },
      {
       "output_type": "stream",
       "stream": "stdout",
       "text": [
        "\n",
        "5 September 2014(USA)"
       ]
      },
      {
       "output_type": "stream",
       "stream": "stdout",
       "text": [
        "\n",
        "15 February 2013(Spain)"
       ]
      },
      {
       "output_type": "stream",
       "stream": "stdout",
       "text": [
        "\n",
        "25 May 2006(UK)"
       ]
      },
      {
       "output_type": "stream",
       "stream": "stdout",
       "text": [
        "\n",
        "15 February 2013(Spain)"
       ]
      },
      {
       "output_type": "stream",
       "stream": "stdout",
       "text": [
        "\n",
        "8 November 2002(USA)"
       ]
      },
      {
       "output_type": "stream",
       "stream": "stdout",
       "text": [
        "\n",
        "7 November 2003(Greece)"
       ]
      },
      {
       "output_type": "stream",
       "stream": "stdout",
       "text": [
        "\n",
        "7 January 1947(USA)"
       ]
      },
      {
       "output_type": "stream",
       "stream": "stdout",
       "text": [
        "\n",
        "6 March 2005(UK)"
       ]
      },
      {
       "output_type": "stream",
       "stream": "stdout",
       "text": [
        "\n",
        "15 February 2013(Spain)"
       ]
      },
      {
       "output_type": "stream",
       "stream": "stdout",
       "text": [
        "\n",
        "1996(UK)"
       ]
      },
      {
       "output_type": "stream",
       "stream": "stdout",
       "text": [
        "\n",
        "21 November 2014(USA)"
       ]
      },
      {
       "output_type": "stream",
       "stream": "stdout",
       "text": [
        "\n",
        "15 February 2013(Spain)"
       ]
      },
      {
       "output_type": "stream",
       "stream": "stdout",
       "text": [
        "\n",
        "11 February 2011(Brazil)"
       ]
      },
      {
       "output_type": "stream",
       "stream": "stdout",
       "text": [
        "\n",
        "30 September 1988(USA)"
       ]
      },
      {
       "output_type": "stream",
       "stream": "stdout",
       "text": [
        "\n",
        "15 February 2013(Spain)"
       ]
      },
      {
       "output_type": "stream",
       "stream": "stdout",
       "text": [
        "\n",
        "15 February 2013(Spain)"
       ]
      },
      {
       "output_type": "stream",
       "stream": "stdout",
       "text": [
        "\n",
        "12 December 2007(USA)"
       ]
      },
      {
       "output_type": "stream",
       "stream": "stdout",
       "text": [
        "\n",
        "5 October 2007(USA)"
       ]
      },
      {
       "output_type": "stream",
       "stream": "stdout",
       "text": [
        "\n",
        "15 February 2013(Spain)"
       ]
      },
      {
       "output_type": "stream",
       "stream": "stdout",
       "text": [
        "\n",
        "5 February 2010(USA)"
       ]
      },
      {
       "output_type": "stream",
       "stream": "stdout",
       "text": [
        "\n",
        "23 January 2013(USA)"
       ]
      },
      {
       "output_type": "stream",
       "stream": "stdout",
       "text": [
        "\n",
        "23 April 1993(USA)"
       ]
      },
      {
       "output_type": "stream",
       "stream": "stdout",
       "text": [
        "\n",
        "15 February 2013(Spain)"
       ]
      },
      {
       "output_type": "stream",
       "stream": "stdout",
       "text": [
        "\n",
        "29 June 2001(Spain)"
       ]
      },
      {
       "output_type": "stream",
       "stream": "stdout",
       "text": [
        "\n",
        "15 February 2013(Spain)"
       ]
      },
      {
       "output_type": "stream",
       "stream": "stdout",
       "text": [
        "\n",
        "20 March 2014(Sweden)"
       ]
      },
      {
       "output_type": "stream",
       "stream": "stdout",
       "text": [
        "\n",
        "7 November 2014(USA)"
       ]
      },
      {
       "output_type": "stream",
       "stream": "stdout",
       "text": [
        "\n",
        "2 September 2011(Brazil)"
       ]
      },
      {
       "output_type": "stream",
       "stream": "stdout",
       "text": [
        "\n",
        "3 June 1988(USA)"
       ]
      },
      {
       "output_type": "stream",
       "stream": "stdout",
       "text": [
        "\n",
        "22 March 2012(Japan)"
       ]
      },
      {
       "output_type": "stream",
       "stream": "stdout",
       "text": [
        "\n",
        "23 May 2003(USA)"
       ]
      },
      {
       "output_type": "stream",
       "stream": "stdout",
       "text": [
        "\n",
        "12 May 2005(South Korea)"
       ]
      },
      {
       "output_type": "stream",
       "stream": "stdout",
       "text": [
        "\n",
        "19 December 2014(USA)"
       ]
      },
      {
       "output_type": "stream",
       "stream": "stdout",
       "text": [
        "\n",
        "19 March 1982(Canada)"
       ]
      },
      {
       "output_type": "stream",
       "stream": "stdout",
       "text": [
        "\n",
        "23 January 2009(Sweden)"
       ]
      },
      {
       "output_type": "stream",
       "stream": "stdout",
       "text": [
        "\n",
        "13 April 2012(USA)"
       ]
      },
      {
       "output_type": "stream",
       "stream": "stdout",
       "text": [
        "\n",
        "11 December 2014(New Zealand)"
       ]
      },
      {
       "output_type": "stream",
       "stream": "stdout",
       "text": [
        "\n",
        "17 September 2010(Ireland)"
       ]
      },
      {
       "output_type": "stream",
       "stream": "stdout",
       "text": [
        "\n",
        "25 May 1990(USA)"
       ]
      },
      {
       "output_type": "stream",
       "stream": "stdout",
       "text": [
        "\n",
        "17 August 1961(Sweden)"
       ]
      },
      {
       "output_type": "stream",
       "stream": "stdout",
       "text": [
        "\n",
        "15 February 2013(Spain)"
       ]
      },
      {
       "output_type": "stream",
       "stream": "stdout",
       "text": [
        "\n",
        "8 February 1926(USA)"
       ]
      },
      {
       "output_type": "stream",
       "stream": "stdout",
       "text": [
        "\n",
        "1 February 1985(USA)"
       ]
      },
      {
       "output_type": "stream",
       "stream": "stdout",
       "text": [
        "\n",
        "13 February 2009(USA)"
       ]
      },
      {
       "output_type": "stream",
       "stream": "stdout",
       "text": [
        "\n",
        "11 December 2010(Japan)"
       ]
      },
      {
       "output_type": "stream",
       "stream": "stdout",
       "text": [
        "\n",
        "9 September 2008(Canada)"
       ]
      },
      {
       "output_type": "stream",
       "stream": "stdout",
       "text": [
        "\n",
        "15 February 2013(Spain)"
       ]
      },
      {
       "output_type": "stream",
       "stream": "stdout",
       "text": [
        "\n",
        "3 September 2003(Argentina)"
       ]
      },
      {
       "output_type": "stream",
       "stream": "stdout",
       "text": [
        "\n",
        "10 July 1987(USA)"
       ]
      },
      {
       "output_type": "stream",
       "stream": "stdout",
       "text": [
        "\n",
        "15 February 2013(Spain)"
       ]
      },
      {
       "output_type": "stream",
       "stream": "stdout",
       "text": [
        "\n",
        "28 September 2001(Brazil)"
       ]
      },
      {
       "output_type": "stream",
       "stream": "stdout",
       "text": [
        "\n",
        "7 February 2008(Australia)"
       ]
      },
      {
       "output_type": "stream",
       "stream": "stdout",
       "text": [
        "\n",
        "18 June 2010(USA)"
       ]
      },
      {
       "output_type": "stream",
       "stream": "stdout",
       "text": [
        "\n",
        "26 January 1994(France)"
       ]
      },
      {
       "output_type": "stream",
       "stream": "stdout",
       "text": [
        "\n",
        "10 November 2006(Brazil)"
       ]
      },
      {
       "output_type": "stream",
       "stream": "stdout",
       "text": [
        "\n",
        "2012(USA)"
       ]
      },
      {
       "output_type": "stream",
       "stream": "stdout",
       "text": [
        "\n",
        "15 February 2013(Spain)"
       ]
      },
      {
       "output_type": "stream",
       "stream": "stdout",
       "text": [
        "\n",
        "1 September 2010(France)"
       ]
      },
      {
       "output_type": "stream",
       "stream": "stdout",
       "text": [
        "\n",
        "17 December 2014(USA)"
       ]
      },
      {
       "output_type": "stream",
       "stream": "stdout",
       "text": [
        "\n",
        "24 June 2011(Brazil)"
       ]
      },
      {
       "output_type": "stream",
       "stream": "stdout",
       "text": [
        "\n",
        "30 July 2010(Australia)"
       ]
      },
      {
       "output_type": "stream",
       "stream": "stdout",
       "text": [
        "\n",
        "26 September 2014(USA)"
       ]
      },
      {
       "output_type": "stream",
       "stream": "stdout",
       "text": [
        "\n",
        "28 September 2013(Japan)"
       ]
      },
      {
       "output_type": "stream",
       "stream": "stdout",
       "text": [
        "\n",
        "15 February 2013(Spain)"
       ]
      },
      {
       "output_type": "stream",
       "stream": "stdout",
       "text": [
        "\n",
        "13 May 2011(Brazil)"
       ]
      },
      {
       "output_type": "stream",
       "stream": "stdout",
       "text": [
        "\n",
        "13 September 1949(Japan)"
       ]
      },
      {
       "output_type": "stream",
       "stream": "stdout",
       "text": [
        "\n",
        "7 July 2011(Russia)"
       ]
      },
      {
       "output_type": "stream",
       "stream": "stdout",
       "text": [
        "\n",
        "20 December 2014(USA)"
       ]
      },
      {
       "output_type": "stream",
       "stream": "stdout",
       "text": [
        "\n",
        "28 October 1972(Japan)"
       ]
      },
      {
       "output_type": "stream",
       "stream": "stdout",
       "text": [
        "\n",
        "15 February 2014(USA)"
       ]
      },
      {
       "output_type": "stream",
       "stream": "stdout",
       "text": [
        "\n",
        "17 June 1988(USA)"
       ]
      },
      {
       "output_type": "stream",
       "stream": "stdout",
       "text": [
        "\n",
        "27 July 2012(UK)"
       ]
      },
      {
       "output_type": "stream",
       "stream": "stdout",
       "text": [
        "\n",
        "15 February 2013(Spain)"
       ]
      },
      {
       "output_type": "stream",
       "stream": "stdout",
       "text": [
        "\n",
        "15 February 2013(Spain)"
       ]
      },
      {
       "output_type": "stream",
       "stream": "stdout",
       "text": [
        "\n",
        "11 December 2012(USA)"
       ]
      },
      {
       "output_type": "stream",
       "stream": "stdout",
       "text": [
        "\n",
        "1 August 1935(USA)"
       ]
      },
      {
       "output_type": "stream",
       "stream": "stdout",
       "text": [
        "\n",
        "2 August 2002(USA)"
       ]
      },
      {
       "output_type": "stream",
       "stream": "stdout",
       "text": [
        "\n",
        "5 February 2010(USA)"
       ]
      },
      {
       "output_type": "stream",
       "stream": "stdout",
       "text": [
        "\n",
        "25 May 1990(USA)"
       ]
      },
      {
       "output_type": "stream",
       "stream": "stdout",
       "text": [
        "\n",
        "15 February 2013(Spain)"
       ]
      },
      {
       "output_type": "stream",
       "stream": "stdout",
       "text": [
        "\n",
        "2 July 1980(USA)"
       ]
      },
      {
       "output_type": "stream",
       "stream": "stdout",
       "text": [
        "\n",
        "2 May 2010(Canada)"
       ]
      },
      {
       "output_type": "stream",
       "stream": "stdout",
       "text": [
        "\n",
        "15 February 2013(Spain)"
       ]
      },
      {
       "output_type": "stream",
       "stream": "stdout",
       "text": [
        "\n",
        "25 May 1988(France)"
       ]
      },
      {
       "output_type": "stream",
       "stream": "stdout",
       "text": [
        "\n",
        "6 March 1942(USA)"
       ]
      },
      {
       "output_type": "stream",
       "stream": "stdout",
       "text": [
        "\n",
        "15 February 2013(Spain)"
       ]
      },
      {
       "output_type": "stream",
       "stream": "stdout",
       "text": [
        "\n",
        "15 February 2013(Spain)"
       ]
      },
      {
       "output_type": "stream",
       "stream": "stdout",
       "text": [
        "\n",
        "15 February 1961(USA)"
       ]
      },
      {
       "output_type": "stream",
       "stream": "stdout",
       "text": [
        "\n",
        "15 February 2013(Spain)"
       ]
      },
      {
       "output_type": "stream",
       "stream": "stdout",
       "text": [
        "\n",
        "28 September 1955(UK)"
       ]
      },
      {
       "output_type": "stream",
       "stream": "stdout",
       "text": [
        "\n",
        "25 April 2014(UK)"
       ]
      },
      {
       "output_type": "stream",
       "stream": "stdout",
       "text": [
        "\n",
        "25 December 1987(Sweden)"
       ]
      },
      {
       "output_type": "stream",
       "stream": "stdout",
       "text": [
        "\n",
        "15 February 2013(Spain)"
       ]
      },
      {
       "output_type": "stream",
       "stream": "stdout",
       "text": [
        "\n",
        "1 December 1954(USA)"
       ]
      },
      {
       "output_type": "stream",
       "stream": "stdout",
       "text": [
        "\n",
        "8 December 1966(Hungary)"
       ]
      },
      {
       "output_type": "stream",
       "stream": "stdout",
       "text": [
        "\n",
        "7 May 1983(Japan)"
       ]
      },
      {
       "output_type": "stream",
       "stream": "stdout",
       "text": [
        "\n",
        "26 September 2014(USA)"
       ]
      },
      {
       "output_type": "stream",
       "stream": "stdout",
       "text": [
        "\n",
        "14 November 2003(USA)"
       ]
      },
      {
       "output_type": "stream",
       "stream": "stdout",
       "text": [
        "\n",
        "15 February 1989(France)"
       ]
      },
      {
       "output_type": "stream",
       "stream": "stdout",
       "text": [
        "\n",
        "7 November 2008(Brazil)"
       ]
      },
      {
       "output_type": "stream",
       "stream": "stdout",
       "text": [
        "\n",
        "15 February 2013(Spain)"
       ]
      },
      {
       "output_type": "stream",
       "stream": "stdout",
       "text": [
        "\n",
        "16 January 1978(Brazil)"
       ]
      },
      {
       "output_type": "stream",
       "stream": "stdout",
       "text": [
        "\n",
        "29 September 1968(Sweden)"
       ]
      },
      {
       "output_type": "stream",
       "stream": "stdout",
       "text": [
        "\n",
        "11 December 2012(USA)"
       ]
      },
      {
       "output_type": "stream",
       "stream": "stdout",
       "text": [
        "\n",
        "26 August 2010(Denmark)"
       ]
      },
      {
       "output_type": "stream",
       "stream": "stdout",
       "text": [
        "\n",
        "9 September 2008(Canada)"
       ]
      },
      {
       "output_type": "stream",
       "stream": "stdout",
       "text": [
        "\n",
        "15 February 2013(Spain)"
       ]
      },
      {
       "output_type": "stream",
       "stream": "stdout",
       "text": [
        "\n",
        "16 October 1992(USA)"
       ]
      },
      {
       "output_type": "stream",
       "stream": "stdout",
       "text": [
        "\n",
        "15 February 2013(Spain)"
       ]
      },
      {
       "output_type": "stream",
       "stream": "stdout",
       "text": [
        "\n",
        "17 March 2006(USA)"
       ]
      },
      {
       "output_type": "stream",
       "stream": "stdout",
       "text": [
        "\n",
        "2 November 2012(Switzerland)"
       ]
      },
      {
       "output_type": "stream",
       "stream": "stdout",
       "text": [
        "\n",
        "January 2013(Netherlands)"
       ]
      },
      {
       "output_type": "stream",
       "stream": "stdout",
       "text": [
        "\n",
        "11 December 2014(New Zealand)"
       ]
      },
      {
       "output_type": "stream",
       "stream": "stdout",
       "text": [
        "\n",
        "28 July 1995(USA)"
       ]
      },
      {
       "output_type": "stream",
       "stream": "stdout",
       "text": [
        "\n",
        "9 January 2015(India)"
       ]
      },
      {
       "output_type": "stream",
       "stream": "stdout",
       "text": [
        "\n",
        "1 July 1992(USA)"
       ]
      },
      {
       "output_type": "stream",
       "stream": "stdout",
       "text": [
        "\n",
        "25 December 2014(USA)"
       ]
      },
      {
       "output_type": "stream",
       "stream": "stdout",
       "text": [
        "\n",
        "22 August 1986(USA)"
       ]
      },
      {
       "output_type": "stream",
       "stream": "stdout",
       "text": [
        "\n",
        "15 February 2013(Spain)"
       ]
      },
      {
       "output_type": "stream",
       "stream": "stdout",
       "text": [
        "\n",
        "5 February 2010(USA)"
       ]
      },
      {
       "output_type": "stream",
       "stream": "stdout",
       "text": [
        "\n",
        "13 July 2012(Brazil)"
       ]
      },
      {
       "output_type": "stream",
       "stream": "stdout",
       "text": [
        "\n",
        "15 February 2013(Spain)"
       ]
      },
      {
       "output_type": "stream",
       "stream": "stdout",
       "text": [
        "\n",
        "2016(USA)"
       ]
      },
      {
       "output_type": "stream",
       "stream": "stdout",
       "text": [
        "\n",
        "12 December 2007(USA)"
       ]
      },
      {
       "output_type": "stream",
       "stream": "stdout",
       "text": [
        "\n",
        "5 February 2010(USA)"
       ]
      },
      {
       "output_type": "stream",
       "stream": "stdout",
       "text": [
        "\n",
        "2015(USA)"
       ]
      },
      {
       "output_type": "stream",
       "stream": "stdout",
       "text": [
        "\n",
        "15 February 2013(Spain)"
       ]
      },
      {
       "output_type": "stream",
       "stream": "stdout",
       "text": [
        "\n",
        "15 February 2013(Spain)"
       ]
      },
      {
       "output_type": "stream",
       "stream": "stdout",
       "text": [
        "\n",
        "26 December 2008(South Korea)"
       ]
      },
      {
       "output_type": "stream",
       "stream": "stdout",
       "text": [
        "\n",
        "3 October 2008(USA)"
       ]
      },
      {
       "output_type": "stream",
       "stream": "stdout",
       "text": [
        "\n",
        "15 February 2013(Spain)"
       ]
      },
      {
       "output_type": "stream",
       "stream": "stdout",
       "text": [
        "\n",
        "5 May 2000(UK)"
       ]
      },
      {
       "output_type": "stream",
       "stream": "stdout",
       "text": [
        "\n",
        "15 February 2013(Spain)"
       ]
      },
      {
       "output_type": "stream",
       "stream": "stdout",
       "text": [
        "\n",
        "5 October 2007(USA)"
       ]
      },
      {
       "output_type": "stream",
       "stream": "stdout",
       "text": [
        "\n",
        "15 February 2013(Spain)"
       ]
      },
      {
       "output_type": "stream",
       "stream": "stdout",
       "text": [
        "\n",
        "2016(USA)"
       ]
      },
      {
       "output_type": "stream",
       "stream": "stdout",
       "text": [
        "\n",
        "11 September 2014(Slovakia)"
       ]
      },
      {
       "output_type": "stream",
       "stream": "stdout",
       "text": [
        "\n",
        "15 February 2013(Spain)"
       ]
      },
      {
       "output_type": "stream",
       "stream": "stdout",
       "text": [
        "\n",
        "12 March 2010(USA)"
       ]
      },
      {
       "output_type": "stream",
       "stream": "stdout",
       "text": [
        "\n",
        "9 January 2015(India)"
       ]
      },
      {
       "output_type": "stream",
       "stream": "stdout",
       "text": [
        "\n",
        "15 February 2013(Spain)"
       ]
      },
      {
       "output_type": "stream",
       "stream": "stdout",
       "text": [
        "\n",
        "2016(USA)"
       ]
      },
      {
       "output_type": "stream",
       "stream": "stdout",
       "text": [
        "\n",
        "15 February 2013(Spain)"
       ]
      },
      {
       "output_type": "stream",
       "stream": "stdout",
       "text": [
        "\n",
        "15 February 2013(Spain)"
       ]
      },
      {
       "output_type": "stream",
       "stream": "stdout",
       "text": [
        "\n",
        "11 December 2012(USA)"
       ]
      },
      {
       "output_type": "stream",
       "stream": "stdout",
       "text": [
        "\n",
        "8 March 1991(USA)"
       ]
      },
      {
       "output_type": "stream",
       "stream": "stdout",
       "text": [
        "\n",
        "6 July 2013(USA)"
       ]
      },
      {
       "output_type": "stream",
       "stream": "stdout",
       "text": [
        "\n",
        "12 January 2011(USA)"
       ]
      },
      {
       "output_type": "stream",
       "stream": "stdout",
       "text": [
        "\n",
        "23 August 1996(USA)"
       ]
      },
      {
       "output_type": "stream",
       "stream": "stdout",
       "text": [
        "\n",
        "15 February 2013(Spain)"
       ]
      },
      {
       "output_type": "stream",
       "stream": "stdout",
       "text": [
        "\n",
        "8 September 2006(Norway)"
       ]
      },
      {
       "output_type": "stream",
       "stream": "stdout",
       "text": [
        "\n",
        "15 February 2013(Spain)"
       ]
      },
      {
       "output_type": "stream",
       "stream": "stdout",
       "text": [
        "\n",
        "26 January 1925(USA)"
       ]
      },
      {
       "output_type": "stream",
       "stream": "stdout",
       "text": [
        "\n",
        "8 March 2013(UK)"
       ]
      },
      {
       "output_type": "stream",
       "stream": "stdout",
       "text": [
        "\n",
        "5 November 2010(Turkey)"
       ]
      },
      {
       "output_type": "stream",
       "stream": "stdout",
       "text": [
        "\n",
        "23 August 2007(Australia)"
       ]
      },
      {
       "output_type": "stream",
       "stream": "stdout",
       "text": [
        "\n",
        "23 April 2010(Brazil)"
       ]
      },
      {
       "output_type": "stream",
       "stream": "stdout",
       "text": [
        "\n",
        "October 1960(Austria)"
       ]
      },
      {
       "output_type": "stream",
       "stream": "stdout",
       "text": [
        "\n",
        "15 February 2013(Spain)"
       ]
      },
      {
       "output_type": "stream",
       "stream": "stdout",
       "text": [
        "\n",
        "2 November 2012(Switzerland)"
       ]
      },
      {
       "output_type": "stream",
       "stream": "stdout",
       "text": [
        "\n",
        "5 September 1941(USA)"
       ]
      },
      {
       "output_type": "stream",
       "stream": "stdout",
       "text": [
        "\n",
        "17 December 1972(USA)"
       ]
      },
      {
       "output_type": "stream",
       "stream": "stdout",
       "text": [
        "\n",
        "21 January 1985(Italy)"
       ]
      },
      {
       "output_type": "stream",
       "stream": "stdout",
       "text": [
        "\n",
        "28 September 1955(UK)"
       ]
      },
      {
       "output_type": "stream",
       "stream": "stdout",
       "text": [
        "\n",
        "15 February 2013(Spain)"
       ]
      },
      {
       "output_type": "stream",
       "stream": "stdout",
       "text": [
        "\n",
        "11 November 2010(Netherlands)"
       ]
      },
      {
       "output_type": "stream",
       "stream": "stdout",
       "text": [
        "\n",
        "29 October 2010(Norway)"
       ]
      },
      {
       "output_type": "stream",
       "stream": "stdout",
       "text": [
        "\n",
        "18 November 2005(USA)"
       ]
      },
      {
       "output_type": "stream",
       "stream": "stdout",
       "text": [
        "\n",
        "2016(USA)"
       ]
      },
      {
       "output_type": "stream",
       "stream": "stdout",
       "text": [
        "\n",
        "15 April 1988(USA)"
       ]
      },
      {
       "output_type": "stream",
       "stream": "stdout",
       "text": [
        "\n",
        "15 February 2013(Spain)"
       ]
      },
      {
       "output_type": "stream",
       "stream": "stdout",
       "text": [
        "\n",
        "15 February 2013(Spain)"
       ]
      },
      {
       "output_type": "stream",
       "stream": "stdout",
       "text": [
        "\n",
        "3 February 2005(India)"
       ]
      },
      {
       "output_type": "stream",
       "stream": "stdout",
       "text": [
        "\n",
        "30 March 1961(USA)"
       ]
      },
      {
       "output_type": "stream",
       "stream": "stdout",
       "text": [
        "\n",
        "15 February 2013(Spain)"
       ]
      },
      {
       "output_type": "stream",
       "stream": "stdout",
       "text": [
        "\n",
        "5 October 2007(USA)"
       ]
      },
      {
       "output_type": "stream",
       "stream": "stdout",
       "text": [
        "\n",
        "30 December 1971(UK)"
       ]
      },
      {
       "output_type": "stream",
       "stream": "stdout",
       "text": [
        "\n",
        "5 October 2007(USA)"
       ]
      },
      {
       "output_type": "stream",
       "stream": "stdout",
       "text": [
        "\n",
        "28 June 2008(Japan)"
       ]
      },
      {
       "output_type": "stream",
       "stream": "stdout",
       "text": [
        "\n",
        "24 June 2005(Brazil)"
       ]
      },
      {
       "output_type": "stream",
       "stream": "stdout",
       "text": [
        "\n",
        "6 June 2014(USA)"
       ]
      },
      {
       "output_type": "stream",
       "stream": "stdout",
       "text": [
        "\n",
        "15 February 2013(Spain)"
       ]
      },
      {
       "output_type": "stream",
       "stream": "stdout",
       "text": [
        "\n",
        "11 November 2011(UK)"
       ]
      },
      {
       "output_type": "stream",
       "stream": "stdout",
       "text": [
        "\n",
        "14 February 2003(Canada)"
       ]
      },
      {
       "output_type": "stream",
       "stream": "stdout",
       "text": [
        "\n",
        "1 September 1995(Sweden)"
       ]
      },
      {
       "output_type": "stream",
       "stream": "stdout",
       "text": [
        "\n",
        "11 October 2013(Spain)"
       ]
      },
      {
       "output_type": "stream",
       "stream": "stdout",
       "text": [
        "\n",
        "15 February 2013(Spain)"
       ]
      },
      {
       "output_type": "stream",
       "stream": "stdout",
       "text": [
        "\n",
        "15 February 2013(Spain)"
       ]
      },
      {
       "output_type": "stream",
       "stream": "stdout",
       "text": [
        "\n",
        "19 September 2014(USA)"
       ]
      },
      {
       "output_type": "stream",
       "stream": "stdout",
       "text": [
        "\n",
        "15 February 2013(Spain)"
       ]
      },
      {
       "output_type": "stream",
       "stream": "stdout",
       "text": [
        "\n",
        "29 September 2006(Brazil)"
       ]
      },
      {
       "output_type": "stream",
       "stream": "stdout",
       "text": [
        "\n",
        "11 May 2003(USA)"
       ]
      },
      {
       "output_type": "stream",
       "stream": "stdout",
       "text": [
        "\n",
        "26 November 2004(Italy)"
       ]
      },
      {
       "output_type": "stream",
       "stream": "stdout",
       "text": [
        "\n",
        "15 February 2013(Spain)"
       ]
      },
      {
       "output_type": "stream",
       "stream": "stdout",
       "text": [
        "\n",
        "29 April 1970(France)"
       ]
      },
      {
       "output_type": "stream",
       "stream": "stdout",
       "text": [
        "\n",
        "12 December 2007(USA)"
       ]
      },
      {
       "output_type": "stream",
       "stream": "stdout",
       "text": [
        "\n",
        "16 January 2009(Brazil)"
       ]
      },
      {
       "output_type": "stream",
       "stream": "stdout",
       "text": [
        "\n",
        "15 February 2013(Spain)"
       ]
      },
      {
       "output_type": "stream",
       "stream": "stdout",
       "text": [
        "\n",
        "8 January 1982(USA)"
       ]
      },
      {
       "output_type": "stream",
       "stream": "stdout",
       "text": [
        "\n",
        "26 September 2003(Sweden)"
       ]
      },
      {
       "output_type": "stream",
       "stream": "stdout",
       "text": [
        "\n",
        "26 January 1994(France)"
       ]
      },
      {
       "output_type": "stream",
       "stream": "stdout",
       "text": [
        "\n",
        "24 December 1992(Finland)"
       ]
      },
      {
       "output_type": "stream",
       "stream": "stdout",
       "text": [
        "\n",
        "29 March 1974(Italy)"
       ]
      },
      {
       "output_type": "stream",
       "stream": "stdout",
       "text": [
        "\n",
        "16 August 1985(USA)"
       ]
      },
      {
       "output_type": "stream",
       "stream": "stdout",
       "text": [
        "\n",
        "22 October 2010(Poland)"
       ]
      },
      {
       "output_type": "stream",
       "stream": "stdout",
       "text": [
        "\n",
        "2014(Australia)"
       ]
      },
      {
       "output_type": "stream",
       "stream": "stdout",
       "text": [
        "\n",
        "25 July 1986(USA)"
       ]
      },
      {
       "output_type": "stream",
       "stream": "stdout",
       "text": [
        "\n",
        "4 February 2005(India)"
       ]
      },
      {
       "output_type": "stream",
       "stream": "stdout",
       "text": [
        "\n",
        "21 September 2002(USA)"
       ]
      },
      {
       "output_type": "stream",
       "stream": "stdout",
       "text": [
        "\n",
        "16 February 1956(USA)"
       ]
      },
      {
       "output_type": "stream",
       "stream": "stdout",
       "text": [
        "\n",
        "7 February 2013(Russia)"
       ]
      },
      {
       "output_type": "stream",
       "stream": "stdout",
       "text": [
        "\n",
        "8 November 1991(Brazil)"
       ]
      },
      {
       "output_type": "stream",
       "stream": "stdout",
       "text": [
        "\n",
        "6 September 1996(Sweden)"
       ]
      },
      {
       "output_type": "stream",
       "stream": "stdout",
       "text": [
        "\n",
        "15 March 1937(Brazil)"
       ]
      },
      {
       "output_type": "stream",
       "stream": "stdout",
       "text": [
        "\n",
        "6 January 2006(USA)"
       ]
      },
      {
       "output_type": "stream",
       "stream": "stdout",
       "text": [
        "\n",
        "15 February 2013(Spain)"
       ]
      },
      {
       "output_type": "stream",
       "stream": "stdout",
       "text": [
        "\n",
        "10 March 1989(UK)"
       ]
      },
      {
       "output_type": "stream",
       "stream": "stdout",
       "text": [
        "\n",
        "9 January 2015(India)"
       ]
      },
      {
       "output_type": "stream",
       "stream": "stdout",
       "text": [
        "\n",
        "6 March 2014(USA)"
       ]
      },
      {
       "output_type": "stream",
       "stream": "stdout",
       "text": [
        "\n",
        "28 March 1967(France)"
       ]
      },
      {
       "output_type": "stream",
       "stream": "stdout",
       "text": [
        "\n",
        "2008(USA)"
       ]
      },
      {
       "output_type": "stream",
       "stream": "stdout",
       "text": [
        "\n",
        "17 August 2006(Australia)"
       ]
      },
      {
       "output_type": "stream",
       "stream": "stdout",
       "text": [
        "\n",
        "5 August 1999(USA)"
       ]
      },
      {
       "output_type": "stream",
       "stream": "stdout",
       "text": [
        "\n",
        "1 October 2010(USA)"
       ]
      },
      {
       "output_type": "stream",
       "stream": "stdout",
       "text": [
        "\n",
        "25 April 2014(India)"
       ]
      },
      {
       "output_type": "stream",
       "stream": "stdout",
       "text": [
        "\n",
        "26 September 2014(USA)"
       ]
      },
      {
       "output_type": "stream",
       "stream": "stdout",
       "text": [
        "\n",
        "18 October 2005(Croatia)"
       ]
      },
      {
       "output_type": "stream",
       "stream": "stdout",
       "text": [
        "\n",
        "4 December 2014(USA)"
       ]
      },
      {
       "output_type": "stream",
       "stream": "stdout",
       "text": [
        "\n",
        "1 May 2008(Australia)"
       ]
      },
      {
       "output_type": "stream",
       "stream": "stdout",
       "text": [
        "\n",
        "6 June 2013(Australia)"
       ]
      },
      {
       "output_type": "stream",
       "stream": "stdout",
       "text": [
        "\n",
        "15 February 2013(Spain)"
       ]
      },
      {
       "output_type": "stream",
       "stream": "stdout",
       "text": [
        "\n",
        "15 February 2013(Spain)"
       ]
      },
      {
       "output_type": "stream",
       "stream": "stdout",
       "text": [
        "\n",
        "30 June 1988(Australia)"
       ]
      },
      {
       "output_type": "stream",
       "stream": "stdout",
       "text": [
        "\n",
        "15 February 2013(Spain)"
       ]
      },
      {
       "output_type": "stream",
       "stream": "stdout",
       "text": [
        "\n",
        "March 2013(Argentina)"
       ]
      },
      {
       "output_type": "stream",
       "stream": "stdout",
       "text": [
        "\n",
        "24 July 1981(USA)"
       ]
      },
      {
       "output_type": "stream",
       "stream": "stdout",
       "text": [
        "\n",
        "15 February 2013(Spain)"
       ]
      },
      {
       "output_type": "stream",
       "stream": "stdout",
       "text": [
        "\n",
        "2 February 1999(USA)"
       ]
      },
      {
       "output_type": "stream",
       "stream": "stdout",
       "text": [
        "\n",
        "17 March 2006(Italy)"
       ]
      },
      {
       "output_type": "stream",
       "stream": "stdout",
       "text": [
        "\n",
        "14 December 1955(USA)"
       ]
      },
      {
       "output_type": "stream",
       "stream": "stdout",
       "text": [
        "\n",
        "15 February 2013(Spain)"
       ]
      },
      {
       "output_type": "stream",
       "stream": "stdout",
       "text": [
        "\n",
        "18 November 1983(USA)"
       ]
      },
      {
       "output_type": "stream",
       "stream": "stdout",
       "text": [
        "\n",
        "30 August 2013(Taiwan)"
       ]
      },
      {
       "output_type": "stream",
       "stream": "stdout",
       "text": [
        "\n",
        "15 February 2013(Spain)"
       ]
      },
      {
       "output_type": "stream",
       "stream": "stdout",
       "text": [
        "\n",
        "15 February 2013(Spain)"
       ]
      },
      {
       "output_type": "stream",
       "stream": "stdout",
       "text": [
        "\n",
        "15 February 2013(Spain)"
       ]
      },
      {
       "output_type": "stream",
       "stream": "stdout",
       "text": [
        "\n",
        "15 February 2013(Spain)"
       ]
      },
      {
       "output_type": "stream",
       "stream": "stdout",
       "text": [
        "\n",
        "12 April 1962(USA)"
       ]
      },
      {
       "output_type": "stream",
       "stream": "stdout",
       "text": [
        "\n",
        "29 July 1970(USA)"
       ]
      },
      {
       "output_type": "stream",
       "stream": "stdout",
       "text": [
        "\n",
        "10 October 2014(USA)"
       ]
      },
      {
       "output_type": "stream",
       "stream": "stdout",
       "text": [
        "\n",
        "3 January 1972(Brazil)"
       ]
      },
      {
       "output_type": "stream",
       "stream": "stdout",
       "text": [
        "\n",
        "15 April 2012(USA)"
       ]
      },
      {
       "output_type": "stream",
       "stream": "stdout",
       "text": [
        "\n",
        "18 June 2010(USA)"
       ]
      },
      {
       "output_type": "stream",
       "stream": "stdout",
       "text": [
        "\n",
        "15 February 2013(Spain)"
       ]
      },
      {
       "output_type": "stream",
       "stream": "stdout",
       "text": [
        "\n",
        "2006(USA)"
       ]
      },
      {
       "output_type": "stream",
       "stream": "stdout",
       "text": [
        "\n",
        "27 July 2007(Taiwan)"
       ]
      },
      {
       "output_type": "stream",
       "stream": "stdout",
       "text": [
        "\n",
        "19 March 1982(Canada)"
       ]
      },
      {
       "output_type": "stream",
       "stream": "stdout",
       "text": [
        "\n",
        "1957(India)"
       ]
      },
      {
       "output_type": "stream",
       "stream": "stdout",
       "text": [
        "\n",
        "19 June 2014(Brazil)"
       ]
      },
      {
       "output_type": "stream",
       "stream": "stdout",
       "text": [
        "\n",
        "4 August 2012(Japan)"
       ]
      },
      {
       "output_type": "stream",
       "stream": "stdout",
       "text": [
        "\n",
        "21 March 2008(Brazil)"
       ]
      },
      {
       "output_type": "stream",
       "stream": "stdout",
       "text": [
        "\n",
        "21 August 1998(Canada)"
       ]
      },
      {
       "output_type": "stream",
       "stream": "stdout",
       "text": [
        "\n",
        "17 April 1981(USA)"
       ]
      },
      {
       "output_type": "stream",
       "stream": "stdout",
       "text": [
        "\n",
        "15 October 2013(USA)"
       ]
      },
      {
       "output_type": "stream",
       "stream": "stdout",
       "text": [
        "\n",
        "22 June 1984(USA)"
       ]
      },
      {
       "output_type": "stream",
       "stream": "stdout",
       "text": [
        "\n",
        "1 August 2014(Finland)"
       ]
      },
      {
       "output_type": "stream",
       "stream": "stdout",
       "text": [
        "\n",
        "20 July 2012(Brazil)"
       ]
      },
      {
       "output_type": "stream",
       "stream": "stdout",
       "text": [
        "\n",
        "26 December 1958(Sweden)"
       ]
      },
      {
       "output_type": "stream",
       "stream": "stdout",
       "text": [
        "\n",
        "20 May 1958(USA)"
       ]
      },
      {
       "output_type": "stream",
       "stream": "stdout",
       "text": [
        "\n",
        "29 April 1987(France)"
       ]
      },
      {
       "output_type": "stream",
       "stream": "stdout",
       "text": [
        "\n",
        "26 October 1989(Brazil)"
       ]
      },
      {
       "output_type": "stream",
       "stream": "stdout",
       "text": [
        "\n",
        "25 December 1976(Brazil)"
       ]
      },
      {
       "output_type": "stream",
       "stream": "stdout",
       "text": [
        "\n",
        "17 August 1978(West Germany)"
       ]
      },
      {
       "output_type": "stream",
       "stream": "stdout",
       "text": [
        "\n",
        "22 October 2010(Iceland)"
       ]
      },
      {
       "output_type": "stream",
       "stream": "stdout",
       "text": [
        "\n",
        "28 April 1989(USA)"
       ]
      },
      {
       "output_type": "stream",
       "stream": "stdout",
       "text": [
        "\n",
        "25 February 2011(Spain)"
       ]
      },
      {
       "output_type": "stream",
       "stream": "stdout",
       "text": [
        "\n",
        "23 September 1968(USA)"
       ]
      },
      {
       "output_type": "stream",
       "stream": "stdout",
       "text": [
        "\n",
        "18 September 2002(France)"
       ]
      },
      {
       "output_type": "stream",
       "stream": "stdout",
       "text": [
        "\n",
        "17 December 1986(Netherlands)"
       ]
      },
      {
       "output_type": "stream",
       "stream": "stdout",
       "text": [
        "\n",
        "2015(USA)"
       ]
      },
      {
       "output_type": "stream",
       "stream": "stdout",
       "text": [
        "\n",
        "10 October 1980(Finland)"
       ]
      },
      {
       "output_type": "stream",
       "stream": "stdout",
       "text": [
        "\n",
        "18 May 1983(France)"
       ]
      },
      {
       "output_type": "stream",
       "stream": "stdout",
       "text": [
        "\n",
        "29 May 1992(Brazil)"
       ]
      },
      {
       "output_type": "stream",
       "stream": "stdout",
       "text": [
        "\n",
        "7 October 1999(Germany)"
       ]
      },
      {
       "output_type": "stream",
       "stream": "stdout",
       "text": [
        "\n",
        "22 November 1961(Italy)"
       ]
      },
      {
       "output_type": "stream",
       "stream": "stdout",
       "text": [
        "\n",
        "11 December 1987(USA)"
       ]
      },
      {
       "output_type": "stream",
       "stream": "stdout",
       "text": [
        "\n",
        "18 June 2009(Australia)"
       ]
      },
      {
       "output_type": "stream",
       "stream": "stdout",
       "text": [
        "\n",
        "22 April 1994(USA)"
       ]
      },
      {
       "output_type": "stream",
       "stream": "stdout",
       "text": [
        "\n",
        "17 November 1959(Japan)"
       ]
      },
      {
       "output_type": "stream",
       "stream": "stdout",
       "text": [
        "\n",
        "28 April 1925(Soviet Union)"
       ]
      },
      {
       "output_type": "stream",
       "stream": "stdout",
       "text": [
        "\n",
        "8 December 2005(Israel)"
       ]
      },
      {
       "output_type": "stream",
       "stream": "stdout",
       "text": [
        "\n",
        "5 January 1984(Argentina)"
       ]
      },
      {
       "output_type": "stream",
       "stream": "stdout",
       "text": [
        "\n",
        "26 September 2003(Brazil)"
       ]
      },
      {
       "output_type": "stream",
       "stream": "stdout",
       "text": [
        "\n",
        "8 April 2011(Brazil)"
       ]
      },
      {
       "output_type": "stream",
       "stream": "stdout",
       "text": [
        "\n",
        "16 February 1956(USA)"
       ]
      },
      {
       "output_type": "stream",
       "stream": "stdout",
       "text": [
        "\n",
        "24 May 1997(Japan)"
       ]
      },
      {
       "output_type": "stream",
       "stream": "stdout",
       "text": [
        "\n",
        "8 September 2000(Italy)"
       ]
      },
      {
       "output_type": "stream",
       "stream": "stdout",
       "text": [
        "\n",
        "25 June 2007(USA)"
       ]
      },
      {
       "output_type": "stream",
       "stream": "stdout",
       "text": [
        "\n",
        "22 September 2011(South Korea)"
       ]
      },
      {
       "output_type": "stream",
       "stream": "stdout",
       "text": [
        "\n",
        "31 August 1984(USA)"
       ]
      },
      {
       "output_type": "stream",
       "stream": "stdout",
       "text": [
        "\n",
        "9 April 1976(USA)"
       ]
      },
      {
       "output_type": "stream",
       "stream": "stdout",
       "text": [
        "\n",
        "1 March 1978(USA)"
       ]
      },
      {
       "output_type": "stream",
       "stream": "stdout",
       "text": [
        "\n",
        "1 November 2002(USA)"
       ]
      },
      {
       "output_type": "stream",
       "stream": "stdout",
       "text": [
        "\n",
        "9 June 1971(USA)"
       ]
      },
      {
       "output_type": "stream",
       "stream": "stdout",
       "text": [
        "\n",
        "10 January 1987(Poland)"
       ]
      },
      {
       "output_type": "stream",
       "stream": "stdout",
       "text": [
        "\n",
        "1 July 1981(USA)"
       ]
      },
      {
       "output_type": "stream",
       "stream": "stdout",
       "text": [
        "\n",
        "17 May 2007(South Korea)"
       ]
      },
      {
       "output_type": "stream",
       "stream": "stdout",
       "text": [
        "\n",
        "24 January 2012(USA)"
       ]
      },
      {
       "output_type": "stream",
       "stream": "stdout",
       "text": [
        "\n",
        "7 January 2004(France)"
       ]
      },
      {
       "output_type": "stream",
       "stream": "stdout",
       "text": [
        "\n",
        "28 July 1978(USA)"
       ]
      },
      {
       "output_type": "stream",
       "stream": "stdout",
       "text": [
        "\n",
        "11 November 2009(Brazil)"
       ]
      },
      {
       "output_type": "stream",
       "stream": "stdout",
       "text": [
        "\n",
        "18 February 1995(Brazil)"
       ]
      },
      {
       "output_type": "stream",
       "stream": "stdout",
       "text": [
        "\n",
        "14 December 2013(USA)"
       ]
      },
      {
       "output_type": "stream",
       "stream": "stdout",
       "text": [
        "\n",
        "25 April 2008(Brazil)"
       ]
      },
      {
       "output_type": "stream",
       "stream": "stdout",
       "text": [
        "\n",
        "16 September 1965(UK)"
       ]
      },
      {
       "output_type": "stream",
       "stream": "stdout",
       "text": [
        "\n",
        "30 July 1976(USA)"
       ]
      },
      {
       "output_type": "stream",
       "stream": "stdout",
       "text": [
        "\n",
        "13 October 1997(Russia)"
       ]
      },
      {
       "output_type": "stream",
       "stream": "stdout",
       "text": [
        "\n",
        "6 December 1930(USA)"
       ]
      },
      {
       "output_type": "stream",
       "stream": "stdout",
       "text": [
        "\n",
        "14 February 1975(Brazil)"
       ]
      },
      {
       "output_type": "stream",
       "stream": "stdout",
       "text": [
        "\n",
        "8 February 1985(USA)"
       ]
      },
      {
       "output_type": "stream",
       "stream": "stdout",
       "text": [
        "\n",
        "29 July 1994(UK)"
       ]
      },
      {
       "output_type": "stream",
       "stream": "stdout",
       "text": [
        "\n",
        "28 November 2006(Netherlands)"
       ]
      },
      {
       "output_type": "stream",
       "stream": "stdout",
       "text": [
        "\n",
        "4 March 1988(USA)"
       ]
      },
      {
       "output_type": "stream",
       "stream": "stdout",
       "text": [
        "\n",
        "27 July 1987(Italy)"
       ]
      },
      {
       "output_type": "stream",
       "stream": "stdout",
       "text": [
        "\n",
        "27 September 1996(Brazil)"
       ]
      },
      {
       "output_type": "stream",
       "stream": "stdout",
       "text": [
        "\n",
        "25 August 1972(USA)"
       ]
      },
      {
       "output_type": "stream",
       "stream": "stdout",
       "text": [
        "\n",
        "24 March 1939(USA)"
       ]
      },
      {
       "output_type": "stream",
       "stream": "stdout",
       "text": [
        "\n",
        "January 1983(USA)"
       ]
      },
      {
       "output_type": "stream",
       "stream": "stdout",
       "text": [
        "\n",
        "16 March 2001(Brazil)"
       ]
      },
      {
       "output_type": "stream",
       "stream": "stdout",
       "text": [
        "\n",
        "15 February 2013(Spain)"
       ]
      },
      {
       "output_type": "stream",
       "stream": "stdout",
       "text": [
        "\n",
        "2016(USA)"
       ]
      },
      {
       "output_type": "stream",
       "stream": "stdout",
       "text": [
        "\n",
        "7 November 1997(Poland)"
       ]
      },
      {
       "output_type": "stream",
       "stream": "stdout",
       "text": [
        "\n",
        "15 February 2013(Spain)"
       ]
      },
      {
       "output_type": "stream",
       "stream": "stdout",
       "text": [
        "\n",
        "10 January 2002(USA)"
       ]
      },
      {
       "output_type": "stream",
       "stream": "stdout",
       "text": [
        "\n",
        "18 July 1986(USA)"
       ]
      },
      {
       "output_type": "stream",
       "stream": "stdout",
       "text": [
        "\n",
        "23 May 2012(Italy)"
       ]
      },
      {
       "output_type": "stream",
       "stream": "stdout",
       "text": [
        "\n",
        "2014(USA)"
       ]
      },
      {
       "output_type": "stream",
       "stream": "stdout",
       "text": [
        "\n",
        "3 March 2006(Italy)"
       ]
      },
      {
       "output_type": "stream",
       "stream": "stdout",
       "text": [
        "\n",
        "15 February 2013(Spain)"
       ]
      },
      {
       "output_type": "stream",
       "stream": "stdout",
       "text": [
        "\n",
        "23 February 2012(Australia)"
       ]
      },
      {
       "output_type": "stream",
       "stream": "stdout",
       "text": [
        "\n",
        "24 November 1930(USA)"
       ]
      },
      {
       "output_type": "stream",
       "stream": "stdout",
       "text": [
        "\n",
        "15 February 2013(Spain)"
       ]
      },
      {
       "output_type": "stream",
       "stream": "stdout",
       "text": [
        "\n",
        "5 February 2010(USA)"
       ]
      },
      {
       "output_type": "stream",
       "stream": "stdout",
       "text": [
        "\n",
        "16 February 2012(South Korea)"
       ]
      },
      {
       "output_type": "stream",
       "stream": "stdout",
       "text": [
        "\n",
        "15 February 2013(Spain)"
       ]
      },
      {
       "output_type": "stream",
       "stream": "stdout",
       "text": [
        "\n",
        "15 February 2013(Spain)"
       ]
      },
      {
       "output_type": "stream",
       "stream": "stdout",
       "text": [
        "\n",
        "15 February 2013(Spain)"
       ]
      },
      {
       "output_type": "stream",
       "stream": "stdout",
       "text": [
        "\n",
        "15 February 2013(Spain)"
       ]
      },
      {
       "output_type": "stream",
       "stream": "stdout",
       "text": [
        "\n",
        "3 August 1990(Brazil)"
       ]
      },
      {
       "output_type": "stream",
       "stream": "stdout",
       "text": [
        "\n",
        "18 May 2012(Brazil)"
       ]
      },
      {
       "output_type": "stream",
       "stream": "stdout",
       "text": [
        "\n",
        "9 August 2012(Chile)"
       ]
      },
      {
       "output_type": "stream",
       "stream": "stdout",
       "text": [
        "\n",
        "12 February 2010(Italy)"
       ]
      },
      {
       "output_type": "stream",
       "stream": "stdout",
       "text": [
        "\n",
        "21 December 1979(Finland)"
       ]
      },
      {
       "output_type": "stream",
       "stream": "stdout",
       "text": [
        "\n",
        "19 April 1984(Australia)"
       ]
      },
      {
       "output_type": "stream",
       "stream": "stdout",
       "text": [
        "\n",
        "19 October 1994(France)"
       ]
      },
      {
       "output_type": "stream",
       "stream": "stdout",
       "text": [
        "\n",
        "2016(USA)"
       ]
      },
      {
       "output_type": "stream",
       "stream": "stdout",
       "text": [
        "\n",
        "2016(USA)"
       ]
      },
      {
       "output_type": "stream",
       "stream": "stdout",
       "text": [
        "\n",
        "15 February 2013(Spain)"
       ]
      },
      {
       "output_type": "stream",
       "stream": "stdout",
       "text": [
        "\n",
        "May 2007(Spain)"
       ]
      },
      {
       "output_type": "stream",
       "stream": "stdout",
       "text": [
        "\n",
        "4 October 2012(Germany)"
       ]
      },
      {
       "output_type": "stream",
       "stream": "stdout",
       "text": [
        "\n",
        "5 September 1941(USA)"
       ]
      },
      {
       "output_type": "stream",
       "stream": "stdout",
       "text": [
        "\n",
        "17 September 2003(France)"
       ]
      },
      {
       "output_type": "stream",
       "stream": "stdout",
       "text": [
        "\n",
        "24 March 1989(USA)"
       ]
      },
      {
       "output_type": "stream",
       "stream": "stdout",
       "text": [
        "\n",
        "29 June 2005(USA)"
       ]
      },
      {
       "output_type": "stream",
       "stream": "stdout",
       "text": [
        "\n",
        "15 February 2013(Spain)"
       ]
      },
      {
       "output_type": "stream",
       "stream": "stdout",
       "text": [
        "\n",
        "15 February 2013(Spain)"
       ]
      },
      {
       "output_type": "stream",
       "stream": "stdout",
       "text": [
        "\n",
        "15 February 2013(Spain)"
       ]
      },
      {
       "output_type": "stream",
       "stream": "stdout",
       "text": [
        "\n",
        "18 April 2013(Denmark)"
       ]
      },
      {
       "output_type": "stream",
       "stream": "stdout",
       "text": [
        "\n",
        "26 December 1997(UK)"
       ]
      },
      {
       "output_type": "stream",
       "stream": "stdout",
       "text": [
        "\n",
        "15 February 2013(Spain)"
       ]
      },
      {
       "output_type": "stream",
       "stream": "stdout",
       "text": [
        "\n",
        "2016(USA)"
       ]
      },
      {
       "output_type": "stream",
       "stream": "stdout",
       "text": [
        "\n",
        "19 January 1950(France)"
       ]
      },
      {
       "output_type": "stream",
       "stream": "stdout",
       "text": [
        "\n",
        "7 June 1985(USA)"
       ]
      },
      {
       "output_type": "stream",
       "stream": "stdout",
       "text": [
        "\n",
        "11 August 2010(France)"
       ]
      },
      {
       "output_type": "stream",
       "stream": "stdout",
       "text": [
        "\n",
        "16 January 2015(USA)"
       ]
      },
      {
       "output_type": "stream",
       "stream": "stdout",
       "text": [
        "\n",
        "15 February 2013(Spain)"
       ]
      },
      {
       "output_type": "stream",
       "stream": "stdout",
       "text": [
        "\n",
        "2 July 2014(USA)"
       ]
      },
      {
       "output_type": "stream",
       "stream": "stdout",
       "text": [
        "\n",
        "19 September 2014(USA)"
       ]
      },
      {
       "output_type": "stream",
       "stream": "stdout",
       "text": [
        "\n",
        "17 January 1997(USA)"
       ]
      },
      {
       "output_type": "stream",
       "stream": "stdout",
       "text": [
        "\n",
        "10 July 1987(USA)"
       ]
      },
      {
       "output_type": "stream",
       "stream": "stdout",
       "text": [
        "\n",
        "12 September 2003(UK)"
       ]
      },
      {
       "output_type": "stream",
       "stream": "stdout",
       "text": [
        "\n",
        "24 December 2003(South Korea)"
       ]
      },
      {
       "output_type": "stream",
       "stream": "stdout",
       "text": [
        "\n",
        "4 April 1981(USA)"
       ]
      },
      {
       "output_type": "stream",
       "stream": "stdout",
       "text": [
        "\n",
        "13 November 1992(USA)"
       ]
      },
      {
       "output_type": "stream",
       "stream": "stdout",
       "text": [
        "\n",
        "5 September 1941(USA)"
       ]
      },
      {
       "output_type": "stream",
       "stream": "stdout",
       "text": [
        "\n",
        "15 February 2013(Spain)"
       ]
      },
      {
       "output_type": "stream",
       "stream": "stdout",
       "text": [
        "\n",
        "23 April 2010(USA)"
       ]
      },
      {
       "output_type": "stream",
       "stream": "stdout",
       "text": [
        "\n",
        "21 April 2001(South Korea)"
       ]
      },
      {
       "output_type": "stream",
       "stream": "stdout",
       "text": [
        "\n",
        "4 March 2016(USA)"
       ]
      },
      {
       "output_type": "stream",
       "stream": "stdout",
       "text": [
        "\n",
        "15 February 2013(Spain)"
       ]
      },
      {
       "output_type": "stream",
       "stream": "stdout",
       "text": [
        "\n",
        "27 May 1970(West Germany)"
       ]
      },
      {
       "output_type": "stream",
       "stream": "stdout",
       "text": [
        "\n",
        "23 April 2010(India)"
       ]
      },
      {
       "output_type": "stream",
       "stream": "stdout",
       "text": [
        "\n",
        "25 December 2009(USA)"
       ]
      },
      {
       "output_type": "stream",
       "stream": "stdout",
       "text": [
        "\n"
       ]
      }
     ],
     "prompt_number": 143
    },
    {
     "cell_type": "code",
     "collapsed": false,
     "input": [
      "len(cfilmes)\n"
     ],
     "language": "python",
     "metadata": {},
     "outputs": [
      {
       "metadata": {},
       "output_type": "pyout",
       "prompt_number": 443,
       "text": [
        "1040"
       ]
      }
     ],
     "prompt_number": 443
    },
    {
     "cell_type": "code",
     "collapsed": false,
     "input": [
      "year = []\n",
      "for item in cfilmes:\n",
      "    i = item.values()[0]\n",
      "    a = i.encode()\n",
      "    i = a.find('(')\n",
      "    a = a[i-4:i]\n",
      "    year.append(a)\n",
      "    \n",
      "final = []\n",
      "i = 0\n",
      "for item in cfilmes:\n",
      "    yfilme = {}\n",
      "    yfilme['pt_title'] = item.values()[1]\n",
      "    yfilme['year'] = year[i]\n",
      "    i = i + 1\n",
      "    final.append(yfilme)\n",
      "    \n",
      "titles = []\n",
      "for title in pd_filmes.title:\n",
      "    title = title[1:len(title)-1]\n",
      "    title = title.encode('utf-8')\n",
      "    titles.append(title)\n",
      "    \n",
      "pd_filmes.title = titles"
     ],
     "language": "python",
     "metadata": {},
     "outputs": [],
     "prompt_number": 622
    },
    {
     "cell_type": "code",
     "collapsed": false,
     "input": [
      "for item in final[0:5]:\n",
      "    print item.values()[1]"
     ],
     "language": "python",
     "metadata": {},
     "outputs": [
      {
       "output_type": "stream",
       "stream": "stdout",
       "text": [
        "Trainspotting\n",
        "Superbad\n",
        "Troy\n",
        "Unforgiven\n",
        "Magnolia\n"
       ]
      }
     ],
     "prompt_number": 623
    },
    {
     "cell_type": "code",
     "collapsed": false,
     "input": [
      "for k, v in pd_filmes.iloc[:,5].iteritems():\n",
      "    for item in final:\n",
      "        if v == item.values()[1]:\n",
      "            pd_filmes.year[k] = item.values()[0]"
     ],
     "language": "python",
     "metadata": {},
     "outputs": [],
     "prompt_number": 613
    },
    {
     "cell_type": "code",
     "collapsed": false,
     "input": [
      "# Os filmes cuja data de lan\u00e7amento n\u00e3o foi obtida ap\u00f3s o \u00faltimo scrapping ser\u00e3o retirados\n",
      "pd_filmes = pd_filmes[pd_filmes.year != -1]"
     ],
     "language": "python",
     "metadata": {},
     "outputs": [],
     "prompt_number": 618
    },
    {
     "cell_type": "code",
     "collapsed": false,
     "input": [
      "#remo\u00e7\u00e3o da coluna release_date\n",
      "pd_filmes = pd_filmes.drop('release_date', 1)"
     ],
     "language": "python",
     "metadata": {},
     "outputs": [],
     "prompt_number": 620
    },
    {
     "cell_type": "heading",
     "level": 6,
     "metadata": {},
     "source": [
      "Altera\u00e7\u00e3o dos tipos de dados de algumas colunas"
     ]
    },
    {
     "cell_type": "code",
     "collapsed": false,
     "input": [
      "for k, v in pd_filmes.iloc[:,6].convert_objects(convert_numeric = True).iteritems():\n",
      "    if np.isnan(v):\n",
      "        pd_filmes['contentRating'][k] = np.float64(0)\n",
      "        \n",
      "pd_filmes['contentRating'] = pd_filmes['contentRating'].astype(float)\n",
      "\n",
      "for k, v in pd_filmes.iloc[:,0].convert_objects(convert_numeric = True).iteritems():\n",
      "    if np.isnan(v):\n",
      "        pd_filmes['rating'][k] = np.float64(0)\n",
      "        \n",
      "pd_filmes['rating'] = pd_filmes['rating'].astype(float)\n",
      "\n",
      "votes = []\n",
      "for vote in pd_filmes.votes:\n",
      "    a = list(str(vote))\n",
      "    while ',' in a:\n",
      "        a.remove(',')\n",
      "    a = ''.join(a)\n",
      "    a = int(a)\n",
      "    votes.append(a)\n",
      "pd_filmes.votes = votes"
     ],
     "language": "python",
     "metadata": {},
     "outputs": [],
     "prompt_number": 531
    },
    {
     "cell_type": "code",
     "collapsed": false,
     "input": [
      "time = []\n",
      "for item in pd_filmes.running_time:\n",
      "    item = ''.join([i for i in item if i.isdigit()])\n",
      "    try:\n",
      "        item = int(item)\n",
      "    except:\n",
      "        item = 0\n",
      "    time.append(item)\n",
      "\n",
      "pd_filmes.running_time = time"
     ],
     "language": "python",
     "metadata": {},
     "outputs": [],
     "prompt_number": 670
    },
    {
     "cell_type": "code",
     "collapsed": false,
     "input": [
      "scores = []\n",
      "for item in pd_filmes.metascore:\n",
      "    try:\n",
      "        item = int(item)\n",
      "    except:\n",
      "        item = 0\n",
      "    scores.append(item)\n",
      "pd_filmes.metascore = scores"
     ],
     "language": "python",
     "metadata": {},
     "outputs": [],
     "prompt_number": 679
    },
    {
     "cell_type": "code",
     "collapsed": false,
     "input": [
      "pd_filmes.dtypes"
     ],
     "language": "python",
     "metadata": {},
     "outputs": [
      {
       "metadata": {},
       "output_type": "pyout",
       "prompt_number": 680,
       "text": [
        "rating               float64\n",
        "votes                  int64\n",
        "description           object\n",
        "poster                object\n",
        "title                 object\n",
        "contentRating        float64\n",
        "metascore              int64\n",
        "pt_title              object\n",
        "director              object\n",
        "writers               object\n",
        "storyline             object\n",
        "stars                 object\n",
        "year                   int64\n",
        "genre                 object\n",
        "Oscar Indications     object\n",
        "running_time           int64\n",
        "dtype: object"
       ]
      }
     ],
     "prompt_number": 680
    },
    {
     "cell_type": "code",
     "collapsed": false,
     "input": [
      "pd_filmes"
     ],
     "language": "python",
     "metadata": {},
     "outputs": [
      {
       "html": [
        "<div style=\"max-height:1000px;max-width:1500px;overflow:auto;\">\n",
        "<table border=\"1\" class=\"dataframe\">\n",
        "  <thead>\n",
        "    <tr style=\"text-align: right;\">\n",
        "      <th></th>\n",
        "      <th>rating</th>\n",
        "      <th>votes</th>\n",
        "      <th>description</th>\n",
        "      <th>poster</th>\n",
        "      <th>title</th>\n",
        "      <th>contentRating</th>\n",
        "      <th>metascore</th>\n",
        "      <th>pt_title</th>\n",
        "      <th>director</th>\n",
        "      <th>writers</th>\n",
        "      <th>storyline</th>\n",
        "      <th>stars</th>\n",
        "      <th>year</th>\n",
        "      <th>genre</th>\n",
        "      <th>Oscar Indications</th>\n",
        "      <th>running_time</th>\n",
        "    </tr>\n",
        "  </thead>\n",
        "  <tbody>\n",
        "    <tr>\n",
        "      <th>0 </th>\n",
        "      <td> 9.3</td>\n",
        "      <td> 1339913</td>\n",
        "      <td> Two imprisoned men bond over a number of years...</td>\n",
        "      <td> http://ia.media-imdb.com/images/M/MV5BODU4MjU4...</td>\n",
        "      <td>                          The Shawshank Redemption</td>\n",
        "      <td> 16</td>\n",
        "      <td>  80</td>\n",
        "      <td>                          Um Sonho de Liberdade</td>\n",
        "      <td>       Frank Darabont</td>\n",
        "      <td>         [Stephen King, Frank Darabont]</td>\n",
        "      <td> Andy Dufresne is a young and successful banker...</td>\n",
        "      <td>         [Tim Robbins, Morgan Freeman, Bob Gunton]</td>\n",
        "      <td> 1995</td>\n",
        "      <td>                  [Crime, Drama]</td>\n",
        "      <td>       Nominated for 7 Oscars.</td>\n",
        "      <td> 142</td>\n",
        "    </tr>\n",
        "    <tr>\n",
        "      <th>1 </th>\n",
        "      <td> 9.0</td>\n",
        "      <td> 1308570</td>\n",
        "      <td> When the menace known as the Joker wreaks havo...</td>\n",
        "      <td> http://ia.media-imdb.com/images/M/MV5BMTMxNTMw...</td>\n",
        "      <td>                                   The Dark Knight</td>\n",
        "      <td> 12</td>\n",
        "      <td>  82</td>\n",
        "      <td>                Batman - O Cavaleiro das Trevas</td>\n",
        "      <td>    Christopher Nolan</td>\n",
        "      <td>    [Jonathan Nolan, Christopher Nolan]</td>\n",
        "      <td> Batman raises the stakes in his war on crime. ...</td>\n",
        "      <td>     [Christian Bale, Heath Ledger, Aaron Eckhart]</td>\n",
        "      <td> 2008</td>\n",
        "      <td>          [Action, Crime, Drama]</td>\n",
        "      <td>                 Won 2 Oscars.</td>\n",
        "      <td> 152</td>\n",
        "    </tr>\n",
        "    <tr>\n",
        "      <th>2 </th>\n",
        "      <td> 8.8</td>\n",
        "      <td> 1099712</td>\n",
        "      <td> A thief who steals corporate secrets through u...</td>\n",
        "      <td> http://ia.media-imdb.com/images/M/MV5BMjAxMzY3...</td>\n",
        "      <td>                                         Inception</td>\n",
        "      <td> 14</td>\n",
        "      <td>  74</td>\n",
        "      <td>                                       A Origem</td>\n",
        "      <td>    Christopher Nolan</td>\n",
        "      <td>                    [Christopher Nolan]</td>\n",
        "      <td> Dom Cobb is a skilled thief, the absolute best...</td>\n",
        "      <td> [Leonardo DiCaprio, Joseph Gordon-Levitt, Elle...</td>\n",
        "      <td> 2010</td>\n",
        "      <td>       [Action, Mystery, Sci-Fi]</td>\n",
        "      <td>                 Won 4 Oscars.</td>\n",
        "      <td> 148</td>\n",
        "    </tr>\n",
        "    <tr>\n",
        "      <th>3 </th>\n",
        "      <td> 8.2</td>\n",
        "      <td>  628075</td>\n",
        "      <td> In a future British tyranny, a shadowy freedom...</td>\n",
        "      <td> http://ia.media-imdb.com/images/M/MV5BOTI5ODc3...</td>\n",
        "      <td>                                    V for Vendetta</td>\n",
        "      <td> 16</td>\n",
        "      <td>  62</td>\n",
        "      <td>                                  V de Vingan\u00e7a</td>\n",
        "      <td>       James McTeigue</td>\n",
        "      <td>       [Andy Wachowski, Lana Wachowski]</td>\n",
        "      <td> The futuristic tale unfolds in a Great Britain...</td>\n",
        "      <td>    [Hugo Weaving, Natalie Portman, Rupert Graves]</td>\n",
        "      <td> 2006</td>\n",
        "      <td>       [Action, Drama, Thriller]</td>\n",
        "      <td>                              </td>\n",
        "      <td> 132</td>\n",
        "    </tr>\n",
        "    <tr>\n",
        "      <th>5 </th>\n",
        "      <td> 8.9</td>\n",
        "      <td> 1033387</td>\n",
        "      <td> The lives of two mob hit men, a boxer, a gangs...</td>\n",
        "      <td> http://ia.media-imdb.com/images/M/MV5BMjE0ODk2...</td>\n",
        "      <td>                                      Pulp Fiction</td>\n",
        "      <td> 18</td>\n",
        "      <td>  94</td>\n",
        "      <td>               Pulp Fiction: Tempo de Viol\u00eancia</td>\n",
        "      <td>    Quentin Tarantino</td>\n",
        "      <td>       [Quentin Tarantino, Roger Avary]</td>\n",
        "      <td> Jules Winnfield and Vincent Vega are two hitme...</td>\n",
        "      <td>   [John Travolta, Uma Thurman, Samuel L. Jackson]</td>\n",
        "      <td> 1995</td>\n",
        "      <td>        [Crime, Drama, Thriller]</td>\n",
        "      <td>                  Won 1 Oscar.</td>\n",
        "      <td> 154</td>\n",
        "    </tr>\n",
        "    <tr>\n",
        "      <th>7 </th>\n",
        "      <td> 8.8</td>\n",
        "      <td>  979776</td>\n",
        "      <td> A meek hobbit of the Shire and eight companion...</td>\n",
        "      <td> http://ia.media-imdb.com/images/M/MV5BNTEyMjAw...</td>\n",
        "      <td> The Lord of the Rings: The Fellowship of the Ring</td>\n",
        "      <td> 12</td>\n",
        "      <td>  92</td>\n",
        "      <td>        O Senhor dos An\u00e9is: A Sociedade do Anel</td>\n",
        "      <td>        Peter Jackson</td>\n",
        "      <td>           [J.R.R. Tolkien, Fran Walsh]</td>\n",
        "      <td> An ancient Ring thought lost for centuries has...</td>\n",
        "      <td>        [Elijah Wood, Ian McKellen, Orlando Bloom]</td>\n",
        "      <td> 2002</td>\n",
        "      <td>            [Adventure, Fantasy]</td>\n",
        "      <td>                 Won 4 Oscars.</td>\n",
        "      <td> 178</td>\n",
        "    </tr>\n",
        "    <tr>\n",
        "      <th>8 </th>\n",
        "      <td> 8.9</td>\n",
        "      <td>  954344</td>\n",
        "      <td> Gandalf and Aragorn lead the World of Men agai...</td>\n",
        "      <td> http://ia.media-imdb.com/images/M/MV5BMjE4MjA1...</td>\n",
        "      <td>     The Lord of the Rings: The Return of the King</td>\n",
        "      <td> 12</td>\n",
        "      <td>  94</td>\n",
        "      <td>           O Senhor dos An\u00e9is: O Retorno do Rei</td>\n",
        "      <td>        Peter Jackson</td>\n",
        "      <td>           [J.R.R. Tolkien, Fran Walsh]</td>\n",
        "      <td> While Frodo &amp; Sam continue to approach Mount D...</td>\n",
        "      <td>      [Elijah Wood, Viggo Mortensen, Ian McKellen]</td>\n",
        "      <td> 2003</td>\n",
        "      <td>            [Adventure, Fantasy]</td>\n",
        "      <td>                Won 11 Oscars.</td>\n",
        "      <td> 201</td>\n",
        "    </tr>\n",
        "    <tr>\n",
        "      <th>9 </th>\n",
        "      <td> 8.7</td>\n",
        "      <td>  950393</td>\n",
        "      <td> A computer hacker learns from mysterious rebel...</td>\n",
        "      <td> http://ia.media-imdb.com/images/M/MV5BMTkxNDYx...</td>\n",
        "      <td>                                        The Matrix</td>\n",
        "      <td> 12</td>\n",
        "      <td>  73</td>\n",
        "      <td>                                         Matrix</td>\n",
        "      <td>       Andy Wachowski</td>\n",
        "      <td>       [Andy Wachowski, Lana Wachowski]</td>\n",
        "      <td> Thomas A. Anderson is a man living two lives. ...</td>\n",
        "      <td> [Keanu Reeves, Laurence Fishburne, Carrie-Anne...</td>\n",
        "      <td> 1999</td>\n",
        "      <td>                [Action, Sci-Fi]</td>\n",
        "      <td>                 Won 4 Oscars.</td>\n",
        "      <td> 136</td>\n",
        "    </tr>\n",
        "    <tr>\n",
        "      <th>10</th>\n",
        "      <td> 8.8</td>\n",
        "      <td>  930191</td>\n",
        "      <td> Forrest Gump, while not intelligent, has accid...</td>\n",
        "      <td> http://ia.media-imdb.com/images/M/MV5BMTQwMTA5...</td>\n",
        "      <td>                                      Forrest Gump</td>\n",
        "      <td> 14</td>\n",
        "      <td>  82</td>\n",
        "      <td>          Forrest Gump, o Contador de Hist\u00f3rias</td>\n",
        "      <td>      Robert Zemeckis</td>\n",
        "      <td>             [Winston Groom, Eric Roth]</td>\n",
        "      <td> Forrest Gump is a simple man with a low I.Q. b...</td>\n",
        "      <td>            [Tom Hanks, Robin Wright, Gary Sinise]</td>\n",
        "      <td> 1994</td>\n",
        "      <td>                [Drama, Romance]</td>\n",
        "      <td>                 Won 6 Oscars.</td>\n",
        "      <td> 142</td>\n",
        "    </tr>\n",
        "    <tr>\n",
        "      <th>11</th>\n",
        "      <td> 9.2</td>\n",
        "      <td>  923152</td>\n",
        "      <td> The aging patriarch of an organized crime dyna...</td>\n",
        "      <td> http://ia.media-imdb.com/images/M/MV5BMjEyMjcy...</td>\n",
        "      <td>                                     The Godfather</td>\n",
        "      <td> 14</td>\n",
        "      <td> 100</td>\n",
        "      <td>                              O Poderoso Chef\u00e3o</td>\n",
        "      <td> Francis Ford Coppola</td>\n",
        "      <td>     [Mario Puzo, Francis Ford Coppola]</td>\n",
        "      <td> When the aging head of a famous crime family d...</td>\n",
        "      <td>            [Marlon Brando, Al Pacino, James Caan]</td>\n",
        "      <td> 1972</td>\n",
        "      <td>                  [Crime, Drama]</td>\n",
        "      <td>                 Won 3 Oscars.</td>\n",
        "      <td> 175</td>\n",
        "    </tr>\n",
        "    <tr>\n",
        "      <th>13</th>\n",
        "      <td> 8.8</td>\n",
        "      <td>  858574</td>\n",
        "      <td> While Frodo and Sam edge closer to Mordor with...</td>\n",
        "      <td> http://ia.media-imdb.com/images/M/MV5BMTAyNDU0...</td>\n",
        "      <td>             The Lord of the Rings: The Two Towers</td>\n",
        "      <td> 12</td>\n",
        "      <td>  88</td>\n",
        "      <td>             O Senhor dos An\u00e9is: As Duas Torres</td>\n",
        "      <td>        Peter Jackson</td>\n",
        "      <td>           [J.R.R. Tolkien, Fran Walsh]</td>\n",
        "      <td> Sauron's forces increase. His allies grow. The...</td>\n",
        "      <td>      [Elijah Wood, Ian McKellen, Viggo Mortensen]</td>\n",
        "      <td> 2002</td>\n",
        "      <td>            [Adventure, Fantasy]</td>\n",
        "      <td>                 Won 2 Oscars.</td>\n",
        "      <td> 179</td>\n",
        "    </tr>\n",
        "    <tr>\n",
        "      <th>14</th>\n",
        "      <td> 8.7</td>\n",
        "      <td>  787327</td>\n",
        "      <td> Two detectives, a rookie and a veteran, hunt a...</td>\n",
        "      <td> http://ia.media-imdb.com/images/M/MV5BMTQwNTU3...</td>\n",
        "      <td>                                             Se7en</td>\n",
        "      <td> 14</td>\n",
        "      <td>  65</td>\n",
        "      <td>                 Seven: Os Sete Crimes Capitais</td>\n",
        "      <td>        David Fincher</td>\n",
        "      <td>                  [Andrew Kevin Walker]</td>\n",
        "      <td> A film about two homicide detectives' desperat...</td>\n",
        "      <td>         [Morgan Freeman, Brad Pitt, Kevin Spacey]</td>\n",
        "      <td> 1995</td>\n",
        "      <td>      [Drama, Mystery, Thriller]</td>\n",
        "      <td>        Nominated for 1 Oscar.</td>\n",
        "      <td> 127</td>\n",
        "    </tr>\n",
        "    <tr>\n",
        "      <th>15</th>\n",
        "      <td> 8.5</td>\n",
        "      <td>  756382</td>\n",
        "      <td> When a Roman general is betrayed and his famil...</td>\n",
        "      <td> http://ia.media-imdb.com/images/M/MV5BMTgwMzQz...</td>\n",
        "      <td>                                         Gladiator</td>\n",
        "      <td> 14</td>\n",
        "      <td>  64</td>\n",
        "      <td>                                      Gladiador</td>\n",
        "      <td>         Ridley Scott</td>\n",
        "      <td>       [David Franzoni, David Franzoni]</td>\n",
        "      <td> Maximus is a powerful Roman general, loved by ...</td>\n",
        "      <td>  [Russell Crowe, Joaquin Phoenix, Connie Nielsen]</td>\n",
        "      <td> 2000</td>\n",
        "      <td>                 [Action, Drama]</td>\n",
        "      <td>                 Won 5 Oscars.</td>\n",
        "      <td> 155</td>\n",
        "    </tr>\n",
        "    <tr>\n",
        "      <th>16</th>\n",
        "      <td> 8.3</td>\n",
        "      <td>  746630</td>\n",
        "      <td> After training with his mentor, Batman begins ...</td>\n",
        "      <td> http://ia.media-imdb.com/images/M/MV5BNTM3OTc0...</td>\n",
        "      <td>                                                  </td>\n",
        "      <td> 10</td>\n",
        "      <td>  70</td>\n",
        "      <td>                                  Batman Begins</td>\n",
        "      <td>    Christopher Nolan</td>\n",
        "      <td>             [Bob Kane, David S. Goyer]</td>\n",
        "      <td> When his parents were killed, millionaire play...</td>\n",
        "      <td>     [Christian Bale, Michael Caine, Ken Watanabe]</td>\n",
        "      <td> 2005</td>\n",
        "      <td>             [Action, Adventure]</td>\n",
        "      <td>        Nominated for 1 Oscar.</td>\n",
        "      <td> 140</td>\n",
        "    </tr>\n",
        "    <tr>\n",
        "      <th>17</th>\n",
        "      <td> 8.2</td>\n",
        "      <td>  742734</td>\n",
        "      <td> Earth's mightiest heroes must come together an...</td>\n",
        "      <td> http://ia.media-imdb.com/images/M/MV5BMTk2NTI1...</td>\n",
        "      <td>                                      The Avengers</td>\n",
        "      <td> 12</td>\n",
        "      <td>  69</td>\n",
        "      <td>                    The Avengers: Os Vingadores</td>\n",
        "      <td>          Joss Whedon</td>\n",
        "      <td>                [Joss Whedon, Zak Penn]</td>\n",
        "      <td> Nick Fury is director of S.H.I.E.L.D, an inter...</td>\n",
        "      <td> [Robert Downey Jr., Chris Evans, Scarlett Joha...</td>\n",
        "      <td> 2012</td>\n",
        "      <td>     [Action, Adventure, Sci-Fi]</td>\n",
        "      <td>        Nominated for 1 Oscar.</td>\n",
        "      <td> 143</td>\n",
        "    </tr>\n",
        "    <tr>\n",
        "      <th>18</th>\n",
        "      <td> 7.9</td>\n",
        "      <td>  725850</td>\n",
        "      <td> A Paraplegic Marine dispatched to the moon Pan...</td>\n",
        "      <td> http://ia.media-imdb.com/images/M/MV5BMTYwOTEw...</td>\n",
        "      <td>                                                  </td>\n",
        "      <td> 12</td>\n",
        "      <td>  83</td>\n",
        "      <td>                                         Avatar</td>\n",
        "      <td>        James Cameron</td>\n",
        "      <td>                        [James Cameron]</td>\n",
        "      <td> When his brother is killed in a robbery, parap...</td>\n",
        "      <td>  [Sam Worthington, Zoe Saldana, Sigourney Weaver]</td>\n",
        "      <td> 2009</td>\n",
        "      <td>    [Action, Adventure, Fantasy]</td>\n",
        "      <td>                 Won 3 Oscars.</td>\n",
        "      <td> 162</td>\n",
        "    </tr>\n",
        "    <tr>\n",
        "      <th>19</th>\n",
        "      <td> 8.7</td>\n",
        "      <td>  697161</td>\n",
        "      <td> Luke Skywalker joins forces with a Jedi Knight...</td>\n",
        "      <td> http://ia.media-imdb.com/images/M/MV5BMTU4NTcz...</td>\n",
        "      <td>                                         Star Wars</td>\n",
        "      <td>  0</td>\n",
        "      <td>  91</td>\n",
        "      <td>                            Guerra nas Estrelas</td>\n",
        "      <td>         George Lucas</td>\n",
        "      <td>                         [George Lucas]</td>\n",
        "      <td> A young boy from Tatooine sets out on an adven...</td>\n",
        "      <td>       [Mark Hamill, Harrison Ford, Carrie Fisher]</td>\n",
        "      <td> 1977</td>\n",
        "      <td>    [Action, Adventure, Fantasy]</td>\n",
        "      <td>                 Won 6 Oscars.</td>\n",
        "      <td> 121</td>\n",
        "    </tr>\n",
        "    <tr>\n",
        "      <th>22</th>\n",
        "      <td> 8.6</td>\n",
        "      <td>  679087</td>\n",
        "      <td> Following the Normandy Landings, a group of U....</td>\n",
        "      <td> http://ia.media-imdb.com/images/M/MV5BNjczODkx...</td>\n",
        "      <td>                               Saving Private Ryan</td>\n",
        "      <td> 14</td>\n",
        "      <td>  90</td>\n",
        "      <td>                      O Resgate do Soldado Ryan</td>\n",
        "      <td>     Steven Spielberg</td>\n",
        "      <td>                         [Robert Rodat]</td>\n",
        "      <td> Opening with the Allied invasion of Normandy o...</td>\n",
        "      <td>             [Tom Hanks, Matt Damon, Tom Sizemore]</td>\n",
        "      <td> 1998</td>\n",
        "      <td>            [Action, Drama, War]</td>\n",
        "      <td>                 Won 5 Oscars.</td>\n",
        "      <td> 169</td>\n",
        "    </tr>\n",
        "    <tr>\n",
        "      <th>23</th>\n",
        "      <td> 8.5</td>\n",
        "      <td>  677186</td>\n",
        "      <td> An undercover state cop who has infiltrated an...</td>\n",
        "      <td> http://ia.media-imdb.com/images/M/MV5BMTI1MTY2...</td>\n",
        "      <td>                                      The Departed</td>\n",
        "      <td> 18</td>\n",
        "      <td>  86</td>\n",
        "      <td>                                 Os Infiltrados</td>\n",
        "      <td>      Martin Scorsese</td>\n",
        "      <td>            [William Monahan, Alan Mak]</td>\n",
        "      <td> In South Boston, the state police force is wag...</td>\n",
        "      <td>   [Leonardo DiCaprio, Matt Damon, Jack Nicholson]</td>\n",
        "      <td> 2006</td>\n",
        "      <td>        [Crime, Drama, Thriller]</td>\n",
        "      <td>                 Won 4 Oscars.</td>\n",
        "      <td> 151</td>\n",
        "    </tr>\n",
        "    <tr>\n",
        "      <th>24</th>\n",
        "      <td> 8.9</td>\n",
        "      <td>  676944</td>\n",
        "      <td> In Poland during World War II, Oskar Schindler...</td>\n",
        "      <td> http://ia.media-imdb.com/images/M/MV5BMzMwMTM4...</td>\n",
        "      <td>                                  Schindler's List</td>\n",
        "      <td> 14</td>\n",
        "      <td>  93</td>\n",
        "      <td>                           A Lista de Schindler</td>\n",
        "      <td>     Steven Spielberg</td>\n",
        "      <td>     [Thomas Keneally, Steven Zaillian]</td>\n",
        "      <td> Oskar Schindler is a vainglorious and greedy G...</td>\n",
        "      <td>        [Liam Neeson, Ralph Fiennes, Ben Kingsley]</td>\n",
        "      <td> 1993</td>\n",
        "      <td>     [Biography, Drama, History]</td>\n",
        "      <td>                 Won 7 Oscars.</td>\n",
        "      <td> 195</td>\n",
        "    </tr>\n",
        "    <tr>\n",
        "      <th>25</th>\n",
        "      <td> 8.5</td>\n",
        "      <td>  676206</td>\n",
        "      <td> A man creates a strange system to help him rem...</td>\n",
        "      <td> http://ia.media-imdb.com/images/M/MV5BMTc4MjUx...</td>\n",
        "      <td>                                           Memento</td>\n",
        "      <td> 16</td>\n",
        "      <td>  80</td>\n",
        "      <td>                                        Amn\u00e9sia</td>\n",
        "      <td>    Christopher Nolan</td>\n",
        "      <td>    [Christopher Nolan, Jonathan Nolan]</td>\n",
        "      <td> Memento chronicles two separate stories of Leo...</td>\n",
        "      <td>    [Guy Pearce, Carrie-Anne Moss, Joe Pantoliano]</td>\n",
        "      <td> 2001</td>\n",
        "      <td>             [Mystery, Thriller]</td>\n",
        "      <td>       Nominated for 2 Oscars.</td>\n",
        "      <td> 113</td>\n",
        "    </tr>\n",
        "    <tr>\n",
        "      <th>26</th>\n",
        "      <td> 8.6</td>\n",
        "      <td>  669998</td>\n",
        "      <td> A young F.B.I. cadet must confide in an incarc...</td>\n",
        "      <td> http://ia.media-imdb.com/images/M/MV5BMTQ2Nzkz...</td>\n",
        "      <td>                          The Silence of the Lambs</td>\n",
        "      <td> 14</td>\n",
        "      <td>  84</td>\n",
        "      <td>                       O Sil\u00eancio dos Inocentes</td>\n",
        "      <td>       Jonathan Demme</td>\n",
        "      <td>             [Thomas Harris, Ted Tally]</td>\n",
        "      <td> Young FBI agent Clarice Starling is assigned t...</td>\n",
        "      <td> [Jodie Foster, Anthony Hopkins, Lawrence A. Bo...</td>\n",
        "      <td> 1991</td>\n",
        "      <td>        [Crime, Drama, Thriller]</td>\n",
        "      <td>                 Won 5 Oscars.</td>\n",
        "      <td> 118</td>\n",
        "    </tr>\n",
        "    <tr>\n",
        "      <th>28</th>\n",
        "      <td> 8.3</td>\n",
        "      <td>  650691</td>\n",
        "      <td> In Nazi-occupied France during World War II, a...</td>\n",
        "      <td> http://ia.media-imdb.com/images/M/MV5BMjIzMDI4...</td>\n",
        "      <td>                              Inglourious Basterds</td>\n",
        "      <td> 18</td>\n",
        "      <td>  69</td>\n",
        "      <td>                            Bastardos Ingl\u00f3rios</td>\n",
        "      <td>    Quentin Tarantino</td>\n",
        "      <td>                    [Quentin Tarantino]</td>\n",
        "      <td> In Nazi-occupied France, young Jewish refugee ...</td>\n",
        "      <td>               [Brad Pitt, Diane Kruger, Eli Roth]</td>\n",
        "      <td> 2009</td>\n",
        "      <td>         [Adventure, Drama, War]</td>\n",
        "      <td>                  Won 1 Oscar.</td>\n",
        "      <td> 153</td>\n",
        "    </tr>\n",
        "    <tr>\n",
        "      <th>29</th>\n",
        "      <td> 8.5</td>\n",
        "      <td>  642977</td>\n",
        "      <td> Two stage magicians engage in competitive one-...</td>\n",
        "      <td> http://ia.media-imdb.com/images/M/MV5BMjA4NDI0...</td>\n",
        "      <td>                                      The Prestige</td>\n",
        "      <td> 14</td>\n",
        "      <td>  66</td>\n",
        "      <td>                                O Grande Truque</td>\n",
        "      <td>    Christopher Nolan</td>\n",
        "      <td>    [Jonathan Nolan, Christopher Nolan]</td>\n",
        "      <td> In the end of the Nineteenth Century, in Londo...</td>\n",
        "      <td> [Christian Bale, Hugh Jackman, Scarlett Johans...</td>\n",
        "      <td> 2006</td>\n",
        "      <td>      [Drama, Mystery, Thriller]</td>\n",
        "      <td>       Nominated for 2 Oscars.</td>\n",
        "      <td> 130</td>\n",
        "    </tr>\n",
        "    <tr>\n",
        "      <th>30</th>\n",
        "      <td> 8.1</td>\n",
        "      <td>  641722</td>\n",
        "      <td> Blacksmith Will Turner teams up with eccentric...</td>\n",
        "      <td> http://ia.media-imdb.com/images/M/MV5BMjAyNDM4...</td>\n",
        "      <td> Pirates of the Caribbean: The Curse of the Bla...</td>\n",
        "      <td> 14</td>\n",
        "      <td>  63</td>\n",
        "      <td>  Piratas do Caribe: A Maldi\u00e7\u00e3o do P\u00e9rola Negra</td>\n",
        "      <td>       Gore Verbinski</td>\n",
        "      <td>            [Ted Elliott, Terry Rossio]</td>\n",
        "      <td> This swash-buckling tale follows the quest of ...</td>\n",
        "      <td>       [Johnny Depp, Geoffrey Rush, Orlando Bloom]</td>\n",
        "      <td> 2003</td>\n",
        "      <td>    [Action, Adventure, Fantasy]</td>\n",
        "      <td>       Nominated for 5 Oscars.</td>\n",
        "      <td> 143</td>\n",
        "    </tr>\n",
        "    <tr>\n",
        "      <th>31</th>\n",
        "      <td> 7.7</td>\n",
        "      <td>  628872</td>\n",
        "      <td> A seventeen-year-old aristocrat, expecting to ...</td>\n",
        "      <td> http://ia.media-imdb.com/images/M/MV5BMjExNzM0...</td>\n",
        "      <td>                                                  </td>\n",
        "      <td>  0</td>\n",
        "      <td>  74</td>\n",
        "      <td>                                        Titanic</td>\n",
        "      <td>        James Cameron</td>\n",
        "      <td>                        [James Cameron]</td>\n",
        "      <td> 84 years later, a 101-year-old woman named Ros...</td>\n",
        "      <td>     [Leonardo DiCaprio, Kate Winslet, Billy Zane]</td>\n",
        "      <td> 1998</td>\n",
        "      <td>                [Drama, Romance]</td>\n",
        "      <td>                Won 11 Oscars.</td>\n",
        "      <td> 194</td>\n",
        "    </tr>\n",
        "    <tr>\n",
        "      <th>32</th>\n",
        "      <td> 8.8</td>\n",
        "      <td>  627735</td>\n",
        "      <td> After the rebels have been brutally overpowere...</td>\n",
        "      <td> http://ia.media-imdb.com/images/M/MV5BMjE2MzQw...</td>\n",
        "      <td>    Star Wars: Episode V - The Empire Strikes Back</td>\n",
        "      <td>  0</td>\n",
        "      <td>  78</td>\n",
        "      <td> Star Wars: Epis\u00f3dio V - O Imp\u00e9rio Contra-Ataca</td>\n",
        "      <td>       Irvin Kershner</td>\n",
        "      <td>      [Leigh Brackett, Lawrence Kasdan]</td>\n",
        "      <td> Fleeing the evil Galactic Empire, the Rebels a...</td>\n",
        "      <td>       [Mark Hamill, Harrison Ford, Carrie Fisher]</td>\n",
        "      <td> 1980</td>\n",
        "      <td>    [Action, Adventure, Fantasy]</td>\n",
        "      <td>                  Won 1 Oscar.</td>\n",
        "      <td> 124</td>\n",
        "    </tr>\n",
        "    <tr>\n",
        "      <th>33</th>\n",
        "      <td> 8.6</td>\n",
        "      <td>  620549</td>\n",
        "      <td> A former neo-nazi skinhead tries to prevent hi...</td>\n",
        "      <td> http://ia.media-imdb.com/images/M/MV5BMjMzNDUw...</td>\n",
        "      <td>                                American History X</td>\n",
        "      <td> 14</td>\n",
        "      <td>  62</td>\n",
        "      <td>                     A Outra Hist\u00f3ria Americana</td>\n",
        "      <td>            Tony Kaye</td>\n",
        "      <td>                        [David McKenna]</td>\n",
        "      <td> Derek Vineyard is paroled after serving 3 year...</td>\n",
        "      <td> [Edward Norton, Edward Furlong, Beverly D'Angelo]</td>\n",
        "      <td> 1999</td>\n",
        "      <td>                  [Crime, Drama]</td>\n",
        "      <td>        Nominated for 1 Oscar.</td>\n",
        "      <td> 119</td>\n",
        "    </tr>\n",
        "    <tr>\n",
        "      <th>34</th>\n",
        "      <td> 9.1</td>\n",
        "      <td>  615388</td>\n",
        "      <td> The early life and career of Vito Corleone in ...</td>\n",
        "      <td> http://ia.media-imdb.com/images/M/MV5BNDc2NTM3...</td>\n",
        "      <td>                            The Godfather: Part II</td>\n",
        "      <td> 14</td>\n",
        "      <td>  80</td>\n",
        "      <td>                           O Poderoso Chef\u00e3o II</td>\n",
        "      <td> Francis Ford Coppola</td>\n",
        "      <td>     [Francis Ford Coppola, Mario Puzo]</td>\n",
        "      <td> The continuing saga of the Corleone crime fami...</td>\n",
        "      <td>        [Al Pacino, Robert De Niro, Robert Duvall]</td>\n",
        "      <td> 1975</td>\n",
        "      <td>                  [Crime, Drama]</td>\n",
        "      <td>                 Won 6 Oscars.</td>\n",
        "      <td> 200</td>\n",
        "    </tr>\n",
        "    <tr>\n",
        "      <th>35</th>\n",
        "      <td> 8.7</td>\n",
        "      <td>  587759</td>\n",
        "      <td> A sole survivor tells of the twisty events lea...</td>\n",
        "      <td> http://ia.media-imdb.com/images/M/MV5BMzI1MjI5...</td>\n",
        "      <td>                                The Usual Suspects</td>\n",
        "      <td> 14</td>\n",
        "      <td>  77</td>\n",
        "      <td>                                   Os Suspeitos</td>\n",
        "      <td>         Bryan Singer</td>\n",
        "      <td>                [Christopher McQuarrie]</td>\n",
        "      <td> Following a truck hijack in New York, five con...</td>\n",
        "      <td>   [Kevin Spacey, Gabriel Byrne, Chazz Palminteri]</td>\n",
        "      <td> 1996</td>\n",
        "      <td>        [Crime, Drama, Thriller]</td>\n",
        "      <td>                 Won 2 Oscars.</td>\n",
        "      <td> 106</td>\n",
        "    </tr>\n",
        "    <tr>\n",
        "      <th>36</th>\n",
        "      <td> 8.5</td>\n",
        "      <td>  586342</td>\n",
        "      <td> A cyborg, identical to the one who failed to k...</td>\n",
        "      <td> http://ia.media-imdb.com/images/M/MV5BMTg5NzUw...</td>\n",
        "      <td>                        Terminator 2: Judgment Day</td>\n",
        "      <td> 12</td>\n",
        "      <td>  68</td>\n",
        "      <td> O Exterminador do Futuro 2: O Julgamento Final</td>\n",
        "      <td>        James Cameron</td>\n",
        "      <td>    [James Cameron, William Wisher Jr.]</td>\n",
        "      <td> Almost 10 years have passed since the first cy...</td>\n",
        "      <td> [Arnold Schwarzenegger, Linda Hamilton, Edward...</td>\n",
        "      <td> 1991</td>\n",
        "      <td>                [Action, Sci-Fi]</td>\n",
        "      <td>                 Won 4 Oscars.</td>\n",
        "      <td> 137</td>\n",
        "    </tr>\n",
        "    <tr>\n",
        "      <th>37</th>\n",
        "      <td> 8.4</td>\n",
        "      <td>  584360</td>\n",
        "      <td> When his secret bride is executed for assaulti...</td>\n",
        "      <td> http://ia.media-imdb.com/images/M/MV5BNjA4ODYx...</td>\n",
        "      <td>                                        Braveheart</td>\n",
        "      <td> 16</td>\n",
        "      <td>  68</td>\n",
        "      <td>                                Cora\u00e7\u00e3o Valente</td>\n",
        "      <td>           Mel Gibson</td>\n",
        "      <td>                      [Randall Wallace]</td>\n",
        "      <td> William Wallace is a Scottish rebel who leads ...</td>\n",
        "      <td>    [Mel Gibson, Sophie Marceau, Patrick McGoohan]</td>\n",
        "      <td> 1995</td>\n",
        "      <td>      [Action, Biography, Drama]</td>\n",
        "      <td>                 Won 5 Oscars.</td>\n",
        "      <td> 177</td>\n",
        "    </tr>\n",
        "    <tr>\n",
        "      <th>38</th>\n",
        "      <td> 8.5</td>\n",
        "      <td>  579187</td>\n",
        "      <td> The lives of guards on Death Row are affected ...</td>\n",
        "      <td> http://ia.media-imdb.com/images/M/MV5BMTUxMzQy...</td>\n",
        "      <td>                                    The Green Mile</td>\n",
        "      <td> 14</td>\n",
        "      <td>  61</td>\n",
        "      <td>                         \u00c0 Espera de Um Milagre</td>\n",
        "      <td>       Frank Darabont</td>\n",
        "      <td>         [Stephen King, Frank Darabont]</td>\n",
        "      <td> Death Row guards at a penitentiary, in the 193...</td>\n",
        "      <td>   [Tom Hanks, Michael Clarke Duncan, David Morse]</td>\n",
        "      <td> 2000</td>\n",
        "      <td>         [Crime, Drama, Fantasy]</td>\n",
        "      <td>       Nominated for 4 Oscars.</td>\n",
        "      <td> 189</td>\n",
        "    </tr>\n",
        "    <tr>\n",
        "      <th>39</th>\n",
        "      <td> 8.7</td>\n",
        "      <td>  577668</td>\n",
        "      <td> Henry Hill and his friends work their way up t...</td>\n",
        "      <td> http://ia.media-imdb.com/images/M/MV5BMTY2OTE5...</td>\n",
        "      <td>                                        Goodfellas</td>\n",
        "      <td> 14</td>\n",
        "      <td>  89</td>\n",
        "      <td>                           Os Bons Companheiros</td>\n",
        "      <td>      Martin Scorsese</td>\n",
        "      <td>   [Nicholas Pileggi, Nicholas Pileggi]</td>\n",
        "      <td> Henry Hill is a small time gangster, who takes...</td>\n",
        "      <td>           [Robert De Niro, Ray Liotta, Joe Pesci]</td>\n",
        "      <td> 1990</td>\n",
        "      <td>       [Biography, Crime, Drama]</td>\n",
        "      <td>                  Won 1 Oscar.</td>\n",
        "      <td> 146</td>\n",
        "    </tr>\n",
        "    <tr>\n",
        "      <th>40</th>\n",
        "      <td> 8.1</td>\n",
        "      <td>  577390</td>\n",
        "      <td> In 1954, U.S. Marshal Teddy Daniels is investi...</td>\n",
        "      <td> http://ia.media-imdb.com/images/M/MV5BMTMxMTIy...</td>\n",
        "      <td>                                    Shutter Island</td>\n",
        "      <td> 16</td>\n",
        "      <td>  63</td>\n",
        "      <td>                                   Ilha do Medo</td>\n",
        "      <td>      Martin Scorsese</td>\n",
        "      <td>      [Laeta Kalogridis, Dennis Lehane]</td>\n",
        "      <td> It's 1954, and up-and-coming U.S. marshal Tedd...</td>\n",
        "      <td> [Leonardo DiCaprio, Emily Mortimer, Mark Ruffalo]</td>\n",
        "      <td> 2010</td>\n",
        "      <td>             [Mystery, Thriller]</td>\n",
        "      <td>                              </td>\n",
        "      <td> 138</td>\n",
        "    </tr>\n",
        "    <tr>\n",
        "      <th>41</th>\n",
        "      <td> 8.2</td>\n",
        "      <td>  574012</td>\n",
        "      <td> The Bride wakens from a four-year coma. The ch...</td>\n",
        "      <td> http://ia.media-imdb.com/images/M/MV5BMTU1NDg1...</td>\n",
        "      <td>                                 Kill Bill: Vol. 1</td>\n",
        "      <td> 18</td>\n",
        "      <td>  69</td>\n",
        "      <td>                            Kill Bill: Volume 1</td>\n",
        "      <td>    Quentin Tarantino</td>\n",
        "      <td> [Quentin Tarantino, Quentin Tarantino]</td>\n",
        "      <td> The lead character, called 'The Bride,' was a ...</td>\n",
        "      <td>      [Uma Thurman, David Carradine, Daryl Hannah]</td>\n",
        "      <td> 2004</td>\n",
        "      <td>                 [Action, Crime]</td>\n",
        "      <td> Nominated for 1 Golden Globe.</td>\n",
        "      <td> 111</td>\n",
        "    </tr>\n",
        "    <tr>\n",
        "      <th>42</th>\n",
        "      <td> 8.2</td>\n",
        "      <td>  571962</td>\n",
        "      <td> A boy who communicates with spirits that don't...</td>\n",
        "      <td> http://ia.media-imdb.com/images/M/MV5BMTc2MTQx...</td>\n",
        "      <td>                                   The Sixth Sense</td>\n",
        "      <td> 12</td>\n",
        "      <td>  64</td>\n",
        "      <td>                                O Sexto Sentido</td>\n",
        "      <td>   M. Night Shyamalan</td>\n",
        "      <td>                   [M. Night Shyamalan]</td>\n",
        "      <td> Malcom Crowe is a child psychologist who recei...</td>\n",
        "      <td>  [Bruce Willis, Haley Joel Osment, Toni Collette]</td>\n",
        "      <td> 1999</td>\n",
        "      <td>      [Drama, Mystery, Thriller]</td>\n",
        "      <td>       Nominated for 6 Oscars.</td>\n",
        "      <td> 107</td>\n",
        "    </tr>\n",
        "    <tr>\n",
        "      <th>43</th>\n",
        "      <td> 8.6</td>\n",
        "      <td>  565045</td>\n",
        "      <td> Mathilda, a 12-year-old girl, who is reluctant...</td>\n",
        "      <td> http://ia.media-imdb.com/images/M/MV5BMTgzMzg4...</td>\n",
        "      <td>                                              L\u00e9on</td>\n",
        "      <td> 14</td>\n",
        "      <td>  64</td>\n",
        "      <td>                                 O Profissional</td>\n",
        "      <td>           Luc Besson</td>\n",
        "      <td>                           [Luc Besson]</td>\n",
        "      <td> After her father and little brother are killed...</td>\n",
        "      <td>         [Jean Reno, Gary Oldman, Natalie Portman]</td>\n",
        "      <td> 1995</td>\n",
        "      <td>        [Crime, Drama, Thriller]</td>\n",
        "      <td>                              </td>\n",
        "      <td> 110</td>\n",
        "    </tr>\n",
        "    <tr>\n",
        "      <th>44</th>\n",
        "      <td> 7.3</td>\n",
        "      <td>  561737</td>\n",
        "      <td> Katniss Everdeen voluntarily takes her younger...</td>\n",
        "      <td> http://ia.media-imdb.com/images/M/MV5BMjA4NDg3...</td>\n",
        "      <td>                                  The Hunger Games</td>\n",
        "      <td> 14</td>\n",
        "      <td>  67</td>\n",
        "      <td>                                  Jogos Vorazes</td>\n",
        "      <td>            Gary Ross</td>\n",
        "      <td>           [Gary Ross, Suzanne Collins]</td>\n",
        "      <td> In a dystopian future, the totalitarian nation...</td>\n",
        "      <td> [Jennifer Lawrence, Josh Hutcherson, Liam Hems...</td>\n",
        "      <td> 2012</td>\n",
        "      <td>             [Adventure, Sci-Fi]</td>\n",
        "      <td> Nominated for 1 Golden Globe.</td>\n",
        "      <td> 142</td>\n",
        "    </tr>\n",
        "    <tr>\n",
        "      <th>46</th>\n",
        "      <td> 8.5</td>\n",
        "      <td>  546381</td>\n",
        "      <td> A young man is accidentally sent 30 years into...</td>\n",
        "      <td> http://ia.media-imdb.com/images/M/MV5BMjA5NTYz...</td>\n",
        "      <td>                                Back to the Future</td>\n",
        "      <td>  0</td>\n",
        "      <td>  86</td>\n",
        "      <td>                         De Volta para o Futuro</td>\n",
        "      <td>      Robert Zemeckis</td>\n",
        "      <td>            [Robert Zemeckis, Bob Gale]</td>\n",
        "      <td> Marty McFly, a typical American teenager of th...</td>\n",
        "      <td> [Michael J. Fox, Christopher Lloyd, Lea Thompson]</td>\n",
        "      <td> 1985</td>\n",
        "      <td>     [Adventure, Comedy, Sci-Fi]</td>\n",
        "      <td>                  Won 1 Oscar.</td>\n",
        "      <td> 116</td>\n",
        "    </tr>\n",
        "    <tr>\n",
        "      <th>47</th>\n",
        "      <td> 8.1</td>\n",
        "      <td>  545366</td>\n",
        "      <td> A film that explores the dark and miserable to...</td>\n",
        "      <td> http://ia.media-imdb.com/images/M/MV5BMTI2NjUy...</td>\n",
        "      <td>                                          Sin City</td>\n",
        "      <td> 16</td>\n",
        "      <td>  74</td>\n",
        "      <td>                   Sin City: A Cidade do Pecado</td>\n",
        "      <td>         Frank Miller</td>\n",
        "      <td>                         [Frank Miller]</td>\n",
        "      <td> Four tales of crime adapted from Frank Miller'...</td>\n",
        "      <td>         [Mickey Rourke, Clive Owen, Bruce Willis]</td>\n",
        "      <td> 2005</td>\n",
        "      <td>               [Crime, Thriller]</td>\n",
        "      <td>                              </td>\n",
        "      <td> 124</td>\n",
        "    </tr>\n",
        "    <tr>\n",
        "      <th>48</th>\n",
        "      <td> 8.5</td>\n",
        "      <td>  541970</td>\n",
        "      <td> In the distant future, a small waste collectin...</td>\n",
        "      <td> http://ia.media-imdb.com/images/M/MV5BMTczOTA3...</td>\n",
        "      <td>                                                  </td>\n",
        "      <td>  0</td>\n",
        "      <td>  94</td>\n",
        "      <td>                                         WALL\u00b7E</td>\n",
        "      <td>       Andrew Stanton</td>\n",
        "      <td>          [Andrew Stanton, Pete Docter]</td>\n",
        "      <td> In a distant, but not so unrealistic, future w...</td>\n",
        "      <td>           [Ben Burtt, Elissa Knight, Jeff Garlin]</td>\n",
        "      <td> 2008</td>\n",
        "      <td> [Animation, Adventure, Romance]</td>\n",
        "      <td>                  Won 1 Oscar.</td>\n",
        "      <td>  98</td>\n",
        "    </tr>\n",
        "    <tr>\n",
        "      <th>49</th>\n",
        "      <td> 7.9</td>\n",
        "      <td>  534770</td>\n",
        "      <td> After being held captive in an Afghan cave, an...</td>\n",
        "      <td> http://ia.media-imdb.com/images/M/MV5BMTczNTI2...</td>\n",
        "      <td>                                          Iron Man</td>\n",
        "      <td> 12</td>\n",
        "      <td>  79</td>\n",
        "      <td>                                 Homem de Ferro</td>\n",
        "      <td>          Jon Favreau</td>\n",
        "      <td>              [Mark Fergus, Hawk Ostby]</td>\n",
        "      <td> Tony Stark is the complete playboy who also ha...</td>\n",
        "      <td> [Robert Downey Jr., Gwyneth Paltrow, Terrence ...</td>\n",
        "      <td> 2008</td>\n",
        "      <td>     [Action, Adventure, Sci-Fi]</td>\n",
        "      <td>       Nominated for 2 Oscars.</td>\n",
        "      <td> 126</td>\n",
        "    </tr>\n",
        "    <tr>\n",
        "      <th>50</th>\n",
        "      <td> 8.0</td>\n",
        "      <td>  530320</td>\n",
        "      <td> A Mumbai teen who grew up in the slums, become...</td>\n",
        "      <td> http://ia.media-imdb.com/images/M/MV5BMTU2NTA5...</td>\n",
        "      <td>                               Slumdog Millionaire</td>\n",
        "      <td> 16</td>\n",
        "      <td>  86</td>\n",
        "      <td>                   Quem Quer Ser um Milion\u00e1rio?</td>\n",
        "      <td>          Danny Boyle</td>\n",
        "      <td>          [Simon Beaufoy, Vikas Swarup]</td>\n",
        "      <td> The story of Jamal Malik, an 18 year-old orpha...</td>\n",
        "      <td>         [Dev Patel, Freida Pinto, Saurabh Shukla]</td>\n",
        "      <td> 2009</td>\n",
        "      <td>                [Drama, Romance]</td>\n",
        "      <td>                 Won 8 Oscars.</td>\n",
        "      <td> 120</td>\n",
        "    </tr>\n",
        "    <tr>\n",
        "      <th>51</th>\n",
        "      <td> 8.4</td>\n",
        "      <td>  530212</td>\n",
        "      <td> When their relationship turns sour, a couple u...</td>\n",
        "      <td> http://ia.media-imdb.com/images/M/MV5BMTY4Nzcw...</td>\n",
        "      <td>             Eternal Sunshine of the Spotless Mind</td>\n",
        "      <td> 14</td>\n",
        "      <td>  89</td>\n",
        "      <td>      Brilho Eterno De Uma Mente Sem Lembran\u00e7as</td>\n",
        "      <td>        Michel Gondry</td>\n",
        "      <td>       [Charlie Kaufman, Michel Gondry]</td>\n",
        "      <td> A man, Joel Barish, heartbroken that his girlf...</td>\n",
        "      <td>         [Jim Carrey, Kate Winslet, Tom Wilkinson]</td>\n",
        "      <td> 2004</td>\n",
        "      <td>        [Drama, Romance, Sci-Fi]</td>\n",
        "      <td>                  Won 1 Oscar.</td>\n",
        "      <td> 108</td>\n",
        "    </tr>\n",
        "    <tr>\n",
        "      <th>52</th>\n",
        "      <td> 8.6</td>\n",
        "      <td>  525728</td>\n",
        "      <td> Archeologist and adventurer Indiana Jones is h...</td>\n",
        "      <td> http://ia.media-imdb.com/images/M/MV5BMjA0ODEz...</td>\n",
        "      <td>                           Raiders of the Lost Ark</td>\n",
        "      <td>  0</td>\n",
        "      <td>  90</td>\n",
        "      <td>                   Os Ca\u00e7adores da Arca Perdida</td>\n",
        "      <td>     Steven Spielberg</td>\n",
        "      <td>        [Lawrence Kasdan, George Lucas]</td>\n",
        "      <td> The year is 1936. A professor who studies arch...</td>\n",
        "      <td>        [Harrison Ford, Karen Allen, Paul Freeman]</td>\n",
        "      <td> 1981</td>\n",
        "      <td>             [Action, Adventure]</td>\n",
        "      <td>                 Won 4 Oscars.</td>\n",
        "      <td> 115</td>\n",
        "    </tr>\n",
        "    <tr>\n",
        "      <th>54</th>\n",
        "      <td> 8.2</td>\n",
        "      <td>  513269</td>\n",
        "      <td> After his son is captured in the Great Barrier...</td>\n",
        "      <td> http://ia.media-imdb.com/images/M/MV5BMTY1MTg1...</td>\n",
        "      <td>                                      Finding Nemo</td>\n",
        "      <td>  0</td>\n",
        "      <td>  90</td>\n",
        "      <td>                                Procurando Nemo</td>\n",
        "      <td>       Andrew Stanton</td>\n",
        "      <td>       [Andrew Stanton, Andrew Stanton]</td>\n",
        "      <td> A clown fish named Marlin lives in the Great B...</td>\n",
        "      <td> [Albert Brooks, Ellen DeGeneres, Alexander Gould]</td>\n",
        "      <td> 2003</td>\n",
        "      <td>  [Animation, Adventure, Comedy]</td>\n",
        "      <td>                  Won 1 Oscar.</td>\n",
        "      <td> 100</td>\n",
        "    </tr>\n",
        "    <tr>\n",
        "      <th>55</th>\n",
        "      <td> 8.4</td>\n",
        "      <td>  512941</td>\n",
        "      <td> After a simple jewelery heist goes terribly wr...</td>\n",
        "      <td> http://ia.media-imdb.com/images/M/MV5BMTQxMTAw...</td>\n",
        "      <td>                                    Reservoir Dogs</td>\n",
        "      <td> 18</td>\n",
        "      <td>  78</td>\n",
        "      <td>                                C\u00e3es de Aluguel</td>\n",
        "      <td>    Quentin Tarantino</td>\n",
        "      <td>       [Quentin Tarantino, Roger Avary]</td>\n",
        "      <td> Six criminals, who are strangers to each other...</td>\n",
        "      <td>         [Harvey Keitel, Tim Roth, Michael Madsen]</td>\n",
        "      <td> 1993</td>\n",
        "      <td>                  [Crime, Drama]</td>\n",
        "      <td>                              </td>\n",
        "      <td>  99</td>\n",
        "    </tr>\n",
        "    <tr>\n",
        "      <th>56</th>\n",
        "      <td> 7.8</td>\n",
        "      <td>  511505</td>\n",
        "      <td> King Leonidas and a force of 300 men fight the...</td>\n",
        "      <td> http://ia.media-imdb.com/images/M/MV5BMjAzNTkz...</td>\n",
        "      <td>                                                  </td>\n",
        "      <td> 18</td>\n",
        "      <td>  51</td>\n",
        "      <td>                                            300</td>\n",
        "      <td>          Zack Snyder</td>\n",
        "      <td>           [Zack Snyder, Kurt Johnstad]</td>\n",
        "      <td> In the Battle of Thermopylae of 480 BC an alli...</td>\n",
        "      <td>        [Gerard Butler, Lena Headey, David Wenham]</td>\n",
        "      <td> 2007</td>\n",
        "      <td>          [Action, Fantasy, War]</td>\n",
        "      <td>                              </td>\n",
        "      <td> 117</td>\n",
        "    </tr>\n",
        "    <tr>\n",
        "      <th>57</th>\n",
        "      <td> 8.0</td>\n",
        "      <td>  503034</td>\n",
        "      <td> A reluctant hobbit, Bilbo Baggins, sets out to...</td>\n",
        "      <td> http://ia.media-imdb.com/images/M/MV5BMTcwNTE4...</td>\n",
        "      <td>                 The Hobbit: An Unexpected Journey</td>\n",
        "      <td> 12</td>\n",
        "      <td>  58</td>\n",
        "      <td>               O Hobbit: Uma Jornada Inesperada</td>\n",
        "      <td>        Peter Jackson</td>\n",
        "      <td>          [Fran Walsh, Philippa Boyens]</td>\n",
        "      <td> Bilbo Baggins is swept into a quest to reclaim...</td>\n",
        "      <td>  [Martin Freeman, Ian McKellen, Richard Armitage]</td>\n",
        "      <td> 2012</td>\n",
        "      <td>            [Adventure, Fantasy]</td>\n",
        "      <td>       Nominated for 3 Oscars.</td>\n",
        "      <td> 169</td>\n",
        "    </tr>\n",
        "    <tr>\n",
        "      <th>58</th>\n",
        "      <td> 8.4</td>\n",
        "      <td>  497887</td>\n",
        "      <td> After rescuing Han Solo from the palace of Jab...</td>\n",
        "      <td> http://ia.media-imdb.com/images/M/MV5BMjE5MTM3...</td>\n",
        "      <td>        Star Wars: Episode VI - Return of the Jedi</td>\n",
        "      <td>  0</td>\n",
        "      <td>  52</td>\n",
        "      <td>     Star Wars, Epis\u00f3dio VI - O Retorno do Jedi</td>\n",
        "      <td>     Richard Marquand</td>\n",
        "      <td>        [Lawrence Kasdan, George Lucas]</td>\n",
        "      <td> Darth Vader and the Empire are building a new,...</td>\n",
        "      <td>       [Mark Hamill, Harrison Ford, Carrie Fisher]</td>\n",
        "      <td> 1983</td>\n",
        "      <td>    [Action, Adventure, Fantasy]</td>\n",
        "      <td>       Nominated for 4 Oscars.</td>\n",
        "      <td> 134</td>\n",
        "    </tr>\n",
        "    <tr>\n",
        "      <th>59</th>\n",
        "      <td> 8.3</td>\n",
        "      <td>  489253</td>\n",
        "      <td> To avoid being taken away to a nursing home, a...</td>\n",
        "      <td> http://ia.media-imdb.com/images/M/MV5BMTk3NDE2...</td>\n",
        "      <td>                                                Up</td>\n",
        "      <td>  0</td>\n",
        "      <td>  88</td>\n",
        "      <td>                            Up: Altas Aventuras</td>\n",
        "      <td>          Pete Docter</td>\n",
        "      <td>            [Pete Docter, Bob Peterson]</td>\n",
        "      <td> A young Carl Fredrickson meets a young adventu...</td>\n",
        "      <td>   [Edward Asner, Jordan Nagai, John Ratzenberger]</td>\n",
        "      <td> 2009</td>\n",
        "      <td>   [Animation, Adventure, Drama]</td>\n",
        "      <td>                 Won 2 Oscars.</td>\n",
        "      <td>  96</td>\n",
        "    </tr>\n",
        "    <tr>\n",
        "      <th>60</th>\n",
        "      <td> 8.1</td>\n",
        "      <td>  484417</td>\n",
        "      <td> Violence and mayhem ensue after a hunter stumb...</td>\n",
        "      <td> http://ia.media-imdb.com/images/M/MV5BMjA5Njk3...</td>\n",
        "      <td>                            No Country for Old Men</td>\n",
        "      <td> 16</td>\n",
        "      <td>  91</td>\n",
        "      <td>                     Onde os Fracos n\u00e3o T\u00eam Vez</td>\n",
        "      <td>           Ethan Coen</td>\n",
        "      <td>                [Joel Coen, Ethan Coen]</td>\n",
        "      <td> In rural Texas, welder and hunter Llewelyn Mos...</td>\n",
        "      <td>     [Tommy Lee Jones, Javier Bardem, Josh Brolin]</td>\n",
        "      <td> 2008</td>\n",
        "      <td>        [Crime, Drama, Thriller]</td>\n",
        "      <td>                 Won 4 Oscars.</td>\n",
        "      <td> 122</td>\n",
        "    </tr>\n",
        "    <tr>\n",
        "      <th>61</th>\n",
        "      <td> 8.3</td>\n",
        "      <td>  483416</td>\n",
        "      <td> Unscrupulous boxing promoters, violent bookmak...</td>\n",
        "      <td> http://ia.media-imdb.com/images/M/MV5BMTk5NzE0...</td>\n",
        "      <td>                                           Snatch.</td>\n",
        "      <td> 16</td>\n",
        "      <td>  55</td>\n",
        "      <td>                    Snatch - Porcos E Diamantes</td>\n",
        "      <td>          Guy Ritchie</td>\n",
        "      <td>                          [Guy Ritchie]</td>\n",
        "      <td> Turkish and his close friend/accomplice Tommy ...</td>\n",
        "      <td>      [Jason Statham, Brad Pitt, Benicio Del Toro]</td>\n",
        "      <td> 2001</td>\n",
        "      <td>                 [Comedy, Crime]</td>\n",
        "      <td>                              </td>\n",
        "      <td> 104</td>\n",
        "    </tr>\n",
        "    <tr>\n",
        "      <th>62</th>\n",
        "      <td> 8.3</td>\n",
        "      <td>  478160</td>\n",
        "      <td> John McClane, officer of the NYPD, tries to sa...</td>\n",
        "      <td> http://ia.media-imdb.com/images/M/MV5BMTY4ODM0...</td>\n",
        "      <td>                                          Die Hard</td>\n",
        "      <td> 14</td>\n",
        "      <td>  70</td>\n",
        "      <td>                                  Duro de Matar</td>\n",
        "      <td>       John McTiernan</td>\n",
        "      <td>           [Roderick Thorp, Jeb Stuart]</td>\n",
        "      <td> New York City Detective John McClane has just ...</td>\n",
        "      <td>      [Bruce Willis, Alan Rickman, Bonnie Bedelia]</td>\n",
        "      <td> 1988</td>\n",
        "      <td>              [Action, Thriller]</td>\n",
        "      <td>       Nominated for 4 Oscars.</td>\n",
        "      <td> 131</td>\n",
        "    </tr>\n",
        "    <tr>\n",
        "      <th>63</th>\n",
        "      <td> 8.3</td>\n",
        "      <td>  479066</td>\n",
        "      <td> Based on the true story of Jordan Belfort, fro...</td>\n",
        "      <td> http://ia.media-imdb.com/images/M/MV5BMjIxMjgx...</td>\n",
        "      <td>                           The Wolf of Wall Street</td>\n",
        "      <td> 18</td>\n",
        "      <td>  75</td>\n",
        "      <td>                          O Lobo de Wall Street</td>\n",
        "      <td>      Martin Scorsese</td>\n",
        "      <td>       [Terence Winter, Jordan Belfort]</td>\n",
        "      <td> In The Wolf of Wall Street DiCaprio plays Belf...</td>\n",
        "      <td>    [Leonardo DiCaprio, Jonah Hill, Margot Robbie]</td>\n",
        "      <td> 2014</td>\n",
        "      <td>      [Biography, Comedy, Crime]</td>\n",
        "      <td>       Nominated for 5 Oscars.</td>\n",
        "      <td> 180</td>\n",
        "    </tr>\n",
        "    <tr>\n",
        "      <th>66</th>\n",
        "      <td> 8.1</td>\n",
        "      <td>  474513</td>\n",
        "      <td> A troubled teenager is plagued by visions of a...</td>\n",
        "      <td> http://ia.media-imdb.com/images/M/MV5BMTczMzE4...</td>\n",
        "      <td>                                                  </td>\n",
        "      <td> 14</td>\n",
        "      <td>  71</td>\n",
        "      <td>                                   Donnie Darko</td>\n",
        "      <td>        Richard Kelly</td>\n",
        "      <td>                        [Richard Kelly]</td>\n",
        "      <td> Donnie Darko doesn't get along too well with h...</td>\n",
        "      <td>    [Jake Gyllenhaal, Jena Malone, Mary McDonnell]</td>\n",
        "      <td> 2003</td>\n",
        "      <td>        [Drama, Mystery, Sci-Fi]</td>\n",
        "      <td>                              </td>\n",
        "      <td> 113</td>\n",
        "    </tr>\n",
        "    <tr>\n",
        "      <th>68</th>\n",
        "      <td> 8.5</td>\n",
        "      <td>  472398</td>\n",
        "      <td> Lion cub and future king Simba tests his limit...</td>\n",
        "      <td> http://ia.media-imdb.com/images/M/MV5BMjEyMzgw...</td>\n",
        "      <td>                                     The Lion King</td>\n",
        "      <td>  0</td>\n",
        "      <td>  83</td>\n",
        "      <td>                                     O Rei Le\u00e3o</td>\n",
        "      <td>         Roger Allers</td>\n",
        "      <td>       [Irene Mecchi, Jonathan Roberts]</td>\n",
        "      <td> A young lion prince is born in Africa, thus ma...</td>\n",
        "      <td> [Matthew Broderick, Jeremy Irons, James Earl J...</td>\n",
        "      <td> 1994</td>\n",
        "      <td>   [Animation, Adventure, Drama]</td>\n",
        "      <td>                 Won 2 Oscars.</td>\n",
        "      <td>  89</td>\n",
        "    </tr>\n",
        "    <tr>\n",
        "      <th>69</th>\n",
        "      <td> 8.3</td>\n",
        "      <td>  466201</td>\n",
        "      <td> A cowboy doll is profoundly threatened and jea...</td>\n",
        "      <td> http://ia.media-imdb.com/images/M/MV5BMTgwMjI4...</td>\n",
        "      <td>                                                  </td>\n",
        "      <td>  0</td>\n",
        "      <td>  92</td>\n",
        "      <td>                                      Toy Story</td>\n",
        "      <td>        John Lasseter</td>\n",
        "      <td>           [John Lasseter, Pete Docter]</td>\n",
        "      <td> A little boy named Andy loves to be in his roo...</td>\n",
        "      <td>               [Tom Hanks, Tim Allen, Don Rickles]</td>\n",
        "      <td> 1995</td>\n",
        "      <td>  [Animation, Adventure, Comedy]</td>\n",
        "      <td>       Nominated for 3 Oscars.</td>\n",
        "      <td>  81</td>\n",
        "    </tr>\n",
        "    <tr>\n",
        "      <th>70</th>\n",
        "      <td> 8.1</td>\n",
        "      <td>  464285</td>\n",
        "      <td> A human-looking indestructible cyborg is sent ...</td>\n",
        "      <td> http://ia.media-imdb.com/images/M/MV5BODE1MDcz...</td>\n",
        "      <td>                                    The Terminator</td>\n",
        "      <td> 14</td>\n",
        "      <td>  84</td>\n",
        "      <td>                       O Exterminador do Futuro</td>\n",
        "      <td>        James Cameron</td>\n",
        "      <td>        [James Cameron, Gale Anne Hurd]</td>\n",
        "      <td> A cyborg is sent from the future on a deadly m...</td>\n",
        "      <td> [Arnold Schwarzenegger, Linda Hamilton, Michae...</td>\n",
        "      <td> 1985</td>\n",
        "      <td>                [Action, Sci-Fi]</td>\n",
        "      <td>                              </td>\n",
        "      <td> 107</td>\n",
        "    </tr>\n",
        "    <tr>\n",
        "      <th></th>\n",
        "      <td>...</td>\n",
        "      <td>...</td>\n",
        "      <td>...</td>\n",
        "      <td>...</td>\n",
        "      <td>...</td>\n",
        "      <td>...</td>\n",
        "      <td>...</td>\n",
        "      <td>...</td>\n",
        "      <td>...</td>\n",
        "      <td>...</td>\n",
        "      <td>...</td>\n",
        "      <td>...</td>\n",
        "      <td>...</td>\n",
        "      <td>...</td>\n",
        "      <td>...</td>\n",
        "      <td>...</td>\n",
        "    </tr>\n",
        "  </tbody>\n",
        "</table>\n",
        "<p>8910 rows \u00d7 16 columns</p>\n",
        "</div>"
       ],
       "metadata": {},
       "output_type": "pyout",
       "prompt_number": 681,
       "text": [
        "    rating    votes                                        description  \\\n",
        "0      9.3  1339913  Two imprisoned men bond over a number of years...   \n",
        "1      9.0  1308570  When the menace known as the Joker wreaks havo...   \n",
        "2      8.8  1099712  A thief who steals corporate secrets through u...   \n",
        "3      8.2   628075  In a future British tyranny, a shadowy freedom...   \n",
        "5      8.9  1033387  The lives of two mob hit men, a boxer, a gangs...   \n",
        "7      8.8   979776  A meek hobbit of the Shire and eight companion...   \n",
        "8      8.9   954344  Gandalf and Aragorn lead the World of Men agai...   \n",
        "9      8.7   950393  A computer hacker learns from mysterious rebel...   \n",
        "10     8.8   930191  Forrest Gump, while not intelligent, has accid...   \n",
        "11     9.2   923152  The aging patriarch of an organized crime dyna...   \n",
        "13     8.8   858574  While Frodo and Sam edge closer to Mordor with...   \n",
        "14     8.7   787327  Two detectives, a rookie and a veteran, hunt a...   \n",
        "15     8.5   756382  When a Roman general is betrayed and his famil...   \n",
        "16     8.3   746630  After training with his mentor, Batman begins ...   \n",
        "17     8.2   742734  Earth's mightiest heroes must come together an...   \n",
        "18     7.9   725850  A Paraplegic Marine dispatched to the moon Pan...   \n",
        "19     8.7   697161  Luke Skywalker joins forces with a Jedi Knight...   \n",
        "22     8.6   679087  Following the Normandy Landings, a group of U....   \n",
        "23     8.5   677186  An undercover state cop who has infiltrated an...   \n",
        "24     8.9   676944  In Poland during World War II, Oskar Schindler...   \n",
        "25     8.5   676206  A man creates a strange system to help him rem...   \n",
        "26     8.6   669998  A young F.B.I. cadet must confide in an incarc...   \n",
        "28     8.3   650691  In Nazi-occupied France during World War II, a...   \n",
        "29     8.5   642977  Two stage magicians engage in competitive one-...   \n",
        "30     8.1   641722  Blacksmith Will Turner teams up with eccentric...   \n",
        "31     7.7   628872  A seventeen-year-old aristocrat, expecting to ...   \n",
        "32     8.8   627735  After the rebels have been brutally overpowere...   \n",
        "33     8.6   620549  A former neo-nazi skinhead tries to prevent hi...   \n",
        "34     9.1   615388  The early life and career of Vito Corleone in ...   \n",
        "35     8.7   587759  A sole survivor tells of the twisty events lea...   \n",
        "36     8.5   586342  A cyborg, identical to the one who failed to k...   \n",
        "37     8.4   584360  When his secret bride is executed for assaulti...   \n",
        "38     8.5   579187  The lives of guards on Death Row are affected ...   \n",
        "39     8.7   577668  Henry Hill and his friends work their way up t...   \n",
        "40     8.1   577390  In 1954, U.S. Marshal Teddy Daniels is investi...   \n",
        "41     8.2   574012  The Bride wakens from a four-year coma. The ch...   \n",
        "42     8.2   571962  A boy who communicates with spirits that don't...   \n",
        "43     8.6   565045  Mathilda, a 12-year-old girl, who is reluctant...   \n",
        "44     7.3   561737  Katniss Everdeen voluntarily takes her younger...   \n",
        "46     8.5   546381  A young man is accidentally sent 30 years into...   \n",
        "47     8.1   545366  A film that explores the dark and miserable to...   \n",
        "48     8.5   541970  In the distant future, a small waste collectin...   \n",
        "49     7.9   534770  After being held captive in an Afghan cave, an...   \n",
        "50     8.0   530320  A Mumbai teen who grew up in the slums, become...   \n",
        "51     8.4   530212  When their relationship turns sour, a couple u...   \n",
        "52     8.6   525728  Archeologist and adventurer Indiana Jones is h...   \n",
        "54     8.2   513269  After his son is captured in the Great Barrier...   \n",
        "55     8.4   512941  After a simple jewelery heist goes terribly wr...   \n",
        "56     7.8   511505  King Leonidas and a force of 300 men fight the...   \n",
        "57     8.0   503034  A reluctant hobbit, Bilbo Baggins, sets out to...   \n",
        "58     8.4   497887  After rescuing Han Solo from the palace of Jab...   \n",
        "59     8.3   489253  To avoid being taken away to a nursing home, a...   \n",
        "60     8.1   484417  Violence and mayhem ensue after a hunter stumb...   \n",
        "61     8.3   483416  Unscrupulous boxing promoters, violent bookmak...   \n",
        "62     8.3   478160  John McClane, officer of the NYPD, tries to sa...   \n",
        "63     8.3   479066  Based on the true story of Jordan Belfort, fro...   \n",
        "66     8.1   474513  A troubled teenager is plagued by visions of a...   \n",
        "68     8.5   472398  Lion cub and future king Simba tests his limit...   \n",
        "69     8.3   466201  A cowboy doll is profoundly threatened and jea...   \n",
        "70     8.1   464285  A human-looking indestructible cyborg is sent ...   \n",
        "       ...      ...                                                ...   \n",
        "\n",
        "                                               poster  \\\n",
        "0   http://ia.media-imdb.com/images/M/MV5BODU4MjU4...   \n",
        "1   http://ia.media-imdb.com/images/M/MV5BMTMxNTMw...   \n",
        "2   http://ia.media-imdb.com/images/M/MV5BMjAxMzY3...   \n",
        "3   http://ia.media-imdb.com/images/M/MV5BOTI5ODc3...   \n",
        "5   http://ia.media-imdb.com/images/M/MV5BMjE0ODk2...   \n",
        "7   http://ia.media-imdb.com/images/M/MV5BNTEyMjAw...   \n",
        "8   http://ia.media-imdb.com/images/M/MV5BMjE4MjA1...   \n",
        "9   http://ia.media-imdb.com/images/M/MV5BMTkxNDYx...   \n",
        "10  http://ia.media-imdb.com/images/M/MV5BMTQwMTA5...   \n",
        "11  http://ia.media-imdb.com/images/M/MV5BMjEyMjcy...   \n",
        "13  http://ia.media-imdb.com/images/M/MV5BMTAyNDU0...   \n",
        "14  http://ia.media-imdb.com/images/M/MV5BMTQwNTU3...   \n",
        "15  http://ia.media-imdb.com/images/M/MV5BMTgwMzQz...   \n",
        "16  http://ia.media-imdb.com/images/M/MV5BNTM3OTc0...   \n",
        "17  http://ia.media-imdb.com/images/M/MV5BMTk2NTI1...   \n",
        "18  http://ia.media-imdb.com/images/M/MV5BMTYwOTEw...   \n",
        "19  http://ia.media-imdb.com/images/M/MV5BMTU4NTcz...   \n",
        "22  http://ia.media-imdb.com/images/M/MV5BNjczODkx...   \n",
        "23  http://ia.media-imdb.com/images/M/MV5BMTI1MTY2...   \n",
        "24  http://ia.media-imdb.com/images/M/MV5BMzMwMTM4...   \n",
        "25  http://ia.media-imdb.com/images/M/MV5BMTc4MjUx...   \n",
        "26  http://ia.media-imdb.com/images/M/MV5BMTQ2Nzkz...   \n",
        "28  http://ia.media-imdb.com/images/M/MV5BMjIzMDI4...   \n",
        "29  http://ia.media-imdb.com/images/M/MV5BMjA4NDI0...   \n",
        "30  http://ia.media-imdb.com/images/M/MV5BMjAyNDM4...   \n",
        "31  http://ia.media-imdb.com/images/M/MV5BMjExNzM0...   \n",
        "32  http://ia.media-imdb.com/images/M/MV5BMjE2MzQw...   \n",
        "33  http://ia.media-imdb.com/images/M/MV5BMjMzNDUw...   \n",
        "34  http://ia.media-imdb.com/images/M/MV5BNDc2NTM3...   \n",
        "35  http://ia.media-imdb.com/images/M/MV5BMzI1MjI5...   \n",
        "36  http://ia.media-imdb.com/images/M/MV5BMTg5NzUw...   \n",
        "37  http://ia.media-imdb.com/images/M/MV5BNjA4ODYx...   \n",
        "38  http://ia.media-imdb.com/images/M/MV5BMTUxMzQy...   \n",
        "39  http://ia.media-imdb.com/images/M/MV5BMTY2OTE5...   \n",
        "40  http://ia.media-imdb.com/images/M/MV5BMTMxMTIy...   \n",
        "41  http://ia.media-imdb.com/images/M/MV5BMTU1NDg1...   \n",
        "42  http://ia.media-imdb.com/images/M/MV5BMTc2MTQx...   \n",
        "43  http://ia.media-imdb.com/images/M/MV5BMTgzMzg4...   \n",
        "44  http://ia.media-imdb.com/images/M/MV5BMjA4NDg3...   \n",
        "46  http://ia.media-imdb.com/images/M/MV5BMjA5NTYz...   \n",
        "47  http://ia.media-imdb.com/images/M/MV5BMTI2NjUy...   \n",
        "48  http://ia.media-imdb.com/images/M/MV5BMTczOTA3...   \n",
        "49  http://ia.media-imdb.com/images/M/MV5BMTczNTI2...   \n",
        "50  http://ia.media-imdb.com/images/M/MV5BMTU2NTA5...   \n",
        "51  http://ia.media-imdb.com/images/M/MV5BMTY4Nzcw...   \n",
        "52  http://ia.media-imdb.com/images/M/MV5BMjA0ODEz...   \n",
        "54  http://ia.media-imdb.com/images/M/MV5BMTY1MTg1...   \n",
        "55  http://ia.media-imdb.com/images/M/MV5BMTQxMTAw...   \n",
        "56  http://ia.media-imdb.com/images/M/MV5BMjAzNTkz...   \n",
        "57  http://ia.media-imdb.com/images/M/MV5BMTcwNTE4...   \n",
        "58  http://ia.media-imdb.com/images/M/MV5BMjE5MTM3...   \n",
        "59  http://ia.media-imdb.com/images/M/MV5BMTk3NDE2...   \n",
        "60  http://ia.media-imdb.com/images/M/MV5BMjA5Njk3...   \n",
        "61  http://ia.media-imdb.com/images/M/MV5BMTk5NzE0...   \n",
        "62  http://ia.media-imdb.com/images/M/MV5BMTY4ODM0...   \n",
        "63  http://ia.media-imdb.com/images/M/MV5BMjIxMjgx...   \n",
        "66  http://ia.media-imdb.com/images/M/MV5BMTczMzE4...   \n",
        "68  http://ia.media-imdb.com/images/M/MV5BMjEyMzgw...   \n",
        "69  http://ia.media-imdb.com/images/M/MV5BMTgwMjI4...   \n",
        "70  http://ia.media-imdb.com/images/M/MV5BODE1MDcz...   \n",
        "                                                  ...   \n",
        "\n",
        "                                                title  contentRating  \\\n",
        "0                            The Shawshank Redemption             16   \n",
        "1                                     The Dark Knight             12   \n",
        "2                                           Inception             14   \n",
        "3                                      V for Vendetta             16   \n",
        "5                                        Pulp Fiction             18   \n",
        "7   The Lord of the Rings: The Fellowship of the Ring             12   \n",
        "8       The Lord of the Rings: The Return of the King             12   \n",
        "9                                          The Matrix             12   \n",
        "10                                       Forrest Gump             14   \n",
        "11                                      The Godfather             14   \n",
        "13              The Lord of the Rings: The Two Towers             12   \n",
        "14                                              Se7en             14   \n",
        "15                                          Gladiator             14   \n",
        "16                                                                10   \n",
        "17                                       The Avengers             12   \n",
        "18                                                                12   \n",
        "19                                          Star Wars              0   \n",
        "22                                Saving Private Ryan             14   \n",
        "23                                       The Departed             18   \n",
        "24                                   Schindler's List             14   \n",
        "25                                            Memento             16   \n",
        "26                           The Silence of the Lambs             14   \n",
        "28                               Inglourious Basterds             18   \n",
        "29                                       The Prestige             14   \n",
        "30  Pirates of the Caribbean: The Curse of the Bla...             14   \n",
        "31                                                                 0   \n",
        "32     Star Wars: Episode V - The Empire Strikes Back              0   \n",
        "33                                 American History X             14   \n",
        "34                             The Godfather: Part II             14   \n",
        "35                                 The Usual Suspects             14   \n",
        "36                         Terminator 2: Judgment Day             12   \n",
        "37                                         Braveheart             16   \n",
        "38                                     The Green Mile             14   \n",
        "39                                         Goodfellas             14   \n",
        "40                                     Shutter Island             16   \n",
        "41                                  Kill Bill: Vol. 1             18   \n",
        "42                                    The Sixth Sense             12   \n",
        "43                                               L\u00e9on             14   \n",
        "44                                   The Hunger Games             14   \n",
        "46                                 Back to the Future              0   \n",
        "47                                           Sin City             16   \n",
        "48                                                                 0   \n",
        "49                                           Iron Man             12   \n",
        "50                                Slumdog Millionaire             16   \n",
        "51              Eternal Sunshine of the Spotless Mind             14   \n",
        "52                            Raiders of the Lost Ark              0   \n",
        "54                                       Finding Nemo              0   \n",
        "55                                     Reservoir Dogs             18   \n",
        "56                                                                18   \n",
        "57                  The Hobbit: An Unexpected Journey             12   \n",
        "58         Star Wars: Episode VI - Return of the Jedi              0   \n",
        "59                                                 Up              0   \n",
        "60                             No Country for Old Men             16   \n",
        "61                                            Snatch.             16   \n",
        "62                                           Die Hard             14   \n",
        "63                            The Wolf of Wall Street             18   \n",
        "66                                                                14   \n",
        "68                                      The Lion King              0   \n",
        "69                                                                 0   \n",
        "70                                     The Terminator             14   \n",
        "                                                  ...            ...   \n",
        "\n",
        "    metascore                                        pt_title  \\\n",
        "0          80                           Um Sonho de Liberdade   \n",
        "1          82                 Batman - O Cavaleiro das Trevas   \n",
        "2          74                                        A Origem   \n",
        "3          62                                   V de Vingan\u00e7a   \n",
        "5          94                Pulp Fiction: Tempo de Viol\u00eancia   \n",
        "7          92         O Senhor dos An\u00e9is: A Sociedade do Anel   \n",
        "8          94            O Senhor dos An\u00e9is: O Retorno do Rei   \n",
        "9          73                                          Matrix   \n",
        "10         82           Forrest Gump, o Contador de Hist\u00f3rias   \n",
        "11        100                               O Poderoso Chef\u00e3o   \n",
        "13         88              O Senhor dos An\u00e9is: As Duas Torres   \n",
        "14         65                  Seven: Os Sete Crimes Capitais   \n",
        "15         64                                       Gladiador   \n",
        "16         70                                   Batman Begins   \n",
        "17         69                     The Avengers: Os Vingadores   \n",
        "18         83                                          Avatar   \n",
        "19         91                             Guerra nas Estrelas   \n",
        "22         90                       O Resgate do Soldado Ryan   \n",
        "23         86                                  Os Infiltrados   \n",
        "24         93                            A Lista de Schindler   \n",
        "25         80                                         Amn\u00e9sia   \n",
        "26         84                        O Sil\u00eancio dos Inocentes   \n",
        "28         69                             Bastardos Ingl\u00f3rios   \n",
        "29         66                                 O Grande Truque   \n",
        "30         63   Piratas do Caribe: A Maldi\u00e7\u00e3o do P\u00e9rola Negra   \n",
        "31         74                                         Titanic   \n",
        "32         78  Star Wars: Epis\u00f3dio V - O Imp\u00e9rio Contra-Ataca   \n",
        "33         62                      A Outra Hist\u00f3ria Americana   \n",
        "34         80                            O Poderoso Chef\u00e3o II   \n",
        "35         77                                    Os Suspeitos   \n",
        "36         68  O Exterminador do Futuro 2: O Julgamento Final   \n",
        "37         68                                 Cora\u00e7\u00e3o Valente   \n",
        "38         61                          \u00c0 Espera de Um Milagre   \n",
        "39         89                            Os Bons Companheiros   \n",
        "40         63                                    Ilha do Medo   \n",
        "41         69                             Kill Bill: Volume 1   \n",
        "42         64                                 O Sexto Sentido   \n",
        "43         64                                  O Profissional   \n",
        "44         67                                   Jogos Vorazes   \n",
        "46         86                          De Volta para o Futuro   \n",
        "47         74                    Sin City: A Cidade do Pecado   \n",
        "48         94                                          WALL\u00b7E   \n",
        "49         79                                  Homem de Ferro   \n",
        "50         86                    Quem Quer Ser um Milion\u00e1rio?   \n",
        "51         89       Brilho Eterno De Uma Mente Sem Lembran\u00e7as   \n",
        "52         90                    Os Ca\u00e7adores da Arca Perdida   \n",
        "54         90                                 Procurando Nemo   \n",
        "55         78                                 C\u00e3es de Aluguel   \n",
        "56         51                                             300   \n",
        "57         58                O Hobbit: Uma Jornada Inesperada   \n",
        "58         52      Star Wars, Epis\u00f3dio VI - O Retorno do Jedi   \n",
        "59         88                             Up: Altas Aventuras   \n",
        "60         91                      Onde os Fracos n\u00e3o T\u00eam Vez   \n",
        "61         55                     Snatch - Porcos E Diamantes   \n",
        "62         70                                   Duro de Matar   \n",
        "63         75                           O Lobo de Wall Street   \n",
        "66         71                                    Donnie Darko   \n",
        "68         83                                      O Rei Le\u00e3o   \n",
        "69         92                                       Toy Story   \n",
        "70         84                        O Exterminador do Futuro   \n",
        "          ...                                             ...   \n",
        "\n",
        "                director                                 writers  \\\n",
        "0         Frank Darabont          [Stephen King, Frank Darabont]   \n",
        "1      Christopher Nolan     [Jonathan Nolan, Christopher Nolan]   \n",
        "2      Christopher Nolan                     [Christopher Nolan]   \n",
        "3         James McTeigue        [Andy Wachowski, Lana Wachowski]   \n",
        "5      Quentin Tarantino        [Quentin Tarantino, Roger Avary]   \n",
        "7          Peter Jackson            [J.R.R. Tolkien, Fran Walsh]   \n",
        "8          Peter Jackson            [J.R.R. Tolkien, Fran Walsh]   \n",
        "9         Andy Wachowski        [Andy Wachowski, Lana Wachowski]   \n",
        "10       Robert Zemeckis              [Winston Groom, Eric Roth]   \n",
        "11  Francis Ford Coppola      [Mario Puzo, Francis Ford Coppola]   \n",
        "13         Peter Jackson            [J.R.R. Tolkien, Fran Walsh]   \n",
        "14         David Fincher                   [Andrew Kevin Walker]   \n",
        "15          Ridley Scott        [David Franzoni, David Franzoni]   \n",
        "16     Christopher Nolan              [Bob Kane, David S. Goyer]   \n",
        "17           Joss Whedon                 [Joss Whedon, Zak Penn]   \n",
        "18         James Cameron                         [James Cameron]   \n",
        "19          George Lucas                          [George Lucas]   \n",
        "22      Steven Spielberg                          [Robert Rodat]   \n",
        "23       Martin Scorsese             [William Monahan, Alan Mak]   \n",
        "24      Steven Spielberg      [Thomas Keneally, Steven Zaillian]   \n",
        "25     Christopher Nolan     [Christopher Nolan, Jonathan Nolan]   \n",
        "26        Jonathan Demme              [Thomas Harris, Ted Tally]   \n",
        "28     Quentin Tarantino                     [Quentin Tarantino]   \n",
        "29     Christopher Nolan     [Jonathan Nolan, Christopher Nolan]   \n",
        "30        Gore Verbinski             [Ted Elliott, Terry Rossio]   \n",
        "31         James Cameron                         [James Cameron]   \n",
        "32        Irvin Kershner       [Leigh Brackett, Lawrence Kasdan]   \n",
        "33             Tony Kaye                         [David McKenna]   \n",
        "34  Francis Ford Coppola      [Francis Ford Coppola, Mario Puzo]   \n",
        "35          Bryan Singer                 [Christopher McQuarrie]   \n",
        "36         James Cameron     [James Cameron, William Wisher Jr.]   \n",
        "37            Mel Gibson                       [Randall Wallace]   \n",
        "38        Frank Darabont          [Stephen King, Frank Darabont]   \n",
        "39       Martin Scorsese    [Nicholas Pileggi, Nicholas Pileggi]   \n",
        "40       Martin Scorsese       [Laeta Kalogridis, Dennis Lehane]   \n",
        "41     Quentin Tarantino  [Quentin Tarantino, Quentin Tarantino]   \n",
        "42    M. Night Shyamalan                    [M. Night Shyamalan]   \n",
        "43            Luc Besson                            [Luc Besson]   \n",
        "44             Gary Ross            [Gary Ross, Suzanne Collins]   \n",
        "46       Robert Zemeckis             [Robert Zemeckis, Bob Gale]   \n",
        "47          Frank Miller                          [Frank Miller]   \n",
        "48        Andrew Stanton           [Andrew Stanton, Pete Docter]   \n",
        "49           Jon Favreau               [Mark Fergus, Hawk Ostby]   \n",
        "50           Danny Boyle           [Simon Beaufoy, Vikas Swarup]   \n",
        "51         Michel Gondry        [Charlie Kaufman, Michel Gondry]   \n",
        "52      Steven Spielberg         [Lawrence Kasdan, George Lucas]   \n",
        "54        Andrew Stanton        [Andrew Stanton, Andrew Stanton]   \n",
        "55     Quentin Tarantino        [Quentin Tarantino, Roger Avary]   \n",
        "56           Zack Snyder            [Zack Snyder, Kurt Johnstad]   \n",
        "57         Peter Jackson           [Fran Walsh, Philippa Boyens]   \n",
        "58      Richard Marquand         [Lawrence Kasdan, George Lucas]   \n",
        "59           Pete Docter             [Pete Docter, Bob Peterson]   \n",
        "60            Ethan Coen                 [Joel Coen, Ethan Coen]   \n",
        "61           Guy Ritchie                           [Guy Ritchie]   \n",
        "62        John McTiernan            [Roderick Thorp, Jeb Stuart]   \n",
        "63       Martin Scorsese        [Terence Winter, Jordan Belfort]   \n",
        "66         Richard Kelly                         [Richard Kelly]   \n",
        "68          Roger Allers        [Irene Mecchi, Jonathan Roberts]   \n",
        "69         John Lasseter            [John Lasseter, Pete Docter]   \n",
        "70         James Cameron         [James Cameron, Gale Anne Hurd]   \n",
        "                     ...                                     ...   \n",
        "\n",
        "                                            storyline  \\\n",
        "0   Andy Dufresne is a young and successful banker...   \n",
        "1   Batman raises the stakes in his war on crime. ...   \n",
        "2   Dom Cobb is a skilled thief, the absolute best...   \n",
        "3   The futuristic tale unfolds in a Great Britain...   \n",
        "5   Jules Winnfield and Vincent Vega are two hitme...   \n",
        "7   An ancient Ring thought lost for centuries has...   \n",
        "8   While Frodo & Sam continue to approach Mount D...   \n",
        "9   Thomas A. Anderson is a man living two lives. ...   \n",
        "10  Forrest Gump is a simple man with a low I.Q. b...   \n",
        "11  When the aging head of a famous crime family d...   \n",
        "13  Sauron's forces increase. His allies grow. The...   \n",
        "14  A film about two homicide detectives' desperat...   \n",
        "15  Maximus is a powerful Roman general, loved by ...   \n",
        "16  When his parents were killed, millionaire play...   \n",
        "17  Nick Fury is director of S.H.I.E.L.D, an inter...   \n",
        "18  When his brother is killed in a robbery, parap...   \n",
        "19  A young boy from Tatooine sets out on an adven...   \n",
        "22  Opening with the Allied invasion of Normandy o...   \n",
        "23  In South Boston, the state police force is wag...   \n",
        "24  Oskar Schindler is a vainglorious and greedy G...   \n",
        "25  Memento chronicles two separate stories of Leo...   \n",
        "26  Young FBI agent Clarice Starling is assigned t...   \n",
        "28  In Nazi-occupied France, young Jewish refugee ...   \n",
        "29  In the end of the Nineteenth Century, in Londo...   \n",
        "30  This swash-buckling tale follows the quest of ...   \n",
        "31  84 years later, a 101-year-old woman named Ros...   \n",
        "32  Fleeing the evil Galactic Empire, the Rebels a...   \n",
        "33  Derek Vineyard is paroled after serving 3 year...   \n",
        "34  The continuing saga of the Corleone crime fami...   \n",
        "35  Following a truck hijack in New York, five con...   \n",
        "36  Almost 10 years have passed since the first cy...   \n",
        "37  William Wallace is a Scottish rebel who leads ...   \n",
        "38  Death Row guards at a penitentiary, in the 193...   \n",
        "39  Henry Hill is a small time gangster, who takes...   \n",
        "40  It's 1954, and up-and-coming U.S. marshal Tedd...   \n",
        "41  The lead character, called 'The Bride,' was a ...   \n",
        "42  Malcom Crowe is a child psychologist who recei...   \n",
        "43  After her father and little brother are killed...   \n",
        "44  In a dystopian future, the totalitarian nation...   \n",
        "46  Marty McFly, a typical American teenager of th...   \n",
        "47  Four tales of crime adapted from Frank Miller'...   \n",
        "48  In a distant, but not so unrealistic, future w...   \n",
        "49  Tony Stark is the complete playboy who also ha...   \n",
        "50  The story of Jamal Malik, an 18 year-old orpha...   \n",
        "51  A man, Joel Barish, heartbroken that his girlf...   \n",
        "52  The year is 1936. A professor who studies arch...   \n",
        "54  A clown fish named Marlin lives in the Great B...   \n",
        "55  Six criminals, who are strangers to each other...   \n",
        "56  In the Battle of Thermopylae of 480 BC an alli...   \n",
        "57  Bilbo Baggins is swept into a quest to reclaim...   \n",
        "58  Darth Vader and the Empire are building a new,...   \n",
        "59  A young Carl Fredrickson meets a young adventu...   \n",
        "60  In rural Texas, welder and hunter Llewelyn Mos...   \n",
        "61  Turkish and his close friend/accomplice Tommy ...   \n",
        "62  New York City Detective John McClane has just ...   \n",
        "63  In The Wolf of Wall Street DiCaprio plays Belf...   \n",
        "66  Donnie Darko doesn't get along too well with h...   \n",
        "68  A young lion prince is born in Africa, thus ma...   \n",
        "69  A little boy named Andy loves to be in his roo...   \n",
        "70  A cyborg is sent from the future on a deadly m...   \n",
        "                                                  ...   \n",
        "\n",
        "                                                stars  year  \\\n",
        "0           [Tim Robbins, Morgan Freeman, Bob Gunton]  1995   \n",
        "1       [Christian Bale, Heath Ledger, Aaron Eckhart]  2008   \n",
        "2   [Leonardo DiCaprio, Joseph Gordon-Levitt, Elle...  2010   \n",
        "3      [Hugo Weaving, Natalie Portman, Rupert Graves]  2006   \n",
        "5     [John Travolta, Uma Thurman, Samuel L. Jackson]  1995   \n",
        "7          [Elijah Wood, Ian McKellen, Orlando Bloom]  2002   \n",
        "8        [Elijah Wood, Viggo Mortensen, Ian McKellen]  2003   \n",
        "9   [Keanu Reeves, Laurence Fishburne, Carrie-Anne...  1999   \n",
        "10             [Tom Hanks, Robin Wright, Gary Sinise]  1994   \n",
        "11             [Marlon Brando, Al Pacino, James Caan]  1972   \n",
        "13       [Elijah Wood, Ian McKellen, Viggo Mortensen]  2002   \n",
        "14          [Morgan Freeman, Brad Pitt, Kevin Spacey]  1995   \n",
        "15   [Russell Crowe, Joaquin Phoenix, Connie Nielsen]  2000   \n",
        "16      [Christian Bale, Michael Caine, Ken Watanabe]  2005   \n",
        "17  [Robert Downey Jr., Chris Evans, Scarlett Joha...  2012   \n",
        "18   [Sam Worthington, Zoe Saldana, Sigourney Weaver]  2009   \n",
        "19        [Mark Hamill, Harrison Ford, Carrie Fisher]  1977   \n",
        "22              [Tom Hanks, Matt Damon, Tom Sizemore]  1998   \n",
        "23    [Leonardo DiCaprio, Matt Damon, Jack Nicholson]  2006   \n",
        "24         [Liam Neeson, Ralph Fiennes, Ben Kingsley]  1993   \n",
        "25     [Guy Pearce, Carrie-Anne Moss, Joe Pantoliano]  2001   \n",
        "26  [Jodie Foster, Anthony Hopkins, Lawrence A. Bo...  1991   \n",
        "28                [Brad Pitt, Diane Kruger, Eli Roth]  2009   \n",
        "29  [Christian Bale, Hugh Jackman, Scarlett Johans...  2006   \n",
        "30        [Johnny Depp, Geoffrey Rush, Orlando Bloom]  2003   \n",
        "31      [Leonardo DiCaprio, Kate Winslet, Billy Zane]  1998   \n",
        "32        [Mark Hamill, Harrison Ford, Carrie Fisher]  1980   \n",
        "33  [Edward Norton, Edward Furlong, Beverly D'Angelo]  1999   \n",
        "34         [Al Pacino, Robert De Niro, Robert Duvall]  1975   \n",
        "35    [Kevin Spacey, Gabriel Byrne, Chazz Palminteri]  1996   \n",
        "36  [Arnold Schwarzenegger, Linda Hamilton, Edward...  1991   \n",
        "37     [Mel Gibson, Sophie Marceau, Patrick McGoohan]  1995   \n",
        "38    [Tom Hanks, Michael Clarke Duncan, David Morse]  2000   \n",
        "39            [Robert De Niro, Ray Liotta, Joe Pesci]  1990   \n",
        "40  [Leonardo DiCaprio, Emily Mortimer, Mark Ruffalo]  2010   \n",
        "41       [Uma Thurman, David Carradine, Daryl Hannah]  2004   \n",
        "42   [Bruce Willis, Haley Joel Osment, Toni Collette]  1999   \n",
        "43          [Jean Reno, Gary Oldman, Natalie Portman]  1995   \n",
        "44  [Jennifer Lawrence, Josh Hutcherson, Liam Hems...  2012   \n",
        "46  [Michael J. Fox, Christopher Lloyd, Lea Thompson]  1985   \n",
        "47          [Mickey Rourke, Clive Owen, Bruce Willis]  2005   \n",
        "48            [Ben Burtt, Elissa Knight, Jeff Garlin]  2008   \n",
        "49  [Robert Downey Jr., Gwyneth Paltrow, Terrence ...  2008   \n",
        "50          [Dev Patel, Freida Pinto, Saurabh Shukla]  2009   \n",
        "51          [Jim Carrey, Kate Winslet, Tom Wilkinson]  2004   \n",
        "52         [Harrison Ford, Karen Allen, Paul Freeman]  1981   \n",
        "54  [Albert Brooks, Ellen DeGeneres, Alexander Gould]  2003   \n",
        "55          [Harvey Keitel, Tim Roth, Michael Madsen]  1993   \n",
        "56         [Gerard Butler, Lena Headey, David Wenham]  2007   \n",
        "57   [Martin Freeman, Ian McKellen, Richard Armitage]  2012   \n",
        "58        [Mark Hamill, Harrison Ford, Carrie Fisher]  1983   \n",
        "59    [Edward Asner, Jordan Nagai, John Ratzenberger]  2009   \n",
        "60      [Tommy Lee Jones, Javier Bardem, Josh Brolin]  2008   \n",
        "61       [Jason Statham, Brad Pitt, Benicio Del Toro]  2001   \n",
        "62       [Bruce Willis, Alan Rickman, Bonnie Bedelia]  1988   \n",
        "63     [Leonardo DiCaprio, Jonah Hill, Margot Robbie]  2014   \n",
        "66     [Jake Gyllenhaal, Jena Malone, Mary McDonnell]  2003   \n",
        "68  [Matthew Broderick, Jeremy Irons, James Earl J...  1994   \n",
        "69                [Tom Hanks, Tim Allen, Don Rickles]  1995   \n",
        "70  [Arnold Schwarzenegger, Linda Hamilton, Michae...  1985   \n",
        "                                                  ...   ...   \n",
        "\n",
        "                              genre              Oscar Indications  \\\n",
        "0                    [Crime, Drama]        Nominated for 7 Oscars.   \n",
        "1            [Action, Crime, Drama]                  Won 2 Oscars.   \n",
        "2         [Action, Mystery, Sci-Fi]                  Won 4 Oscars.   \n",
        "3         [Action, Drama, Thriller]                                  \n",
        "5          [Crime, Drama, Thriller]                   Won 1 Oscar.   \n",
        "7              [Adventure, Fantasy]                  Won 4 Oscars.   \n",
        "8              [Adventure, Fantasy]                 Won 11 Oscars.   \n",
        "9                  [Action, Sci-Fi]                  Won 4 Oscars.   \n",
        "10                 [Drama, Romance]                  Won 6 Oscars.   \n",
        "11                   [Crime, Drama]                  Won 3 Oscars.   \n",
        "13             [Adventure, Fantasy]                  Won 2 Oscars.   \n",
        "14       [Drama, Mystery, Thriller]         Nominated for 1 Oscar.   \n",
        "15                  [Action, Drama]                  Won 5 Oscars.   \n",
        "16              [Action, Adventure]         Nominated for 1 Oscar.   \n",
        "17      [Action, Adventure, Sci-Fi]         Nominated for 1 Oscar.   \n",
        "18     [Action, Adventure, Fantasy]                  Won 3 Oscars.   \n",
        "19     [Action, Adventure, Fantasy]                  Won 6 Oscars.   \n",
        "22             [Action, Drama, War]                  Won 5 Oscars.   \n",
        "23         [Crime, Drama, Thriller]                  Won 4 Oscars.   \n",
        "24      [Biography, Drama, History]                  Won 7 Oscars.   \n",
        "25              [Mystery, Thriller]        Nominated for 2 Oscars.   \n",
        "26         [Crime, Drama, Thriller]                  Won 5 Oscars.   \n",
        "28          [Adventure, Drama, War]                   Won 1 Oscar.   \n",
        "29       [Drama, Mystery, Thriller]        Nominated for 2 Oscars.   \n",
        "30     [Action, Adventure, Fantasy]        Nominated for 5 Oscars.   \n",
        "31                 [Drama, Romance]                 Won 11 Oscars.   \n",
        "32     [Action, Adventure, Fantasy]                   Won 1 Oscar.   \n",
        "33                   [Crime, Drama]         Nominated for 1 Oscar.   \n",
        "34                   [Crime, Drama]                  Won 6 Oscars.   \n",
        "35         [Crime, Drama, Thriller]                  Won 2 Oscars.   \n",
        "36                 [Action, Sci-Fi]                  Won 4 Oscars.   \n",
        "37       [Action, Biography, Drama]                  Won 5 Oscars.   \n",
        "38          [Crime, Drama, Fantasy]        Nominated for 4 Oscars.   \n",
        "39        [Biography, Crime, Drama]                   Won 1 Oscar.   \n",
        "40              [Mystery, Thriller]                                  \n",
        "41                  [Action, Crime]  Nominated for 1 Golden Globe.   \n",
        "42       [Drama, Mystery, Thriller]        Nominated for 6 Oscars.   \n",
        "43         [Crime, Drama, Thriller]                                  \n",
        "44              [Adventure, Sci-Fi]  Nominated for 1 Golden Globe.   \n",
        "46      [Adventure, Comedy, Sci-Fi]                   Won 1 Oscar.   \n",
        "47                [Crime, Thriller]                                  \n",
        "48  [Animation, Adventure, Romance]                   Won 1 Oscar.   \n",
        "49      [Action, Adventure, Sci-Fi]        Nominated for 2 Oscars.   \n",
        "50                 [Drama, Romance]                  Won 8 Oscars.   \n",
        "51         [Drama, Romance, Sci-Fi]                   Won 1 Oscar.   \n",
        "52              [Action, Adventure]                  Won 4 Oscars.   \n",
        "54   [Animation, Adventure, Comedy]                   Won 1 Oscar.   \n",
        "55                   [Crime, Drama]                                  \n",
        "56           [Action, Fantasy, War]                                  \n",
        "57             [Adventure, Fantasy]        Nominated for 3 Oscars.   \n",
        "58     [Action, Adventure, Fantasy]        Nominated for 4 Oscars.   \n",
        "59    [Animation, Adventure, Drama]                  Won 2 Oscars.   \n",
        "60         [Crime, Drama, Thriller]                  Won 4 Oscars.   \n",
        "61                  [Comedy, Crime]                                  \n",
        "62               [Action, Thriller]        Nominated for 4 Oscars.   \n",
        "63       [Biography, Comedy, Crime]        Nominated for 5 Oscars.   \n",
        "66         [Drama, Mystery, Sci-Fi]                                  \n",
        "68    [Animation, Adventure, Drama]                  Won 2 Oscars.   \n",
        "69   [Animation, Adventure, Comedy]        Nominated for 3 Oscars.   \n",
        "70                 [Action, Sci-Fi]                                  \n",
        "                                ...                            ...   \n",
        "\n",
        "    running_time  \n",
        "0            142  \n",
        "1            152  \n",
        "2            148  \n",
        "3            132  \n",
        "5            154  \n",
        "7            178  \n",
        "8            201  \n",
        "9            136  \n",
        "10           142  \n",
        "11           175  \n",
        "13           179  \n",
        "14           127  \n",
        "15           155  \n",
        "16           140  \n",
        "17           143  \n",
        "18           162  \n",
        "19           121  \n",
        "22           169  \n",
        "23           151  \n",
        "24           195  \n",
        "25           113  \n",
        "26           118  \n",
        "28           153  \n",
        "29           130  \n",
        "30           143  \n",
        "31           194  \n",
        "32           124  \n",
        "33           119  \n",
        "34           200  \n",
        "35           106  \n",
        "36           137  \n",
        "37           177  \n",
        "38           189  \n",
        "39           146  \n",
        "40           138  \n",
        "41           111  \n",
        "42           107  \n",
        "43           110  \n",
        "44           142  \n",
        "46           116  \n",
        "47           124  \n",
        "48            98  \n",
        "49           126  \n",
        "50           120  \n",
        "51           108  \n",
        "52           115  \n",
        "54           100  \n",
        "55            99  \n",
        "56           117  \n",
        "57           169  \n",
        "58           134  \n",
        "59            96  \n",
        "60           122  \n",
        "61           104  \n",
        "62           131  \n",
        "63           180  \n",
        "66           113  \n",
        "68            89  \n",
        "69            81  \n",
        "70           107  \n",
        "             ...  \n",
        "\n",
        "[8910 rows x 16 columns]"
       ]
      }
     ],
     "prompt_number": 681
    },
    {
     "cell_type": "code",
     "collapsed": false,
     "input": [],
     "language": "python",
     "metadata": {},
     "outputs": []
    },
    {
     "cell_type": "code",
     "collapsed": false,
     "input": [
      "pd_filmes.to_json('filmes.json')"
     ],
     "language": "python",
     "metadata": {},
     "outputs": [],
     "prompt_number": 690
    },
    {
     "cell_type": "code",
     "collapsed": false,
     "input": [],
     "language": "python",
     "metadata": {},
     "outputs": []
    }
   ],
   "metadata": {}
  }
 ]
}