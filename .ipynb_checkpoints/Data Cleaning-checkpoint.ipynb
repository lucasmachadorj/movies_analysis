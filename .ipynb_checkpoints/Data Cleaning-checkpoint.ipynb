{
 "metadata": {
  "name": "",
  "signature": "sha256:6dc97382bf1f7091e96f04eb9239c2ff3a1fab5a6033804c82d5956da7b7f508"
 },
 "nbformat": 3,
 "nbformat_minor": 0,
 "worksheets": [
  {
   "cells": [
    {
     "cell_type": "code",
     "collapsed": false,
     "input": [
      "!ls"
     ],
     "language": "python",
     "metadata": {},
     "outputs": [
      {
       "output_type": "stream",
       "stream": "stdout",
       "text": [
        "filmes.csv  imbd_scrapper.py  Untitled0.ipynb  Web Scrapping.ipynb\r\n"
       ]
      }
     ],
     "prompt_number": 3
    },
    {
     "cell_type": "code",
     "collapsed": false,
     "input": [
      "import pandas as pd\n",
      "from pymongo import MongoClient\n",
      "import json\n",
      "from bson import json_util\n"
     ],
     "language": "python",
     "metadata": {},
     "outputs": [],
     "prompt_number": 28
    },
    {
     "cell_type": "code",
     "collapsed": false,
     "input": [
      "client = MongoClient()\n",
      "db = client.sucessos_cinema\n"
     ],
     "language": "python",
     "metadata": {},
     "outputs": [],
     "prompt_number": 29
    },
    {
     "cell_type": "code",
     "collapsed": false,
     "input": [
      "filmes = db.filmes"
     ],
     "language": "python",
     "metadata": {},
     "outputs": [],
     "prompt_number": 30
    },
    {
     "cell_type": "code",
     "collapsed": false,
     "input": [
      "first_movie = filmes.find_one()\n",
      "print json.dumps(first_movie, indent=2, default = json_util.default)"
     ],
     "language": "python",
     "metadata": {},
     "outputs": [
      {
       "output_type": "stream",
       "stream": "stdout",
       "text": [
        "{\n",
        "  \"rating\": \"9.3\", \n",
        "  \"votes\": \"1,339,913\", \n",
        "  \"description\": \"Two imprisoned men bond over a number of years, finding solace and eventual redemption through acts of common decency.\", \n",
        "  \"certification\": \"\", \n",
        "  \"poster\": \"http://ia.media-imdb.com/images/M/MV5BODU4MjU4NjIwNl5BMl5BanBnXkFtZTgwMDU2MjEyMDE@._V1_SX214_AL_.jpg\", \n",
        "  \"release_date\": \"27 January 1995\", \n",
        "  \"title\": \"\\\"The Shawshank Redemption\\\"\", \n",
        "  \"contentRating\": \"16\", \n",
        "  \"metascore\": \"80\", \n",
        "  \"pt_title\": \"Um Sonho de Liberdade\", \n",
        "  \"director\": \"Frank Darabont\", \n",
        "  \"writers\": [\n",
        "    \"Stephen King\", \n",
        "    \"Frank Darabont\"\n",
        "  ], \n",
        "  \"storyline\": \"Andy Dufresne is a young and successful banker whose life changes drastically when he is convicted and sentenced to life imprisonment for the murder of his wife and her lover. Set in the 1940's, the film shows how Andy, with the help of his friend Red, the prison entrepreneur, turns out to be a most unconventional prisoner.\", \n",
        "  \"stars\": [\n",
        "    \"Tim Robbins\", \n",
        "    \"Morgan Freeman\", \n",
        "    \"Bob Gunton\"\n",
        "  ], \n",
        "  \"year\": \"1994\", \n",
        "  \"genre\": [\n",
        "    \"Crime\", \n",
        "    \"Drama\"\n",
        "  ], \n",
        "  \"_id\": {\n",
        "    \"$oid\": \"5491d043dc53fc1c0db3ac76\"\n",
        "  }, \n",
        "  \"Oscar Indications\": \"Nominated for 7 Oscars.\", \n",
        "  \"running_time\": \"142 min\"\n",
        "}\n"
       ]
      }
     ],
     "prompt_number": 31
    },
    {
     "cell_type": "code",
     "collapsed": false,
     "input": [
      "list_movies = []\n",
      "\n",
      "for movie in filmes.find():\n",
      "    movie = json.dumps(movie, indent=2, default=)"
     ],
     "language": "python",
     "metadata": {},
     "outputs": [],
     "prompt_number": 32
    },
    {
     "cell_type": "code",
     "collapsed": false,
     "input": [
      "list_movies[0]"
     ],
     "language": "python",
     "metadata": {},
     "outputs": [
      {
       "metadata": {},
       "output_type": "pyout",
       "prompt_number": 34,
       "text": [
        "<generator object <genexpr> at 0x7f7072cff050>"
       ]
      }
     ],
     "prompt_number": 34
    },
    {
     "cell_type": "code",
     "collapsed": false,
     "input": [],
     "language": "python",
     "metadata": {},
     "outputs": []
    }
   ],
   "metadata": {}
  }
 ]
}