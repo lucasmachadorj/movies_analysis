{
 "metadata": {
  "name": "",
  "signature": "sha256:d5ad713d27ec2c8ced3f2adb11e93a46897c77e9990edbb711a84a5b9932eebb"
 },
 "nbformat": 3,
 "nbformat_minor": 0,
 "worksheets": []
}